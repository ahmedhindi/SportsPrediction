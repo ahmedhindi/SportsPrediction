{
 "cells": [
  {
   "cell_type": "markdown",
   "metadata": {},
   "source": [
    "# Model Building\n",
    "This notebooks contains the the model building for the first iteration - including model optimization via gridsearch"
   ]
  },
  {
   "cell_type": "markdown",
   "metadata": {},
   "source": [
    "# Imports"
   ]
  },
  {
   "cell_type": "code",
   "execution_count": 41,
   "metadata": {},
   "outputs": [],
   "source": [
    "# Necessary to import custom modules\n",
    "import os\n",
    "os.chdir(\"/home/jovyan/work\")\n",
    "\n",
    "import matplotlib.pyplot as plt\n",
    "import numpy as np\n",
    "import pandas as pd\n",
    "import seaborn as sns\n",
    "from sklearn.ensemble import RandomForestClassifier\n",
    "from sklearn.linear_model import LogisticRegression\n",
    "from sklearn.metrics import log_loss\n",
    "from sklearn.model_selection import GridSearchCV\n",
    "\n",
    "%matplotlib inline\n",
    "plt.rcParams[\"figure.figsize\"] = (15, 7)"
   ]
  },
  {
   "cell_type": "markdown",
   "metadata": {},
   "source": [
    "# Construct data"
   ]
  },
  {
   "cell_type": "code",
   "execution_count": 42,
   "metadata": {},
   "outputs": [],
   "source": [
    "# read features and drop obsolete ones\n",
    "df_raw = pd.read_csv(\"./data/features/first_iteration.csv\")\n",
    "\n",
    "# construct training data\n",
    "df_train = \\\n",
    "    df_raw[df_raw[\"season\"].isin([\"2015/2016\", \"2016/2017\"])]\\\n",
    "    .drop([\"team_home\", \"team_guest\", \"score_home\", \"score_guest\", \"season\"]\n",
    "          + [col for col in df_raw.columns if \"2017/2018\" in col] , axis=1)\n",
    "X_train, y_train = df_train.drop([\"home_win\"], axis=1).values, df_train[\"home_win\"].values\n",
    "\n",
    "# construct final validation data\n",
    "df_val = \\\n",
    "    df_raw[df_raw[\"season\"] == \"2017/2018\"]\\\n",
    "    .drop([\"team_home\", \"team_guest\", \"score_home\", \"score_guest\", \"season\"]\n",
    "          + [col for col in df_raw.columns if \"2017/2018\" in col] , axis=1)\n",
    "X_val, y_val = df_val.drop([\"home_win\"], axis=1).values, df_val[\"home_win\"].values"
   ]
  },
  {
   "cell_type": "code",
   "execution_count": 48,
   "metadata": {},
   "outputs": [
    {
     "name": "stdout",
     "output_type": "stream",
     "text": [
      "home\\_win\n",
      "\t\t\\item wins\\_as\\_home\\_2015/2016\\_home\n",
      "\t\t\\item wins\\_as\\_home\\_2016/2017\\_home\n",
      "\t\t\\item wins\\_as\\_guest\\_2015/2016\\_home\n",
      "\t\t\\item wins\\_as\\_guest\\_2016/2017\\_home\n",
      "\t\t\\item losses\\_as\\_home\\_2015/2016\\_home\n",
      "\t\t\\item losses\\_as\\_home\\_2016/2017\\_home\n",
      "\t\t\\item losses\\_as\\_guest\\_2015/2016\\_home\n",
      "\t\t\\item losses\\_as\\_guest\\_2016/2017\\_home\n",
      "\t\t\\item score\\_margin\\_as\\_home\\_2015/2016\\_home\n",
      "\t\t\\item score\\_margin\\_as\\_home\\_2016/2017\\_home\n",
      "\t\t\\item score\\_margin\\_as\\_guest\\_2015/2016\\_home\n",
      "\t\t\\item score\\_margin\\_as\\_guest\\_2016/2017\\_home\n",
      "\t\t\\item wins\\_as\\_home\\_2015/2016\\_guest\n",
      "\t\t\\item wins\\_as\\_home\\_2016/2017\\_guest\n",
      "\t\t\\item wins\\_as\\_guest\\_2015/2016\\_guest\n",
      "\t\t\\item wins\\_as\\_guest\\_2016/2017\\_guest\n",
      "\t\t\\item losses\\_as\\_home\\_2015/2016\\_guest\n",
      "\t\t\\item losses\\_as\\_home\\_2016/2017\\_guest\n",
      "\t\t\\item losses\\_as\\_guest\\_2015/2016\\_guest\n",
      "\t\t\\item losses\\_as\\_guest\\_2016/2017\\_guest\n",
      "\t\t\\item score\\_margin\\_as\\_home\\_2015/2016\\_guest\n",
      "\t\t\\item score\\_margin\\_as\\_home\\_2016/2017\\_guest\n",
      "\t\t\\item score\\_margin\\_as\\_guest\\_2015/2016\\_guest\n",
      "\t\t\\item score\\_margin\\_as\\_guest\\_2016/2017\\_guest\n"
     ]
    }
   ],
   "source": [
    "print(\"\\n\\t\\t\\item \".join([\n",
    "    c.replace(\"_\", \"\\_\") for c in df_train.columns\n",
    "]))"
   ]
  },
  {
   "cell_type": "markdown",
   "metadata": {},
   "source": [
    "# Baseline"
   ]
  },
  {
   "cell_type": "markdown",
   "metadata": {},
   "source": [
    "### Predict always win"
   ]
  },
  {
   "cell_type": "code",
   "execution_count": 21,
   "metadata": {},
   "outputs": [
    {
     "data": {
      "text/plain": [
       "14.268635813909114"
      ]
     },
     "execution_count": 21,
     "metadata": {},
     "output_type": "execute_result"
    }
   ],
   "source": [
    "log_loss(y_val, np.ones_like(y_val))"
   ]
  },
  {
   "cell_type": "markdown",
   "metadata": {},
   "source": [
    "### Predict always loss"
   ]
  },
  {
   "cell_type": "code",
   "execution_count": 22,
   "metadata": {},
   "outputs": [
    {
     "data": {
      "text/plain": [
       "20.270470902500936"
      ]
     },
     "execution_count": 22,
     "metadata": {},
     "output_type": "execute_result"
    }
   ],
   "source": [
    "log_loss(y_val, np.zeros_like(y_val))"
   ]
  },
  {
   "cell_type": "markdown",
   "metadata": {},
   "source": [
    "### Predict always draw"
   ]
  },
  {
   "cell_type": "code",
   "execution_count": 23,
   "metadata": {},
   "outputs": [
    {
     "data": {
      "text/plain": [
       "0.69314718055994529"
      ]
     },
     "execution_count": 23,
     "metadata": {},
     "output_type": "execute_result"
    }
   ],
   "source": [
    "log_loss(y_val, np.ones_like(y_val)*.5)"
   ]
  },
  {
   "cell_type": "markdown",
   "metadata": {},
   "source": [
    "# Logistic Regression"
   ]
  },
  {
   "cell_type": "code",
   "execution_count": 24,
   "metadata": {},
   "outputs": [
    {
     "data": {
      "text/plain": [
       "0.68554226942220065"
      ]
     },
     "execution_count": 24,
     "metadata": {},
     "output_type": "execute_result"
    }
   ],
   "source": [
    "# parameter grid\n",
    "pg_lr = {\n",
    "    \"penalty\": [\"l1\", \"l2\"],\n",
    "    \"C\": [0.001, 0.01, 0.1, 1.0, 10],\n",
    "}\n",
    "\n",
    "# cross validated estimator\n",
    "GS_LR = GridSearchCV(\n",
    "    estimator=LogisticRegression(),\n",
    "    param_grid=pg_lr,\n",
    "    cv=5,\n",
    "    n_jobs=-1,\n",
    "    scoring=\"neg_log_loss\"\n",
    ")\n",
    "\n",
    "# model fitting\n",
    "GS_LR.fit(X_train, y_train)\n",
    "\n",
    "# evaluate on validation set\n",
    "log_loss(y_val, GS_LR.predict_proba(X_val))"
   ]
  },
  {
   "cell_type": "code",
   "execution_count": 25,
   "metadata": {},
   "outputs": [
    {
     "data": {
      "text/plain": [
       "LogisticRegression(C=0.01, class_weight=None, dual=False, fit_intercept=True,\n",
       "          intercept_scaling=1, max_iter=100, multi_class='ovr', n_jobs=1,\n",
       "          penalty='l1', random_state=None, solver='liblinear', tol=0.0001,\n",
       "          verbose=0, warm_start=False)"
      ]
     },
     "execution_count": 25,
     "metadata": {},
     "output_type": "execute_result"
    }
   ],
   "source": [
    "# best estimator\n",
    "GS_LR.best_estimator_"
   ]
  },
  {
   "cell_type": "code",
   "execution_count": 26,
   "metadata": {},
   "outputs": [
    {
     "data": {
      "text/plain": [
       "516"
      ]
     },
     "execution_count": 26,
     "metadata": {},
     "output_type": "execute_result"
    }
   ],
   "source": [
    "# misclassified samples\n",
    "(GS_LR.predict(X_val) != y_val).sum()"
   ]
  },
  {
   "cell_type": "code",
   "execution_count": 27,
   "metadata": {},
   "outputs": [
    {
     "data": {
      "text/plain": [
       "0.39329268292682928"
      ]
     },
     "execution_count": 27,
     "metadata": {},
     "output_type": "execute_result"
    }
   ],
   "source": [
    "# misclassified percentage\n",
    "(GS_LR.predict(X_val) != y_val).sum()/len(y_val)"
   ]
  },
  {
   "cell_type": "markdown",
   "metadata": {},
   "source": [
    "# Random Forest"
   ]
  },
  {
   "cell_type": "code",
   "execution_count": 28,
   "metadata": {},
   "outputs": [
    {
     "data": {
      "text/plain": [
       "0.82862310206478462"
      ]
     },
     "execution_count": 28,
     "metadata": {},
     "output_type": "execute_result"
    }
   ],
   "source": [
    "# parameter grid\n",
    "param_grid = {\n",
    "    \"n_estimators\": [5, 10, 15, 20],\n",
    "    \"min_samples_leaf\": [1, 2, 3, 4, 5],\n",
    "    \"min_samples_split\": [2, 3, 4, 5]\n",
    "}\n",
    "\n",
    "# cross validated estimator\n",
    "GS_RF = GridSearchCV(\n",
    "    estimator=RandomForestClassifier(),\n",
    "    param_grid=param_grid,\n",
    "    n_jobs=-1,\n",
    "    cv=5,\n",
    "    scoring=\"neg_log_loss\"\n",
    ")\n",
    "\n",
    "# model fitting\n",
    "GS_RF.fit(X_train, y_train)\n",
    "\n",
    "# evaluate on validation set\n",
    "log_loss(y_val, GS_RF.predict_proba(X_val))"
   ]
  },
  {
   "cell_type": "code",
   "execution_count": 29,
   "metadata": {},
   "outputs": [
    {
     "data": {
      "text/plain": [
       "RandomForestClassifier(bootstrap=True, class_weight=None, criterion='gini',\n",
       "            max_depth=None, max_features='auto', max_leaf_nodes=None,\n",
       "            min_impurity_decrease=0.0, min_impurity_split=None,\n",
       "            min_samples_leaf=5, min_samples_split=3,\n",
       "            min_weight_fraction_leaf=0.0, n_estimators=15, n_jobs=1,\n",
       "            oob_score=False, random_state=None, verbose=0,\n",
       "            warm_start=False)"
      ]
     },
     "execution_count": 29,
     "metadata": {},
     "output_type": "execute_result"
    }
   ],
   "source": [
    "# best estimator\n",
    "GS_RF.best_estimator_"
   ]
  },
  {
   "cell_type": "code",
   "execution_count": 30,
   "metadata": {},
   "outputs": [
    {
     "data": {
      "text/plain": [
       "560"
      ]
     },
     "execution_count": 30,
     "metadata": {},
     "output_type": "execute_result"
    }
   ],
   "source": [
    "# misclassified samples\n",
    "(GS_RF.predict(X_val) != y_val).sum()"
   ]
  },
  {
   "cell_type": "code",
   "execution_count": 31,
   "metadata": {},
   "outputs": [
    {
     "data": {
      "text/plain": [
       "0.42682926829268292"
      ]
     },
     "execution_count": 31,
     "metadata": {},
     "output_type": "execute_result"
    }
   ],
   "source": [
    "# misclassified percentage\n",
    "(GS_RF.predict(X_val) != y_val).sum()/len(y_val)"
   ]
  },
  {
   "cell_type": "markdown",
   "metadata": {},
   "source": [
    "# Comparison of wrong predictions"
   ]
  },
  {
   "cell_type": "code",
   "execution_count": 32,
   "metadata": {},
   "outputs": [
    {
     "data": {
      "image/png": "[encoded data removed]",
      "text/plain": [
       "<matplotlib.figure.Figure at 0x7f89115095c0>"
      ]
     },
     "metadata": {},
     "output_type": "display_data"
    }
   ],
   "source": [
    "# LR\n",
    "idx_wrong_lr = GS_LR.predict(X_val) != y_val\n",
    "y_wrong_lr = []\n",
    "for preds in GS_LR.predict_proba(X_val)[idx_wrong_lr]:\n",
    "    y_wrong_lr.append(preds.max())\n",
    "\n",
    "# RF\n",
    "idx_wrong_rf = GS_RF.predict(X_val) != y_val\n",
    "y_wrong_rf = []\n",
    "for preds in GS_RF.predict_proba(X_val)[idx_wrong_lr]:\n",
    "    y_wrong_rf.append(preds.max())\n",
    "\n",
    "# plot\n",
    "colors = sns.color_palette(n_colors=2).as_hex()\n",
    "sns.kdeplot(y_wrong_lr, shade=True, label=\"Logistic Regression\")\n",
    "plt.axvline(x=np.mean(y_wrong_lr), color=colors[0])\n",
    "sns.kdeplot(y_wrong_rf, shade=True, clip=[0,1], label=\"Random Forest\")\n",
    "plt.axvline(x=np.mean(y_wrong_rf), color=colors[1])\n",
    "plt.title(\"Prediction probability distribution and mean of false predictions\")\n",
    "plt.yticks([])\n",
    "plt.savefig(\"results/1_2_prediction_proba_false_positives.png\")"
   ]
  },
  {
   "cell_type": "code",
   "execution_count": 53,
   "metadata": {},
   "outputs": [
    {
     "data": {
      "image/png": "[encoded data removed]",
      "text/plain": [
       "<matplotlib.figure.Figure at 0x7f891154ea20>"
      ]
     },
     "metadata": {},
     "output_type": "display_data"
    }
   ],
   "source": [
    "# LR\n",
    "idx_right_lr = GS_LR.predict(X_val) == y_val\n",
    "y_right_lr = []\n",
    "for preds in GS_LR.predict_proba(X_val)[idx_right_lr]:\n",
    "    y_right_lr.append(preds.max())\n",
    "\n",
    "# RF\n",
    "idx_right_rf = GS_RF.predict(X_val) == y_val\n",
    "y_right_rf = []\n",
    "for preds in GS_RF.predict_proba(X_val)[idx_right_rf]:\n",
    "    y_right_rf.append(preds.max())\n",
    "\n",
    "# plot\n",
    "colors = sns.color_palette(n_colors=2).as_hex()\n",
    "sns.kdeplot(y_right_lr, shade=True, label=\"Logistic Regression\")\n",
    "plt.axvline(x=np.mean(y_right_lr), color=colors[0])\n",
    "sns.kdeplot(y_right_rf, shade=True, clip=[0,1], label=\"Random Forest\")\n",
    "plt.axvline(x=np.mean(y_right_rf), color=colors[1])\n",
    "plt.title(\"Prediction probability distribution and mean of true positives\")\n",
    "plt.yticks([])\n",
    "plt.savefig(\"results/1_2_prediction_proba_true_positives.png\")"
   ]
  },
  {
   "cell_type": "code",
   "execution_count": 57,
   "metadata": {},
   "outputs": [
    {
     "data": {
      "text/plain": [
       "RandomForestClassifier(bootstrap=True, class_weight=None, criterion='gini',\n",
       "            max_depth=None, max_features='auto', max_leaf_nodes=None,\n",
       "            min_impurity_decrease=0.0, min_impurity_split=None,\n",
       "            min_samples_leaf=5, min_samples_split=3,\n",
       "            min_weight_fraction_leaf=0.0, n_estimators=15, n_jobs=1,\n",
       "            oob_score=False, random_state=None, verbose=0,\n",
       "            warm_start=False)"
      ]
     },
     "execution_count": 57,
     "metadata": {},
     "output_type": "execute_result"
    }
   ],
   "source": [
    "GS_RF.best_estimator_"
   ]
  }
 ],
 "metadata": {
  "kernelspec": {
   "display_name": "Python 3",
   "language": "python",
   "name": "python3"
  },
  "language_info": {
   "codemirror_mode": {
    "name": "ipython",
    "version": 3
   },
   "file_extension": ".py",
   "mimetype": "text/x-python",
   "name": "python",
   "nbconvert_exporter": "python",
   "pygments_lexer": "ipython3",
   "version": "3.6.5"
  }
 },
 "nbformat": 4,
 "nbformat_minor": 2
}
