{
 "cells": [
  {
   "cell_type": "markdown",
   "metadata": {},
   "source": [
    "# Example: Create team node\n",
    "---\n",
    "Created Nodes & Relationships\n",
    "- Team\n",
    "- Division\n",
    "- Conference\n"
   ]
  },
  {
   "cell_type": "code",
   "execution_count": 1,
   "metadata": {},
   "outputs": [],
   "source": [
    "# Necessary to import custom modules\n",
    "import os\n",
    "os.chdir(\"/home/jovyan/work\")\n",
    "\n",
    "import pandas as pd\n",
    "\n",
    "from src.utils import init_connection\n",
    "from src.models import Team, Conference, Division"
   ]
  },
  {
   "cell_type": "markdown",
   "metadata": {},
   "source": [
    "# Connection"
   ]
  },
  {
   "cell_type": "code",
   "execution_count": 2,
   "metadata": {},
   "outputs": [],
   "source": [
    "init_connection()"
   ]
  },
  {
   "cell_type": "markdown",
   "metadata": {},
   "source": [
    "## Team node creation"
   ]
  },
  {
   "cell_type": "code",
   "execution_count": 3,
   "metadata": {},
   "outputs": [],
   "source": [
    "df_teams = pd.read_csv(\"./data/teams-divisions-conferences.csv\", sep=\";\")"
   ]
  },
  {
   "cell_type": "code",
   "execution_count": 4,
   "metadata": {},
   "outputs": [],
   "source": [
    "for _, row in df_teams.iterrows():\n",
    "    team = Team(\n",
    "        name=row[\"team\"]\n",
    "        \n",
    "        \n",
    "    )\n",
    "    team.save()"
   ]
  },
  {
   "cell_type": "markdown",
   "metadata": {},
   "source": [
    "## Division node creation"
   ]
  },
  {
   "cell_type": "code",
   "execution_count": 5,
   "metadata": {},
   "outputs": [
    {
     "data": {
      "text/html": [
       "<div>\n",
       "<table border=\"1\" class=\"dataframe\">\n",
       "  <thead>\n",
       "    <tr style=\"text-align: right;\">\n",
       "      <th></th>\n",
       "      <th>team</th>\n",
       "      <th>division</th>\n",
       "      <th>conference</th>\n",
       "    </tr>\n",
       "  </thead>\n",
       "  <tbody>\n",
       "    <tr>\n",
       "      <th>0</th>\n",
       "      <td>New York Knicks</td>\n",
       "      <td>Atlantic Division</td>\n",
       "      <td>Eastern Conference</td>\n",
       "    </tr>\n",
       "    <tr>\n",
       "      <th>1</th>\n",
       "      <td>Brooklyn Nets</td>\n",
       "      <td>Atlantic Division</td>\n",
       "      <td>Eastern Conference</td>\n",
       "    </tr>\n",
       "    <tr>\n",
       "      <th>2</th>\n",
       "      <td>Boston Celtics</td>\n",
       "      <td>Atlantic Division</td>\n",
       "      <td>Eastern Conference</td>\n",
       "    </tr>\n",
       "    <tr>\n",
       "      <th>3</th>\n",
       "      <td>Philadelphia 76ers</td>\n",
       "      <td>Atlantic Division</td>\n",
       "      <td>Eastern Conference</td>\n",
       "    </tr>\n",
       "    <tr>\n",
       "      <th>4</th>\n",
       "      <td>Washington Wizards</td>\n",
       "      <td>Southeast Division</td>\n",
       "      <td>Eastern Conference</td>\n",
       "    </tr>\n",
       "  </tbody>\n",
       "</table>\n",
       "</div>"
      ],
      "text/plain": [
       "                 team            division          conference\n",
       "0     New York Knicks   Atlantic Division  Eastern Conference\n",
       "1       Brooklyn Nets   Atlantic Division  Eastern Conference\n",
       "2      Boston Celtics   Atlantic Division  Eastern Conference\n",
       "3  Philadelphia 76ers   Atlantic Division  Eastern Conference\n",
       "4  Washington Wizards  Southeast Division  Eastern Conference"
      ]
     },
     "execution_count": 5,
     "metadata": {},
     "output_type": "execute_result"
    }
   ],
   "source": [
    "df_teams.head()"
   ]
  },
  {
   "cell_type": "code",
   "execution_count": 6,
   "metadata": {},
   "outputs": [],
   "source": [
    "for _, row in df_teams.drop_duplicates(subset=[\"division\"]).iterrows():\n",
    "    division = Division(\n",
    "        name=row[\"division\"]\n",
    "        \n",
    "        \n",
    "    )\n",
    "    division.save()"
   ]
  },
  {
   "cell_type": "markdown",
   "metadata": {},
   "source": [
    "## Conference node creation"
   ]
  },
  {
   "cell_type": "code",
   "execution_count": 7,
   "metadata": {},
   "outputs": [],
   "source": [
    "for _, row in df_teams.drop_duplicates(subset=[\"conference\"]).iterrows():\n",
    "    conference = Conference(\n",
    "        name=row[\"conference\"]\n",
    "        \n",
    "        \n",
    "    )\n",
    "    conference.save()"
   ]
  },
  {
   "cell_type": "markdown",
   "metadata": {},
   "source": [
    "# Relationships"
   ]
  },
  {
   "cell_type": "code",
   "execution_count": 8,
   "metadata": {},
   "outputs": [],
   "source": [
    "for _, row in df_teams.iterrows():\n",
    "    # get entities\n",
    "    t = Team.nodes.get(name=row[\"team\"])\n",
    "    d = Division.nodes.get(name=row[\"division\"])\n",
    "    c = Conference.nodes.get(name=row[\"conference\"])\n",
    "    \n",
    "    # create relationships\n",
    "    t.division.connect(d)\n",
    "    d.conference.connect(c)"
   ]
  },
  {
   "cell_type": "code",
   "execution_count": null,
   "metadata": {},
   "outputs": [],
   "source": []
  }
 ],
 "metadata": {
  "kernelspec": {
   "display_name": "Python 3",
   "language": "python",
   "name": "python3"
  },
  "language_info": {
   "codemirror_mode": {
    "name": "ipython",
    "version": 3
   },
   "file_extension": ".py",
   "mimetype": "text/x-python",
   "name": "python",
   "nbconvert_exporter": "python",
   "pygments_lexer": "ipython3",
   "version": "3.6.2"
  }
 },
 "nbformat": 4,
 "nbformat_minor": 2
}
