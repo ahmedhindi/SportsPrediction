{
 "cells": [
  {
   "cell_type": "code",
   "execution_count": 1,
   "metadata": {},
   "outputs": [],
   "source": [
    "import os\n",
    "os.chdir(\"/home/jovyan/work\")\n",
    "\n",
    "from src.utils import send_request"
   ]
  },
  {
   "cell_type": "markdown",
   "metadata": {},
   "source": [
    "## Create Season Files from MSF"
   ]
  },
  {
   "cell_type": "markdown",
   "metadata": {},
   "source": [
    "### Season 2017/18"
   ]
  },
  {
   "cell_type": "code",
   "execution_count": 2,
   "metadata": {},
   "outputs": [],
   "source": [
    "result1718 = send_request(\"https://api.mysportsfeeds.com/v2.0/pull/nba/2017-2018-regular/games.json\")"
   ]
  },
  {
   "cell_type": "code",
   "execution_count": 4,
   "metadata": {},
   "outputs": [
    {
     "data": {
      "text/plain": [
       "dict_keys(['lastUpdatedOn', 'games', 'references'])"
      ]
     },
     "execution_count": 4,
     "metadata": {},
     "output_type": "execute_result"
    }
   ],
   "source": [
    "result1718.keys()"
   ]
  },
  {
   "cell_type": "code",
   "execution_count": 6,
   "metadata": {},
   "outputs": [
    {
     "data": {
      "text/plain": [
       "{'schedule': {'attendance': None,\n",
       "  'awayTeam': {'abbreviation': 'BOS', 'id': 82},\n",
       "  'broadcasters': [],\n",
       "  'delayedOrPostponedReason': None,\n",
       "  'endedTime': None,\n",
       "  'homeTeam': {'abbreviation': 'CLE', 'id': 86},\n",
       "  'id': 42070,\n",
       "  'officials': [],\n",
       "  'originalStartTime': None,\n",
       "  'playedStatus': 'COMPLETED',\n",
       "  'scheduleStatus': 'NORMAL',\n",
       "  'startTime': '2017-10-18T00:00:00.000Z',\n",
       "  'venue': {'id': 80, 'name': 'Quicken Loans Arena'},\n",
       "  'venueAllegiance': 'HOME',\n",
       "  'weather': None},\n",
       " 'score': {'awayScoreTotal': 99,\n",
       "  'currentIntermission': None,\n",
       "  'currentQuarter': None,\n",
       "  'currentQuarterSecondsRemaining': None,\n",
       "  'homeScoreTotal': 102,\n",
       "  'quarters': [{'awayScore': 19, 'homeScore': 29, 'quarterNumber': 1},\n",
       "   {'awayScore': 19, 'homeScore': 25, 'quarterNumber': 2},\n",
       "   {'awayScore': 33, 'homeScore': 18, 'quarterNumber': 3},\n",
       "   {'awayScore': 28, 'homeScore': 30, 'quarterNumber': 4}]}}"
      ]
     },
     "execution_count": 6,
     "metadata": {},
     "output_type": "execute_result"
    }
   ],
   "source": [
    "result1718.get(\"games\")[0]"
   ]
  },
  {
   "cell_type": "code",
   "execution_count": null,
   "metadata": {},
   "outputs": [],
   "source": []
  }
 ],
 "metadata": {
  "kernelspec": {
   "display_name": "Python 3",
   "language": "python",
   "name": "python3"
  },
  "language_info": {
   "codemirror_mode": {
    "name": "ipython",
    "version": 3
   },
   "file_extension": ".py",
   "mimetype": "text/x-python",
   "name": "python",
   "nbconvert_exporter": "python",
   "pygments_lexer": "ipython3",
   "version": "3.6.2"
  }
 },
 "nbformat": 4,
 "nbformat_minor": 2
}
