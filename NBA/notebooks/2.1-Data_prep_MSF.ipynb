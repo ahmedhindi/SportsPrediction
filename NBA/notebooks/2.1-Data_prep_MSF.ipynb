{
 "cells": [
  {
   "cell_type": "code",
   "execution_count": 9,
   "metadata": {},
   "outputs": [],
   "source": [
    "import dateutil.parser\n",
    "import os\n",
    "os.chdir(\"/home/jovyan/work\")\n",
    "\n",
    "import pandas as pd\n",
    "\n",
    "from src.utils import send_request"
   ]
  },
  {
   "cell_type": "markdown",
   "metadata": {},
   "source": [
    "## Create Season Files from MSF"
   ]
  },
  {
   "cell_type": "markdown",
   "metadata": {},
   "source": [
    "### General Setup"
   ]
  },
  {
   "cell_type": "code",
   "execution_count": 10,
   "metadata": {},
   "outputs": [],
   "source": [
    "columns=[\n",
    "    \"Date\", \n",
    "    \"Start (ET)\", \n",
    "    \"Visitor/Neutral\", \n",
    "    \"PTS\",\n",
    "    \"Home/Neutral\", \n",
    "    \"PTS.1\", \n",
    "    \"OT\", \n",
    "    \"Attend.\", \n",
    "    \"game_type\", \n",
    "    \"game_name\",\n",
    "]"
   ]
  },
  {
   "cell_type": "markdown",
   "metadata": {},
   "source": [
    "### Season 2017/18"
   ]
  },
  {
   "cell_type": "markdown",
   "metadata": {},
   "source": [
    "### Regular Season"
   ]
  },
  {
   "cell_type": "code",
   "execution_count": 11,
   "metadata": {},
   "outputs": [
    {
     "data": {
      "text/plain": [
       "{'schedule': {'attendance': None,\n",
       "  'awayTeam': {'abbreviation': 'BOS', 'id': 82},\n",
       "  'broadcasters': [],\n",
       "  'delayedOrPostponedReason': None,\n",
       "  'endedTime': None,\n",
       "  'homeTeam': {'abbreviation': 'CLE', 'id': 86},\n",
       "  'id': 42070,\n",
       "  'officials': [],\n",
       "  'originalStartTime': None,\n",
       "  'playedStatus': 'COMPLETED',\n",
       "  'scheduleStatus': 'NORMAL',\n",
       "  'startTime': '2017-10-18T00:00:00.000Z',\n",
       "  'venue': {'id': 80, 'name': 'Quicken Loans Arena'},\n",
       "  'venueAllegiance': 'HOME',\n",
       "  'weather': None},\n",
       " 'score': {'awayScoreTotal': 99,\n",
       "  'currentIntermission': None,\n",
       "  'currentQuarter': None,\n",
       "  'currentQuarterSecondsRemaining': None,\n",
       "  'homeScoreTotal': 102,\n",
       "  'quarters': [{'awayScore': 19, 'homeScore': 29, 'quarterNumber': 1},\n",
       "   {'awayScore': 19, 'homeScore': 25, 'quarterNumber': 2},\n",
       "   {'awayScore': 33, 'homeScore': 18, 'quarterNumber': 3},\n",
       "   {'awayScore': 28, 'homeScore': 30, 'quarterNumber': 4}]}}"
      ]
     },
     "execution_count": 11,
     "metadata": {},
     "output_type": "execute_result"
    }
   ],
   "source": [
    "result1718_reg = send_request(\"https://api.mysportsfeeds.com/v2.0/pull/nba/2017-2018-regular/games.json\")\n",
    "\n",
    "game_reg = result1718_reg.get(\"games\")[0]\n",
    "\n",
    "game_reg"
   ]
  },
  {
   "cell_type": "code",
   "execution_count": 33,
   "metadata": {},
   "outputs": [
    {
     "data": {
      "text/plain": [
       "{'Attend.': None,\n",
       " 'Date': '2015-10-28',\n",
       " 'Home/Neutral': 'ATL',\n",
       " 'OT': 0,\n",
       " 'PTS': 106,\n",
       " 'PTS.1': 94,\n",
       " 'Start (ET)': '12:00 AM',\n",
       " 'Visitor/Neutral': 'DET',\n",
       " 'game_id': 31176,\n",
       " 'game_name': 'DET at ATL',\n",
       " 'game_type': 'regular_season'}"
      ]
     },
     "execution_count": 33,
     "metadata": {},
     "output_type": "execute_result"
    }
   ],
   "source": [
    "def unmarshall_game(game, game_type=\"regular_season\"):\n",
    "    row = {}\n",
    "    row[\"game_id\"] = game[\"schedule\"][\"id\"]\n",
    "    date = dateutil.parser.parse(game[\"schedule\"][\"startTime\"])\n",
    "    # Date\n",
    "    row[\"Date\"] = date.strftime(\"%Y-%m-%d\")\n",
    "    # Start (ET)\n",
    "    # ! NO TIME\n",
    "    row[\"Start (ET)\"] = date.strftime(\"%I:%M %p\")\n",
    "    # Visitor/Neutral\n",
    "    row[\"Visitor/Neutral\"] = game[\"schedule\"][\"awayTeam\"][\"abbreviation\"]\n",
    "    # PTS\n",
    "    row[\"PTS\"] = game[\"score\"][\"awayScoreTotal\"]\n",
    "    # Home/Neutral\n",
    "    row[\"Home/Neutral\"] = game[\"schedule\"][\"homeTeam\"][\"abbreviation\"]\n",
    "    # PTS.1\n",
    "    row[\"PTS.1\"] = game[\"score\"][\"homeScoreTotal\"]\n",
    "    # OT\n",
    "    row[\"OT\"] = 1 if len(game[\"score\"][\"quarters\"]) > 4 else 0\n",
    "    # Attend.\n",
    "    # ! NO INFO\n",
    "    row[\"Attend.\"] = None\n",
    "    # game_type\n",
    "    row[\"game_type\"] = game_type\n",
    "    # game_name\n",
    "    row[\"game_name\"] = row[\"Visitor/Neutral\"] + \" at \" + row[\"Home/Neutral\"]\n",
    "    return row\n",
    "unmarshall_game(game_reg)"
   ]
  },
  {
   "cell_type": "code",
   "execution_count": 13,
   "metadata": {},
   "outputs": [],
   "source": [
    "games_reg1718 = list(map(lambda game: unmarshall_game(game), result1718_reg.get(\"games\")))"
   ]
  },
  {
   "cell_type": "markdown",
   "metadata": {},
   "source": [
    "### Playoff"
   ]
  },
  {
   "cell_type": "code",
   "execution_count": 143,
   "metadata": {},
   "outputs": [
    {
     "data": {
      "text/plain": [
       "{'schedule': {'id': 45890,\n",
       "  'startTime': '2018-04-14T19:00:00.000Z',\n",
       "  'endedTime': None,\n",
       "  'awayTeam': {'id': 106, 'abbreviation': 'SAS'},\n",
       "  'homeTeam': {'id': 101, 'abbreviation': 'GSW'},\n",
       "  'venue': {'id': 95, 'name': 'Oracle Arena'},\n",
       "  'venueAllegiance': 'NEUTRAL',\n",
       "  'scheduleStatus': 'NORMAL',\n",
       "  'originalStartTime': None,\n",
       "  'delayedOrPostponedReason': None,\n",
       "  'playedStatus': 'COMPLETED',\n",
       "  'attendance': None,\n",
       "  'officials': [],\n",
       "  'broadcasters': [],\n",
       "  'weather': None},\n",
       " 'score': {'currentQuarter': None,\n",
       "  'currentQuarterSecondsRemaining': None,\n",
       "  'currentIntermission': None,\n",
       "  'awayScoreTotal': 92,\n",
       "  'homeScoreTotal': 113,\n",
       "  'quarters': [{'quarterNumber': 1, 'awayScore': 17, 'homeScore': 28},\n",
       "   {'quarterNumber': 2, 'awayScore': 24, 'homeScore': 29},\n",
       "   {'quarterNumber': 3, 'awayScore': 22, 'homeScore': 29},\n",
       "   {'quarterNumber': 4, 'awayScore': 29, 'homeScore': 27}]}}"
      ]
     },
     "execution_count": 143,
     "metadata": {},
     "output_type": "execute_result"
    }
   ],
   "source": [
    "result1718_po = send_request(\"https://api.mysportsfeeds.com/v2.0/pull/nba/2018-playoff/games.json\")\n",
    "\n",
    "game_po = result1718_po.get(\"games\")[0]\n",
    "\n",
    "game_po"
   ]
  },
  {
   "cell_type": "code",
   "execution_count": 144,
   "metadata": {},
   "outputs": [
    {
     "data": {
      "text/plain": [
       "{'Date': '2018-04-14',\n",
       " 'Start (ET)': '07:00 PM',\n",
       " 'Visitor/Neutral': 'SAS',\n",
       " 'PTS': 92,\n",
       " 'Home/Neutral': 'GSW',\n",
       " 'PTS.1': 113,\n",
       " 'OT': 0,\n",
       " 'Attend.': None,\n",
       " 'game_type': 'playoff',\n",
       " 'game_name': 'SAS at GSW'}"
      ]
     },
     "execution_count": 144,
     "metadata": {},
     "output_type": "execute_result"
    }
   ],
   "source": [
    "unmarshall_game(game_po, game_type=\"playoff\")"
   ]
  },
  {
   "cell_type": "code",
   "execution_count": 145,
   "metadata": {},
   "outputs": [],
   "source": [
    "games_po1718 = list(map(lambda game: unmarshall_game(game), result1718_po.get(\"games\")))"
   ]
  },
  {
   "cell_type": "markdown",
   "metadata": {},
   "source": [
    "### Merge Season 2017/2018"
   ]
  },
  {
   "cell_type": "code",
   "execution_count": 151,
   "metadata": {},
   "outputs": [],
   "source": [
    "df_reg = pd.DataFrame.from_records(games_reg1718)\n",
    "df_po = pd.DataFrame.from_records(games_po1718)"
   ]
  },
  {
   "cell_type": "code",
   "execution_count": 152,
   "metadata": {},
   "outputs": [],
   "source": [
    "df = df_reg.append(df_po)"
   ]
  },
  {
   "cell_type": "code",
   "execution_count": 155,
   "metadata": {},
   "outputs": [],
   "source": [
    "df = df[columns]\n",
    "df.reset_index(drop=True, inplace=True)"
   ]
  },
  {
   "cell_type": "code",
   "execution_count": 159,
   "metadata": {},
   "outputs": [],
   "source": [
    "df.to_csv(\"./data/msf/season_files/season1718.csv\", index=False)"
   ]
  },
  {
   "cell_type": "markdown",
   "metadata": {},
   "source": [
    "# Season 16/17"
   ]
  },
  {
   "cell_type": "markdown",
   "metadata": {},
   "source": [
    "### Regurlar Season "
   ]
  },
  {
   "cell_type": "code",
   "execution_count": 44,
   "metadata": {},
   "outputs": [
    {
     "data": {
      "text/plain": [
       "{'schedule': {'attendance': None,\n",
       "  'awayTeam': {'abbreviation': 'NYK', 'id': 83},\n",
       "  'broadcasters': [],\n",
       "  'delayedOrPostponedReason': None,\n",
       "  'endedTime': None,\n",
       "  'homeTeam': {'abbreviation': 'CLE', 'id': 86},\n",
       "  'id': 33941,\n",
       "  'officials': [],\n",
       "  'originalStartTime': None,\n",
       "  'playedStatus': 'COMPLETED',\n",
       "  'scheduleStatus': 'NORMAL',\n",
       "  'startTime': '2016-10-25T23:30:00.000Z',\n",
       "  'venue': {'id': 80, 'name': 'Quicken Loans Arena'},\n",
       "  'venueAllegiance': 'HOME',\n",
       "  'weather': None},\n",
       " 'score': {'awayScoreTotal': 88,\n",
       "  'currentIntermission': None,\n",
       "  'currentQuarter': None,\n",
       "  'currentQuarterSecondsRemaining': None,\n",
       "  'homeScoreTotal': 117,\n",
       "  'quarters': [{'awayScore': 18, 'homeScore': 28, 'quarterNumber': 1},\n",
       "   {'awayScore': 27, 'homeScore': 20, 'quarterNumber': 2},\n",
       "   {'awayScore': 19, 'homeScore': 34, 'quarterNumber': 3},\n",
       "   {'awayScore': 24, 'homeScore': 35, 'quarterNumber': 4}]}}"
      ]
     },
     "execution_count": 44,
     "metadata": {},
     "output_type": "execute_result"
    }
   ],
   "source": [
    "result1617_reg = send_request(\"https://api.mysportsfeeds.com/v2.0/pull/nba/2016-2017-regular/games.json\")\n",
    "\n",
    "game_reg = result1617_reg.get(\"games\")[0]\n",
    "\n",
    "game_reg"
   ]
  },
  {
   "cell_type": "code",
   "execution_count": 14,
   "metadata": {},
   "outputs": [
    {
     "data": {
      "text/plain": [
       "{'Attend.': None,\n",
       " 'Date': '2017-10-18',\n",
       " 'Home/Neutral': 'CLE',\n",
       " 'OT': 0,\n",
       " 'PTS': 99,\n",
       " 'PTS.1': 102,\n",
       " 'Start (ET)': '12:00 AM',\n",
       " 'Visitor/Neutral': 'BOS',\n",
       " 'game_name': 'BOS at CLE',\n",
       " 'game_type': 'regular_season'}"
      ]
     },
     "execution_count": 14,
     "metadata": {},
     "output_type": "execute_result"
    }
   ],
   "source": [
    "unmarshall_game(game_reg, game_type=\"regular_season\")"
   ]
  },
  {
   "cell_type": "code",
   "execution_count": 15,
   "metadata": {},
   "outputs": [],
   "source": [
    "games_reg1617 = list(map(lambda game: unmarshall_game(game), result1617_reg.get(\"games\")))"
   ]
  },
  {
   "cell_type": "markdown",
   "metadata": {},
   "source": [
    "### Playoffs "
   ]
  },
  {
   "cell_type": "code",
   "execution_count": 16,
   "metadata": {},
   "outputs": [
    {
     "data": {
      "text/plain": [
       "{'schedule': {'attendance': None,\n",
       "  'awayTeam': {'abbreviation': 'IND', 'id': 87},\n",
       "  'broadcasters': [],\n",
       "  'delayedOrPostponedReason': None,\n",
       "  'endedTime': None,\n",
       "  'homeTeam': {'abbreviation': 'CLE', 'id': 86},\n",
       "  'id': 40310,\n",
       "  'officials': [],\n",
       "  'originalStartTime': None,\n",
       "  'playedStatus': 'COMPLETED',\n",
       "  'scheduleStatus': 'NORMAL',\n",
       "  'startTime': '2017-04-15T19:00:00.000Z',\n",
       "  'venue': {'id': 80, 'name': 'Quicken Loans Arena'},\n",
       "  'venueAllegiance': 'NEUTRAL',\n",
       "  'weather': None},\n",
       " 'score': {'awayScoreTotal': 108,\n",
       "  'currentIntermission': None,\n",
       "  'currentQuarter': None,\n",
       "  'currentQuarterSecondsRemaining': None,\n",
       "  'homeScoreTotal': 109,\n",
       "  'quarters': [{'awayScore': 29, 'homeScore': 34, 'quarterNumber': 1},\n",
       "   {'awayScore': 30, 'homeScore': 32, 'quarterNumber': 2},\n",
       "   {'awayScore': 25, 'homeScore': 26, 'quarterNumber': 3},\n",
       "   {'awayScore': 24, 'homeScore': 17, 'quarterNumber': 4}]}}"
      ]
     },
     "execution_count": 16,
     "metadata": {},
     "output_type": "execute_result"
    }
   ],
   "source": [
    "result1617_po = send_request(\"https://api.mysportsfeeds.com/v2.0/pull/nba/2017-playoff/games.json\")\n",
    "\n",
    "game_po = result1617_po.get(\"games\")[0]\n",
    "\n",
    "game_po"
   ]
  },
  {
   "cell_type": "code",
   "execution_count": 17,
   "metadata": {},
   "outputs": [
    {
     "data": {
      "text/plain": [
       "{'Attend.': None,\n",
       " 'Date': '2017-04-15',\n",
       " 'Home/Neutral': 'CLE',\n",
       " 'OT': 0,\n",
       " 'PTS': 108,\n",
       " 'PTS.1': 109,\n",
       " 'Start (ET)': '07:00 PM',\n",
       " 'Visitor/Neutral': 'IND',\n",
       " 'game_name': 'IND at CLE',\n",
       " 'game_type': 'playoff'}"
      ]
     },
     "execution_count": 17,
     "metadata": {},
     "output_type": "execute_result"
    }
   ],
   "source": [
    "unmarshall_game(game_po, game_type=\"playoff\")"
   ]
  },
  {
   "cell_type": "code",
   "execution_count": 18,
   "metadata": {},
   "outputs": [],
   "source": [
    "games_po1617 = list(map(lambda game: unmarshall_game(game), result1617_po.get(\"games\")))"
   ]
  },
  {
   "cell_type": "markdown",
   "metadata": {},
   "source": [
    "### Merge Season 16/17"
   ]
  },
  {
   "cell_type": "code",
   "execution_count": 19,
   "metadata": {},
   "outputs": [],
   "source": [
    "df_reg = pd.DataFrame.from_records(games_reg1617)\n",
    "df_po = pd.DataFrame.from_records(games_po1617)"
   ]
  },
  {
   "cell_type": "code",
   "execution_count": 20,
   "metadata": {},
   "outputs": [],
   "source": [
    "df = df_reg.append(df_po)"
   ]
  },
  {
   "cell_type": "code",
   "execution_count": 21,
   "metadata": {},
   "outputs": [],
   "source": [
    "df = df[columns]\n",
    "df.reset_index(drop=True, inplace=True)"
   ]
  },
  {
   "cell_type": "code",
   "execution_count": null,
   "metadata": {},
   "outputs": [],
   "source": [
    "df.to_csv(\"./data/msf/season_files/season1617.csv\", index=False)"
   ]
  },
  {
   "cell_type": "markdown",
   "metadata": {},
   "source": [
    "# Season 15/16"
   ]
  },
  {
   "cell_type": "markdown",
   "metadata": {},
   "source": [
    "### Regular Season"
   ]
  },
  {
   "cell_type": "code",
   "execution_count": 34,
   "metadata": {},
   "outputs": [
    {
     "data": {
      "text/plain": [
       "{'schedule': {'attendance': None,\n",
       "  'awayTeam': {'abbreviation': 'DET', 'id': 88},\n",
       "  'broadcasters': [],\n",
       "  'delayedOrPostponedReason': None,\n",
       "  'endedTime': None,\n",
       "  'homeTeam': {'abbreviation': 'ATL', 'id': 91},\n",
       "  'id': 31176,\n",
       "  'officials': [],\n",
       "  'originalStartTime': None,\n",
       "  'playedStatus': 'COMPLETED',\n",
       "  'scheduleStatus': 'NORMAL',\n",
       "  'startTime': '2015-10-28T00:00:00.000Z',\n",
       "  'venue': {'id': 20, 'name': 'Philips Arena'},\n",
       "  'venueAllegiance': 'HOME',\n",
       "  'weather': None},\n",
       " 'score': {'awayScoreTotal': 106,\n",
       "  'currentIntermission': None,\n",
       "  'currentQuarter': None,\n",
       "  'currentQuarterSecondsRemaining': None,\n",
       "  'homeScoreTotal': 94,\n",
       "  'quarters': [{'awayScore': 25, 'homeScore': 25, 'quarterNumber': 1},\n",
       "   {'awayScore': 23, 'homeScore': 18, 'quarterNumber': 2},\n",
       "   {'awayScore': 34, 'homeScore': 23, 'quarterNumber': 3},\n",
       "   {'awayScore': 24, 'homeScore': 28, 'quarterNumber': 4}]}}"
      ]
     },
     "execution_count": 34,
     "metadata": {},
     "output_type": "execute_result"
    }
   ],
   "source": [
    "result1516_reg = send_request(\"https://api.mysportsfeeds.com/v2.0/pull/nba/2015-2016-regular/games.json\")\n",
    "\n",
    "game_reg = result1516_reg.get(\"games\")[0]\n",
    "\n",
    "game_reg"
   ]
  },
  {
   "cell_type": "code",
   "execution_count": 24,
   "metadata": {},
   "outputs": [
    {
     "data": {
      "text/plain": [
       "{'Attend.': None,\n",
       " 'Date': '2015-10-28',\n",
       " 'Home/Neutral': 'ATL',\n",
       " 'OT': 0,\n",
       " 'PTS': 106,\n",
       " 'PTS.1': 94,\n",
       " 'Start (ET)': '12:00 AM',\n",
       " 'Visitor/Neutral': 'DET',\n",
       " 'game_name': 'DET at ATL',\n",
       " 'game_type': 'regular_season'}"
      ]
     },
     "execution_count": 24,
     "metadata": {},
     "output_type": "execute_result"
    }
   ],
   "source": [
    "unmarshall_game(game_reg, game_type=\"regular_season\")"
   ]
  },
  {
   "cell_type": "code",
   "execution_count": 25,
   "metadata": {},
   "outputs": [],
   "source": [
    "games_reg1516 = list(map(lambda game: unmarshall_game(game), result1516_reg.get(\"games\")))"
   ]
  },
  {
   "cell_type": "markdown",
   "metadata": {},
   "source": [
    "### Playoffs"
   ]
  },
  {
   "cell_type": "code",
   "execution_count": 26,
   "metadata": {},
   "outputs": [
    {
     "data": {
      "text/plain": [
       "{'schedule': {'attendance': None,\n",
       "  'awayTeam': {'abbreviation': 'IND', 'id': 87},\n",
       "  'broadcasters': [],\n",
       "  'delayedOrPostponedReason': None,\n",
       "  'endedTime': None,\n",
       "  'homeTeam': {'abbreviation': 'TOR', 'id': 81},\n",
       "  'id': 32421,\n",
       "  'officials': [],\n",
       "  'originalStartTime': None,\n",
       "  'playedStatus': 'COMPLETED',\n",
       "  'scheduleStatus': 'NORMAL',\n",
       "  'startTime': '2016-04-16T23:00:00.000Z',\n",
       "  'venue': {'id': 1, 'name': 'Air Canada Center'},\n",
       "  'venueAllegiance': 'NEUTRAL',\n",
       "  'weather': None},\n",
       " 'score': {'awayScoreTotal': 100,\n",
       "  'currentIntermission': None,\n",
       "  'currentQuarter': None,\n",
       "  'currentQuarterSecondsRemaining': None,\n",
       "  'homeScoreTotal': 90,\n",
       "  'quarters': [{'awayScore': 19, 'homeScore': 24, 'quarterNumber': 1},\n",
       "   {'awayScore': 24, 'homeScore': 21, 'quarterNumber': 2},\n",
       "   {'awayScore': 27, 'homeScore': 22, 'quarterNumber': 3},\n",
       "   {'awayScore': 30, 'homeScore': 23, 'quarterNumber': 4}]}}"
      ]
     },
     "execution_count": 26,
     "metadata": {},
     "output_type": "execute_result"
    }
   ],
   "source": [
    "result1516_po = send_request(\"https://api.mysportsfeeds.com/v2.0/pull/nba/2016-playoff/games.json\")\n",
    "\n",
    "game_po = result1516_po.get(\"games\")[0]\n",
    "\n",
    "game_po"
   ]
  },
  {
   "cell_type": "code",
   "execution_count": 27,
   "metadata": {},
   "outputs": [
    {
     "data": {
      "text/plain": [
       "{'Attend.': None,\n",
       " 'Date': '2016-04-16',\n",
       " 'Home/Neutral': 'TOR',\n",
       " 'OT': 0,\n",
       " 'PTS': 100,\n",
       " 'PTS.1': 90,\n",
       " 'Start (ET)': '11:00 PM',\n",
       " 'Visitor/Neutral': 'IND',\n",
       " 'game_name': 'IND at TOR',\n",
       " 'game_type': 'playoff'}"
      ]
     },
     "execution_count": 27,
     "metadata": {},
     "output_type": "execute_result"
    }
   ],
   "source": [
    "unmarshall_game(game_po, game_type=\"playoff\")"
   ]
  },
  {
   "cell_type": "code",
   "execution_count": 28,
   "metadata": {},
   "outputs": [],
   "source": [
    "games_po1516 = list(map(lambda game: unmarshall_game(game), result1516_po.get(\"games\")))"
   ]
  },
  {
   "cell_type": "markdown",
   "metadata": {},
   "source": [
    "### Merge Season"
   ]
  },
  {
   "cell_type": "code",
   "execution_count": 29,
   "metadata": {},
   "outputs": [],
   "source": [
    "df_reg = pd.DataFrame.from_records(games_reg1516)\n",
    "df_po = pd.DataFrame.from_records(games_po1516)"
   ]
  },
  {
   "cell_type": "code",
   "execution_count": 30,
   "metadata": {},
   "outputs": [],
   "source": [
    "df = df_reg.append(df_po)"
   ]
  },
  {
   "cell_type": "code",
   "execution_count": 31,
   "metadata": {},
   "outputs": [],
   "source": [
    "df = df[columns]\n",
    "df.reset_index(drop=True, inplace=True)"
   ]
  },
  {
   "cell_type": "code",
   "execution_count": null,
   "metadata": {},
   "outputs": [],
   "source": [
    "df.to_csv(\"./data/msf/season_files/season1516.csv\", index=False)"
   ]
  },
  {
   "cell_type": "code",
   "execution_count": null,
   "metadata": {},
   "outputs": [],
   "source": []
  }
 ],
 "metadata": {
  "kernelspec": {
   "display_name": "Python 3",
   "language": "python",
   "name": "python3"
  },
  "language_info": {
   "codemirror_mode": {
    "name": "ipython",
    "version": 3
   },
   "file_extension": ".py",
   "mimetype": "text/x-python",
   "name": "python",
   "nbconvert_exporter": "python",
   "pygments_lexer": "ipython3",
   "version": "3.6.2"
  }
 },
 "nbformat": 4,
 "nbformat_minor": 2
}
