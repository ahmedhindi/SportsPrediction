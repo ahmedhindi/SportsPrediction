{
 "cells": [
  {
   "cell_type": "code",
   "execution_count": 138,
   "metadata": {},
   "outputs": [],
   "source": [
    "import dateutil.parser\n",
    "import os\n",
    "os.chdir(\"/home/jovyan/work\")\n",
    "\n",
    "import pandas as pd\n",
    "\n",
    "from src.utils import send_request"
   ]
  },
  {
   "cell_type": "markdown",
   "metadata": {},
   "source": [
    "## Create Season Files from MSF"
   ]
  },
  {
   "cell_type": "markdown",
   "metadata": {},
   "source": [
    "### General Setup"
   ]
  },
  {
   "cell_type": "code",
   "execution_count": 139,
   "metadata": {},
   "outputs": [],
   "source": [
    "columns=[\n",
    "    \"Date\", \n",
    "    \"Start (ET)\", \n",
    "    \"Visitor/Neutral\", \n",
    "    \"PTS\",\n",
    "    \"Home/Neutral\", \n",
    "    \"PTS.1\", \n",
    "    \"OT\", \n",
    "    \"Attend.\", \n",
    "    \"game_type\", \n",
    "    \"game_name\",\n",
    "]"
   ]
  },
  {
   "cell_type": "markdown",
   "metadata": {},
   "source": [
    "### Season 2017/18"
   ]
  },
  {
   "cell_type": "markdown",
   "metadata": {},
   "source": [
    "### Regular Season"
   ]
  },
  {
   "cell_type": "code",
   "execution_count": 140,
   "metadata": {},
   "outputs": [
    {
     "data": {
      "text/plain": [
       "{'schedule': {'id': 42070,\n",
       "  'startTime': '2017-10-18T00:00:00.000Z',\n",
       "  'endedTime': None,\n",
       "  'awayTeam': {'id': 82, 'abbreviation': 'BOS'},\n",
       "  'homeTeam': {'id': 86, 'abbreviation': 'CLE'},\n",
       "  'venue': {'id': 80, 'name': 'Quicken Loans Arena'},\n",
       "  'venueAllegiance': 'HOME',\n",
       "  'scheduleStatus': 'NORMAL',\n",
       "  'originalStartTime': None,\n",
       "  'delayedOrPostponedReason': None,\n",
       "  'playedStatus': 'COMPLETED',\n",
       "  'attendance': None,\n",
       "  'officials': [],\n",
       "  'broadcasters': [],\n",
       "  'weather': None},\n",
       " 'score': {'currentQuarter': None,\n",
       "  'currentQuarterSecondsRemaining': None,\n",
       "  'currentIntermission': None,\n",
       "  'awayScoreTotal': 99,\n",
       "  'homeScoreTotal': 102,\n",
       "  'quarters': [{'quarterNumber': 1, 'awayScore': 19, 'homeScore': 29},\n",
       "   {'quarterNumber': 2, 'awayScore': 19, 'homeScore': 25},\n",
       "   {'quarterNumber': 3, 'awayScore': 33, 'homeScore': 18},\n",
       "   {'quarterNumber': 4, 'awayScore': 28, 'homeScore': 30}]}}"
      ]
     },
     "execution_count": 140,
     "metadata": {},
     "output_type": "execute_result"
    }
   ],
   "source": [
    "result1718_reg = send_request(\"https://api.mysportsfeeds.com/v2.0/pull/nba/2017-2018-regular/games.json\")\n",
    "\n",
    "game_reg = result1718_reg.get(\"games\")[0]\n",
    "\n",
    "game_reg"
   ]
  },
  {
   "cell_type": "code",
   "execution_count": 141,
   "metadata": {},
   "outputs": [
    {
     "data": {
      "text/plain": [
       "{'Date': '2017-10-18',\n",
       " 'Start (ET)': '12:00 AM',\n",
       " 'Visitor/Neutral': 'BOS',\n",
       " 'PTS': 99,\n",
       " 'Home/Neutral': 'CLE',\n",
       " 'PTS.1': 102,\n",
       " 'OT': 0,\n",
       " 'Attend.': None,\n",
       " 'game_type': 'regular_season',\n",
       " 'game_name': 'BOS at CLE'}"
      ]
     },
     "execution_count": 141,
     "metadata": {},
     "output_type": "execute_result"
    }
   ],
   "source": [
    "def unmarshall_game(game, game_type=\"regular_season\"):\n",
    "    row = {}\n",
    "    date = dateutil.parser.parse(game[\"schedule\"][\"startTime\"])\n",
    "    # Date\n",
    "    row[\"Date\"] = date.strftime(\"%Y-%m-%d\")\n",
    "    # Start (ET)\n",
    "    # ! NO TIME\n",
    "    row[\"Start (ET)\"] = date.strftime(\"%I:%M %p\")\n",
    "    # Visitor/Neutral\n",
    "    row[\"Visitor/Neutral\"] = game[\"schedule\"][\"awayTeam\"][\"abbreviation\"]\n",
    "    # PTS\n",
    "    row[\"PTS\"] = game[\"score\"][\"awayScoreTotal\"]\n",
    "    # Home/Neutral\n",
    "    row[\"Home/Neutral\"] = game[\"schedule\"][\"homeTeam\"][\"abbreviation\"]\n",
    "    # PTS.1\n",
    "    row[\"PTS.1\"] = game[\"score\"][\"homeScoreTotal\"]\n",
    "    # OT\n",
    "    row[\"OT\"] = 1 if len(game[\"score\"][\"quarters\"]) > 4 else 0\n",
    "    # Attend.\n",
    "    # ! NO INFO\n",
    "    row[\"Attend.\"] = None\n",
    "    # game_type\n",
    "    row[\"game_type\"] = game_type\n",
    "    # game_name\n",
    "    row[\"game_name\"] = row[\"Visitor/Neutral\"] + \" at \" + row[\"Home/Neutral\"]\n",
    "    return row\n",
    "unmarshall_game(game_reg)"
   ]
  },
  {
   "cell_type": "code",
   "execution_count": 142,
   "metadata": {},
   "outputs": [],
   "source": [
    "games_reg1718 = list(map(lambda game: unmarshall_game(game), result1718_reg.get(\"games\")))"
   ]
  },
  {
   "cell_type": "markdown",
   "metadata": {},
   "source": [
    "### Playoff"
   ]
  },
  {
   "cell_type": "code",
   "execution_count": 143,
   "metadata": {},
   "outputs": [
    {
     "data": {
      "text/plain": [
       "{'schedule': {'id': 45890,\n",
       "  'startTime': '2018-04-14T19:00:00.000Z',\n",
       "  'endedTime': None,\n",
       "  'awayTeam': {'id': 106, 'abbreviation': 'SAS'},\n",
       "  'homeTeam': {'id': 101, 'abbreviation': 'GSW'},\n",
       "  'venue': {'id': 95, 'name': 'Oracle Arena'},\n",
       "  'venueAllegiance': 'NEUTRAL',\n",
       "  'scheduleStatus': 'NORMAL',\n",
       "  'originalStartTime': None,\n",
       "  'delayedOrPostponedReason': None,\n",
       "  'playedStatus': 'COMPLETED',\n",
       "  'attendance': None,\n",
       "  'officials': [],\n",
       "  'broadcasters': [],\n",
       "  'weather': None},\n",
       " 'score': {'currentQuarter': None,\n",
       "  'currentQuarterSecondsRemaining': None,\n",
       "  'currentIntermission': None,\n",
       "  'awayScoreTotal': 92,\n",
       "  'homeScoreTotal': 113,\n",
       "  'quarters': [{'quarterNumber': 1, 'awayScore': 17, 'homeScore': 28},\n",
       "   {'quarterNumber': 2, 'awayScore': 24, 'homeScore': 29},\n",
       "   {'quarterNumber': 3, 'awayScore': 22, 'homeScore': 29},\n",
       "   {'quarterNumber': 4, 'awayScore': 29, 'homeScore': 27}]}}"
      ]
     },
     "execution_count": 143,
     "metadata": {},
     "output_type": "execute_result"
    }
   ],
   "source": [
    "result1718_po = send_request(\"https://api.mysportsfeeds.com/v2.0/pull/nba/2018-playoff/games.json\")\n",
    "\n",
    "game_po = result1718_po.get(\"games\")[0]\n",
    "\n",
    "game_po"
   ]
  },
  {
   "cell_type": "code",
   "execution_count": 144,
   "metadata": {},
   "outputs": [
    {
     "data": {
      "text/plain": [
       "{'Date': '2018-04-14',\n",
       " 'Start (ET)': '07:00 PM',\n",
       " 'Visitor/Neutral': 'SAS',\n",
       " 'PTS': 92,\n",
       " 'Home/Neutral': 'GSW',\n",
       " 'PTS.1': 113,\n",
       " 'OT': 0,\n",
       " 'Attend.': None,\n",
       " 'game_type': 'playoff',\n",
       " 'game_name': 'SAS at GSW'}"
      ]
     },
     "execution_count": 144,
     "metadata": {},
     "output_type": "execute_result"
    }
   ],
   "source": [
    "unmarshall_game(game_po, game_type=\"playoff\")"
   ]
  },
  {
   "cell_type": "code",
   "execution_count": 145,
   "metadata": {},
   "outputs": [],
   "source": [
    "games_po1718 = list(map(lambda game: unmarshall_game(game), result1718_po.get(\"games\")))"
   ]
  },
  {
   "cell_type": "markdown",
   "metadata": {},
   "source": [
    "### Merge Season 2017/2018"
   ]
  },
  {
   "cell_type": "code",
   "execution_count": 151,
   "metadata": {},
   "outputs": [],
   "source": [
    "df_reg = pd.DataFrame.from_records(games_reg1718)\n",
    "df_po = pd.DataFrame.from_records(games_po1718)"
   ]
  },
  {
   "cell_type": "code",
   "execution_count": 152,
   "metadata": {},
   "outputs": [],
   "source": [
    "df = df_reg.append(df_po)"
   ]
  },
  {
   "cell_type": "code",
   "execution_count": 155,
   "metadata": {},
   "outputs": [],
   "source": [
    "df = df[columns]\n",
    "df.reset_index(drop=True, inplace=True)"
   ]
  },
  {
   "cell_type": "code",
   "execution_count": 159,
   "metadata": {},
   "outputs": [],
   "source": [
    "df.to_csv(\"./data/msf/season_files/season1718.csv\", index=False)"
   ]
  }
 ],
 "metadata": {
  "kernelspec": {
   "display_name": "Python 3",
   "language": "python",
   "name": "python3"
  },
  "language_info": {
   "codemirror_mode": {
    "name": "ipython",
    "version": 3
   },
   "file_extension": ".py",
   "mimetype": "text/x-python",
   "name": "python",
   "nbconvert_exporter": "python",
   "pygments_lexer": "ipython3",
   "version": "3.6.5"
  }
 },
 "nbformat": 4,
 "nbformat_minor": 2
}
