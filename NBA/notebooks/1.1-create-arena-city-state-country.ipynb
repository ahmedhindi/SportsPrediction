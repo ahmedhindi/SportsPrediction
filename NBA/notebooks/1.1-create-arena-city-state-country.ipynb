{
 "cells": [
  {
   "cell_type": "markdown",
   "metadata": {},
   "source": [
    "# Example: Create team node\n",
    "---\n",
    "Created Nodes & Relationships\n",
    "- Arena\n",
    "- City\n",
    "- State\n",
    "- Country\n"
   ]
  },
  {
   "cell_type": "markdown",
   "metadata": {},
   "source": [
    "### Imports"
   ]
  },
  {
   "cell_type": "code",
   "execution_count": 17,
   "metadata": {},
   "outputs": [],
   "source": [
    "# Necessary to import custom modules\n",
    "import os\n",
    "os.chdir(\"/home/jovyan/work\")\n",
    "\n",
    "import pandas as pd\n",
    "\n",
    "from src.utils import init_connection\n",
    "from src.models import Arena, City, Country, State"
   ]
  },
  {
   "cell_type": "markdown",
   "metadata": {},
   "source": [
    "### Configuration"
   ]
  },
  {
   "cell_type": "code",
   "execution_count": 18,
   "metadata": {},
   "outputs": [],
   "source": [
    "init_connection()"
   ]
  },
  {
   "cell_type": "markdown",
   "metadata": {},
   "source": [
    "### Arena Node creation"
   ]
  },
  {
   "cell_type": "code",
   "execution_count": 19,
   "metadata": {},
   "outputs": [
    {
     "data": {
      "text/html": [
       "<div>\n",
       "<style scoped>\n",
       "    .dataframe tbody tr th:only-of-type {\n",
       "        vertical-align: middle;\n",
       "    }\n",
       "\n",
       "    .dataframe tbody tr th {\n",
       "        vertical-align: top;\n",
       "    }\n",
       "\n",
       "    .dataframe thead th {\n",
       "        text-align: right;\n",
       "    }\n",
       "</style>\n",
       "<table border=\"1\" class=\"dataframe\">\n",
       "  <thead>\n",
       "    <tr style=\"text-align: right;\">\n",
       "      <th></th>\n",
       "      <th>stadium</th>\n",
       "      <th>city</th>\n",
       "      <th>state</th>\n",
       "      <th>country</th>\n",
       "      <th>home_team</th>\n",
       "      <th>capacity</th>\n",
       "      <th>geo1</th>\n",
       "      <th>geo2</th>\n",
       "    </tr>\n",
       "  </thead>\n",
       "  <tbody>\n",
       "    <tr>\n",
       "      <th>0</th>\n",
       "      <td>Madison Square Garden</td>\n",
       "      <td>New York</td>\n",
       "      <td>New York</td>\n",
       "      <td>USA</td>\n",
       "      <td>New York Knicks</td>\n",
       "      <td>19,812</td>\n",
       "      <td>40.750556</td>\n",
       "      <td>-73.993611</td>\n",
       "    </tr>\n",
       "    <tr>\n",
       "      <th>1</th>\n",
       "      <td>Barclays Center</td>\n",
       "      <td>Brooklyn</td>\n",
       "      <td>New York</td>\n",
       "      <td>USA</td>\n",
       "      <td>Brooklyn Nets</td>\n",
       "      <td>17,732</td>\n",
       "      <td>40.682661</td>\n",
       "      <td>-73.975225</td>\n",
       "    </tr>\n",
       "    <tr>\n",
       "      <th>2</th>\n",
       "      <td>TD Garden</td>\n",
       "      <td>Boston</td>\n",
       "      <td>Massachusetts</td>\n",
       "      <td>USA</td>\n",
       "      <td>Boston Celtics</td>\n",
       "      <td>18,624</td>\n",
       "      <td>42.366303</td>\n",
       "      <td>-71.062228</td>\n",
       "    </tr>\n",
       "    <tr>\n",
       "      <th>3</th>\n",
       "      <td>Wells Fargo Center</td>\n",
       "      <td>Philadelphia</td>\n",
       "      <td>Pennsylvania</td>\n",
       "      <td>USA</td>\n",
       "      <td>Philadelphia 76ers</td>\n",
       "      <td>20,328</td>\n",
       "      <td>39.901111</td>\n",
       "      <td>-75.171944</td>\n",
       "    </tr>\n",
       "    <tr>\n",
       "      <th>4</th>\n",
       "      <td>Capital One Arena</td>\n",
       "      <td>Washington</td>\n",
       "      <td>D.C.</td>\n",
       "      <td>USA</td>\n",
       "      <td>Washington Wizards</td>\n",
       "      <td>20,356</td>\n",
       "      <td>38.898056</td>\n",
       "      <td>-77.020833</td>\n",
       "    </tr>\n",
       "  </tbody>\n",
       "</table>\n",
       "</div>"
      ],
      "text/plain": [
       "                 stadium          city          state country  \\\n",
       "0  Madison Square Garden      New York       New York     USA   \n",
       "1        Barclays Center      Brooklyn       New York     USA   \n",
       "2              TD Garden        Boston  Massachusetts     USA   \n",
       "3     Wells Fargo Center  Philadelphia   Pennsylvania     USA   \n",
       "4      Capital One Arena    Washington           D.C.     USA   \n",
       "\n",
       "            home_team capacity       geo1       geo2  \n",
       "0     New York Knicks   19,812  40.750556 -73.993611  \n",
       "1       Brooklyn Nets   17,732  40.682661 -73.975225  \n",
       "2      Boston Celtics   18,624  42.366303 -71.062228  \n",
       "3  Philadelphia 76ers   20,328  39.901111 -75.171944  \n",
       "4  Washington Wizards   20,356  38.898056 -77.020833  "
      ]
     },
     "execution_count": 19,
     "metadata": {},
     "output_type": "execute_result"
    }
   ],
   "source": [
    "df_arenas = pd.read_csv(\"./data/arenas.csv\", delimiter=\";\")\n",
    "df_arenas.columns = map(lambda x: x.strip(), df_arenas.columns)\n",
    "df_arenas.head()"
   ]
  },
  {
   "cell_type": "code",
   "execution_count": 20,
   "metadata": {},
   "outputs": [],
   "source": [
    "for _, row in df_arenas.drop_duplicates(subset=[\"stadium\"]).iterrows():\n",
    "    arena = Arena(\n",
    "        name=row[\"stadium\"],\n",
    "        capacity=int(row[\"capacity\"].replace(\",\", \"\")),\n",
    "        latitude=row[\"geo1\"],\n",
    "        longitude=row[\"geo2\"]\n",
    "    )\n",
    "    arena.save()"
   ]
  },
  {
   "cell_type": "markdown",
   "metadata": {},
   "source": [
    "### City Node Creation"
   ]
  },
  {
   "cell_type": "code",
   "execution_count": 21,
   "metadata": {},
   "outputs": [],
   "source": [
    "for _, row in df_arenas.drop_duplicates(subset=[\"city\"]).iterrows():\n",
    "    city = City(name=row[\"city\"])\n",
    "    city.save()"
   ]
  },
  {
   "cell_type": "markdown",
   "metadata": {},
   "source": [
    "### State Node Creation"
   ]
  },
  {
   "cell_type": "code",
   "execution_count": 22,
   "metadata": {},
   "outputs": [],
   "source": [
    "for _, row in df_arenas.drop_duplicates(subset=[\"state\"]).iterrows():\n",
    "    state = State(name=row[\"state\"])\n",
    "    state.save()"
   ]
  },
  {
   "cell_type": "markdown",
   "metadata": {},
   "source": [
    "### Country Node Creation"
   ]
  },
  {
   "cell_type": "code",
   "execution_count": 23,
   "metadata": {},
   "outputs": [],
   "source": [
    "for _, row in df_arenas.drop_duplicates(subset=[\"country\"]).iterrows():\n",
    "    country = Country(name=row[\"country\"])\n",
    "    country.save()"
   ]
  },
  {
   "cell_type": "markdown",
   "metadata": {},
   "source": [
    "### Relationships"
   ]
  },
  {
   "cell_type": "code",
   "execution_count": 24,
   "metadata": {},
   "outputs": [],
   "source": [
    "for _, row in df_arenas.drop_duplicates(subset=[\"stadium\"]).iterrows():\n",
    "    # get entities\n",
    "    a = Arena.nodes.get(name=row[\"stadium\"])\n",
    "    ci = City.nodes.get(name=row[\"city\"])\n",
    "    s = State.nodes.get(name=row[\"state\"])\n",
    "    co = Country.nodes.get(name=row[\"country\"])\n",
    "    \n",
    "    # create relationships\n",
    "    a.city.connect(ci)\n",
    "    ci.state.connect(s)\n",
    "    s.country.connect(co)"
   ]
  }
 ],
 "metadata": {
  "kernelspec": {
   "display_name": "Python 3",
   "language": "python",
   "name": "python3"
  },
  "language_info": {
   "codemirror_mode": {
    "name": "ipython",
    "version": 3
   },
   "file_extension": ".py",
   "mimetype": "text/x-python",
   "name": "python",
   "nbconvert_exporter": "python",
   "pygments_lexer": "ipython3",
   "version": "3.6.5"
  }
 },
 "nbformat": 4,
 "nbformat_minor": 2
}
