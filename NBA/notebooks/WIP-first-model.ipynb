{
 "cells": [
  {
   "cell_type": "markdown",
   "metadata": {},
   "source": [
    "# About\n",
    "This notebook contains a first simple ML model"
   ]
  },
  {
   "cell_type": "code",
   "execution_count": 50,
   "metadata": {},
   "outputs": [],
   "source": [
    "# Necessary to import custom modules\n",
    "import os\n",
    "os.chdir(\"/home/jovyan/work\")\n",
    "\n",
    "from neomodel import db\n",
    "import pandas as pd\n",
    "\n",
    "from src.utils import init_connection"
   ]
  },
  {
   "cell_type": "code",
   "execution_count": 51,
   "metadata": {},
   "outputs": [],
   "source": [
    "init_connection()"
   ]
  },
  {
   "cell_type": "code",
   "execution_count": 52,
   "metadata": {},
   "outputs": [],
   "source": [
    "cypher = \"\"\"\n",
    "MATCH \n",
    "    (t:Team)-[:SCORED]->(s:Score)-[:IN_GAME]->(g:Game)<-[:IN_GAME]-(s2:Score)<-[:SCORED]-(t2:Team), (sea:Season), (arena_game:Arena), (arena_t:Arena)\n",
    "WHERE \n",
    "    (g)-[:TOOK_PLACE_IN]->(sea)\n",
    "AND\n",
    "\t(g)-[:LOCATED_IN]->(arena_game)\n",
    "AND\n",
    "\t(t)-[:HAVE_HOME_COURT_AT]->(arena_t)\n",
    "RETURN \n",
    "    t.name as team, \n",
    "    sum(\n",
    "    \tCASE WHEN s.score > s2.score \n",
    "        AND g.game_type = \"regular_season\" \n",
    "        AND arena_game.name = arena_t.name\n",
    "        THEN 1 ELSE 0 END) \n",
    "    as wins_reg_home,\n",
    "    sum(\n",
    "    \tCASE WHEN s.score > s2.score \n",
    "        AND g.game_type = \"regular_season\" \n",
    "        AND arena_game.name <> arena_t.name\n",
    "        THEN 1 ELSE 0 END) \n",
    "    as wins_reg_away,\n",
    "    sum(\n",
    "    \tCASE WHEN s.score < s2.score \n",
    "        AND g.game_type = \"regular_season\" \n",
    "        AND arena_game.name = arena_t.name\n",
    "        THEN 1 ELSE 0 END) \n",
    "    as losses_reg_home,\n",
    "    sum(\n",
    "    \tCASE WHEN s.score < s2.score\n",
    "        AND g.game_type = \"regular_season\" \n",
    "        AND arena_game.name <> arena_t.name\n",
    "        THEN 1 ELSE 0 END) as losses_reg_away,\n",
    "\tsea.name as season\n",
    "ORDER BY \n",
    "    team, season\n",
    "\"\"\""
   ]
  },
  {
   "cell_type": "code",
   "execution_count": 53,
   "metadata": {},
   "outputs": [],
   "source": [
    "data, columns = db.cypher_query(cypher)"
   ]
  },
  {
   "cell_type": "code",
   "execution_count": 54,
   "metadata": {},
   "outputs": [],
   "source": [
    "df_results = pd.DataFrame(data=data, columns=columns)"
   ]
  },
  {
   "cell_type": "code",
   "execution_count": 55,
   "metadata": {},
   "outputs": [],
   "source": [
    "df_test = df_results.pivot(index=\"team\", columns=\"season\")"
   ]
  },
  {
   "cell_type": "code",
   "execution_count": 56,
   "metadata": {},
   "outputs": [],
   "source": [
    "cols = []\n",
    "for a, b in zip(df_test.columns.get_level_values(0), df_test.columns.get_level_values(1)):\n",
    "    cols.append(a+\"_\"+b)"
   ]
  },
  {
   "cell_type": "code",
   "execution_count": 57,
   "metadata": {},
   "outputs": [
    {
     "data": {
      "text/plain": [
       "['wins_reg_home_2015/2016',\n",
       " 'wins_reg_home_2016/2017',\n",
       " 'wins_reg_home_2017/2018',\n",
       " 'wins_reg_away_2015/2016',\n",
       " 'wins_reg_away_2016/2017',\n",
       " 'wins_reg_away_2017/2018',\n",
       " 'losses_reg_home_2015/2016',\n",
       " 'losses_reg_home_2016/2017',\n",
       " 'losses_reg_home_2017/2018',\n",
       " 'losses_reg_away_2015/2016',\n",
       " 'losses_reg_away_2016/2017',\n",
       " 'losses_reg_away_2017/2018']"
      ]
     },
     "execution_count": 57,
     "metadata": {},
     "output_type": "execute_result"
    }
   ],
   "source": [
    "cols"
   ]
  },
  {
   "cell_type": "code",
   "execution_count": 60,
   "metadata": {},
   "outputs": [],
   "source": [
    "df_test.columns = cols"
   ]
  },
  {
   "cell_type": "code",
   "execution_count": 61,
   "metadata": {},
   "outputs": [
    {
     "data": {
      "text/html": [
       "<div>\n",
       "<style scoped>\n",
       "    .dataframe tbody tr th:only-of-type {\n",
       "        vertical-align: middle;\n",
       "    }\n",
       "\n",
       "    .dataframe tbody tr th {\n",
       "        vertical-align: top;\n",
       "    }\n",
       "\n",
       "    .dataframe thead th {\n",
       "        text-align: right;\n",
       "    }\n",
       "</style>\n",
       "<table border=\"1\" class=\"dataframe\">\n",
       "  <thead>\n",
       "    <tr style=\"text-align: right;\">\n",
       "      <th></th>\n",
       "      <th>wins_reg_home_2015/2016</th>\n",
       "      <th>wins_reg_home_2016/2017</th>\n",
       "      <th>wins_reg_home_2017/2018</th>\n",
       "      <th>wins_reg_away_2015/2016</th>\n",
       "      <th>wins_reg_away_2016/2017</th>\n",
       "      <th>wins_reg_away_2017/2018</th>\n",
       "      <th>losses_reg_home_2015/2016</th>\n",
       "      <th>losses_reg_home_2016/2017</th>\n",
       "      <th>losses_reg_home_2017/2018</th>\n",
       "      <th>losses_reg_away_2015/2016</th>\n",
       "      <th>losses_reg_away_2016/2017</th>\n",
       "      <th>losses_reg_away_2017/2018</th>\n",
       "    </tr>\n",
       "    <tr>\n",
       "      <th>team</th>\n",
       "      <th></th>\n",
       "      <th></th>\n",
       "      <th></th>\n",
       "      <th></th>\n",
       "      <th></th>\n",
       "      <th></th>\n",
       "      <th></th>\n",
       "      <th></th>\n",
       "      <th></th>\n",
       "      <th></th>\n",
       "      <th></th>\n",
       "      <th></th>\n",
       "    </tr>\n",
       "  </thead>\n",
       "  <tbody>\n",
       "    <tr>\n",
       "      <th>Atlanta Hawks</th>\n",
       "      <td>30</td>\n",
       "      <td>25</td>\n",
       "      <td>16</td>\n",
       "      <td>22</td>\n",
       "      <td>20</td>\n",
       "      <td>8</td>\n",
       "      <td>16</td>\n",
       "      <td>19</td>\n",
       "      <td>25</td>\n",
       "      <td>24</td>\n",
       "      <td>24</td>\n",
       "      <td>33</td>\n",
       "    </tr>\n",
       "    <tr>\n",
       "      <th>Boston Celtics</th>\n",
       "      <td>30</td>\n",
       "      <td>35</td>\n",
       "      <td>37</td>\n",
       "      <td>20</td>\n",
       "      <td>27</td>\n",
       "      <td>29</td>\n",
       "      <td>14</td>\n",
       "      <td>16</td>\n",
       "      <td>15</td>\n",
       "      <td>24</td>\n",
       "      <td>22</td>\n",
       "      <td>20</td>\n",
       "    </tr>\n",
       "    <tr>\n",
       "      <th>Brooklyn Nets</th>\n",
       "      <td>14</td>\n",
       "      <td>13</td>\n",
       "      <td>15</td>\n",
       "      <td>7</td>\n",
       "      <td>7</td>\n",
       "      <td>13</td>\n",
       "      <td>27</td>\n",
       "      <td>28</td>\n",
       "      <td>26</td>\n",
       "      <td>34</td>\n",
       "      <td>34</td>\n",
       "      <td>28</td>\n",
       "    </tr>\n",
       "    <tr>\n",
       "      <th>Charlotte Hornets</th>\n",
       "      <td>32</td>\n",
       "      <td>22</td>\n",
       "      <td>21</td>\n",
       "      <td>19</td>\n",
       "      <td>14</td>\n",
       "      <td>15</td>\n",
       "      <td>12</td>\n",
       "      <td>19</td>\n",
       "      <td>20</td>\n",
       "      <td>26</td>\n",
       "      <td>27</td>\n",
       "      <td>26</td>\n",
       "    </tr>\n",
       "    <tr>\n",
       "      <th>Chicago Bulls</th>\n",
       "      <td>26</td>\n",
       "      <td>25</td>\n",
       "      <td>17</td>\n",
       "      <td>16</td>\n",
       "      <td>18</td>\n",
       "      <td>10</td>\n",
       "      <td>15</td>\n",
       "      <td>19</td>\n",
       "      <td>24</td>\n",
       "      <td>25</td>\n",
       "      <td>26</td>\n",
       "      <td>31</td>\n",
       "    </tr>\n",
       "  </tbody>\n",
       "</table>\n",
       "</div>"
      ],
      "text/plain": [
       "                   wins_reg_home_2015/2016  wins_reg_home_2016/2017  \\\n",
       "team                                                                  \n",
       "Atlanta Hawks                           30                       25   \n",
       "Boston Celtics                          30                       35   \n",
       "Brooklyn Nets                           14                       13   \n",
       "Charlotte Hornets                       32                       22   \n",
       "Chicago Bulls                           26                       25   \n",
       "\n",
       "                   wins_reg_home_2017/2018  wins_reg_away_2015/2016  \\\n",
       "team                                                                  \n",
       "Atlanta Hawks                           16                       22   \n",
       "Boston Celtics                          37                       20   \n",
       "Brooklyn Nets                           15                        7   \n",
       "Charlotte Hornets                       21                       19   \n",
       "Chicago Bulls                           17                       16   \n",
       "\n",
       "                   wins_reg_away_2016/2017  wins_reg_away_2017/2018  \\\n",
       "team                                                                  \n",
       "Atlanta Hawks                           20                        8   \n",
       "Boston Celtics                          27                       29   \n",
       "Brooklyn Nets                            7                       13   \n",
       "Charlotte Hornets                       14                       15   \n",
       "Chicago Bulls                           18                       10   \n",
       "\n",
       "                   losses_reg_home_2015/2016  losses_reg_home_2016/2017  \\\n",
       "team                                                                      \n",
       "Atlanta Hawks                             16                         19   \n",
       "Boston Celtics                            14                         16   \n",
       "Brooklyn Nets                             27                         28   \n",
       "Charlotte Hornets                         12                         19   \n",
       "Chicago Bulls                             15                         19   \n",
       "\n",
       "                   losses_reg_home_2017/2018  losses_reg_away_2015/2016  \\\n",
       "team                                                                      \n",
       "Atlanta Hawks                             25                         24   \n",
       "Boston Celtics                            15                         24   \n",
       "Brooklyn Nets                             26                         34   \n",
       "Charlotte Hornets                         20                         26   \n",
       "Chicago Bulls                             24                         25   \n",
       "\n",
       "                   losses_reg_away_2016/2017  losses_reg_away_2017/2018  \n",
       "team                                                                     \n",
       "Atlanta Hawks                             24                         33  \n",
       "Boston Celtics                            22                         20  \n",
       "Brooklyn Nets                             34                         28  \n",
       "Charlotte Hornets                         27                         26  \n",
       "Chicago Bulls                             26                         31  "
      ]
     },
     "execution_count": 61,
     "metadata": {},
     "output_type": "execute_result"
    }
   ],
   "source": [
    "df_test.head()"
   ]
  },
  {
   "cell_type": "markdown",
   "metadata": {},
   "source": [
    "#### Extract Matchup"
   ]
  },
  {
   "cell_type": "markdown",
   "metadata": {},
   "source": [
    "```\n",
    "MATCH \n",
    "\t(t:Team)-[:SCORED]->(s:Score)-[:IN_GAME]->(g:Game)<-[:IN_GAME]-(s2:Score)<-[:SCORED]-(t2:Team), (sea:Season)\n",
    "WHERE \n",
    "    (g)-[:TOOK_PLACE_IN]->(sea)\n",
    "AND\n",
    "\tsea.name = \"2017/2018\"\n",
    "AND\n",
    "\tg.game_type = \"regular_season\"\n",
    "WITH g, collect(t.name) as teams, collect(s.score) as scores\n",
    "RETURN\n",
    "\tHEAD(teams) as teamA, HEAD(TAIL(scores)) as scoreA, HEAD(TAIL(teams)) as teamB, HEAD(scores) as scoreB\n",
    "```"
   ]
  },
  {
   "cell_type": "code",
   "execution_count": 62,
   "metadata": {},
   "outputs": [],
   "source": [
    "cypher = \"\"\"\n",
    "MATCH \n",
    "\t(t:Team)-[:SCORED]->(s:Score)-[:IN_GAME]->(g:Game)<-[:IN_GAME]-(s2:Score)<-[:SCORED]-(t2:Team), (sea:Season)\n",
    "WHERE \n",
    "    (g)-[:TOOK_PLACE_IN]->(sea)\n",
    "AND\n",
    "\tsea.name = \"2017/2018\"\n",
    "AND\n",
    "\tg.game_type = \"regular_season\"\n",
    "WITH g, collect(t.name) as teams, collect(s.score) as scores\n",
    "RETURN\n",
    "\tHEAD(teams) as teamA, HEAD(TAIL(scores)) as scoreA, HEAD(TAIL(teams)) as teamB, HEAD(scores) as scoreB\n",
    "\"\"\""
   ]
  },
  {
   "cell_type": "code",
   "execution_count": 63,
   "metadata": {},
   "outputs": [],
   "source": [
    "data, cols = db.cypher_query(cypher)"
   ]
  },
  {
   "cell_type": "code",
   "execution_count": 64,
   "metadata": {},
   "outputs": [],
   "source": [
    "df_matches = pd.DataFrame(data=data, columns=cols)"
   ]
  },
  {
   "cell_type": "code",
   "execution_count": 65,
   "metadata": {},
   "outputs": [],
   "source": [
    "df_matches[\"teamAWinner\"] =df_matches[\"scoreA\"] > df_matches[\"scoreB\"]"
   ]
  },
  {
   "cell_type": "code",
   "execution_count": 66,
   "metadata": {},
   "outputs": [
    {
     "data": {
      "text/html": [
       "<div>\n",
       "<style scoped>\n",
       "    .dataframe tbody tr th:only-of-type {\n",
       "        vertical-align: middle;\n",
       "    }\n",
       "\n",
       "    .dataframe tbody tr th {\n",
       "        vertical-align: top;\n",
       "    }\n",
       "\n",
       "    .dataframe thead th {\n",
       "        text-align: right;\n",
       "    }\n",
       "</style>\n",
       "<table border=\"1\" class=\"dataframe\">\n",
       "  <thead>\n",
       "    <tr style=\"text-align: right;\">\n",
       "      <th></th>\n",
       "      <th>team</th>\n",
       "      <th>wins_reg_home_2015/2016</th>\n",
       "      <th>wins_reg_home_2016/2017</th>\n",
       "      <th>wins_reg_home_2017/2018</th>\n",
       "      <th>wins_reg_away_2015/2016</th>\n",
       "      <th>wins_reg_away_2016/2017</th>\n",
       "      <th>wins_reg_away_2017/2018</th>\n",
       "      <th>losses_reg_home_2015/2016</th>\n",
       "      <th>losses_reg_home_2016/2017</th>\n",
       "      <th>losses_reg_home_2017/2018</th>\n",
       "      <th>losses_reg_away_2015/2016</th>\n",
       "      <th>losses_reg_away_2016/2017</th>\n",
       "      <th>losses_reg_away_2017/2018</th>\n",
       "    </tr>\n",
       "  </thead>\n",
       "  <tbody>\n",
       "    <tr>\n",
       "      <th>0</th>\n",
       "      <td>Atlanta Hawks</td>\n",
       "      <td>30</td>\n",
       "      <td>25</td>\n",
       "      <td>16</td>\n",
       "      <td>22</td>\n",
       "      <td>20</td>\n",
       "      <td>8</td>\n",
       "      <td>16</td>\n",
       "      <td>19</td>\n",
       "      <td>25</td>\n",
       "      <td>24</td>\n",
       "      <td>24</td>\n",
       "      <td>33</td>\n",
       "    </tr>\n",
       "    <tr>\n",
       "      <th>1</th>\n",
       "      <td>Boston Celtics</td>\n",
       "      <td>30</td>\n",
       "      <td>35</td>\n",
       "      <td>37</td>\n",
       "      <td>20</td>\n",
       "      <td>27</td>\n",
       "      <td>29</td>\n",
       "      <td>14</td>\n",
       "      <td>16</td>\n",
       "      <td>15</td>\n",
       "      <td>24</td>\n",
       "      <td>22</td>\n",
       "      <td>20</td>\n",
       "    </tr>\n",
       "    <tr>\n",
       "      <th>2</th>\n",
       "      <td>Brooklyn Nets</td>\n",
       "      <td>14</td>\n",
       "      <td>13</td>\n",
       "      <td>15</td>\n",
       "      <td>7</td>\n",
       "      <td>7</td>\n",
       "      <td>13</td>\n",
       "      <td>27</td>\n",
       "      <td>28</td>\n",
       "      <td>26</td>\n",
       "      <td>34</td>\n",
       "      <td>34</td>\n",
       "      <td>28</td>\n",
       "    </tr>\n",
       "    <tr>\n",
       "      <th>3</th>\n",
       "      <td>Charlotte Hornets</td>\n",
       "      <td>32</td>\n",
       "      <td>22</td>\n",
       "      <td>21</td>\n",
       "      <td>19</td>\n",
       "      <td>14</td>\n",
       "      <td>15</td>\n",
       "      <td>12</td>\n",
       "      <td>19</td>\n",
       "      <td>20</td>\n",
       "      <td>26</td>\n",
       "      <td>27</td>\n",
       "      <td>26</td>\n",
       "    </tr>\n",
       "    <tr>\n",
       "      <th>4</th>\n",
       "      <td>Chicago Bulls</td>\n",
       "      <td>26</td>\n",
       "      <td>25</td>\n",
       "      <td>17</td>\n",
       "      <td>16</td>\n",
       "      <td>18</td>\n",
       "      <td>10</td>\n",
       "      <td>15</td>\n",
       "      <td>19</td>\n",
       "      <td>24</td>\n",
       "      <td>25</td>\n",
       "      <td>26</td>\n",
       "      <td>31</td>\n",
       "    </tr>\n",
       "  </tbody>\n",
       "</table>\n",
       "</div>"
      ],
      "text/plain": [
       "                team  wins_reg_home_2015/2016  wins_reg_home_2016/2017  \\\n",
       "0      Atlanta Hawks                       30                       25   \n",
       "1     Boston Celtics                       30                       35   \n",
       "2      Brooklyn Nets                       14                       13   \n",
       "3  Charlotte Hornets                       32                       22   \n",
       "4      Chicago Bulls                       26                       25   \n",
       "\n",
       "   wins_reg_home_2017/2018  wins_reg_away_2015/2016  wins_reg_away_2016/2017  \\\n",
       "0                       16                       22                       20   \n",
       "1                       37                       20                       27   \n",
       "2                       15                        7                        7   \n",
       "3                       21                       19                       14   \n",
       "4                       17                       16                       18   \n",
       "\n",
       "   wins_reg_away_2017/2018  losses_reg_home_2015/2016  \\\n",
       "0                        8                         16   \n",
       "1                       29                         14   \n",
       "2                       13                         27   \n",
       "3                       15                         12   \n",
       "4                       10                         15   \n",
       "\n",
       "   losses_reg_home_2016/2017  losses_reg_home_2017/2018  \\\n",
       "0                         19                         25   \n",
       "1                         16                         15   \n",
       "2                         28                         26   \n",
       "3                         19                         20   \n",
       "4                         19                         24   \n",
       "\n",
       "   losses_reg_away_2015/2016  losses_reg_away_2016/2017  \\\n",
       "0                         24                         24   \n",
       "1                         24                         22   \n",
       "2                         34                         34   \n",
       "3                         26                         27   \n",
       "4                         25                         26   \n",
       "\n",
       "   losses_reg_away_2017/2018  \n",
       "0                         33  \n",
       "1                         20  \n",
       "2                         28  \n",
       "3                         26  \n",
       "4                         31  "
      ]
     },
     "execution_count": 66,
     "metadata": {},
     "output_type": "execute_result"
    }
   ],
   "source": [
    "df_test.head().reset_index()"
   ]
  },
  {
   "cell_type": "code",
   "execution_count": 67,
   "metadata": {},
   "outputs": [
    {
     "data": {
      "text/html": [
       "<div>\n",
       "<style scoped>\n",
       "    .dataframe tbody tr th:only-of-type {\n",
       "        vertical-align: middle;\n",
       "    }\n",
       "\n",
       "    .dataframe tbody tr th {\n",
       "        vertical-align: top;\n",
       "    }\n",
       "\n",
       "    .dataframe thead th {\n",
       "        text-align: right;\n",
       "    }\n",
       "</style>\n",
       "<table border=\"1\" class=\"dataframe\">\n",
       "  <thead>\n",
       "    <tr style=\"text-align: right;\">\n",
       "      <th></th>\n",
       "      <th>teamA</th>\n",
       "      <th>scoreA</th>\n",
       "      <th>teamB</th>\n",
       "      <th>scoreB</th>\n",
       "      <th>teamAWinner</th>\n",
       "    </tr>\n",
       "  </thead>\n",
       "  <tbody>\n",
       "    <tr>\n",
       "      <th>0</th>\n",
       "      <td>Los Angeles Clippers</td>\n",
       "      <td>121</td>\n",
       "      <td>Golden State Warriors</td>\n",
       "      <td>105</td>\n",
       "      <td>True</td>\n",
       "    </tr>\n",
       "    <tr>\n",
       "      <th>1</th>\n",
       "      <td>Memphis Grizzlies</td>\n",
       "      <td>88</td>\n",
       "      <td>Sacramento Kings</td>\n",
       "      <td>106</td>\n",
       "      <td>False</td>\n",
       "    </tr>\n",
       "    <tr>\n",
       "      <th>2</th>\n",
       "      <td>New York Knicks</td>\n",
       "      <td>86</td>\n",
       "      <td>Miami Heat</td>\n",
       "      <td>115</td>\n",
       "      <td>False</td>\n",
       "    </tr>\n",
       "    <tr>\n",
       "      <th>3</th>\n",
       "      <td>Utah Jazz</td>\n",
       "      <td>103</td>\n",
       "      <td>Oklahoma City Thunder</td>\n",
       "      <td>89</td>\n",
       "      <td>True</td>\n",
       "    </tr>\n",
       "    <tr>\n",
       "      <th>4</th>\n",
       "      <td>Los Angeles Clippers</td>\n",
       "      <td>107</td>\n",
       "      <td>Atlanta Hawks</td>\n",
       "      <td>108</td>\n",
       "      <td>False</td>\n",
       "    </tr>\n",
       "  </tbody>\n",
       "</table>\n",
       "</div>"
      ],
      "text/plain": [
       "                  teamA  scoreA                  teamB  scoreB  teamAWinner\n",
       "0  Los Angeles Clippers     121  Golden State Warriors     105         True\n",
       "1     Memphis Grizzlies      88       Sacramento Kings     106        False\n",
       "2       New York Knicks      86             Miami Heat     115        False\n",
       "3             Utah Jazz     103  Oklahoma City Thunder      89         True\n",
       "4  Los Angeles Clippers     107          Atlanta Hawks     108        False"
      ]
     },
     "execution_count": 67,
     "metadata": {},
     "output_type": "execute_result"
    }
   ],
   "source": [
    "df_matches.head()"
   ]
  },
  {
   "cell_type": "code",
   "execution_count": 68,
   "metadata": {
    "scrolled": false
   },
   "outputs": [
    {
     "data": {
      "text/html": [
       "<div>\n",
       "<style scoped>\n",
       "    .dataframe tbody tr th:only-of-type {\n",
       "        vertical-align: middle;\n",
       "    }\n",
       "\n",
       "    .dataframe tbody tr th {\n",
       "        vertical-align: top;\n",
       "    }\n",
       "\n",
       "    .dataframe thead th {\n",
       "        text-align: right;\n",
       "    }\n",
       "</style>\n",
       "<table border=\"1\" class=\"dataframe\">\n",
       "  <thead>\n",
       "    <tr style=\"text-align: right;\">\n",
       "      <th></th>\n",
       "      <th>teamA</th>\n",
       "      <th>scoreA</th>\n",
       "      <th>teamB</th>\n",
       "      <th>scoreB</th>\n",
       "      <th>teamAWinner</th>\n",
       "      <th>team</th>\n",
       "      <th>wins_reg_home_2015/2016</th>\n",
       "      <th>wins_reg_home_2016/2017</th>\n",
       "      <th>wins_reg_home_2017/2018</th>\n",
       "      <th>wins_reg_away_2015/2016</th>\n",
       "      <th>wins_reg_away_2016/2017</th>\n",
       "      <th>wins_reg_away_2017/2018</th>\n",
       "      <th>losses_reg_home_2015/2016</th>\n",
       "      <th>losses_reg_home_2016/2017</th>\n",
       "      <th>losses_reg_home_2017/2018</th>\n",
       "      <th>losses_reg_away_2015/2016</th>\n",
       "      <th>losses_reg_away_2016/2017</th>\n",
       "      <th>losses_reg_away_2017/2018</th>\n",
       "    </tr>\n",
       "  </thead>\n",
       "  <tbody>\n",
       "    <tr>\n",
       "      <th>0</th>\n",
       "      <td>Los Angeles Clippers</td>\n",
       "      <td>121</td>\n",
       "      <td>Golden State Warriors</td>\n",
       "      <td>105</td>\n",
       "      <td>True</td>\n",
       "      <td>Los Angeles Clippers</td>\n",
       "      <td>33</td>\n",
       "      <td>31</td>\n",
       "      <td>24</td>\n",
       "      <td>22</td>\n",
       "      <td>23</td>\n",
       "      <td>18</td>\n",
       "      <td>13</td>\n",
       "      <td>16</td>\n",
       "      <td>19</td>\n",
       "      <td>20</td>\n",
       "      <td>19</td>\n",
       "      <td>21</td>\n",
       "    </tr>\n",
       "    <tr>\n",
       "      <th>1</th>\n",
       "      <td>Los Angeles Clippers</td>\n",
       "      <td>107</td>\n",
       "      <td>Atlanta Hawks</td>\n",
       "      <td>108</td>\n",
       "      <td>False</td>\n",
       "      <td>Los Angeles Clippers</td>\n",
       "      <td>33</td>\n",
       "      <td>31</td>\n",
       "      <td>24</td>\n",
       "      <td>22</td>\n",
       "      <td>23</td>\n",
       "      <td>18</td>\n",
       "      <td>13</td>\n",
       "      <td>16</td>\n",
       "      <td>19</td>\n",
       "      <td>20</td>\n",
       "      <td>19</td>\n",
       "      <td>21</td>\n",
       "    </tr>\n",
       "    <tr>\n",
       "      <th>2</th>\n",
       "      <td>Los Angeles Clippers</td>\n",
       "      <td>105</td>\n",
       "      <td>New York Knicks</td>\n",
       "      <td>128</td>\n",
       "      <td>False</td>\n",
       "      <td>Los Angeles Clippers</td>\n",
       "      <td>33</td>\n",
       "      <td>31</td>\n",
       "      <td>24</td>\n",
       "      <td>22</td>\n",
       "      <td>23</td>\n",
       "      <td>18</td>\n",
       "      <td>13</td>\n",
       "      <td>16</td>\n",
       "      <td>19</td>\n",
       "      <td>20</td>\n",
       "      <td>19</td>\n",
       "      <td>21</td>\n",
       "    </tr>\n",
       "    <tr>\n",
       "      <th>3</th>\n",
       "      <td>Los Angeles Clippers</td>\n",
       "      <td>104</td>\n",
       "      <td>Denver Nuggets</td>\n",
       "      <td>109</td>\n",
       "      <td>False</td>\n",
       "      <td>Los Angeles Clippers</td>\n",
       "      <td>33</td>\n",
       "      <td>31</td>\n",
       "      <td>24</td>\n",
       "      <td>22</td>\n",
       "      <td>23</td>\n",
       "      <td>18</td>\n",
       "      <td>13</td>\n",
       "      <td>16</td>\n",
       "      <td>19</td>\n",
       "      <td>20</td>\n",
       "      <td>19</td>\n",
       "      <td>21</td>\n",
       "    </tr>\n",
       "    <tr>\n",
       "      <th>4</th>\n",
       "      <td>Los Angeles Clippers</td>\n",
       "      <td>104</td>\n",
       "      <td>Portland Trail Blazers</td>\n",
       "      <td>96</td>\n",
       "      <td>True</td>\n",
       "      <td>Los Angeles Clippers</td>\n",
       "      <td>33</td>\n",
       "      <td>31</td>\n",
       "      <td>24</td>\n",
       "      <td>22</td>\n",
       "      <td>23</td>\n",
       "      <td>18</td>\n",
       "      <td>13</td>\n",
       "      <td>16</td>\n",
       "      <td>19</td>\n",
       "      <td>20</td>\n",
       "      <td>19</td>\n",
       "      <td>21</td>\n",
       "    </tr>\n",
       "  </tbody>\n",
       "</table>\n",
       "</div>"
      ],
      "text/plain": [
       "                  teamA  scoreA                   teamB  scoreB  teamAWinner  \\\n",
       "0  Los Angeles Clippers     121   Golden State Warriors     105         True   \n",
       "1  Los Angeles Clippers     107           Atlanta Hawks     108        False   \n",
       "2  Los Angeles Clippers     105         New York Knicks     128        False   \n",
       "3  Los Angeles Clippers     104          Denver Nuggets     109        False   \n",
       "4  Los Angeles Clippers     104  Portland Trail Blazers      96         True   \n",
       "\n",
       "                   team  wins_reg_home_2015/2016  wins_reg_home_2016/2017  \\\n",
       "0  Los Angeles Clippers                       33                       31   \n",
       "1  Los Angeles Clippers                       33                       31   \n",
       "2  Los Angeles Clippers                       33                       31   \n",
       "3  Los Angeles Clippers                       33                       31   \n",
       "4  Los Angeles Clippers                       33                       31   \n",
       "\n",
       "   wins_reg_home_2017/2018  wins_reg_away_2015/2016  wins_reg_away_2016/2017  \\\n",
       "0                       24                       22                       23   \n",
       "1                       24                       22                       23   \n",
       "2                       24                       22                       23   \n",
       "3                       24                       22                       23   \n",
       "4                       24                       22                       23   \n",
       "\n",
       "   wins_reg_away_2017/2018  losses_reg_home_2015/2016  \\\n",
       "0                       18                         13   \n",
       "1                       18                         13   \n",
       "2                       18                         13   \n",
       "3                       18                         13   \n",
       "4                       18                         13   \n",
       "\n",
       "   losses_reg_home_2016/2017  losses_reg_home_2017/2018  \\\n",
       "0                         16                         19   \n",
       "1                         16                         19   \n",
       "2                         16                         19   \n",
       "3                         16                         19   \n",
       "4                         16                         19   \n",
       "\n",
       "   losses_reg_away_2015/2016  losses_reg_away_2016/2017  \\\n",
       "0                         20                         19   \n",
       "1                         20                         19   \n",
       "2                         20                         19   \n",
       "3                         20                         19   \n",
       "4                         20                         19   \n",
       "\n",
       "   losses_reg_away_2017/2018  \n",
       "0                         21  \n",
       "1                         21  \n",
       "2                         21  \n",
       "3                         21  \n",
       "4                         21  "
      ]
     },
     "execution_count": 68,
     "metadata": {},
     "output_type": "execute_result"
    }
   ],
   "source": [
    "pd.merge(df_matches, df_test.reset_index(), left_on=\"teamA\", right_on=\"team\").head()"
   ]
  },
  {
   "cell_type": "code",
   "execution_count": 69,
   "metadata": {},
   "outputs": [],
   "source": [
    "df_ml = pd.merge(\n",
    "    pd.merge(df_matches, df_test.reset_index(), left_on=\"teamA\", right_on=\"team\"),\n",
    "    df_test.reset_index(), \n",
    "    left_on=\"teamB\", \n",
    "    right_on=\"team\",\n",
    "    suffixes=[\"_A\", \"_B\"]\n",
    ").drop(\n",
    "    [\"scoreA\", \"scoreB\", \"teamA\", \"teamB\", \"team_A\", \"team_B\", \"wins_reg_home_2017/2018_A\", \"wins_reg_away_2017/2018_A\", \"wins_reg_home_2017/2018_B\", \"wins_reg_away_2017/2018_B\", \"losses_reg_home_2017/2018_A\", \"losses_reg_away_2017/2018_A\", \"losses_reg_home_2017/2018_B\", \"losses_reg_away_2017/2018_B\"], \n",
    "    axis=1)"
   ]
  },
  {
   "cell_type": "code",
   "execution_count": 70,
   "metadata": {},
   "outputs": [
    {
     "data": {
      "text/html": [
       "<div>\n",
       "<style scoped>\n",
       "    .dataframe tbody tr th:only-of-type {\n",
       "        vertical-align: middle;\n",
       "    }\n",
       "\n",
       "    .dataframe tbody tr th {\n",
       "        vertical-align: top;\n",
       "    }\n",
       "\n",
       "    .dataframe thead th {\n",
       "        text-align: right;\n",
       "    }\n",
       "</style>\n",
       "<table border=\"1\" class=\"dataframe\">\n",
       "  <thead>\n",
       "    <tr style=\"text-align: right;\">\n",
       "      <th></th>\n",
       "      <th>teamAWinner</th>\n",
       "      <th>wins_reg_home_2015/2016_A</th>\n",
       "      <th>wins_reg_home_2016/2017_A</th>\n",
       "      <th>wins_reg_away_2015/2016_A</th>\n",
       "      <th>wins_reg_away_2016/2017_A</th>\n",
       "      <th>losses_reg_home_2015/2016_A</th>\n",
       "      <th>losses_reg_home_2016/2017_A</th>\n",
       "      <th>losses_reg_away_2015/2016_A</th>\n",
       "      <th>losses_reg_away_2016/2017_A</th>\n",
       "      <th>wins_reg_home_2015/2016_B</th>\n",
       "      <th>wins_reg_home_2016/2017_B</th>\n",
       "      <th>wins_reg_away_2015/2016_B</th>\n",
       "      <th>wins_reg_away_2016/2017_B</th>\n",
       "      <th>losses_reg_home_2015/2016_B</th>\n",
       "      <th>losses_reg_home_2016/2017_B</th>\n",
       "      <th>losses_reg_away_2015/2016_B</th>\n",
       "      <th>losses_reg_away_2016/2017_B</th>\n",
       "    </tr>\n",
       "  </thead>\n",
       "  <tbody>\n",
       "    <tr>\n",
       "      <th>0</th>\n",
       "      <td>True</td>\n",
       "      <td>33</td>\n",
       "      <td>31</td>\n",
       "      <td>22</td>\n",
       "      <td>23</td>\n",
       "      <td>13</td>\n",
       "      <td>16</td>\n",
       "      <td>20</td>\n",
       "      <td>19</td>\n",
       "      <td>50</td>\n",
       "      <td>45</td>\n",
       "      <td>38</td>\n",
       "      <td>38</td>\n",
       "      <td>5</td>\n",
       "      <td>5</td>\n",
       "      <td>13</td>\n",
       "      <td>11</td>\n",
       "    </tr>\n",
       "    <tr>\n",
       "      <th>1</th>\n",
       "      <td>True</td>\n",
       "      <td>33</td>\n",
       "      <td>31</td>\n",
       "      <td>22</td>\n",
       "      <td>23</td>\n",
       "      <td>13</td>\n",
       "      <td>16</td>\n",
       "      <td>20</td>\n",
       "      <td>19</td>\n",
       "      <td>50</td>\n",
       "      <td>45</td>\n",
       "      <td>38</td>\n",
       "      <td>38</td>\n",
       "      <td>5</td>\n",
       "      <td>5</td>\n",
       "      <td>13</td>\n",
       "      <td>11</td>\n",
       "    </tr>\n",
       "    <tr>\n",
       "      <th>2</th>\n",
       "      <td>False</td>\n",
       "      <td>26</td>\n",
       "      <td>26</td>\n",
       "      <td>16</td>\n",
       "      <td>19</td>\n",
       "      <td>17</td>\n",
       "      <td>18</td>\n",
       "      <td>27</td>\n",
       "      <td>25</td>\n",
       "      <td>50</td>\n",
       "      <td>45</td>\n",
       "      <td>38</td>\n",
       "      <td>38</td>\n",
       "      <td>5</td>\n",
       "      <td>5</td>\n",
       "      <td>13</td>\n",
       "      <td>11</td>\n",
       "    </tr>\n",
       "    <tr>\n",
       "      <th>3</th>\n",
       "      <td>True</td>\n",
       "      <td>18</td>\n",
       "      <td>19</td>\n",
       "      <td>14</td>\n",
       "      <td>12</td>\n",
       "      <td>23</td>\n",
       "      <td>22</td>\n",
       "      <td>27</td>\n",
       "      <td>29</td>\n",
       "      <td>50</td>\n",
       "      <td>45</td>\n",
       "      <td>38</td>\n",
       "      <td>38</td>\n",
       "      <td>5</td>\n",
       "      <td>5</td>\n",
       "      <td>13</td>\n",
       "      <td>11</td>\n",
       "    </tr>\n",
       "    <tr>\n",
       "      <th>4</th>\n",
       "      <td>False</td>\n",
       "      <td>24</td>\n",
       "      <td>30</td>\n",
       "      <td>16</td>\n",
       "      <td>25</td>\n",
       "      <td>17</td>\n",
       "      <td>16</td>\n",
       "      <td>25</td>\n",
       "      <td>22</td>\n",
       "      <td>50</td>\n",
       "      <td>45</td>\n",
       "      <td>38</td>\n",
       "      <td>38</td>\n",
       "      <td>5</td>\n",
       "      <td>5</td>\n",
       "      <td>13</td>\n",
       "      <td>11</td>\n",
       "    </tr>\n",
       "  </tbody>\n",
       "</table>\n",
       "</div>"
      ],
      "text/plain": [
       "   teamAWinner  wins_reg_home_2015/2016_A  wins_reg_home_2016/2017_A  \\\n",
       "0         True                         33                         31   \n",
       "1         True                         33                         31   \n",
       "2        False                         26                         26   \n",
       "3         True                         18                         19   \n",
       "4        False                         24                         30   \n",
       "\n",
       "   wins_reg_away_2015/2016_A  wins_reg_away_2016/2017_A  \\\n",
       "0                         22                         23   \n",
       "1                         22                         23   \n",
       "2                         16                         19   \n",
       "3                         14                         12   \n",
       "4                         16                         25   \n",
       "\n",
       "   losses_reg_home_2015/2016_A  losses_reg_home_2016/2017_A  \\\n",
       "0                           13                           16   \n",
       "1                           13                           16   \n",
       "2                           17                           18   \n",
       "3                           23                           22   \n",
       "4                           17                           16   \n",
       "\n",
       "   losses_reg_away_2015/2016_A  losses_reg_away_2016/2017_A  \\\n",
       "0                           20                           19   \n",
       "1                           20                           19   \n",
       "2                           27                           25   \n",
       "3                           27                           29   \n",
       "4                           25                           22   \n",
       "\n",
       "   wins_reg_home_2015/2016_B  wins_reg_home_2016/2017_B  \\\n",
       "0                         50                         45   \n",
       "1                         50                         45   \n",
       "2                         50                         45   \n",
       "3                         50                         45   \n",
       "4                         50                         45   \n",
       "\n",
       "   wins_reg_away_2015/2016_B  wins_reg_away_2016/2017_B  \\\n",
       "0                         38                         38   \n",
       "1                         38                         38   \n",
       "2                         38                         38   \n",
       "3                         38                         38   \n",
       "4                         38                         38   \n",
       "\n",
       "   losses_reg_home_2015/2016_B  losses_reg_home_2016/2017_B  \\\n",
       "0                            5                            5   \n",
       "1                            5                            5   \n",
       "2                            5                            5   \n",
       "3                            5                            5   \n",
       "4                            5                            5   \n",
       "\n",
       "   losses_reg_away_2015/2016_B  losses_reg_away_2016/2017_B  \n",
       "0                           13                           11  \n",
       "1                           13                           11  \n",
       "2                           13                           11  \n",
       "3                           13                           11  \n",
       "4                           13                           11  "
      ]
     },
     "execution_count": 70,
     "metadata": {},
     "output_type": "execute_result"
    }
   ],
   "source": [
    "df_ml.head()"
   ]
  },
  {
   "cell_type": "code",
   "execution_count": 71,
   "metadata": {},
   "outputs": [],
   "source": [
    "from sklearn.linear_model import LogisticRegression"
   ]
  },
  {
   "cell_type": "code",
   "execution_count": 72,
   "metadata": {},
   "outputs": [],
   "source": [
    "lr = LogisticRegression()"
   ]
  },
  {
   "cell_type": "code",
   "execution_count": 73,
   "metadata": {},
   "outputs": [],
   "source": [
    "from sklearn.model_selection import train_test_split"
   ]
  },
  {
   "cell_type": "code",
   "execution_count": 74,
   "metadata": {},
   "outputs": [
    {
     "data": {
      "text/plain": [
       "0.68597560975609762"
      ]
     },
     "execution_count": 74,
     "metadata": {},
     "output_type": "execute_result"
    }
   ],
   "source": [
    "X_train, X_test, y_train, y_test = train_test_split(\n",
    "    df_ml.drop(\"teamAWinner\", axis=1), \n",
    "    df_ml[\"teamAWinner\"]\n",
    ")\n",
    "\n",
    "lr.fit(X_train, y_train)\n",
    "\n",
    "lr.score(X_test, y_test)"
   ]
  },
  {
   "cell_type": "markdown",
   "metadata": {},
   "source": [
    "# Average Win Margin per Team "
   ]
  },
  {
   "cell_type": "markdown",
   "metadata": {},
   "source": [
    "## Validierung der eigentlichen Cypher-Query"
   ]
  },
  {
   "cell_type": "code",
   "execution_count": 75,
   "metadata": {},
   "outputs": [],
   "source": [
    "cypher = \"\"\"\n",
    "MATCH \n",
    "\t(t:Team)-[:SCORED]->(s:Score)-[:IN_GAME]->(g:Game)<-[:IN_GAME]-(s2:Score)<-[:SCORED]-(t2:Team), (sea:Season)\n",
    "WHERE \n",
    "    (g)-[:TOOK_PLACE_IN]->(sea)\n",
    "AND\n",
    "\tsea.name = \"2017/2018\"\n",
    "AND\n",
    "\tg.game_type = \"regular_season\"\n",
    "WITH g, collect(t.name) as teams, collect(s.score) as scores\n",
    "RETURN\n",
    "\tHEAD(teams) as teamA, HEAD(TAIL(scores)) as scoreA, HEAD(TAIL(teams)) as teamB, HEAD(scores) as scoreB\n",
    "\"\"\""
   ]
  },
  {
   "cell_type": "code",
   "execution_count": 76,
   "metadata": {},
   "outputs": [],
   "source": [
    "data, cols = db.cypher_query(cypher)"
   ]
  },
  {
   "cell_type": "code",
   "execution_count": 77,
   "metadata": {},
   "outputs": [],
   "source": [
    "df_matchesX = pd.DataFrame(data=data, columns=cols)"
   ]
  },
  {
   "cell_type": "code",
   "execution_count": 78,
   "metadata": {},
   "outputs": [
    {
     "data": {
      "text/html": [
       "<div>\n",
       "<style scoped>\n",
       "    .dataframe tbody tr th:only-of-type {\n",
       "        vertical-align: middle;\n",
       "    }\n",
       "\n",
       "    .dataframe tbody tr th {\n",
       "        vertical-align: top;\n",
       "    }\n",
       "\n",
       "    .dataframe thead th {\n",
       "        text-align: right;\n",
       "    }\n",
       "</style>\n",
       "<table border=\"1\" class=\"dataframe\">\n",
       "  <thead>\n",
       "    <tr style=\"text-align: right;\">\n",
       "      <th></th>\n",
       "      <th>teamA</th>\n",
       "      <th>scoreA</th>\n",
       "      <th>teamB</th>\n",
       "      <th>scoreB</th>\n",
       "    </tr>\n",
       "  </thead>\n",
       "  <tbody>\n",
       "    <tr>\n",
       "      <th>0</th>\n",
       "      <td>Los Angeles Clippers</td>\n",
       "      <td>121</td>\n",
       "      <td>Golden State Warriors</td>\n",
       "      <td>105</td>\n",
       "    </tr>\n",
       "    <tr>\n",
       "      <th>1</th>\n",
       "      <td>Memphis Grizzlies</td>\n",
       "      <td>88</td>\n",
       "      <td>Sacramento Kings</td>\n",
       "      <td>106</td>\n",
       "    </tr>\n",
       "    <tr>\n",
       "      <th>2</th>\n",
       "      <td>New York Knicks</td>\n",
       "      <td>86</td>\n",
       "      <td>Miami Heat</td>\n",
       "      <td>115</td>\n",
       "    </tr>\n",
       "    <tr>\n",
       "      <th>3</th>\n",
       "      <td>Utah Jazz</td>\n",
       "      <td>103</td>\n",
       "      <td>Oklahoma City Thunder</td>\n",
       "      <td>89</td>\n",
       "    </tr>\n",
       "    <tr>\n",
       "      <th>4</th>\n",
       "      <td>Los Angeles Clippers</td>\n",
       "      <td>107</td>\n",
       "      <td>Atlanta Hawks</td>\n",
       "      <td>108</td>\n",
       "    </tr>\n",
       "  </tbody>\n",
       "</table>\n",
       "</div>"
      ],
      "text/plain": [
       "                  teamA  scoreA                  teamB  scoreB\n",
       "0  Los Angeles Clippers     121  Golden State Warriors     105\n",
       "1     Memphis Grizzlies      88       Sacramento Kings     106\n",
       "2       New York Knicks      86             Miami Heat     115\n",
       "3             Utah Jazz     103  Oklahoma City Thunder      89\n",
       "4  Los Angeles Clippers     107          Atlanta Hawks     108"
      ]
     },
     "execution_count": 78,
     "metadata": {},
     "output_type": "execute_result"
    }
   ],
   "source": [
    "df_matchesX.head()"
   ]
  },
  {
   "cell_type": "code",
   "execution_count": 79,
   "metadata": {},
   "outputs": [],
   "source": [
    "df_matches2 = df_matchesX"
   ]
  },
  {
   "cell_type": "code",
   "execution_count": 80,
   "metadata": {},
   "outputs": [],
   "source": [
    "df_matches2[\"scoreMargin\"] = abs(df_matches2[\"scoreA\"]-df_matches2[\"scoreB\"])"
   ]
  },
  {
   "cell_type": "code",
   "execution_count": 81,
   "metadata": {},
   "outputs": [
    {
     "data": {
      "text/html": [
       "<div>\n",
       "<style scoped>\n",
       "    .dataframe tbody tr th:only-of-type {\n",
       "        vertical-align: middle;\n",
       "    }\n",
       "\n",
       "    .dataframe tbody tr th {\n",
       "        vertical-align: top;\n",
       "    }\n",
       "\n",
       "    .dataframe thead th {\n",
       "        text-align: right;\n",
       "    }\n",
       "</style>\n",
       "<table border=\"1\" class=\"dataframe\">\n",
       "  <thead>\n",
       "    <tr style=\"text-align: right;\">\n",
       "      <th></th>\n",
       "      <th>teamA</th>\n",
       "      <th>scoreA</th>\n",
       "      <th>teamB</th>\n",
       "      <th>scoreB</th>\n",
       "      <th>scoreMargin</th>\n",
       "    </tr>\n",
       "  </thead>\n",
       "  <tbody>\n",
       "    <tr>\n",
       "      <th>0</th>\n",
       "      <td>Los Angeles Clippers</td>\n",
       "      <td>121</td>\n",
       "      <td>Golden State Warriors</td>\n",
       "      <td>105</td>\n",
       "      <td>16</td>\n",
       "    </tr>\n",
       "    <tr>\n",
       "      <th>1</th>\n",
       "      <td>Memphis Grizzlies</td>\n",
       "      <td>88</td>\n",
       "      <td>Sacramento Kings</td>\n",
       "      <td>106</td>\n",
       "      <td>18</td>\n",
       "    </tr>\n",
       "    <tr>\n",
       "      <th>2</th>\n",
       "      <td>New York Knicks</td>\n",
       "      <td>86</td>\n",
       "      <td>Miami Heat</td>\n",
       "      <td>115</td>\n",
       "      <td>29</td>\n",
       "    </tr>\n",
       "    <tr>\n",
       "      <th>3</th>\n",
       "      <td>Utah Jazz</td>\n",
       "      <td>103</td>\n",
       "      <td>Oklahoma City Thunder</td>\n",
       "      <td>89</td>\n",
       "      <td>14</td>\n",
       "    </tr>\n",
       "    <tr>\n",
       "      <th>4</th>\n",
       "      <td>Los Angeles Clippers</td>\n",
       "      <td>107</td>\n",
       "      <td>Atlanta Hawks</td>\n",
       "      <td>108</td>\n",
       "      <td>1</td>\n",
       "    </tr>\n",
       "  </tbody>\n",
       "</table>\n",
       "</div>"
      ],
      "text/plain": [
       "                  teamA  scoreA                  teamB  scoreB  scoreMargin\n",
       "0  Los Angeles Clippers     121  Golden State Warriors     105           16\n",
       "1     Memphis Grizzlies      88       Sacramento Kings     106           18\n",
       "2       New York Knicks      86             Miami Heat     115           29\n",
       "3             Utah Jazz     103  Oklahoma City Thunder      89           14\n",
       "4  Los Angeles Clippers     107          Atlanta Hawks     108            1"
      ]
     },
     "execution_count": 81,
     "metadata": {},
     "output_type": "execute_result"
    }
   ],
   "source": [
    "df_matches2.head()"
   ]
  },
  {
   "cell_type": "code",
   "execution_count": 82,
   "metadata": {},
   "outputs": [],
   "source": [
    "a = [\"Atlanta Hawks\"]"
   ]
  },
  {
   "cell_type": "code",
   "execution_count": 83,
   "metadata": {},
   "outputs": [],
   "source": [
    "df_onlyBOSmatches = df_matches2[(df_matches2['teamA'].isin(a)) | (df_matches2['teamB'].isin(a)) ]"
   ]
  },
  {
   "cell_type": "code",
   "execution_count": 84,
   "metadata": {},
   "outputs": [
    {
     "data": {
      "text/plain": [
       "10.865853658536585"
      ]
     },
     "execution_count": 84,
     "metadata": {},
     "output_type": "execute_result"
    }
   ],
   "source": [
    "df_onlyBOSmatches[\"scoreMargin\"].mean()"
   ]
  },
  {
   "cell_type": "markdown",
   "metadata": {},
   "source": [
    "## Actual Cypher Query"
   ]
  },
  {
   "cell_type": "code",
   "execution_count": 203,
   "metadata": {},
   "outputs": [],
   "source": [
    "cypher = \"\"\"\n",
    "MATCH \n",
    "    (t:Team)-[:SCORED]->(s:Score)-[:IN_GAME]->(g:Game)<-[:IN_GAME]-(s2:Score)<-[:SCORED]-(t2:Team), (sea:Season)\n",
    "WHERE \n",
    "    (g)-[:TOOK_PLACE_IN]->(sea)\n",
    "AND\n",
    "\tg.game_type= \"regular_season\"\n",
    "RETURN \n",
    "    t.name as team, \n",
    "    avg(abs(s.score - s2.score)) as scoreMargin,\n",
    "    sea.name as season\n",
    "ORDER BY \n",
    "    team, season\n",
    "\n",
    "\"\"\""
   ]
  },
  {
   "cell_type": "code",
   "execution_count": 204,
   "metadata": {},
   "outputs": [],
   "source": [
    "data, cols = db.cypher_query(cypher)"
   ]
  },
  {
   "cell_type": "code",
   "execution_count": 205,
   "metadata": {},
   "outputs": [],
   "source": [
    "df_scoreMargin = pd.DataFrame(data=data, columns=cols)"
   ]
  },
  {
   "cell_type": "code",
   "execution_count": 206,
   "metadata": {},
   "outputs": [
    {
     "data": {
      "text/html": [
       "<div>\n",
       "<style scoped>\n",
       "    .dataframe tbody tr th:only-of-type {\n",
       "        vertical-align: middle;\n",
       "    }\n",
       "\n",
       "    .dataframe tbody tr th {\n",
       "        vertical-align: top;\n",
       "    }\n",
       "\n",
       "    .dataframe thead th {\n",
       "        text-align: right;\n",
       "    }\n",
       "</style>\n",
       "<table border=\"1\" class=\"dataframe\">\n",
       "  <thead>\n",
       "    <tr style=\"text-align: right;\">\n",
       "      <th></th>\n",
       "      <th>team</th>\n",
       "      <th>scoreMargin</th>\n",
       "      <th>season</th>\n",
       "    </tr>\n",
       "  </thead>\n",
       "  <tbody>\n",
       "    <tr>\n",
       "      <th>0</th>\n",
       "      <td>Atlanta Hawks</td>\n",
       "      <td>11.717391</td>\n",
       "      <td>2015/2016</td>\n",
       "    </tr>\n",
       "    <tr>\n",
       "      <th>1</th>\n",
       "      <td>Atlanta Hawks</td>\n",
       "      <td>11.125000</td>\n",
       "      <td>2016/2017</td>\n",
       "    </tr>\n",
       "    <tr>\n",
       "      <th>2</th>\n",
       "      <td>Atlanta Hawks</td>\n",
       "      <td>10.865854</td>\n",
       "      <td>2017/2018</td>\n",
       "    </tr>\n",
       "    <tr>\n",
       "      <th>3</th>\n",
       "      <td>Boston Celtics</td>\n",
       "      <td>10.806818</td>\n",
       "      <td>2015/2016</td>\n",
       "    </tr>\n",
       "    <tr>\n",
       "      <th>4</th>\n",
       "      <td>Boston Celtics</td>\n",
       "      <td>10.370000</td>\n",
       "      <td>2016/2017</td>\n",
       "    </tr>\n",
       "  </tbody>\n",
       "</table>\n",
       "</div>"
      ],
      "text/plain": [
       "             team  scoreMargin     season\n",
       "0   Atlanta Hawks    11.717391  2015/2016\n",
       "1   Atlanta Hawks    11.125000  2016/2017\n",
       "2   Atlanta Hawks    10.865854  2017/2018\n",
       "3  Boston Celtics    10.806818  2015/2016\n",
       "4  Boston Celtics    10.370000  2016/2017"
      ]
     },
     "execution_count": 206,
     "metadata": {},
     "output_type": "execute_result"
    }
   ],
   "source": [
    "df_scoreMargin.head()"
   ]
  },
  {
   "cell_type": "code",
   "execution_count": 207,
   "metadata": {},
   "outputs": [],
   "source": [
    "df_scoreMargin_test = df_scoreMargin.pivot(index=\"team\", columns=\"season\")"
   ]
  },
  {
   "cell_type": "code",
   "execution_count": 208,
   "metadata": {},
   "outputs": [
    {
     "data": {
      "text/html": [
       "<div>\n",
       "<style scoped>\n",
       "    .dataframe tbody tr th:only-of-type {\n",
       "        vertical-align: middle;\n",
       "    }\n",
       "\n",
       "    .dataframe tbody tr th {\n",
       "        vertical-align: top;\n",
       "    }\n",
       "\n",
       "    .dataframe thead tr th {\n",
       "        text-align: left;\n",
       "    }\n",
       "\n",
       "    .dataframe thead tr:last-of-type th {\n",
       "        text-align: right;\n",
       "    }\n",
       "</style>\n",
       "<table border=\"1\" class=\"dataframe\">\n",
       "  <thead>\n",
       "    <tr>\n",
       "      <th></th>\n",
       "      <th colspan=\"3\" halign=\"left\">scoreMargin</th>\n",
       "    </tr>\n",
       "    <tr>\n",
       "      <th>season</th>\n",
       "      <th>2015/2016</th>\n",
       "      <th>2016/2017</th>\n",
       "      <th>2017/2018</th>\n",
       "    </tr>\n",
       "    <tr>\n",
       "      <th>team</th>\n",
       "      <th></th>\n",
       "      <th></th>\n",
       "      <th></th>\n",
       "    </tr>\n",
       "  </thead>\n",
       "  <tbody>\n",
       "    <tr>\n",
       "      <th>Atlanta Hawks</th>\n",
       "      <td>11.717391</td>\n",
       "      <td>11.125000</td>\n",
       "      <td>10.865854</td>\n",
       "    </tr>\n",
       "    <tr>\n",
       "      <th>Boston Celtics</th>\n",
       "      <td>10.806818</td>\n",
       "      <td>10.370000</td>\n",
       "      <td>9.693069</td>\n",
       "    </tr>\n",
       "    <tr>\n",
       "      <th>Brooklyn Nets</th>\n",
       "      <td>10.743902</td>\n",
       "      <td>12.195122</td>\n",
       "      <td>10.231707</td>\n",
       "    </tr>\n",
       "    <tr>\n",
       "      <th>Charlotte Hornets</th>\n",
       "      <td>11.449438</td>\n",
       "      <td>10.195122</td>\n",
       "      <td>11.768293</td>\n",
       "    </tr>\n",
       "    <tr>\n",
       "      <th>Chicago Bulls</th>\n",
       "      <td>9.865854</td>\n",
       "      <td>12.079545</td>\n",
       "      <td>12.219512</td>\n",
       "    </tr>\n",
       "  </tbody>\n",
       "</table>\n",
       "</div>"
      ],
      "text/plain": [
       "                  scoreMargin                      \n",
       "season              2015/2016  2016/2017  2017/2018\n",
       "team                                               \n",
       "Atlanta Hawks       11.717391  11.125000  10.865854\n",
       "Boston Celtics      10.806818  10.370000   9.693069\n",
       "Brooklyn Nets       10.743902  12.195122  10.231707\n",
       "Charlotte Hornets   11.449438  10.195122  11.768293\n",
       "Chicago Bulls        9.865854  12.079545  12.219512"
      ]
     },
     "execution_count": 208,
     "metadata": {},
     "output_type": "execute_result"
    }
   ],
   "source": [
    "df_scoreMargin_test.head()"
   ]
  },
  {
   "cell_type": "code",
   "execution_count": 209,
   "metadata": {},
   "outputs": [],
   "source": [
    "cols = []\n",
    "for a, b in zip(df_scoreMargin_test.columns.get_level_values(0), df_scoreMargin_test.columns.get_level_values(1)):\n",
    "    cols.append(a+\"_\"+b)"
   ]
  },
  {
   "cell_type": "code",
   "execution_count": 210,
   "metadata": {},
   "outputs": [
    {
     "data": {
      "text/plain": [
       "['scoreMargin_2015/2016', 'scoreMargin_2016/2017', 'scoreMargin_2017/2018']"
      ]
     },
     "execution_count": 210,
     "metadata": {},
     "output_type": "execute_result"
    }
   ],
   "source": [
    "cols"
   ]
  },
  {
   "cell_type": "code",
   "execution_count": 211,
   "metadata": {},
   "outputs": [],
   "source": [
    "df_scoreMargin_test.columns = cols"
   ]
  },
  {
   "cell_type": "code",
   "execution_count": 212,
   "metadata": {},
   "outputs": [
    {
     "data": {
      "text/html": [
       "<div>\n",
       "<style scoped>\n",
       "    .dataframe tbody tr th:only-of-type {\n",
       "        vertical-align: middle;\n",
       "    }\n",
       "\n",
       "    .dataframe tbody tr th {\n",
       "        vertical-align: top;\n",
       "    }\n",
       "\n",
       "    .dataframe thead th {\n",
       "        text-align: right;\n",
       "    }\n",
       "</style>\n",
       "<table border=\"1\" class=\"dataframe\">\n",
       "  <thead>\n",
       "    <tr style=\"text-align: right;\">\n",
       "      <th></th>\n",
       "      <th>scoreMargin_2015/2016</th>\n",
       "      <th>scoreMargin_2016/2017</th>\n",
       "      <th>scoreMargin_2017/2018</th>\n",
       "    </tr>\n",
       "    <tr>\n",
       "      <th>team</th>\n",
       "      <th></th>\n",
       "      <th></th>\n",
       "      <th></th>\n",
       "    </tr>\n",
       "  </thead>\n",
       "  <tbody>\n",
       "    <tr>\n",
       "      <th>Atlanta Hawks</th>\n",
       "      <td>11.717391</td>\n",
       "      <td>11.125000</td>\n",
       "      <td>10.865854</td>\n",
       "    </tr>\n",
       "    <tr>\n",
       "      <th>Boston Celtics</th>\n",
       "      <td>10.806818</td>\n",
       "      <td>10.370000</td>\n",
       "      <td>9.693069</td>\n",
       "    </tr>\n",
       "    <tr>\n",
       "      <th>Brooklyn Nets</th>\n",
       "      <td>10.743902</td>\n",
       "      <td>12.195122</td>\n",
       "      <td>10.231707</td>\n",
       "    </tr>\n",
       "    <tr>\n",
       "      <th>Charlotte Hornets</th>\n",
       "      <td>11.449438</td>\n",
       "      <td>10.195122</td>\n",
       "      <td>11.768293</td>\n",
       "    </tr>\n",
       "    <tr>\n",
       "      <th>Chicago Bulls</th>\n",
       "      <td>9.865854</td>\n",
       "      <td>12.079545</td>\n",
       "      <td>12.219512</td>\n",
       "    </tr>\n",
       "  </tbody>\n",
       "</table>\n",
       "</div>"
      ],
      "text/plain": [
       "                   scoreMargin_2015/2016  scoreMargin_2016/2017  \\\n",
       "team                                                              \n",
       "Atlanta Hawks                  11.717391              11.125000   \n",
       "Boston Celtics                 10.806818              10.370000   \n",
       "Brooklyn Nets                  10.743902              12.195122   \n",
       "Charlotte Hornets              11.449438              10.195122   \n",
       "Chicago Bulls                   9.865854              12.079545   \n",
       "\n",
       "                   scoreMargin_2017/2018  \n",
       "team                                      \n",
       "Atlanta Hawks                  10.865854  \n",
       "Boston Celtics                  9.693069  \n",
       "Brooklyn Nets                  10.231707  \n",
       "Charlotte Hornets              11.768293  \n",
       "Chicago Bulls                  12.219512  "
      ]
     },
     "execution_count": 212,
     "metadata": {},
     "output_type": "execute_result"
    }
   ],
   "source": [
    "df_scoreMargin_test.head()"
   ]
  },
  {
   "cell_type": "code",
   "execution_count": 213,
   "metadata": {},
   "outputs": [],
   "source": [
    "df_ml_1 = pd.merge(\n",
    "    pd.merge(df_matches, df_test.reset_index(), left_on=\"teamA\", right_on=\"team\"),\n",
    "    df_test.reset_index(), \n",
    "    left_on=\"teamB\", \n",
    "    right_on=\"team\",\n",
    "    suffixes=[\"_A\", \"_B\"]\n",
    ")"
   ]
  },
  {
   "cell_type": "code",
   "execution_count": 214,
   "metadata": {},
   "outputs": [],
   "source": [
    "df_ml_2 = pd.merge(\n",
    "    pd.merge(df_ml_1, df_scoreMargin_test.reset_index(), left_on=\"teamA\", right_on=\"team\"),\n",
    "    df_scoreMargin_test.reset_index(), \n",
    "    left_on=\"teamB\", \n",
    "    right_on=\"team\",\n",
    "    suffixes=[\"_A\", \"_B\"]\n",
    ").drop([\"scoreA\", \"scoreB\", \"teamA\", \"teamB\", \"team_A\", \"team_B\", \"wins_reg_home_2017/2018_A\", \"wins_reg_away_2017/2018_A\", \"losses_reg_home_2017/2018_A\", \"losses_reg_home_2017/2018_A\",  \"wins_reg_home_2017/2018_B\", \"wins_reg_away_2017/2018_B\", \"losses_reg_home_2017/2018_B\", \"losses_reg_home_2017/2018_B\", \"scoreMargin_2017/2018_A\", \"scoreMargin_2017/2018_B\"], axis=1)"
   ]
  },
  {
   "cell_type": "markdown",
   "metadata": {},
   "source": [
    "## Score Margin splitted into home and away"
   ]
  },
  {
   "cell_type": "code",
   "execution_count": 221,
   "metadata": {},
   "outputs": [],
   "source": [
    "cypher = \"\"\"\n",
    "MATCH \n",
    "    (t:Team)-[:SCORED]->(s:Score)-[:IN_GAME]->(g:Game)<-[:IN_GAME]-(s2:Score)<-[:SCORED]-(t2:Team), (sea:Season)\n",
    "WHERE \n",
    "    (g)-[:TOOK_PLACE_IN]->(sea)\n",
    "AND\n",
    "\tg.game_type= \"regular_season\"\n",
    "RETURN \n",
    "    t.name as team, \n",
    "    sea.name as season,\n",
    "    CASE WHEN s.score > s2.score THEN avg(abs(s.score - s2.score)) ELSE 0 END as scoreMarginWins,\n",
    "    CASE WHEN s.score < s2.score THEN avg(abs(s.score - s2.score)) ELSE 0 END as scoreMarginLosses\n",
    "\n",
    "ORDER BY \n",
    "    team, season\n",
    "\n",
    "\"\"\""
   ]
  },
  {
   "cell_type": "code",
   "execution_count": 222,
   "metadata": {},
   "outputs": [],
   "source": [
    "data, cols = db.cypher_query(cypher)"
   ]
  },
  {
   "cell_type": "code",
   "execution_count": 223,
   "metadata": {},
   "outputs": [],
   "source": [
    "df_scoreMargin = pd.DataFrame(data=data, columns=cols)"
   ]
  },
  {
   "cell_type": "code",
   "execution_count": 224,
   "metadata": {},
   "outputs": [
    {
     "data": {
      "text/html": [
       "<div>\n",
       "<style scoped>\n",
       "    .dataframe tbody tr th:only-of-type {\n",
       "        vertical-align: middle;\n",
       "    }\n",
       "\n",
       "    .dataframe tbody tr th {\n",
       "        vertical-align: top;\n",
       "    }\n",
       "\n",
       "    .dataframe thead th {\n",
       "        text-align: right;\n",
       "    }\n",
       "</style>\n",
       "<table border=\"1\" class=\"dataframe\">\n",
       "  <thead>\n",
       "    <tr style=\"text-align: right;\">\n",
       "      <th></th>\n",
       "      <th>team</th>\n",
       "      <th>season</th>\n",
       "      <th>scoreMarginWins</th>\n",
       "      <th>scoreMarginLosses</th>\n",
       "    </tr>\n",
       "  </thead>\n",
       "  <tbody>\n",
       "    <tr>\n",
       "      <th>0</th>\n",
       "      <td>Atlanta Hawks</td>\n",
       "      <td>2015/2016</td>\n",
       "      <td>13.115385</td>\n",
       "      <td>0.00000</td>\n",
       "    </tr>\n",
       "    <tr>\n",
       "      <th>1</th>\n",
       "      <td>Atlanta Hawks</td>\n",
       "      <td>2015/2016</td>\n",
       "      <td>0.000000</td>\n",
       "      <td>9.90000</td>\n",
       "    </tr>\n",
       "    <tr>\n",
       "      <th>2</th>\n",
       "      <td>Atlanta Hawks</td>\n",
       "      <td>2016/2017</td>\n",
       "      <td>10.022222</td>\n",
       "      <td>0.00000</td>\n",
       "    </tr>\n",
       "    <tr>\n",
       "      <th>3</th>\n",
       "      <td>Atlanta Hawks</td>\n",
       "      <td>2016/2017</td>\n",
       "      <td>0.000000</td>\n",
       "      <td>12.27907</td>\n",
       "    </tr>\n",
       "    <tr>\n",
       "      <th>4</th>\n",
       "      <td>Atlanta Hawks</td>\n",
       "      <td>2017/2018</td>\n",
       "      <td>9.250000</td>\n",
       "      <td>0.00000</td>\n",
       "    </tr>\n",
       "  </tbody>\n",
       "</table>\n",
       "</div>"
      ],
      "text/plain": [
       "            team     season  scoreMarginWins  scoreMarginLosses\n",
       "0  Atlanta Hawks  2015/2016        13.115385            0.00000\n",
       "1  Atlanta Hawks  2015/2016         0.000000            9.90000\n",
       "2  Atlanta Hawks  2016/2017        10.022222            0.00000\n",
       "3  Atlanta Hawks  2016/2017         0.000000           12.27907\n",
       "4  Atlanta Hawks  2017/2018         9.250000            0.00000"
      ]
     },
     "execution_count": 224,
     "metadata": {},
     "output_type": "execute_result"
    }
   ],
   "source": [
    "df_scoreMargin.head()"
   ]
  },
  {
   "cell_type": "code",
   "execution_count": 225,
   "metadata": {},
   "outputs": [],
   "source": [
    "df_scoreMargin_home_away = df_scoreMargin.groupby([\"team\", \"season\"]).sum().reset_index()"
   ]
  },
  {
   "cell_type": "code",
   "execution_count": 226,
   "metadata": {},
   "outputs": [],
   "source": [
    "df_scoreMargin_test = df_scoreMargin_home_away.pivot(index=\"team\", columns=\"season\")"
   ]
  },
  {
   "cell_type": "code",
   "execution_count": 227,
   "metadata": {},
   "outputs": [],
   "source": [
    "cols = []\n",
    "for a, b in zip(df_scoreMargin_test.columns.get_level_values(0), df_scoreMargin_test.columns.get_level_values(1)):\n",
    "    cols.append(a+\"_\"+b)"
   ]
  },
  {
   "cell_type": "code",
   "execution_count": 228,
   "metadata": {},
   "outputs": [],
   "source": [
    "df_scoreMargin_test.columns = cols"
   ]
  },
  {
   "cell_type": "markdown",
   "metadata": {},
   "source": [
    "## Validation of numbers"
   ]
  },
  {
   "cell_type": "code",
   "execution_count": 229,
   "metadata": {},
   "outputs": [
    {
     "data": {
      "text/html": [
       "<div>\n",
       "<style scoped>\n",
       "    .dataframe tbody tr th:only-of-type {\n",
       "        vertical-align: middle;\n",
       "    }\n",
       "\n",
       "    .dataframe tbody tr th {\n",
       "        vertical-align: top;\n",
       "    }\n",
       "\n",
       "    .dataframe thead th {\n",
       "        text-align: right;\n",
       "    }\n",
       "</style>\n",
       "<table border=\"1\" class=\"dataframe\">\n",
       "  <thead>\n",
       "    <tr style=\"text-align: right;\">\n",
       "      <th></th>\n",
       "      <th>team</th>\n",
       "      <th>season</th>\n",
       "      <th>scoreMarginWins</th>\n",
       "      <th>scoreMarginLosses</th>\n",
       "    </tr>\n",
       "  </thead>\n",
       "  <tbody>\n",
       "    <tr>\n",
       "      <th>30</th>\n",
       "      <td>Houston Rockets</td>\n",
       "      <td>2015/2016</td>\n",
       "      <td>10.047619</td>\n",
       "      <td>11.111111</td>\n",
       "    </tr>\n",
       "    <tr>\n",
       "      <th>31</th>\n",
       "      <td>Houston Rockets</td>\n",
       "      <td>2016/2017</td>\n",
       "      <td>13.688525</td>\n",
       "      <td>10.906250</td>\n",
       "    </tr>\n",
       "    <tr>\n",
       "      <th>32</th>\n",
       "      <td>Houston Rockets</td>\n",
       "      <td>2017/2018</td>\n",
       "      <td>13.118421</td>\n",
       "      <td>11.782609</td>\n",
       "    </tr>\n",
       "  </tbody>\n",
       "</table>\n",
       "</div>"
      ],
      "text/plain": [
       "               team     season  scoreMarginWins  scoreMarginLosses\n",
       "30  Houston Rockets  2015/2016        10.047619          11.111111\n",
       "31  Houston Rockets  2016/2017        13.688525          10.906250\n",
       "32  Houston Rockets  2017/2018        13.118421          11.782609"
      ]
     },
     "execution_count": 229,
     "metadata": {},
     "output_type": "execute_result"
    }
   ],
   "source": [
    "df_scoreMargin_home_away[df_scoreMargin_home_away[\"team\"] == \"Houston Rockets\"]"
   ]
  },
  {
   "cell_type": "markdown",
   "metadata": {},
   "source": [
    "(4+5+1+18+7+11+2+3+17+13)\n",
    "\n",
    "(6+10+6+10+16+8+8)"
   ]
  },
  {
   "cell_type": "code",
   "execution_count": 230,
   "metadata": {},
   "outputs": [],
   "source": [
    "test = [14,5,1,18,7,11,2,3,17,13,6,10,6,10,16,8,8]"
   ]
  },
  {
   "cell_type": "code",
   "execution_count": 231,
   "metadata": {},
   "outputs": [
    {
     "data": {
      "text/plain": [
       "9.117647058823529"
      ]
     },
     "execution_count": 231,
     "metadata": {},
     "output_type": "execute_result"
    }
   ],
   "source": [
    "import numpy as np\n",
    "np.mean(test)"
   ]
  },
  {
   "cell_type": "markdown",
   "metadata": {},
   "source": [
    "# Models"
   ]
  },
  {
   "cell_type": "markdown",
   "metadata": {},
   "source": [
    "##  Logistic Regression"
   ]
  },
  {
   "cell_type": "code",
   "execution_count": 285,
   "metadata": {},
   "outputs": [],
   "source": [
    "from sklearn.linear_model import LogisticRegression"
   ]
  },
  {
   "cell_type": "code",
   "execution_count": 286,
   "metadata": {},
   "outputs": [],
   "source": [
    "lr = LogisticRegression()"
   ]
  },
  {
   "cell_type": "code",
   "execution_count": 287,
   "metadata": {},
   "outputs": [],
   "source": [
    "from sklearn.model_selection import train_test_split"
   ]
  },
  {
   "cell_type": "code",
   "execution_count": 290,
   "metadata": {},
   "outputs": [
    {
     "data": {
      "text/plain": [
       "0.67073170731707321"
      ]
     },
     "execution_count": 290,
     "metadata": {},
     "output_type": "execute_result"
    }
   ],
   "source": [
    "X_train, X_test, y_train, y_test = train_test_split(\n",
    "    df_ml_2.drop(\"teamAWinner\", axis=1), \n",
    "    df_ml_2[\"teamAWinner\"]\n",
    ")\n",
    "\n",
    "lr.fit(X_train, y_train)\n",
    "\n",
    "lr.score(X_test, y_test)"
   ]
  },
  {
   "cell_type": "code",
   "execution_count": 291,
   "metadata": {},
   "outputs": [
    {
     "data": {
      "text/plain": [
       "0.68559065934065933"
      ]
     },
     "execution_count": 291,
     "metadata": {},
     "output_type": "execute_result"
    }
   ],
   "source": [
    "cross_val_score(logreg, X_test, y_test, cv=10, scoring=\"roc_auc\").mean()"
   ]
  },
  {
   "cell_type": "markdown",
   "metadata": {},
   "source": [
    "## Linear SVC"
   ]
  },
  {
   "cell_type": "code",
   "execution_count": 302,
   "metadata": {},
   "outputs": [],
   "source": [
    "ls = LinearSVC()"
   ]
  },
  {
   "cell_type": "code",
   "execution_count": 310,
   "metadata": {},
   "outputs": [
    {
     "data": {
      "text/plain": [
       "0.41339491916859122"
      ]
     },
     "execution_count": 310,
     "metadata": {},
     "output_type": "execute_result"
    }
   ],
   "source": [
    "ls.fit(X_train, y_train)\n",
    "\n",
    "ls.score(X_test, y_test)"
   ]
  },
  {
   "cell_type": "markdown",
   "metadata": {},
   "source": [
    "## MLP"
   ]
  },
  {
   "cell_type": "code",
   "execution_count": 219,
   "metadata": {},
   "outputs": [],
   "source": [
    "from sklearn.neural_network import MLPClassifier\n",
    "clf = MLPClassifier(solver='lbfgs', alpha=1e-5, hidden_layer_sizes=(5, 2), random_state=1)"
   ]
  },
  {
   "cell_type": "code",
   "execution_count": 292,
   "metadata": {},
   "outputs": [
    {
     "data": {
      "text/plain": [
       "0.66463414634146345"
      ]
     },
     "execution_count": 292,
     "metadata": {},
     "output_type": "execute_result"
    }
   ],
   "source": [
    "X_train, X_test, y_train, y_test = train_test_split(\n",
    "    df_ml_2.drop(\"teamAWinner\", axis=1), \n",
    "    df_ml_2[\"teamAWinner\"]\n",
    ")\n",
    "clf.fit(X_train, y_train) \n",
    "clf.score(X_test, y_test)"
   ]
  },
  {
   "cell_type": "code",
   "execution_count": 293,
   "metadata": {},
   "outputs": [],
   "source": [
    "from numpy import loadtxt\n",
    "from xgboost import XGBClassifier\n",
    "from sklearn.model_selection import train_test_split\n",
    "from sklearn.metrics import accuracy_score"
   ]
  },
  {
   "cell_type": "code",
   "execution_count": 294,
   "metadata": {},
   "outputs": [],
   "source": [
    "# split data into train and test sets\n",
    "seed = 7\n",
    "test_size = 0.33\n",
    "X_train, X_test, y_train, y_test = train_test_split(\n",
    "    df_ml_2.drop(\"teamAWinner\", axis=1), \n",
    "    df_ml_2[\"teamAWinner\"], \n",
    "    test_size=test_size,\n",
    "    random_state=seed\n",
    ")\n"
   ]
  },
  {
   "cell_type": "code",
   "execution_count": 295,
   "metadata": {},
   "outputs": [
    {
     "data": {
      "text/plain": [
       "XGBClassifier(base_score=0.5, booster='gbtree', colsample_bylevel=1,\n",
       "       colsample_bytree=1, gamma=0, learning_rate=0.1, max_delta_step=0,\n",
       "       max_depth=3, min_child_weight=1, missing=None, n_estimators=100,\n",
       "       n_jobs=1, nthread=None, objective='binary:logistic', random_state=0,\n",
       "       reg_alpha=0, reg_lambda=1, scale_pos_weight=1, seed=None,\n",
       "       silent=True, subsample=1)"
      ]
     },
     "execution_count": 295,
     "metadata": {},
     "output_type": "execute_result"
    }
   ],
   "source": [
    "# fit model no training data\n",
    "model = XGBClassifier()\n",
    "model.fit(X_train, y_train)"
   ]
  },
  {
   "cell_type": "code",
   "execution_count": 296,
   "metadata": {},
   "outputs": [],
   "source": [
    "y_pred = model.predict(X_test)\n",
    "predictions = [round(value) for value in y_pred]"
   ]
  },
  {
   "cell_type": "code",
   "execution_count": 297,
   "metadata": {},
   "outputs": [
    {
     "name": "stdout",
     "output_type": "stream",
     "text": [
      "Accuracy: 65.59%\n"
     ]
    }
   ],
   "source": [
    "# evaluate predictions\n",
    "accuracy = accuracy_score(y_test, predictions)\n",
    "print(\"Accuracy: %.2f%%\" % (accuracy * 100.0))"
   ]
  },
  {
   "cell_type": "code",
   "execution_count": 298,
   "metadata": {},
   "outputs": [
    {
     "name": "stdout",
     "output_type": "stream",
     "text": [
      "[[196  70]\n",
      " [ 79  88]]\n"
     ]
    }
   ],
   "source": [
    "from sklearn.metrics import confusion_matrix\n",
    "confusion = confusion_matrix(y_test, y_pred)\n",
    "print(confusion)"
   ]
  },
  {
   "cell_type": "code",
   "execution_count": null,
   "metadata": {},
   "outputs": [],
   "source": []
  }
 ],
 "metadata": {
  "kernelspec": {
   "display_name": "Python 3",
   "language": "python",
   "name": "python3"
  },
  "language_info": {
   "codemirror_mode": {
    "name": "ipython",
    "version": 3
   },
   "file_extension": ".py",
   "mimetype": "text/x-python",
   "name": "python",
   "nbconvert_exporter": "python",
   "pygments_lexer": "ipython3",
   "version": "3.6.3"
  }
 },
 "nbformat": 4,
 "nbformat_minor": 2
}
