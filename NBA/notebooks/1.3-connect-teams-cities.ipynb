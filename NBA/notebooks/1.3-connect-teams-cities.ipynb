{
 "cells": [
  {
   "cell_type": "markdown",
   "metadata": {},
   "source": [
    "# Example: Create team node\n",
    "---\n",
    "Created Relationships\n",
    "- Arena\n",
    "- Team\n"
   ]
  },
  {
   "cell_type": "code",
   "execution_count": 1,
   "metadata": {},
   "outputs": [],
   "source": [
    "# Necessary to import custom modules\n",
    "import os\n",
    "os.chdir(\"/home/jovyan/work\")\n",
    "\n",
    "import pandas as pd\n",
    "\n",
    "from src.utils import init_connection\n",
    "from src.models import Team, Arena"
   ]
  },
  {
   "cell_type": "markdown",
   "metadata": {},
   "source": [
    "# Connection"
   ]
  },
  {
   "cell_type": "code",
   "execution_count": 2,
   "metadata": {},
   "outputs": [],
   "source": [
    "init_connection()"
   ]
  },
  {
   "cell_type": "markdown",
   "metadata": {},
   "source": [
    "# Create relationship between Arena and Team"
   ]
  },
  {
   "cell_type": "code",
   "execution_count": 3,
   "metadata": {},
   "outputs": [
    {
     "data": {
      "text/html": [
       "<div>\n",
       "<style scoped>\n",
       "    .dataframe tbody tr th:only-of-type {\n",
       "        vertical-align: middle;\n",
       "    }\n",
       "\n",
       "    .dataframe tbody tr th {\n",
       "        vertical-align: top;\n",
       "    }\n",
       "\n",
       "    .dataframe thead th {\n",
       "        text-align: right;\n",
       "    }\n",
       "</style>\n",
       "<table border=\"1\" class=\"dataframe\">\n",
       "  <thead>\n",
       "    <tr style=\"text-align: right;\">\n",
       "      <th></th>\n",
       "      <th>stadium</th>\n",
       "      <th>city</th>\n",
       "      <th>state</th>\n",
       "      <th>country</th>\n",
       "      <th>home_team</th>\n",
       "      <th>capacity</th>\n",
       "      <th>geo1</th>\n",
       "      <th>geo2</th>\n",
       "    </tr>\n",
       "  </thead>\n",
       "  <tbody>\n",
       "    <tr>\n",
       "      <th>0</th>\n",
       "      <td>Madison Square Garden</td>\n",
       "      <td>New York</td>\n",
       "      <td>New York</td>\n",
       "      <td>USA</td>\n",
       "      <td>New York Knicks</td>\n",
       "      <td>19,812</td>\n",
       "      <td>40.750556</td>\n",
       "      <td>-73.993611</td>\n",
       "    </tr>\n",
       "    <tr>\n",
       "      <th>1</th>\n",
       "      <td>Barclays Center</td>\n",
       "      <td>Brooklyn</td>\n",
       "      <td>New York</td>\n",
       "      <td>USA</td>\n",
       "      <td>Brooklyn Nets</td>\n",
       "      <td>17,732</td>\n",
       "      <td>40.682661</td>\n",
       "      <td>-73.975225</td>\n",
       "    </tr>\n",
       "    <tr>\n",
       "      <th>2</th>\n",
       "      <td>TD Garden</td>\n",
       "      <td>Boston</td>\n",
       "      <td>Massachusetts</td>\n",
       "      <td>USA</td>\n",
       "      <td>Boston Celtics</td>\n",
       "      <td>18,624</td>\n",
       "      <td>42.366303</td>\n",
       "      <td>-71.062228</td>\n",
       "    </tr>\n",
       "    <tr>\n",
       "      <th>3</th>\n",
       "      <td>Wells Fargo Center</td>\n",
       "      <td>Philadelphia</td>\n",
       "      <td>Pennsylvania</td>\n",
       "      <td>USA</td>\n",
       "      <td>Philadelphia 76ers</td>\n",
       "      <td>20,328</td>\n",
       "      <td>39.901111</td>\n",
       "      <td>-75.171944</td>\n",
       "    </tr>\n",
       "    <tr>\n",
       "      <th>4</th>\n",
       "      <td>Capital One Arena</td>\n",
       "      <td>Washington</td>\n",
       "      <td>D.C.</td>\n",
       "      <td>USA</td>\n",
       "      <td>Washington Wizards</td>\n",
       "      <td>20,356</td>\n",
       "      <td>38.898056</td>\n",
       "      <td>-77.020833</td>\n",
       "    </tr>\n",
       "  </tbody>\n",
       "</table>\n",
       "</div>"
      ],
      "text/plain": [
       "                 stadium          city          state country  \\\n",
       "0  Madison Square Garden      New York       New York     USA   \n",
       "1        Barclays Center      Brooklyn       New York     USA   \n",
       "2              TD Garden        Boston  Massachusetts     USA   \n",
       "3     Wells Fargo Center  Philadelphia   Pennsylvania     USA   \n",
       "4      Capital One Arena    Washington           D.C.     USA   \n",
       "\n",
       "            home_team capacity       geo1       geo2  \n",
       "0     New York Knicks   19,812  40.750556 -73.993611  \n",
       "1       Brooklyn Nets   17,732  40.682661 -73.975225  \n",
       "2      Boston Celtics   18,624  42.366303 -71.062228  \n",
       "3  Philadelphia 76ers   20,328  39.901111 -75.171944  \n",
       "4  Washington Wizards   20,356  38.898056 -77.020833  "
      ]
     },
     "execution_count": 3,
     "metadata": {},
     "output_type": "execute_result"
    }
   ],
   "source": [
    "df_arenas = pd.read_csv(\"./data/arenas.csv\", delimiter=\";\")\n",
    "df_arenas.columns = map(lambda x: x.strip(), df_arenas.columns)\n",
    "df_arenas.head()"
   ]
  },
  {
   "cell_type": "code",
   "execution_count": 4,
   "metadata": {},
   "outputs": [
    {
     "ename": "AttributeError",
     "evalue": "'Team' object has no attribute 'arena'",
     "output_type": "error",
     "traceback": [
      "\u001b[0;31m---------------------------------------------------------------------------\u001b[0m",
      "\u001b[0;31mAttributeError\u001b[0m                            Traceback (most recent call last)",
      "\u001b[0;32m<ipython-input-4-382750ea9958>\u001b[0m in \u001b[0;36m<module>\u001b[0;34m()\u001b[0m\n\u001b[1;32m      5\u001b[0m \u001b[0;34m\u001b[0m\u001b[0m\n\u001b[1;32m      6\u001b[0m     \u001b[0;31m# create relationships\u001b[0m\u001b[0;34m\u001b[0m\u001b[0;34m\u001b[0m\u001b[0m\n\u001b[0;32m----> 7\u001b[0;31m     \u001b[0mt\u001b[0m\u001b[0;34m.\u001b[0m\u001b[0marena\u001b[0m\u001b[0;34m.\u001b[0m\u001b[0mconnect\u001b[0m\u001b[0;34m(\u001b[0m\u001b[0ma\u001b[0m\u001b[0;34m)\u001b[0m\u001b[0;34m\u001b[0m\u001b[0m\n\u001b[0m\u001b[1;32m      8\u001b[0m \u001b[0;34m\u001b[0m\u001b[0m\n",
      "\u001b[0;31mAttributeError\u001b[0m: 'Team' object has no attribute 'arena'"
     ]
    }
   ],
   "source": [
    "for _, row in df_arenas.iterrows():\n",
    "    # get entities\n",
    "    a = Arena.nodes.get(name=row[\"stadium\"])\n",
    "    t = Team.nodes.get(name=row[\"home_team\"])\n",
    "    \n",
    "    # create relationships\n",
    "    t.arena.connect(a)"
   ]
  }
 ],
 "metadata": {
  "kernelspec": {
   "display_name": "Python 3",
   "language": "python",
   "name": "python3"
  },
  "language_info": {
   "codemirror_mode": {
    "name": "ipython",
    "version": 3
   },
   "file_extension": ".py",
   "mimetype": "text/x-python",
   "name": "python",
   "nbconvert_exporter": "python",
   "pygments_lexer": "ipython3",
   "version": "3.6.5"
  }
 },
 "nbformat": 4,
 "nbformat_minor": 2
}
