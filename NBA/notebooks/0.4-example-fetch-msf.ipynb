{
 "cells": [
  {
   "cell_type": "markdown",
   "metadata": {},
   "source": [
    "# Example: Fetch MSF API\n",
    "---\n",
    "This notebook indicates how to fetch the MSF api"
   ]
  },
  {
   "cell_type": "markdown",
   "metadata": {},
   "source": [
    "### Imports"
   ]
  },
  {
   "cell_type": "code",
   "execution_count": 1,
   "metadata": {},
   "outputs": [],
   "source": [
    "import os\n",
    "os.chdir(\"/home/jovyan/work\")\n",
    "\n",
    "from src.utils import send_request"
   ]
  },
  {
   "cell_type": "markdown",
   "metadata": {},
   "source": [
    "### Fire the request"
   ]
  },
  {
   "cell_type": "code",
   "execution_count": 2,
   "metadata": {},
   "outputs": [],
   "source": [
    "result = send_request(\"https://api.mysportsfeeds.com/v2.0/pull/nba/2018-2019-regular/games.json\")"
   ]
  },
  {
   "cell_type": "markdown",
   "metadata": {},
   "source": [
    "### Inspect the result"
   ]
  },
  {
   "cell_type": "code",
   "execution_count": 3,
   "metadata": {},
   "outputs": [
    {
     "data": {
      "text/plain": [
       "dict_keys(['lastUpdatedOn', 'games', 'references'])"
      ]
     },
     "execution_count": 3,
     "metadata": {},
     "output_type": "execute_result"
    }
   ],
   "source": [
    "result.keys()"
   ]
  },
  {
   "cell_type": "code",
   "execution_count": 5,
   "metadata": {},
   "outputs": [
    {
     "data": {
      "text/plain": [
       "{'schedule': {'id': 47570,\n",
       "  'startTime': '2018-10-17T00:00:00.000Z',\n",
       "  'endedTime': None,\n",
       "  'awayTeam': {'id': 85, 'abbreviation': 'PHI'},\n",
       "  'homeTeam': {'id': 82, 'abbreviation': 'BOS'},\n",
       "  'venue': {'id': 27, 'name': 'TD Garden'},\n",
       "  'venueAllegiance': 'HOME',\n",
       "  'scheduleStatus': 'NORMAL',\n",
       "  'originalStartTime': None,\n",
       "  'delayedOrPostponedReason': None,\n",
       "  'playedStatus': 'UNPLAYED',\n",
       "  'attendance': None,\n",
       "  'officials': [],\n",
       "  'broadcasters': [],\n",
       "  'weather': None},\n",
       " 'score': {'currentQuarter': None,\n",
       "  'currentQuarterSecondsRemaining': None,\n",
       "  'currentIntermission': None,\n",
       "  'awayScoreTotal': None,\n",
       "  'homeScoreTotal': None,\n",
       "  'quarters': []}}"
      ]
     },
     "execution_count": 5,
     "metadata": {},
     "output_type": "execute_result"
    }
   ],
   "source": [
    "result.get(\"games\")[0]"
   ]
  }
 ],
 "metadata": {
  "kernelspec": {
   "display_name": "Python 3",
   "language": "python",
   "name": "python3"
  },
  "language_info": {
   "codemirror_mode": {
    "name": "ipython",
    "version": 3
   },
   "file_extension": ".py",
   "mimetype": "text/x-python",
   "name": "python",
   "nbconvert_exporter": "python",
   "pygments_lexer": "ipython3",
   "version": "3.6.5"
  }
 },
 "nbformat": 4,
 "nbformat_minor": 2
}
