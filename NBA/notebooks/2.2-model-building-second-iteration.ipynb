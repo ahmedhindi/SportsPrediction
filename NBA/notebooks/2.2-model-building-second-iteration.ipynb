{
 "cells": [
  {
   "cell_type": "markdown",
   "metadata": {},
   "source": [
    "# Model Building\n",
    "This notebooks contains the the model building for the first iteration - including model optimization via gridsearch"
   ]
  },
  {
   "cell_type": "markdown",
   "metadata": {},
   "source": [
    "# Imports"
   ]
  },
  {
   "cell_type": "code",
   "execution_count": 1,
   "metadata": {},
   "outputs": [],
   "source": [
    "# Necessary to import custom modules\n",
    "import os\n",
    "os.chdir(\"/home/jovyan/work\")\n",
    "\n",
    "import matplotlib.pyplot as plt\n",
    "import numpy as np\n",
    "import pandas as pd\n",
    "import seaborn as sns\n",
    "from sklearn.ensemble import RandomForestClassifier\n",
    "from sklearn.linear_model import LogisticRegression\n",
    "from sklearn.metrics import log_loss\n",
    "from sklearn.model_selection import GridSearchCV\n",
    "\n",
    "%matplotlib inline\n",
    "plt.rcParams[\"figure.figsize\"] = (10, 10)"
   ]
  },
  {
   "cell_type": "markdown",
   "metadata": {},
   "source": [
    "# Construct data"
   ]
  },
  {
   "cell_type": "code",
   "execution_count": 26,
   "metadata": {},
   "outputs": [
    {
     "data": {
      "text/html": [
       "<div>\n",
       "<style scoped>\n",
       "    .dataframe tbody tr th:only-of-type {\n",
       "        vertical-align: middle;\n",
       "    }\n",
       "\n",
       "    .dataframe tbody tr th {\n",
       "        vertical-align: top;\n",
       "    }\n",
       "\n",
       "    .dataframe thead th {\n",
       "        text-align: right;\n",
       "    }\n",
       "</style>\n",
       "<table border=\"1\" class=\"dataframe\">\n",
       "  <thead>\n",
       "    <tr style=\"text-align: right;\">\n",
       "      <th></th>\n",
       "      <th>avg_GamesPlayed_home</th>\n",
       "      <th>avg_Fg2PtAtt_home</th>\n",
       "      <th>avg_Fg2PtAttPerGame_home</th>\n",
       "      <th>avg_Fg2PtMade_home</th>\n",
       "      <th>avg_Fg2PtMadePerGame_home</th>\n",
       "      <th>avg_Fg2PtPct_home</th>\n",
       "      <th>avg_Fg3PtAtt_home</th>\n",
       "      <th>avg_Fg3PtAttPerGame_home</th>\n",
       "      <th>avg_Fg3PtMade_home</th>\n",
       "      <th>avg_Fg3PtMadePerGame_home</th>\n",
       "      <th>...</th>\n",
       "      <th>avg_FoulPersPerGame_guest</th>\n",
       "      <th>avg_PlusMinus_guest</th>\n",
       "      <th>avg_PlusMinusPerGame_guest</th>\n",
       "      <th>avg_MinSeconds_guest</th>\n",
       "      <th>avg_MinSecondsPerGame_guest</th>\n",
       "      <th>team_guest</th>\n",
       "      <th>season</th>\n",
       "      <th>score_home</th>\n",
       "      <th>score_guest</th>\n",
       "      <th>home_win</th>\n",
       "    </tr>\n",
       "  </thead>\n",
       "  <tbody>\n",
       "    <tr>\n",
       "      <th>0</th>\n",
       "      <td>80.8</td>\n",
       "      <td>452.8</td>\n",
       "      <td>5.2</td>\n",
       "      <td>229.2</td>\n",
       "      <td>2.40</td>\n",
       "      <td>51.00</td>\n",
       "      <td>259.20</td>\n",
       "      <td>2.60</td>\n",
       "      <td>92.0</td>\n",
       "      <td>0.6</td>\n",
       "      <td>...</td>\n",
       "      <td>2.200000</td>\n",
       "      <td>-96.200000</td>\n",
       "      <td>-0.800000</td>\n",
       "      <td>147689.0</td>\n",
       "      <td>1818.000000</td>\n",
       "      <td>Minnesota Timberwolves</td>\n",
       "      <td>2016/2017</td>\n",
       "      <td>84</td>\n",
       "      <td>92</td>\n",
       "      <td>0</td>\n",
       "    </tr>\n",
       "    <tr>\n",
       "      <th>1</th>\n",
       "      <td>80.5</td>\n",
       "      <td>511.0</td>\n",
       "      <td>6.0</td>\n",
       "      <td>259.0</td>\n",
       "      <td>2.75</td>\n",
       "      <td>51.25</td>\n",
       "      <td>224.75</td>\n",
       "      <td>2.25</td>\n",
       "      <td>75.5</td>\n",
       "      <td>0.5</td>\n",
       "      <td>...</td>\n",
       "      <td>1.750000</td>\n",
       "      <td>-364.500000</td>\n",
       "      <td>-5.000000</td>\n",
       "      <td>103625.5</td>\n",
       "      <td>1479.750000</td>\n",
       "      <td>Philadelphia 76ers</td>\n",
       "      <td>2016/2017</td>\n",
       "      <td>110</td>\n",
       "      <td>93</td>\n",
       "      <td>1</td>\n",
       "    </tr>\n",
       "    <tr>\n",
       "      <th>2</th>\n",
       "      <td>79.2</td>\n",
       "      <td>425.8</td>\n",
       "      <td>4.8</td>\n",
       "      <td>212.8</td>\n",
       "      <td>2.20</td>\n",
       "      <td>50.60</td>\n",
       "      <td>242.40</td>\n",
       "      <td>2.40</td>\n",
       "      <td>86.0</td>\n",
       "      <td>0.6</td>\n",
       "      <td>...</td>\n",
       "      <td>1.666667</td>\n",
       "      <td>-168.666667</td>\n",
       "      <td>-1.666667</td>\n",
       "      <td>123819.0</td>\n",
       "      <td>1526.666667</td>\n",
       "      <td>Milwaukee Bucks</td>\n",
       "      <td>2016/2017</td>\n",
       "      <td>107</td>\n",
       "      <td>100</td>\n",
       "      <td>1</td>\n",
       "    </tr>\n",
       "    <tr>\n",
       "      <th>3</th>\n",
       "      <td>80.5</td>\n",
       "      <td>511.0</td>\n",
       "      <td>6.0</td>\n",
       "      <td>259.0</td>\n",
       "      <td>2.75</td>\n",
       "      <td>51.25</td>\n",
       "      <td>224.75</td>\n",
       "      <td>2.25</td>\n",
       "      <td>75.5</td>\n",
       "      <td>0.5</td>\n",
       "      <td>...</td>\n",
       "      <td>2.250000</td>\n",
       "      <td>120.750000</td>\n",
       "      <td>1.250000</td>\n",
       "      <td>131729.5</td>\n",
       "      <td>1949.500000</td>\n",
       "      <td>Detroit Pistons</td>\n",
       "      <td>2016/2017</td>\n",
       "      <td>105</td>\n",
       "      <td>98</td>\n",
       "      <td>1</td>\n",
       "    </tr>\n",
       "    <tr>\n",
       "      <th>4</th>\n",
       "      <td>66.5</td>\n",
       "      <td>332.0</td>\n",
       "      <td>4.0</td>\n",
       "      <td>159.0</td>\n",
       "      <td>2.00</td>\n",
       "      <td>50.00</td>\n",
       "      <td>191.00</td>\n",
       "      <td>2.50</td>\n",
       "      <td>62.5</td>\n",
       "      <td>0.5</td>\n",
       "      <td>...</td>\n",
       "      <td>1.500000</td>\n",
       "      <td>-202.000000</td>\n",
       "      <td>-2.500000</td>\n",
       "      <td>86731.5</td>\n",
       "      <td>1337.500000</td>\n",
       "      <td>Phoenix Suns</td>\n",
       "      <td>2016/2017</td>\n",
       "      <td>95</td>\n",
       "      <td>91</td>\n",
       "      <td>1</td>\n",
       "    </tr>\n",
       "  </tbody>\n",
       "</table>\n",
       "<p>5 rows × 96 columns</p>\n",
       "</div>"
      ],
      "text/plain": [
       "   avg_GamesPlayed_home  avg_Fg2PtAtt_home  avg_Fg2PtAttPerGame_home  \\\n",
       "0                  80.8              452.8                       5.2   \n",
       "1                  80.5              511.0                       6.0   \n",
       "2                  79.2              425.8                       4.8   \n",
       "3                  80.5              511.0                       6.0   \n",
       "4                  66.5              332.0                       4.0   \n",
       "\n",
       "   avg_Fg2PtMade_home  avg_Fg2PtMadePerGame_home  avg_Fg2PtPct_home  \\\n",
       "0               229.2                       2.40              51.00   \n",
       "1               259.0                       2.75              51.25   \n",
       "2               212.8                       2.20              50.60   \n",
       "3               259.0                       2.75              51.25   \n",
       "4               159.0                       2.00              50.00   \n",
       "\n",
       "   avg_Fg3PtAtt_home  avg_Fg3PtAttPerGame_home  avg_Fg3PtMade_home  \\\n",
       "0             259.20                      2.60                92.0   \n",
       "1             224.75                      2.25                75.5   \n",
       "2             242.40                      2.40                86.0   \n",
       "3             224.75                      2.25                75.5   \n",
       "4             191.00                      2.50                62.5   \n",
       "\n",
       "   avg_Fg3PtMadePerGame_home    ...     avg_FoulPersPerGame_guest  \\\n",
       "0                        0.6    ...                      2.200000   \n",
       "1                        0.5    ...                      1.750000   \n",
       "2                        0.6    ...                      1.666667   \n",
       "3                        0.5    ...                      2.250000   \n",
       "4                        0.5    ...                      1.500000   \n",
       "\n",
       "   avg_PlusMinus_guest  avg_PlusMinusPerGame_guest  avg_MinSeconds_guest  \\\n",
       "0           -96.200000                   -0.800000              147689.0   \n",
       "1          -364.500000                   -5.000000              103625.5   \n",
       "2          -168.666667                   -1.666667              123819.0   \n",
       "3           120.750000                    1.250000              131729.5   \n",
       "4          -202.000000                   -2.500000               86731.5   \n",
       "\n",
       "   avg_MinSecondsPerGame_guest              team_guest     season  score_home  \\\n",
       "0                  1818.000000  Minnesota Timberwolves  2016/2017          84   \n",
       "1                  1479.750000      Philadelphia 76ers  2016/2017         110   \n",
       "2                  1526.666667         Milwaukee Bucks  2016/2017         107   \n",
       "3                  1949.500000         Detroit Pistons  2016/2017         105   \n",
       "4                  1337.500000            Phoenix Suns  2016/2017          95   \n",
       "\n",
       "   score_guest  home_win  \n",
       "0           92         0  \n",
       "1           93         1  \n",
       "2          100         1  \n",
       "3           98         1  \n",
       "4           91         1  \n",
       "\n",
       "[5 rows x 96 columns]"
      ]
     },
     "execution_count": 26,
     "metadata": {},
     "output_type": "execute_result"
    }
   ],
   "source": [
    "# read features and drop obsolete ones\n",
    "df_raw = pd.read_csv(\"./data/features/second_iteration.csv\")\n",
    "\n",
    "df_raw.head()"
   ]
  },
  {
   "cell_type": "code",
   "execution_count": 21,
   "metadata": {},
   "outputs": [],
   "source": [
    "# construct training data\n",
    "df_train = \\\n",
    "    df_raw[df_raw[\"season\"].isin([\"2016/2017\"])]\\\n",
    "    .drop([\"team_home\", \"team_guest\", \"score_home\", \"score_guest\", \"season\"], axis=1)\n",
    "\n",
    "X_train, y_train = df_train.drop([\"home_win\"], axis=1).values, df_train[\"home_win\"].values\n",
    "\n",
    "# construct final validation data\n",
    "df_val = \\\n",
    "    df_raw[df_raw[\"season\"] == \"2017/2018\"]\\\n",
    "    .drop([\"team_home\", \"team_guest\", \"score_home\", \"score_guest\", \"season\"]\n",
    "          + [col for col in df_raw.columns if \"2017/2018\" in col] , axis=1)\n",
    "X_val, y_val = df_val.drop([\"home_win\"], axis=1).values, df_val[\"home_win\"].values"
   ]
  },
  {
   "cell_type": "markdown",
   "metadata": {},
   "source": [
    "# Baseline"
   ]
  },
  {
   "cell_type": "markdown",
   "metadata": {},
   "source": [
    "### Predict always win"
   ]
  },
  {
   "cell_type": "code",
   "execution_count": 12,
   "metadata": {},
   "outputs": [
    {
     "data": {
      "text/plain": [
       "14.504364428156217"
      ]
     },
     "execution_count": 12,
     "metadata": {},
     "output_type": "execute_result"
    }
   ],
   "source": [
    "log_loss(y_val, np.ones_like(y_val))"
   ]
  },
  {
   "cell_type": "markdown",
   "metadata": {},
   "source": [
    "### Predict always loss"
   ]
  },
  {
   "cell_type": "code",
   "execution_count": 13,
   "metadata": {},
   "outputs": [
    {
     "data": {
      "text/plain": [
       "20.034747745413874"
      ]
     },
     "execution_count": 13,
     "metadata": {},
     "output_type": "execute_result"
    }
   ],
   "source": [
    "log_loss(y_val, np.zeros_like(y_val))"
   ]
  },
  {
   "cell_type": "markdown",
   "metadata": {},
   "source": [
    "### Predict always draw"
   ]
  },
  {
   "cell_type": "code",
   "execution_count": 14,
   "metadata": {},
   "outputs": [
    {
     "data": {
      "text/plain": [
       "0.69314718055994529"
      ]
     },
     "execution_count": 14,
     "metadata": {},
     "output_type": "execute_result"
    }
   ],
   "source": [
    "log_loss(y_val, np.ones_like(y_val)*.5)"
   ]
  },
  {
   "cell_type": "markdown",
   "metadata": {},
   "source": [
    "# Logistic Regression"
   ]
  },
  {
   "cell_type": "code",
   "execution_count": 18,
   "metadata": {},
   "outputs": [
    {
     "data": {
      "text/plain": [
       "0.64703171907337986"
      ]
     },
     "execution_count": 18,
     "metadata": {},
     "output_type": "execute_result"
    }
   ],
   "source": [
    "# parameter grid\n",
    "pg_lr = {\n",
    "    \"penalty\": [\"l1\", \"l2\"],\n",
    "    \"C\": [0.001, 0.01, 0.1, 1.0, 10],\n",
    "}\n",
    "\n",
    "# cross validated estimator\n",
    "GS_LR = GridSearchCV(\n",
    "    estimator=LogisticRegression(),\n",
    "    param_grid=pg_lr,\n",
    "    cv=5,\n",
    "    n_jobs=-1,\n",
    "    scoring=\"neg_log_loss\"\n",
    ")\n",
    "\n",
    "# model fitting\n",
    "GS_LR.fit(X_train, y_train)\n",
    "\n",
    "# evaluate on validation set\n",
    "log_loss(y_val, GS_LR.predict_proba(X_val))"
   ]
  },
  {
   "cell_type": "markdown",
   "metadata": {},
   "source": [
    "# Random Forest"
   ]
  },
  {
   "cell_type": "code",
   "execution_count": 16,
   "metadata": {},
   "outputs": [
    {
     "data": {
      "text/plain": [
       "0.69730383803716067"
      ]
     },
     "execution_count": 16,
     "metadata": {},
     "output_type": "execute_result"
    }
   ],
   "source": [
    "# parameter grid\n",
    "param_grid = {\n",
    "    \"n_estimators\": [10, 15, 20],\n",
    "    \"min_samples_leaf\": [1, 2, 3, 4, 5],\n",
    "    \"min_samples_split\": [2, 3, 4, 5]\n",
    "}\n",
    "\n",
    "# cross validated estimator\n",
    "GS_RF = GridSearchCV(\n",
    "    estimator=RandomForestClassifier(),\n",
    "    param_grid=param_grid,\n",
    "    n_jobs=-1,\n",
    "    cv=5,\n",
    "    scoring=\"neg_log_loss\"\n",
    ")\n",
    "\n",
    "# model fitting\n",
    "GS_RF.fit(X_train, y_train)\n",
    "\n",
    "# evaluate on validation set\n",
    "log_loss(y_val, GS_RF.predict_proba(X_val))"
   ]
  },
  {
   "cell_type": "markdown",
   "metadata": {},
   "source": [
    "***\n",
    "# Advanced\n",
    "In addition to a simple point average, all averaged stats shall be put into the feature vector."
   ]
  },
  {
   "cell_type": "markdown",
   "metadata": {},
   "source": [
    "### Construct data"
   ]
  },
  {
   "cell_type": "code",
   "execution_count": 28,
   "metadata": {},
   "outputs": [
    {
     "data": {
      "text/html": [
       "<div>\n",
       "<style scoped>\n",
       "    .dataframe tbody tr th:only-of-type {\n",
       "        vertical-align: middle;\n",
       "    }\n",
       "\n",
       "    .dataframe tbody tr th {\n",
       "        vertical-align: top;\n",
       "    }\n",
       "\n",
       "    .dataframe thead th {\n",
       "        text-align: right;\n",
       "    }\n",
       "</style>\n",
       "<table border=\"1\" class=\"dataframe\">\n",
       "  <thead>\n",
       "    <tr style=\"text-align: right;\">\n",
       "      <th></th>\n",
       "      <th>avg_GamesPlayed_home</th>\n",
       "      <th>avg_Fg2PtAtt_home</th>\n",
       "      <th>avg_Fg2PtAttPerGame_home</th>\n",
       "      <th>avg_Fg2PtMade_home</th>\n",
       "      <th>avg_Fg2PtMadePerGame_home</th>\n",
       "      <th>avg_Fg2PtPct_home</th>\n",
       "      <th>avg_Fg3PtAtt_home</th>\n",
       "      <th>avg_Fg3PtAttPerGame_home</th>\n",
       "      <th>avg_Fg3PtMade_home</th>\n",
       "      <th>avg_Fg3PtMadePerGame_home</th>\n",
       "      <th>...</th>\n",
       "      <th>avg_FoulPersPerGame_guest</th>\n",
       "      <th>avg_PlusMinus_guest</th>\n",
       "      <th>avg_PlusMinusPerGame_guest</th>\n",
       "      <th>avg_MinSeconds_guest</th>\n",
       "      <th>avg_MinSecondsPerGame_guest</th>\n",
       "      <th>team_guest</th>\n",
       "      <th>season</th>\n",
       "      <th>score_home</th>\n",
       "      <th>score_guest</th>\n",
       "      <th>home_win</th>\n",
       "    </tr>\n",
       "  </thead>\n",
       "  <tbody>\n",
       "    <tr>\n",
       "      <th>0</th>\n",
       "      <td>80.8</td>\n",
       "      <td>452.8</td>\n",
       "      <td>5.2</td>\n",
       "      <td>229.2</td>\n",
       "      <td>2.40</td>\n",
       "      <td>51.00</td>\n",
       "      <td>259.20</td>\n",
       "      <td>2.60</td>\n",
       "      <td>92.0</td>\n",
       "      <td>0.6</td>\n",
       "      <td>...</td>\n",
       "      <td>2.200000</td>\n",
       "      <td>-96.200000</td>\n",
       "      <td>-0.800000</td>\n",
       "      <td>147689.0</td>\n",
       "      <td>1818.000000</td>\n",
       "      <td>Minnesota Timberwolves</td>\n",
       "      <td>2016/2017</td>\n",
       "      <td>84</td>\n",
       "      <td>92</td>\n",
       "      <td>0</td>\n",
       "    </tr>\n",
       "    <tr>\n",
       "      <th>1</th>\n",
       "      <td>80.5</td>\n",
       "      <td>511.0</td>\n",
       "      <td>6.0</td>\n",
       "      <td>259.0</td>\n",
       "      <td>2.75</td>\n",
       "      <td>51.25</td>\n",
       "      <td>224.75</td>\n",
       "      <td>2.25</td>\n",
       "      <td>75.5</td>\n",
       "      <td>0.5</td>\n",
       "      <td>...</td>\n",
       "      <td>1.750000</td>\n",
       "      <td>-364.500000</td>\n",
       "      <td>-5.000000</td>\n",
       "      <td>103625.5</td>\n",
       "      <td>1479.750000</td>\n",
       "      <td>Philadelphia 76ers</td>\n",
       "      <td>2016/2017</td>\n",
       "      <td>110</td>\n",
       "      <td>93</td>\n",
       "      <td>1</td>\n",
       "    </tr>\n",
       "    <tr>\n",
       "      <th>2</th>\n",
       "      <td>79.2</td>\n",
       "      <td>425.8</td>\n",
       "      <td>4.8</td>\n",
       "      <td>212.8</td>\n",
       "      <td>2.20</td>\n",
       "      <td>50.60</td>\n",
       "      <td>242.40</td>\n",
       "      <td>2.40</td>\n",
       "      <td>86.0</td>\n",
       "      <td>0.6</td>\n",
       "      <td>...</td>\n",
       "      <td>1.666667</td>\n",
       "      <td>-168.666667</td>\n",
       "      <td>-1.666667</td>\n",
       "      <td>123819.0</td>\n",
       "      <td>1526.666667</td>\n",
       "      <td>Milwaukee Bucks</td>\n",
       "      <td>2016/2017</td>\n",
       "      <td>107</td>\n",
       "      <td>100</td>\n",
       "      <td>1</td>\n",
       "    </tr>\n",
       "    <tr>\n",
       "      <th>3</th>\n",
       "      <td>80.5</td>\n",
       "      <td>511.0</td>\n",
       "      <td>6.0</td>\n",
       "      <td>259.0</td>\n",
       "      <td>2.75</td>\n",
       "      <td>51.25</td>\n",
       "      <td>224.75</td>\n",
       "      <td>2.25</td>\n",
       "      <td>75.5</td>\n",
       "      <td>0.5</td>\n",
       "      <td>...</td>\n",
       "      <td>2.250000</td>\n",
       "      <td>120.750000</td>\n",
       "      <td>1.250000</td>\n",
       "      <td>131729.5</td>\n",
       "      <td>1949.500000</td>\n",
       "      <td>Detroit Pistons</td>\n",
       "      <td>2016/2017</td>\n",
       "      <td>105</td>\n",
       "      <td>98</td>\n",
       "      <td>1</td>\n",
       "    </tr>\n",
       "    <tr>\n",
       "      <th>4</th>\n",
       "      <td>66.5</td>\n",
       "      <td>332.0</td>\n",
       "      <td>4.0</td>\n",
       "      <td>159.0</td>\n",
       "      <td>2.00</td>\n",
       "      <td>50.00</td>\n",
       "      <td>191.00</td>\n",
       "      <td>2.50</td>\n",
       "      <td>62.5</td>\n",
       "      <td>0.5</td>\n",
       "      <td>...</td>\n",
       "      <td>1.500000</td>\n",
       "      <td>-202.000000</td>\n",
       "      <td>-2.500000</td>\n",
       "      <td>86731.5</td>\n",
       "      <td>1337.500000</td>\n",
       "      <td>Phoenix Suns</td>\n",
       "      <td>2016/2017</td>\n",
       "      <td>95</td>\n",
       "      <td>91</td>\n",
       "      <td>1</td>\n",
       "    </tr>\n",
       "  </tbody>\n",
       "</table>\n",
       "<p>5 rows × 96 columns</p>\n",
       "</div>"
      ],
      "text/plain": [
       "   avg_GamesPlayed_home  avg_Fg2PtAtt_home  avg_Fg2PtAttPerGame_home  \\\n",
       "0                  80.8              452.8                       5.2   \n",
       "1                  80.5              511.0                       6.0   \n",
       "2                  79.2              425.8                       4.8   \n",
       "3                  80.5              511.0                       6.0   \n",
       "4                  66.5              332.0                       4.0   \n",
       "\n",
       "   avg_Fg2PtMade_home  avg_Fg2PtMadePerGame_home  avg_Fg2PtPct_home  \\\n",
       "0               229.2                       2.40              51.00   \n",
       "1               259.0                       2.75              51.25   \n",
       "2               212.8                       2.20              50.60   \n",
       "3               259.0                       2.75              51.25   \n",
       "4               159.0                       2.00              50.00   \n",
       "\n",
       "   avg_Fg3PtAtt_home  avg_Fg3PtAttPerGame_home  avg_Fg3PtMade_home  \\\n",
       "0             259.20                      2.60                92.0   \n",
       "1             224.75                      2.25                75.5   \n",
       "2             242.40                      2.40                86.0   \n",
       "3             224.75                      2.25                75.5   \n",
       "4             191.00                      2.50                62.5   \n",
       "\n",
       "   avg_Fg3PtMadePerGame_home    ...     avg_FoulPersPerGame_guest  \\\n",
       "0                        0.6    ...                      2.200000   \n",
       "1                        0.5    ...                      1.750000   \n",
       "2                        0.6    ...                      1.666667   \n",
       "3                        0.5    ...                      2.250000   \n",
       "4                        0.5    ...                      1.500000   \n",
       "\n",
       "   avg_PlusMinus_guest  avg_PlusMinusPerGame_guest  avg_MinSeconds_guest  \\\n",
       "0           -96.200000                   -0.800000              147689.0   \n",
       "1          -364.500000                   -5.000000              103625.5   \n",
       "2          -168.666667                   -1.666667              123819.0   \n",
       "3           120.750000                    1.250000              131729.5   \n",
       "4          -202.000000                   -2.500000               86731.5   \n",
       "\n",
       "   avg_MinSecondsPerGame_guest              team_guest     season  score_home  \\\n",
       "0                  1818.000000  Minnesota Timberwolves  2016/2017          84   \n",
       "1                  1479.750000      Philadelphia 76ers  2016/2017         110   \n",
       "2                  1526.666667         Milwaukee Bucks  2016/2017         107   \n",
       "3                  1949.500000         Detroit Pistons  2016/2017         105   \n",
       "4                  1337.500000            Phoenix Suns  2016/2017          95   \n",
       "\n",
       "   score_guest  home_win  \n",
       "0           92         0  \n",
       "1           93         1  \n",
       "2          100         1  \n",
       "3           98         1  \n",
       "4           91         1  \n",
       "\n",
       "[5 rows x 96 columns]"
      ]
     },
     "execution_count": 28,
     "metadata": {},
     "output_type": "execute_result"
    }
   ],
   "source": [
    "# read features and drop obsolete ones\n",
    "df_raw_adv = pd.read_csv(\"./data/features/second_iteration_advanced.csv\")\n",
    "\n",
    "df_raw_adv.head()"
   ]
  },
  {
   "cell_type": "code",
   "execution_count": 29,
   "metadata": {},
   "outputs": [],
   "source": [
    "# construct training data\n",
    "df_train = \\\n",
    "    df_raw_adv[df_raw_adv[\"season\"].isin([\"2016/2017\"])]\\\n",
    "    .drop([\"team_home\", \"team_guest\", \"score_home\", \"score_guest\", \"season\"], axis=1)\n",
    "\n",
    "X_train, y_train = df_train.drop([\"home_win\"], axis=1).values, df_train[\"home_win\"].values\n",
    "\n",
    "# construct final validation data\n",
    "df_val = \\\n",
    "    df_raw_adv[df_raw_adv[\"season\"] == \"2017/2018\"]\\\n",
    "    .drop([\"team_home\", \"team_guest\", \"score_home\", \"score_guest\", \"season\"]\n",
    "          + [col for col in df_raw.columns if \"2017/2018\" in col] , axis=1)\n",
    "X_val, y_val = df_val.drop([\"home_win\"], axis=1).values, df_val[\"home_win\"].values"
   ]
  },
  {
   "cell_type": "markdown",
   "metadata": {},
   "source": [
    "# Logistic Regression"
   ]
  },
  {
   "cell_type": "code",
   "execution_count": 30,
   "metadata": {},
   "outputs": [
    {
     "data": {
      "text/plain": [
       "0.62967096059043415"
      ]
     },
     "execution_count": 30,
     "metadata": {},
     "output_type": "execute_result"
    }
   ],
   "source": [
    "# parameter grid\n",
    "pg_lr = {\n",
    "    \"penalty\": [\"l1\", \"l2\"],\n",
    "    \"C\": [0.001, 0.01, 0.1, 1.0, 10],\n",
    "}\n",
    "\n",
    "# cross validated estimator\n",
    "GS_LR = GridSearchCV(\n",
    "    estimator=LogisticRegression(),\n",
    "    param_grid=pg_lr,\n",
    "    cv=5,\n",
    "    n_jobs=-1,\n",
    "    scoring=\"neg_log_loss\"\n",
    ")\n",
    "\n",
    "# model fitting\n",
    "GS_LR.fit(X_train, y_train)\n",
    "\n",
    "# evaluate on validation set\n",
    "log_loss(y_val, GS_LR.predict_proba(X_val))"
   ]
  },
  {
   "cell_type": "markdown",
   "metadata": {},
   "source": [
    "# Random Forest"
   ]
  },
  {
   "cell_type": "code",
   "execution_count": 31,
   "metadata": {},
   "outputs": [
    {
     "data": {
      "text/plain": [
       "0.66201856067519516"
      ]
     },
     "execution_count": 31,
     "metadata": {},
     "output_type": "execute_result"
    }
   ],
   "source": [
    "# parameter grid\n",
    "param_grid = {\n",
    "    \"n_estimators\": [10, 15, 20],\n",
    "    \"min_samples_leaf\": [1, 2, 3, 4, 5],\n",
    "    \"min_samples_split\": [2, 3, 4, 5]\n",
    "}\n",
    "\n",
    "# cross validated estimator\n",
    "GS_RF = GridSearchCV(\n",
    "    estimator=RandomForestClassifier(),\n",
    "    param_grid=param_grid,\n",
    "    n_jobs=-1,\n",
    "    cv=5,\n",
    "    scoring=\"neg_log_loss\"\n",
    ")\n",
    "\n",
    "# model fitting\n",
    "GS_RF.fit(X_train, y_train)\n",
    "\n",
    "# evaluate on validation set\n",
    "log_loss(y_val, GS_RF.predict_proba(X_val))"
   ]
  }
 ],
 "metadata": {
  "kernelspec": {
   "display_name": "Python 3",
   "language": "python",
   "name": "python3"
  },
  "language_info": {
   "codemirror_mode": {
    "name": "ipython",
    "version": 3
   },
   "file_extension": ".py",
   "mimetype": "text/x-python",
   "name": "python",
   "nbconvert_exporter": "python",
   "pygments_lexer": "ipython3",
   "version": "3.6.5"
  }
 },
 "nbformat": 4,
 "nbformat_minor": 2
}
