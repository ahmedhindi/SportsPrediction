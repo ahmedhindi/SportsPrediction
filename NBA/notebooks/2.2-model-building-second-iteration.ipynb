{
 "cells": [
  {
   "cell_type": "markdown",
   "metadata": {},
   "source": [
    "# Model Building\n",
    "This notebooks contains the the model building for the first iteration - including model optimization via gridsearch"
   ]
  },
  {
   "cell_type": "markdown",
   "metadata": {},
   "source": [
    "# Imports"
   ]
  },
  {
   "cell_type": "code",
   "execution_count": 1,
   "metadata": {},
   "outputs": [],
   "source": [
    "# Necessary to import custom modules\n",
    "import os\n",
    "os.chdir(\"/home/jovyan/work\")\n",
    "\n",
    "import matplotlib.pyplot as plt\n",
    "import numpy as np\n",
    "import pandas as pd\n",
    "import seaborn as sns\n",
    "from sklearn.ensemble import RandomForestClassifier\n",
    "from sklearn.linear_model import LogisticRegression\n",
    "from sklearn.metrics import log_loss\n",
    "from sklearn.model_selection import GridSearchCV\n",
    "\n",
    "%matplotlib inline\n",
    "plt.rcParams[\"figure.figsize\"] = (10, 10)"
   ]
  },
  {
   "cell_type": "markdown",
   "metadata": {},
   "source": [
    "# Construct data"
   ]
  },
  {
   "cell_type": "code",
   "execution_count": 3,
   "metadata": {},
   "outputs": [],
   "source": [
    "# read features and drop obsolete ones\n",
    "df_raw = pd.read_csv(\"./data/features/second_iteration.csv\")"
   ]
  },
  {
   "cell_type": "code",
   "execution_count": 4,
   "metadata": {},
   "outputs": [
    {
     "data": {
      "text/html": [
       "<div>\n",
       "<style scoped>\n",
       "    .dataframe tbody tr th:only-of-type {\n",
       "        vertical-align: middle;\n",
       "    }\n",
       "\n",
       "    .dataframe tbody tr th {\n",
       "        vertical-align: top;\n",
       "    }\n",
       "\n",
       "    .dataframe thead th {\n",
       "        text-align: right;\n",
       "    }\n",
       "</style>\n",
       "<table border=\"1\" class=\"dataframe\">\n",
       "  <thead>\n",
       "    <tr style=\"text-align: right;\">\n",
       "      <th></th>\n",
       "      <th>season</th>\n",
       "      <th>team_home</th>\n",
       "      <th>team_guest</th>\n",
       "      <th>avg_pts_home</th>\n",
       "      <th>avg_pts_guest</th>\n",
       "      <th>score_home</th>\n",
       "      <th>score_guest</th>\n",
       "      <th>home_win</th>\n",
       "    </tr>\n",
       "  </thead>\n",
       "  <tbody>\n",
       "    <tr>\n",
       "      <th>0</th>\n",
       "      <td>2016/2017</td>\n",
       "      <td>Atlanta Hawks</td>\n",
       "      <td>Utah Jazz</td>\n",
       "      <td>865.50</td>\n",
       "      <td>873.25</td>\n",
       "      <td>95</td>\n",
       "      <td>120</td>\n",
       "      <td>0</td>\n",
       "    </tr>\n",
       "    <tr>\n",
       "      <th>1</th>\n",
       "      <td>2016/2017</td>\n",
       "      <td>Atlanta Hawks</td>\n",
       "      <td>Toronto Raptors</td>\n",
       "      <td>865.50</td>\n",
       "      <td>890.25</td>\n",
       "      <td>105</td>\n",
       "      <td>99</td>\n",
       "      <td>1</td>\n",
       "    </tr>\n",
       "    <tr>\n",
       "      <th>2</th>\n",
       "      <td>2016/2017</td>\n",
       "      <td>Atlanta Hawks</td>\n",
       "      <td>Houston Rockets</td>\n",
       "      <td>968.75</td>\n",
       "      <td>1229.75</td>\n",
       "      <td>112</td>\n",
       "      <td>97</td>\n",
       "      <td>1</td>\n",
       "    </tr>\n",
       "    <tr>\n",
       "      <th>3</th>\n",
       "      <td>2016/2017</td>\n",
       "      <td>Atlanta Hawks</td>\n",
       "      <td>Brooklyn Nets</td>\n",
       "      <td>602.50</td>\n",
       "      <td>834.00</td>\n",
       "      <td>92</td>\n",
       "      <td>107</td>\n",
       "      <td>0</td>\n",
       "    </tr>\n",
       "    <tr>\n",
       "      <th>4</th>\n",
       "      <td>2016/2017</td>\n",
       "      <td>Atlanta Hawks</td>\n",
       "      <td>Boston Celtics</td>\n",
       "      <td>818.00</td>\n",
       "      <td>1148.25</td>\n",
       "      <td>123</td>\n",
       "      <td>116</td>\n",
       "      <td>1</td>\n",
       "    </tr>\n",
       "  </tbody>\n",
       "</table>\n",
       "</div>"
      ],
      "text/plain": [
       "      season      team_home       team_guest  avg_pts_home  avg_pts_guest  \\\n",
       "0  2016/2017  Atlanta Hawks        Utah Jazz        865.50         873.25   \n",
       "1  2016/2017  Atlanta Hawks  Toronto Raptors        865.50         890.25   \n",
       "2  2016/2017  Atlanta Hawks  Houston Rockets        968.75        1229.75   \n",
       "3  2016/2017  Atlanta Hawks    Brooklyn Nets        602.50         834.00   \n",
       "4  2016/2017  Atlanta Hawks   Boston Celtics        818.00        1148.25   \n",
       "\n",
       "   score_home  score_guest  home_win  \n",
       "0          95          120         0  \n",
       "1         105           99         1  \n",
       "2         112           97         1  \n",
       "3          92          107         0  \n",
       "4         123          116         1  "
      ]
     },
     "execution_count": 4,
     "metadata": {},
     "output_type": "execute_result"
    }
   ],
   "source": [
    "df_raw.head()"
   ]
  },
  {
   "cell_type": "code",
   "execution_count": 9,
   "metadata": {},
   "outputs": [],
   "source": [
    "# construct training data\n",
    "df_train = \\\n",
    "    df_raw[df_raw[\"season\"].isin([\"2016/2017\"])]\\\n",
    "    .drop([\"team_home\", \"team_guest\", \"score_home\", \"score_guest\", \"season\"], axis=1)\n",
    "\n",
    "X_train, y_train = df_train.drop([\"home_win\"], axis=1).values, df_train[\"home_win\"].values"
   ]
  },
  {
   "cell_type": "code",
   "execution_count": 10,
   "metadata": {},
   "outputs": [],
   "source": [
    "# construct final validation data\n",
    "df_val = \\\n",
    "    df_raw[df_raw[\"season\"] == \"2017/2018\"]\\\n",
    "    .drop([\"team_home\", \"team_guest\", \"score_home\", \"score_guest\", \"season\"]\n",
    "          + [col for col in df_raw.columns if \"2017/2018\" in col] , axis=1)\n",
    "X_val, y_val = df_val.drop([\"home_win\"], axis=1).values, df_val[\"home_win\"].values"
   ]
  },
  {
   "cell_type": "markdown",
   "metadata": {},
   "source": [
    "# Baseline"
   ]
  },
  {
   "cell_type": "markdown",
   "metadata": {},
   "source": [
    "### Predict always win"
   ]
  },
  {
   "cell_type": "code",
   "execution_count": 12,
   "metadata": {},
   "outputs": [
    {
     "data": {
      "text/plain": [
       "14.504364428156217"
      ]
     },
     "execution_count": 12,
     "metadata": {},
     "output_type": "execute_result"
    }
   ],
   "source": [
    "log_loss(y_val, np.ones_like(y_val))"
   ]
  },
  {
   "cell_type": "markdown",
   "metadata": {},
   "source": [
    "### Predict always loss"
   ]
  },
  {
   "cell_type": "code",
   "execution_count": 13,
   "metadata": {},
   "outputs": [
    {
     "data": {
      "text/plain": [
       "20.034747745413874"
      ]
     },
     "execution_count": 13,
     "metadata": {},
     "output_type": "execute_result"
    }
   ],
   "source": [
    "log_loss(y_val, np.zeros_like(y_val))"
   ]
  },
  {
   "cell_type": "markdown",
   "metadata": {},
   "source": [
    "### Predict always draw"
   ]
  },
  {
   "cell_type": "code",
   "execution_count": 14,
   "metadata": {},
   "outputs": [
    {
     "data": {
      "text/plain": [
       "0.69314718055994529"
      ]
     },
     "execution_count": 14,
     "metadata": {},
     "output_type": "execute_result"
    }
   ],
   "source": [
    "log_loss(y_val, np.ones_like(y_val)*.5)"
   ]
  },
  {
   "cell_type": "markdown",
   "metadata": {},
   "source": [
    "# Logistic Regression"
   ]
  },
  {
   "cell_type": "code",
   "execution_count": 18,
   "metadata": {},
   "outputs": [
    {
     "data": {
      "text/plain": [
       "0.64703171907337986"
      ]
     },
     "execution_count": 18,
     "metadata": {},
     "output_type": "execute_result"
    }
   ],
   "source": [
    "# parameter grid\n",
    "pg_lr = {\n",
    "    \"penalty\": [\"l1\", \"l2\"],\n",
    "    \"C\": [0.001, 0.01, 0.1, 1.0, 10],\n",
    "}\n",
    "\n",
    "# cross validated estimator\n",
    "GS_LR = GridSearchCV(\n",
    "    estimator=LogisticRegression(),\n",
    "    param_grid=pg_lr,\n",
    "    cv=5,\n",
    "    n_jobs=-1,\n",
    "    scoring=\"neg_log_loss\"\n",
    ")\n",
    "\n",
    "# model fitting\n",
    "GS_LR.fit(X_train, y_train)\n",
    "\n",
    "# evaluate on validation set\n",
    "log_loss(y_val, GS_LR.predict_proba(X_val))"
   ]
  },
  {
   "cell_type": "markdown",
   "metadata": {},
   "source": [
    "# Random Forest"
   ]
  },
  {
   "cell_type": "code",
   "execution_count": 16,
   "metadata": {},
   "outputs": [
    {
     "data": {
      "text/plain": [
       "0.69730383803716067"
      ]
     },
     "execution_count": 16,
     "metadata": {},
     "output_type": "execute_result"
    }
   ],
   "source": [
    "# parameter grid\n",
    "param_grid = {\n",
    "    \"n_estimators\": [10, 15, 20],\n",
    "    \"min_samples_leaf\": [1, 2, 3, 4, 5],\n",
    "    \"min_samples_split\": [2, 3, 4, 5]\n",
    "}\n",
    "\n",
    "# cross validated estimator\n",
    "GS_RF = GridSearchCV(\n",
    "    estimator=RandomForestClassifier(),\n",
    "    param_grid=param_grid,\n",
    "    n_jobs=-1,\n",
    "    cv=5,\n",
    "    scoring=\"neg_log_loss\"\n",
    ")\n",
    "\n",
    "# model fitting\n",
    "GS_RF.fit(X_train, y_train)\n",
    "\n",
    "# evaluate on validation set\n",
    "log_loss(y_val, GS_RF.predict_proba(X_val))"
   ]
  },
  {
   "cell_type": "code",
   "execution_count": 17,
   "metadata": {},
   "outputs": [
    {
     "data": {
      "image/png": "[encoded data removed]",
      "text/plain": [
       "<matplotlib.figure.Figure at 0x7f151e451198>"
      ]
     },
     "metadata": {},
     "output_type": "display_data"
    }
   ],
   "source": [
    "forest = GS_RF.best_estimator_\n",
    "imps = forest.feature_importances_\n",
    "idx = np.argsort(imps)\n",
    "cols = df_train.drop([\"home_win\"], axis=1).columns[idx]\n",
    "\n",
    "plt.barh(range(len(imps)), imps[idx])\n",
    "plt.yticks(range(len(imps)), cols[idx])\n",
    "plt.title(\"Feature Importances\");"
   ]
  }
 ],
 "metadata": {
  "kernelspec": {
   "display_name": "Python 3",
   "language": "python",
   "name": "python3"
  },
  "language_info": {
   "codemirror_mode": {
    "name": "ipython",
    "version": 3
   },
   "file_extension": ".py",
   "mimetype": "text/x-python",
   "name": "python",
   "nbconvert_exporter": "python",
   "pygments_lexer": "ipython3",
   "version": "3.6.5"
  }
 },
 "nbformat": 4,
 "nbformat_minor": 2
}
