{
 "cells": [
  {
   "cell_type": "markdown",
   "metadata": {},
   "source": [
    "# Feature Generation\n",
    "This notebooks contains the feature engineering for the second model iteration."
   ]
  },
  {
   "cell_type": "markdown",
   "metadata": {},
   "source": [
    "# Imports"
   ]
  },
  {
   "cell_type": "code",
   "execution_count": 1,
   "metadata": {},
   "outputs": [],
   "source": [
    "# Necessary to import custom modules\n",
    "import os\n",
    "from pathlib import Path\n",
    "os.chdir(\"/home/jovyan/work\")\n",
    "\n",
    "import pandas as pd\n",
    "\n",
    "\n",
    "from src.features import get_feature"
   ]
  },
  {
   "cell_type": "markdown",
   "metadata": {},
   "source": [
    "# Processing\n",
    "The overall processing consists of two steps:\n",
    "1. get all features per team (e.g. wins as home team in 2016/2017), ...\n",
    "2. get all games in the format team_home|team_guest|score_home|score_guest|home_win"
   ]
  },
  {
   "cell_type": "markdown",
   "metadata": {},
   "source": [
    "### Features per team"
   ]
  },
  {
   "cell_type": "code",
   "execution_count": 2,
   "metadata": {},
   "outputs": [
    {
     "data": {
      "text/html": [
       "<div>\n",
       "<style scoped>\n",
       "    .dataframe tbody tr th:only-of-type {\n",
       "        vertical-align: middle;\n",
       "    }\n",
       "\n",
       "    .dataframe tbody tr th {\n",
       "        vertical-align: top;\n",
       "    }\n",
       "\n",
       "    .dataframe thead th {\n",
       "        text-align: right;\n",
       "    }\n",
       "</style>\n",
       "<table border=\"1\" class=\"dataframe\">\n",
       "  <thead>\n",
       "    <tr style=\"text-align: right;\">\n",
       "      <th></th>\n",
       "      <th>avg_pts</th>\n",
       "      <th>team</th>\n",
       "      <th>team_abbreviation</th>\n",
       "      <th>game</th>\n",
       "      <th>game_id</th>\n",
       "      <th>game_type</th>\n",
       "      <th>season</th>\n",
       "      <th>preceeding_season</th>\n",
       "    </tr>\n",
       "  </thead>\n",
       "  <tbody>\n",
       "    <tr>\n",
       "      <th>0</th>\n",
       "      <td>865.50</td>\n",
       "      <td>Atlanta Hawks</td>\n",
       "      <td>ATL</td>\n",
       "      <td>ATL at HOU</td>\n",
       "      <td>34683</td>\n",
       "      <td>regular_season</td>\n",
       "      <td>2016/2017</td>\n",
       "      <td>2015/2016</td>\n",
       "    </tr>\n",
       "    <tr>\n",
       "      <th>1</th>\n",
       "      <td>865.50</td>\n",
       "      <td>Atlanta Hawks</td>\n",
       "      <td>ATL</td>\n",
       "      <td>UTA at ATL</td>\n",
       "      <td>34712</td>\n",
       "      <td>regular_season</td>\n",
       "      <td>2016/2017</td>\n",
       "      <td>2015/2016</td>\n",
       "    </tr>\n",
       "    <tr>\n",
       "      <th>2</th>\n",
       "      <td>865.50</td>\n",
       "      <td>Atlanta Hawks</td>\n",
       "      <td>ATL</td>\n",
       "      <td>TOR at ATL</td>\n",
       "      <td>34909</td>\n",
       "      <td>regular_season</td>\n",
       "      <td>2016/2017</td>\n",
       "      <td>2015/2016</td>\n",
       "    </tr>\n",
       "    <tr>\n",
       "      <th>3</th>\n",
       "      <td>968.75</td>\n",
       "      <td>Atlanta Hawks</td>\n",
       "      <td>ATL</td>\n",
       "      <td>HOU at ATL</td>\n",
       "      <td>34024</td>\n",
       "      <td>regular_season</td>\n",
       "      <td>2016/2017</td>\n",
       "      <td>2015/2016</td>\n",
       "    </tr>\n",
       "    <tr>\n",
       "      <th>4</th>\n",
       "      <td>861.00</td>\n",
       "      <td>Atlanta Hawks</td>\n",
       "      <td>ATL</td>\n",
       "      <td>ATL at ORL</td>\n",
       "      <td>34807</td>\n",
       "      <td>regular_season</td>\n",
       "      <td>2016/2017</td>\n",
       "      <td>2015/2016</td>\n",
       "    </tr>\n",
       "  </tbody>\n",
       "</table>\n",
       "</div>"
      ],
      "text/plain": [
       "   avg_pts           team team_abbreviation        game  game_id  \\\n",
       "0   865.50  Atlanta Hawks               ATL  ATL at HOU    34683   \n",
       "1   865.50  Atlanta Hawks               ATL  UTA at ATL    34712   \n",
       "2   865.50  Atlanta Hawks               ATL  TOR at ATL    34909   \n",
       "3   968.75  Atlanta Hawks               ATL  HOU at ATL    34024   \n",
       "4   861.00  Atlanta Hawks               ATL  ATL at ORL    34807   \n",
       "\n",
       "        game_type     season preceeding_season  \n",
       "0  regular_season  2016/2017         2015/2016  \n",
       "1  regular_season  2016/2017         2015/2016  \n",
       "2  regular_season  2016/2017         2015/2016  \n",
       "3  regular_season  2016/2017         2015/2016  \n",
       "4  regular_season  2016/2017         2015/2016  "
      ]
     },
     "execution_count": 2,
     "metadata": {},
     "output_type": "execute_result"
    }
   ],
   "source": [
    "df_avg_starter_pts = get_feature(\"avg_starter_score_preceeding_season\")\n",
    "df_avg_starter_pts.head()"
   ]
  },
  {
   "cell_type": "markdown",
   "metadata": {},
   "source": [
    "### All games with score"
   ]
  },
  {
   "cell_type": "code",
   "execution_count": 49,
   "metadata": {
    "scrolled": true
   },
   "outputs": [
    {
     "data": {
      "text/html": [
       "<div>\n",
       "<style scoped>\n",
       "    .dataframe tbody tr th:only-of-type {\n",
       "        vertical-align: middle;\n",
       "    }\n",
       "\n",
       "    .dataframe tbody tr th {\n",
       "        vertical-align: top;\n",
       "    }\n",
       "\n",
       "    .dataframe thead th {\n",
       "        text-align: right;\n",
       "    }\n",
       "</style>\n",
       "<table border=\"1\" class=\"dataframe\">\n",
       "  <thead>\n",
       "    <tr style=\"text-align: right;\">\n",
       "      <th></th>\n",
       "      <th>game_id</th>\n",
       "      <th>season</th>\n",
       "      <th>team_home</th>\n",
       "      <th>team_guest</th>\n",
       "      <th>score_home</th>\n",
       "      <th>score_guest</th>\n",
       "      <th>home_win</th>\n",
       "    </tr>\n",
       "  </thead>\n",
       "  <tbody>\n",
       "    <tr>\n",
       "      <th>0</th>\n",
       "      <td>43285</td>\n",
       "      <td>2017/2018</td>\n",
       "      <td>Boston Celtics</td>\n",
       "      <td>Brooklyn Nets</td>\n",
       "      <td>110</td>\n",
       "      <td>97</td>\n",
       "      <td>1</td>\n",
       "    </tr>\n",
       "    <tr>\n",
       "      <th>1</th>\n",
       "      <td>43253</td>\n",
       "      <td>2017/2018</td>\n",
       "      <td>Chicago Bulls</td>\n",
       "      <td>Brooklyn Nets</td>\n",
       "      <td>96</td>\n",
       "      <td>124</td>\n",
       "      <td>0</td>\n",
       "    </tr>\n",
       "    <tr>\n",
       "      <th>2</th>\n",
       "      <td>43238</td>\n",
       "      <td>2017/2018</td>\n",
       "      <td>Milwaukee Bucks</td>\n",
       "      <td>Brooklyn Nets</td>\n",
       "      <td>111</td>\n",
       "      <td>119</td>\n",
       "      <td>0</td>\n",
       "    </tr>\n",
       "    <tr>\n",
       "      <th>3</th>\n",
       "      <td>43216</td>\n",
       "      <td>2017/2018</td>\n",
       "      <td>Philadelphia 76ers</td>\n",
       "      <td>Brooklyn Nets</td>\n",
       "      <td>121</td>\n",
       "      <td>95</td>\n",
       "      <td>1</td>\n",
       "    </tr>\n",
       "    <tr>\n",
       "      <th>4</th>\n",
       "      <td>43201</td>\n",
       "      <td>2017/2018</td>\n",
       "      <td>Miami Heat</td>\n",
       "      <td>Brooklyn Nets</td>\n",
       "      <td>109</td>\n",
       "      <td>110</td>\n",
       "      <td>0</td>\n",
       "    </tr>\n",
       "  </tbody>\n",
       "</table>\n",
       "</div>"
      ],
      "text/plain": [
       "   game_id     season           team_home     team_guest  score_home  \\\n",
       "0    43285  2017/2018      Boston Celtics  Brooklyn Nets         110   \n",
       "1    43253  2017/2018       Chicago Bulls  Brooklyn Nets          96   \n",
       "2    43238  2017/2018     Milwaukee Bucks  Brooklyn Nets         111   \n",
       "3    43216  2017/2018  Philadelphia 76ers  Brooklyn Nets         121   \n",
       "4    43201  2017/2018          Miami Heat  Brooklyn Nets         109   \n",
       "\n",
       "   score_guest  home_win  \n",
       "0           97         1  \n",
       "1          124         0  \n",
       "2          119         0  \n",
       "3           95         1  \n",
       "4          110         0  "
      ]
     },
     "execution_count": 49,
     "metadata": {},
     "output_type": "execute_result"
    }
   ],
   "source": [
    "df_games = get_feature(\"all_games_with_id\")\n",
    "df_games.head()"
   ]
  },
  {
   "cell_type": "markdown",
   "metadata": {},
   "source": [
    "### Merging"
   ]
  },
  {
   "cell_type": "code",
   "execution_count": 50,
   "metadata": {},
   "outputs": [],
   "source": [
    "# avg home points of preceeding year based on starter \n",
    "df_home = df_avg_starter_pts.drop([\"game\", \"season\", \"preceeding_season\", \"team_abbreviation\"], axis=1).merge(\n",
    "    df_games.drop([\"team_guest\", \"season\", \"score_home\", \"score_guest\", \"home_win\"], axis=1),\n",
    "    left_on=[\"game_id\", \"team\"],\n",
    "    right_on=[\"game_id\", \"team_home\"]\n",
    ").drop([\"team_home\"], axis=1)\n",
    "\n",
    "# avg guest points of preceeding year based on starter \n",
    "df_guest = df_avg_starter_pts.drop([\"game\", \"season\", \"preceeding_season\", \"team_abbreviation\"], axis=1).merge(\n",
    "    df_games.drop([\"team_home\", \"season\", \"score_home\", \"score_guest\", \"home_win\"], axis=1),\n",
    "    left_on=[\"game_id\", \"team\"],\n",
    "    right_on=[\"game_id\", \"team_guest\"]\n",
    ").drop([\"team_guest\"], axis=1)"
   ]
  },
  {
   "cell_type": "markdown",
   "metadata": {},
   "source": [
    "### Final merging"
   ]
  },
  {
   "cell_type": "code",
   "execution_count": 53,
   "metadata": {},
   "outputs": [
    {
     "data": {
      "text/html": [
       "<div>\n",
       "<style scoped>\n",
       "    .dataframe tbody tr th:only-of-type {\n",
       "        vertical-align: middle;\n",
       "    }\n",
       "\n",
       "    .dataframe tbody tr th {\n",
       "        vertical-align: top;\n",
       "    }\n",
       "\n",
       "    .dataframe thead th {\n",
       "        text-align: right;\n",
       "    }\n",
       "</style>\n",
       "<table border=\"1\" class=\"dataframe\">\n",
       "  <thead>\n",
       "    <tr style=\"text-align: right;\">\n",
       "      <th></th>\n",
       "      <th>season</th>\n",
       "      <th>team_home</th>\n",
       "      <th>team_guest</th>\n",
       "      <th>avg_pts_home</th>\n",
       "      <th>avg_pts_guest</th>\n",
       "      <th>score_home</th>\n",
       "      <th>score_guest</th>\n",
       "      <th>home_win</th>\n",
       "    </tr>\n",
       "  </thead>\n",
       "  <tbody>\n",
       "    <tr>\n",
       "      <th>0</th>\n",
       "      <td>2016/2017</td>\n",
       "      <td>Atlanta Hawks</td>\n",
       "      <td>Utah Jazz</td>\n",
       "      <td>865.50</td>\n",
       "      <td>873.25</td>\n",
       "      <td>95</td>\n",
       "      <td>120</td>\n",
       "      <td>0</td>\n",
       "    </tr>\n",
       "    <tr>\n",
       "      <th>1</th>\n",
       "      <td>2016/2017</td>\n",
       "      <td>Atlanta Hawks</td>\n",
       "      <td>Toronto Raptors</td>\n",
       "      <td>865.50</td>\n",
       "      <td>890.25</td>\n",
       "      <td>105</td>\n",
       "      <td>99</td>\n",
       "      <td>1</td>\n",
       "    </tr>\n",
       "    <tr>\n",
       "      <th>2</th>\n",
       "      <td>2016/2017</td>\n",
       "      <td>Atlanta Hawks</td>\n",
       "      <td>Houston Rockets</td>\n",
       "      <td>968.75</td>\n",
       "      <td>1229.75</td>\n",
       "      <td>112</td>\n",
       "      <td>97</td>\n",
       "      <td>1</td>\n",
       "    </tr>\n",
       "    <tr>\n",
       "      <th>3</th>\n",
       "      <td>2016/2017</td>\n",
       "      <td>Atlanta Hawks</td>\n",
       "      <td>Brooklyn Nets</td>\n",
       "      <td>602.50</td>\n",
       "      <td>834.00</td>\n",
       "      <td>92</td>\n",
       "      <td>107</td>\n",
       "      <td>0</td>\n",
       "    </tr>\n",
       "    <tr>\n",
       "      <th>4</th>\n",
       "      <td>2016/2017</td>\n",
       "      <td>Atlanta Hawks</td>\n",
       "      <td>Boston Celtics</td>\n",
       "      <td>818.00</td>\n",
       "      <td>1148.25</td>\n",
       "      <td>123</td>\n",
       "      <td>116</td>\n",
       "      <td>1</td>\n",
       "    </tr>\n",
       "  </tbody>\n",
       "</table>\n",
       "</div>"
      ],
      "text/plain": [
       "      season      team_home       team_guest  avg_pts_home  avg_pts_guest  \\\n",
       "0  2016/2017  Atlanta Hawks        Utah Jazz        865.50         873.25   \n",
       "1  2016/2017  Atlanta Hawks  Toronto Raptors        865.50         890.25   \n",
       "2  2016/2017  Atlanta Hawks  Houston Rockets        968.75        1229.75   \n",
       "3  2016/2017  Atlanta Hawks    Brooklyn Nets        602.50         834.00   \n",
       "4  2016/2017  Atlanta Hawks   Boston Celtics        818.00        1148.25   \n",
       "\n",
       "   score_home  score_guest  home_win  \n",
       "0          95          120         0  \n",
       "1         105           99         1  \n",
       "2         112           97         1  \n",
       "3          92          107         0  \n",
       "4         123          116         1  "
      ]
     },
     "execution_count": 53,
     "metadata": {},
     "output_type": "execute_result"
    }
   ],
   "source": [
    "# final merging\n",
    "df_final = df_home.merge(\n",
    "    df_guest,\n",
    "    left_on=\"game_id\",\n",
    "    right_on=\"game_id\",\n",
    "    suffixes=[\"_home\", \"_guest\"]\n",
    ").merge(\n",
    "    df_games.drop([\"team_home\", \"team_guest\"], axis=1),\n",
    "    left_on=\"game_id\",\n",
    "    right_on=\"game_id\"\n",
    ")[[\"season\", \"team_home\", \"team_guest\", \"avg_pts_home\", \"avg_pts_guest\", \"score_home\", \"score_guest\", \"home_win\"]]\n",
    "df_final.head()"
   ]
  },
  {
   "cell_type": "markdown",
   "metadata": {},
   "source": [
    "# Persistence"
   ]
  },
  {
   "cell_type": "code",
   "execution_count": 54,
   "metadata": {},
   "outputs": [],
   "source": [
    "p = Path(\"./data/features\")\n",
    "if not p.exists():\n",
    "    p.mkdir(parents=True)\n",
    "df_final.to_csv(\"./data/features/second_iteration.csv\", index=False)"
   ]
  }
 ],
 "metadata": {
  "kernelspec": {
   "display_name": "Python 3",
   "language": "python",
   "name": "python3"
  },
  "language_info": {
   "codemirror_mode": {
    "name": "ipython",
    "version": 3
   },
   "file_extension": ".py",
   "mimetype": "text/x-python",
   "name": "python",
   "nbconvert_exporter": "python",
   "pygments_lexer": "ipython3",
   "version": "3.6.5"
  }
 },
 "nbformat": 4,
 "nbformat_minor": 2
}
