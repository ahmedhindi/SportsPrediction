{
 "cells": [
  {
   "cell_type": "markdown",
   "metadata": {},
   "source": [
    "# About\n",
    "This notebook contains a first simple ML model"
   ]
  },
  {
   "cell_type": "code",
   "execution_count": 209,
   "metadata": {},
   "outputs": [],
   "source": [
    "# Necessary to import custom modules\n",
    "import os\n",
    "os.chdir(\"/home/jovyan/work\")\n",
    "\n",
    "from neomodel import db\n",
    "import pandas as pd\n",
    "\n",
    "from src.utils import init_connection"
   ]
  },
  {
   "cell_type": "code",
   "execution_count": 210,
   "metadata": {},
   "outputs": [],
   "source": [
    "init_connection()"
   ]
  },
  {
   "cell_type": "code",
   "execution_count": 211,
   "metadata": {},
   "outputs": [],
   "source": [
    "cypher = \"\"\"\n",
    "MATCH \n",
    "    (t:Team)-[:SCORED]->(s:Score)-[:IN_GAME]->(g:Game)<-[:IN_GAME]-(s2:Score)<-[:SCORED]-(t2:Team), (sea:Season), (arena_game:Arena), (arena_t:Arena)\n",
    "WHERE \n",
    "    (g)-[:TOOK_PLACE_IN]->(sea)\n",
    "AND\n",
    "\t(g)-[:LOCATED_IN]->(arena_game)\n",
    "AND\n",
    "\t(t)-[:HAVE_HOME_COURT_AT]->(arena_t)\n",
    "RETURN \n",
    "    t.name as team, \n",
    "    sum(\n",
    "    \tCASE WHEN s.score > s2.score \n",
    "        AND g.game_type = \"regular_season\" \n",
    "        AND arena_game.name = arena_t.name\n",
    "        THEN 1 ELSE 0 END) \n",
    "    as wins_reg_home,\n",
    "    sum(\n",
    "    \tCASE WHEN s.score > s2.score \n",
    "        AND g.game_type = \"regular_season\" \n",
    "        AND arena_game.name <> arena_t.name\n",
    "        THEN 1 ELSE 0 END) \n",
    "    as wins_reg_away,\n",
    "    sum(\n",
    "    \tCASE WHEN s.score < s2.score \n",
    "        AND g.game_type = \"regular_season\" \n",
    "        AND arena_game.name = arena_t.name\n",
    "        THEN 1 ELSE 0 END) \n",
    "    as losses_reg_home,\n",
    "    sum(\n",
    "    \tCASE WHEN s.score < s2.score\n",
    "        AND g.game_type = \"regular_season\" \n",
    "        AND arena_game.name <> arena_t.name\n",
    "        THEN 1 ELSE 0 END) as losses_reg_away,\n",
    "\tsea.name as season\n",
    "ORDER BY \n",
    "    team, season\n",
    "\"\"\""
   ]
  },
  {
   "cell_type": "code",
   "execution_count": 212,
   "metadata": {},
   "outputs": [],
   "source": [
    "data, columns = db.cypher_query(cypher)"
   ]
  },
  {
   "cell_type": "code",
   "execution_count": 213,
   "metadata": {},
   "outputs": [],
   "source": [
    "df_results = pd.DataFrame(data=data, columns=columns)"
   ]
  },
  {
   "cell_type": "code",
   "execution_count": 214,
   "metadata": {},
   "outputs": [],
   "source": [
    "df_test = df_results.pivot(index=\"team\", columns=\"season\")"
   ]
  },
  {
   "cell_type": "code",
   "execution_count": 215,
   "metadata": {},
   "outputs": [],
   "source": [
    "cols = []\n",
    "for a, b in zip(df_test.columns.get_level_values(0), df_test.columns.get_level_values(1)):\n",
    "    cols.append(a+\"_\"+b)"
   ]
  },
  {
   "cell_type": "code",
   "execution_count": 216,
   "metadata": {},
   "outputs": [
    {
     "data": {
      "text/plain": [
       "['wins_reg_home_2015/2016',\n",
       " 'wins_reg_home_2016/2017',\n",
       " 'wins_reg_home_2017/2018',\n",
       " 'wins_reg_away_2015/2016',\n",
       " 'wins_reg_away_2016/2017',\n",
       " 'wins_reg_away_2017/2018',\n",
       " 'losses_reg_home_2015/2016',\n",
       " 'losses_reg_home_2016/2017',\n",
       " 'losses_reg_home_2017/2018',\n",
       " 'losses_reg_away_2015/2016',\n",
       " 'losses_reg_away_2016/2017',\n",
       " 'losses_reg_away_2017/2018']"
      ]
     },
     "execution_count": 216,
     "metadata": {},
     "output_type": "execute_result"
    }
   ],
   "source": [
    "cols"
   ]
  },
  {
   "cell_type": "code",
   "execution_count": 217,
   "metadata": {},
   "outputs": [],
   "source": [
    "df_test.columns = cols"
   ]
  },
  {
   "cell_type": "code",
   "execution_count": 218,
   "metadata": {},
   "outputs": [
    {
     "data": {
      "text/html": [
       "<div>\n",
       "<table border=\"1\" class=\"dataframe\">\n",
       "  <thead>\n",
       "    <tr style=\"text-align: right;\">\n",
       "      <th></th>\n",
       "      <th>wins_reg_home_2015/2016</th>\n",
       "      <th>wins_reg_home_2016/2017</th>\n",
       "      <th>wins_reg_home_2017/2018</th>\n",
       "      <th>wins_reg_away_2015/2016</th>\n",
       "      <th>wins_reg_away_2016/2017</th>\n",
       "      <th>wins_reg_away_2017/2018</th>\n",
       "      <th>losses_reg_home_2015/2016</th>\n",
       "      <th>losses_reg_home_2016/2017</th>\n",
       "      <th>losses_reg_home_2017/2018</th>\n",
       "      <th>losses_reg_away_2015/2016</th>\n",
       "      <th>losses_reg_away_2016/2017</th>\n",
       "      <th>losses_reg_away_2017/2018</th>\n",
       "    </tr>\n",
       "    <tr>\n",
       "      <th>team</th>\n",
       "      <th></th>\n",
       "      <th></th>\n",
       "      <th></th>\n",
       "      <th></th>\n",
       "      <th></th>\n",
       "      <th></th>\n",
       "      <th></th>\n",
       "      <th></th>\n",
       "      <th></th>\n",
       "      <th></th>\n",
       "      <th></th>\n",
       "      <th></th>\n",
       "    </tr>\n",
       "  </thead>\n",
       "  <tbody>\n",
       "    <tr>\n",
       "      <th>Atlanta Hawks</th>\n",
       "      <td>27</td>\n",
       "      <td>23</td>\n",
       "      <td>16</td>\n",
       "      <td>21</td>\n",
       "      <td>20</td>\n",
       "      <td>8</td>\n",
       "      <td>14</td>\n",
       "      <td>18</td>\n",
       "      <td>25</td>\n",
       "      <td>20</td>\n",
       "      <td>21</td>\n",
       "      <td>33</td>\n",
       "    </tr>\n",
       "    <tr>\n",
       "      <th>Boston Celtics</th>\n",
       "      <td>28</td>\n",
       "      <td>30</td>\n",
       "      <td>27</td>\n",
       "      <td>20</td>\n",
       "      <td>23</td>\n",
       "      <td>28</td>\n",
       "      <td>13</td>\n",
       "      <td>11</td>\n",
       "      <td>14</td>\n",
       "      <td>21</td>\n",
       "      <td>18</td>\n",
       "      <td>13</td>\n",
       "    </tr>\n",
       "    <tr>\n",
       "      <th>Brooklyn Nets</th>\n",
       "      <td>14</td>\n",
       "      <td>13</td>\n",
       "      <td>15</td>\n",
       "      <td>7</td>\n",
       "      <td>7</td>\n",
       "      <td>13</td>\n",
       "      <td>27</td>\n",
       "      <td>28</td>\n",
       "      <td>26</td>\n",
       "      <td>34</td>\n",
       "      <td>34</td>\n",
       "      <td>28</td>\n",
       "    </tr>\n",
       "    <tr>\n",
       "      <th>Charlotte Hornets</th>\n",
       "      <td>30</td>\n",
       "      <td>22</td>\n",
       "      <td>21</td>\n",
       "      <td>18</td>\n",
       "      <td>14</td>\n",
       "      <td>15</td>\n",
       "      <td>11</td>\n",
       "      <td>19</td>\n",
       "      <td>20</td>\n",
       "      <td>23</td>\n",
       "      <td>27</td>\n",
       "      <td>26</td>\n",
       "    </tr>\n",
       "    <tr>\n",
       "      <th>Chicago Bulls</th>\n",
       "      <td>26</td>\n",
       "      <td>25</td>\n",
       "      <td>17</td>\n",
       "      <td>16</td>\n",
       "      <td>16</td>\n",
       "      <td>10</td>\n",
       "      <td>15</td>\n",
       "      <td>16</td>\n",
       "      <td>24</td>\n",
       "      <td>25</td>\n",
       "      <td>25</td>\n",
       "      <td>31</td>\n",
       "    </tr>\n",
       "  </tbody>\n",
       "</table>\n",
       "</div>"
      ],
      "text/plain": [
       "                   wins_reg_home_2015/2016  wins_reg_home_2016/2017  \\\n",
       "team                                                                  \n",
       "Atlanta Hawks                           27                       23   \n",
       "Boston Celtics                          28                       30   \n",
       "Brooklyn Nets                           14                       13   \n",
       "Charlotte Hornets                       30                       22   \n",
       "Chicago Bulls                           26                       25   \n",
       "\n",
       "                   wins_reg_home_2017/2018  wins_reg_away_2015/2016  \\\n",
       "team                                                                  \n",
       "Atlanta Hawks                           16                       21   \n",
       "Boston Celtics                          27                       20   \n",
       "Brooklyn Nets                           15                        7   \n",
       "Charlotte Hornets                       21                       18   \n",
       "Chicago Bulls                           17                       16   \n",
       "\n",
       "                   wins_reg_away_2016/2017  wins_reg_away_2017/2018  \\\n",
       "team                                                                  \n",
       "Atlanta Hawks                           20                        8   \n",
       "Boston Celtics                          23                       28   \n",
       "Brooklyn Nets                            7                       13   \n",
       "Charlotte Hornets                       14                       15   \n",
       "Chicago Bulls                           16                       10   \n",
       "\n",
       "                   losses_reg_home_2015/2016  losses_reg_home_2016/2017  \\\n",
       "team                                                                      \n",
       "Atlanta Hawks                             14                         18   \n",
       "Boston Celtics                            13                         11   \n",
       "Brooklyn Nets                             27                         28   \n",
       "Charlotte Hornets                         11                         19   \n",
       "Chicago Bulls                             15                         16   \n",
       "\n",
       "                   losses_reg_home_2017/2018  losses_reg_away_2015/2016  \\\n",
       "team                                                                      \n",
       "Atlanta Hawks                             25                         20   \n",
       "Boston Celtics                            14                         21   \n",
       "Brooklyn Nets                             26                         34   \n",
       "Charlotte Hornets                         20                         23   \n",
       "Chicago Bulls                             24                         25   \n",
       "\n",
       "                   losses_reg_away_2016/2017  losses_reg_away_2017/2018  \n",
       "team                                                                     \n",
       "Atlanta Hawks                             21                         33  \n",
       "Boston Celtics                            18                         13  \n",
       "Brooklyn Nets                             34                         28  \n",
       "Charlotte Hornets                         27                         26  \n",
       "Chicago Bulls                             25                         31  "
      ]
     },
     "execution_count": 218,
     "metadata": {},
     "output_type": "execute_result"
    }
   ],
   "source": [
    "df_test.head()"
   ]
  },
  {
   "cell_type": "markdown",
   "metadata": {},
   "source": [
    "#### Extract Matchup"
   ]
  },
  {
   "cell_type": "markdown",
   "metadata": {},
   "source": [
    "```\n",
    "MATCH \n",
    "\t(t:Team)-[:SCORED]->(s:Score)-[:IN_GAME]->(g:Game)<-[:IN_GAME]-(s2:Score)<-[:SCORED]-(t2:Team), (sea:Season)\n",
    "WHERE \n",
    "    (g)-[:TOOK_PLACE_IN]->(sea)\n",
    "AND\n",
    "\tsea.name = \"2017/2018\"\n",
    "AND\n",
    "\tg.game_type = \"regular_season\"\n",
    "WITH g, collect(t.name) as teams, collect(s.score) as scores\n",
    "RETURN\n",
    "\tHEAD(teams) as teamA, HEAD(TAIL(scores)) as scoreA, HEAD(TAIL(teams)) as teamB, HEAD(scores) as scoreB\n",
    "```"
   ]
  },
  {
   "cell_type": "code",
   "execution_count": 219,
   "metadata": {},
   "outputs": [],
   "source": [
    "cypher = \"\"\"\n",
    "MATCH \n",
    "\t(t:Team)-[:SCORED]->(s:Score)-[:IN_GAME]->(g:Game)<-[:IN_GAME]-(s2:Score)<-[:SCORED]-(t2:Team), (sea:Season)\n",
    "WHERE \n",
    "    (g)-[:TOOK_PLACE_IN]->(sea)\n",
    "AND\n",
    "\tsea.name = \"2017/2018\"\n",
    "AND\n",
    "\tg.game_type = \"regular_season\"\n",
    "WITH g, collect(t.name) as teams, collect(s.score) as scores\n",
    "RETURN\n",
    "\tHEAD(teams) as teamA, HEAD(TAIL(scores)) as scoreA, HEAD(TAIL(teams)) as teamB, HEAD(scores) as scoreB\n",
    "\"\"\""
   ]
  },
  {
   "cell_type": "code",
   "execution_count": 220,
   "metadata": {},
   "outputs": [],
   "source": [
    "data, cols = db.cypher_query(cypher)"
   ]
  },
  {
   "cell_type": "code",
   "execution_count": 221,
   "metadata": {},
   "outputs": [],
   "source": [
    "df_matches = pd.DataFrame(data=data, columns=cols)"
   ]
  },
  {
   "cell_type": "code",
   "execution_count": 222,
   "metadata": {},
   "outputs": [],
   "source": [
    "df_matches[\"teamAWinner\"] =df_matches[\"scoreA\"] > df_matches[\"scoreB\"]"
   ]
  },
  {
   "cell_type": "code",
   "execution_count": 223,
   "metadata": {},
   "outputs": [
    {
     "data": {
      "text/html": [
       "<div>\n",
       "<table border=\"1\" class=\"dataframe\">\n",
       "  <thead>\n",
       "    <tr style=\"text-align: right;\">\n",
       "      <th></th>\n",
       "      <th>team</th>\n",
       "      <th>wins_reg_home_2015/2016</th>\n",
       "      <th>wins_reg_home_2016/2017</th>\n",
       "      <th>wins_reg_home_2017/2018</th>\n",
       "      <th>wins_reg_away_2015/2016</th>\n",
       "      <th>wins_reg_away_2016/2017</th>\n",
       "      <th>wins_reg_away_2017/2018</th>\n",
       "      <th>losses_reg_home_2015/2016</th>\n",
       "      <th>losses_reg_home_2016/2017</th>\n",
       "      <th>losses_reg_home_2017/2018</th>\n",
       "      <th>losses_reg_away_2015/2016</th>\n",
       "      <th>losses_reg_away_2016/2017</th>\n",
       "      <th>losses_reg_away_2017/2018</th>\n",
       "    </tr>\n",
       "  </thead>\n",
       "  <tbody>\n",
       "    <tr>\n",
       "      <th>0</th>\n",
       "      <td>Atlanta Hawks</td>\n",
       "      <td>27</td>\n",
       "      <td>23</td>\n",
       "      <td>16</td>\n",
       "      <td>21</td>\n",
       "      <td>20</td>\n",
       "      <td>8</td>\n",
       "      <td>14</td>\n",
       "      <td>18</td>\n",
       "      <td>25</td>\n",
       "      <td>20</td>\n",
       "      <td>21</td>\n",
       "      <td>33</td>\n",
       "    </tr>\n",
       "    <tr>\n",
       "      <th>1</th>\n",
       "      <td>Boston Celtics</td>\n",
       "      <td>28</td>\n",
       "      <td>30</td>\n",
       "      <td>27</td>\n",
       "      <td>20</td>\n",
       "      <td>23</td>\n",
       "      <td>28</td>\n",
       "      <td>13</td>\n",
       "      <td>11</td>\n",
       "      <td>14</td>\n",
       "      <td>21</td>\n",
       "      <td>18</td>\n",
       "      <td>13</td>\n",
       "    </tr>\n",
       "    <tr>\n",
       "      <th>2</th>\n",
       "      <td>Brooklyn Nets</td>\n",
       "      <td>14</td>\n",
       "      <td>13</td>\n",
       "      <td>15</td>\n",
       "      <td>7</td>\n",
       "      <td>7</td>\n",
       "      <td>13</td>\n",
       "      <td>27</td>\n",
       "      <td>28</td>\n",
       "      <td>26</td>\n",
       "      <td>34</td>\n",
       "      <td>34</td>\n",
       "      <td>28</td>\n",
       "    </tr>\n",
       "    <tr>\n",
       "      <th>3</th>\n",
       "      <td>Charlotte Hornets</td>\n",
       "      <td>30</td>\n",
       "      <td>22</td>\n",
       "      <td>21</td>\n",
       "      <td>18</td>\n",
       "      <td>14</td>\n",
       "      <td>15</td>\n",
       "      <td>11</td>\n",
       "      <td>19</td>\n",
       "      <td>20</td>\n",
       "      <td>23</td>\n",
       "      <td>27</td>\n",
       "      <td>26</td>\n",
       "    </tr>\n",
       "    <tr>\n",
       "      <th>4</th>\n",
       "      <td>Chicago Bulls</td>\n",
       "      <td>26</td>\n",
       "      <td>25</td>\n",
       "      <td>17</td>\n",
       "      <td>16</td>\n",
       "      <td>16</td>\n",
       "      <td>10</td>\n",
       "      <td>15</td>\n",
       "      <td>16</td>\n",
       "      <td>24</td>\n",
       "      <td>25</td>\n",
       "      <td>25</td>\n",
       "      <td>31</td>\n",
       "    </tr>\n",
       "  </tbody>\n",
       "</table>\n",
       "</div>"
      ],
      "text/plain": [
       "                team  wins_reg_home_2015/2016  wins_reg_home_2016/2017  \\\n",
       "0      Atlanta Hawks                       27                       23   \n",
       "1     Boston Celtics                       28                       30   \n",
       "2      Brooklyn Nets                       14                       13   \n",
       "3  Charlotte Hornets                       30                       22   \n",
       "4      Chicago Bulls                       26                       25   \n",
       "\n",
       "   wins_reg_home_2017/2018  wins_reg_away_2015/2016  wins_reg_away_2016/2017  \\\n",
       "0                       16                       21                       20   \n",
       "1                       27                       20                       23   \n",
       "2                       15                        7                        7   \n",
       "3                       21                       18                       14   \n",
       "4                       17                       16                       16   \n",
       "\n",
       "   wins_reg_away_2017/2018  losses_reg_home_2015/2016  \\\n",
       "0                        8                         14   \n",
       "1                       28                         13   \n",
       "2                       13                         27   \n",
       "3                       15                         11   \n",
       "4                       10                         15   \n",
       "\n",
       "   losses_reg_home_2016/2017  losses_reg_home_2017/2018  \\\n",
       "0                         18                         25   \n",
       "1                         11                         14   \n",
       "2                         28                         26   \n",
       "3                         19                         20   \n",
       "4                         16                         24   \n",
       "\n",
       "   losses_reg_away_2015/2016  losses_reg_away_2016/2017  \\\n",
       "0                         20                         21   \n",
       "1                         21                         18   \n",
       "2                         34                         34   \n",
       "3                         23                         27   \n",
       "4                         25                         25   \n",
       "\n",
       "   losses_reg_away_2017/2018  \n",
       "0                         33  \n",
       "1                         13  \n",
       "2                         28  \n",
       "3                         26  \n",
       "4                         31  "
      ]
     },
     "execution_count": 223,
     "metadata": {},
     "output_type": "execute_result"
    }
   ],
   "source": [
    "df_test.head().reset_index()"
   ]
  },
  {
   "cell_type": "code",
   "execution_count": 224,
   "metadata": {},
   "outputs": [
    {
     "data": {
      "text/html": [
       "<div>\n",
       "<table border=\"1\" class=\"dataframe\">\n",
       "  <thead>\n",
       "    <tr style=\"text-align: right;\">\n",
       "      <th></th>\n",
       "      <th>teamA</th>\n",
       "      <th>scoreA</th>\n",
       "      <th>teamB</th>\n",
       "      <th>scoreB</th>\n",
       "      <th>teamAWinner</th>\n",
       "    </tr>\n",
       "  </thead>\n",
       "  <tbody>\n",
       "    <tr>\n",
       "      <th>0</th>\n",
       "      <td>Miami Heat</td>\n",
       "      <td>79</td>\n",
       "      <td>Cleveland Cavaliers</td>\n",
       "      <td>98</td>\n",
       "      <td>False</td>\n",
       "    </tr>\n",
       "    <tr>\n",
       "      <th>1</th>\n",
       "      <td>Atlanta Hawks</td>\n",
       "      <td>117</td>\n",
       "      <td>Milwaukee Bucks</td>\n",
       "      <td>106</td>\n",
       "      <td>True</td>\n",
       "    </tr>\n",
       "    <tr>\n",
       "      <th>2</th>\n",
       "      <td>Utah Jazz</td>\n",
       "      <td>106</td>\n",
       "      <td>Brooklyn Nets</td>\n",
       "      <td>114</td>\n",
       "      <td>False</td>\n",
       "    </tr>\n",
       "    <tr>\n",
       "      <th>3</th>\n",
       "      <td>Indiana Pacers</td>\n",
       "      <td>95</td>\n",
       "      <td>Cleveland Cavaliers</td>\n",
       "      <td>97</td>\n",
       "      <td>False</td>\n",
       "    </tr>\n",
       "    <tr>\n",
       "      <th>4</th>\n",
       "      <td>Cleveland Cavaliers</td>\n",
       "      <td>111</td>\n",
       "      <td>Memphis Grizzlies</td>\n",
       "      <td>116</td>\n",
       "      <td>False</td>\n",
       "    </tr>\n",
       "  </tbody>\n",
       "</table>\n",
       "</div>"
      ],
      "text/plain": [
       "                 teamA  scoreA                teamB  scoreB teamAWinner\n",
       "0           Miami Heat      79  Cleveland Cavaliers      98       False\n",
       "1        Atlanta Hawks     117      Milwaukee Bucks     106        True\n",
       "2            Utah Jazz     106        Brooklyn Nets     114       False\n",
       "3       Indiana Pacers      95  Cleveland Cavaliers      97       False\n",
       "4  Cleveland Cavaliers     111    Memphis Grizzlies     116       False"
      ]
     },
     "execution_count": 224,
     "metadata": {},
     "output_type": "execute_result"
    }
   ],
   "source": [
    "df_matches.head()"
   ]
  },
  {
   "cell_type": "code",
   "execution_count": 225,
   "metadata": {
    "scrolled": false
   },
   "outputs": [
    {
     "data": {
      "text/html": [
       "<div>\n",
       "<table border=\"1\" class=\"dataframe\">\n",
       "  <thead>\n",
       "    <tr style=\"text-align: right;\">\n",
       "      <th></th>\n",
       "      <th>teamA</th>\n",
       "      <th>scoreA</th>\n",
       "      <th>teamB</th>\n",
       "      <th>scoreB</th>\n",
       "      <th>teamAWinner</th>\n",
       "      <th>team</th>\n",
       "      <th>wins_reg_home_2015/2016</th>\n",
       "      <th>wins_reg_home_2016/2017</th>\n",
       "      <th>wins_reg_home_2017/2018</th>\n",
       "      <th>wins_reg_away_2015/2016</th>\n",
       "      <th>wins_reg_away_2016/2017</th>\n",
       "      <th>wins_reg_away_2017/2018</th>\n",
       "      <th>losses_reg_home_2015/2016</th>\n",
       "      <th>losses_reg_home_2016/2017</th>\n",
       "      <th>losses_reg_home_2017/2018</th>\n",
       "      <th>losses_reg_away_2015/2016</th>\n",
       "      <th>losses_reg_away_2016/2017</th>\n",
       "      <th>losses_reg_away_2017/2018</th>\n",
       "    </tr>\n",
       "  </thead>\n",
       "  <tbody>\n",
       "    <tr>\n",
       "      <th>0</th>\n",
       "      <td>Miami Heat</td>\n",
       "      <td>79</td>\n",
       "      <td>Cleveland Cavaliers</td>\n",
       "      <td>98</td>\n",
       "      <td>False</td>\n",
       "      <td>Miami Heat</td>\n",
       "      <td>28</td>\n",
       "      <td>23</td>\n",
       "      <td>26</td>\n",
       "      <td>20</td>\n",
       "      <td>18</td>\n",
       "      <td>18</td>\n",
       "      <td>13</td>\n",
       "      <td>18</td>\n",
       "      <td>15</td>\n",
       "      <td>21</td>\n",
       "      <td>23</td>\n",
       "      <td>23</td>\n",
       "    </tr>\n",
       "    <tr>\n",
       "      <th>1</th>\n",
       "      <td>Miami Heat</td>\n",
       "      <td>141</td>\n",
       "      <td>Denver Nuggets</td>\n",
       "      <td>149</td>\n",
       "      <td>False</td>\n",
       "      <td>Miami Heat</td>\n",
       "      <td>28</td>\n",
       "      <td>23</td>\n",
       "      <td>26</td>\n",
       "      <td>20</td>\n",
       "      <td>18</td>\n",
       "      <td>18</td>\n",
       "      <td>13</td>\n",
       "      <td>18</td>\n",
       "      <td>15</td>\n",
       "      <td>21</td>\n",
       "      <td>23</td>\n",
       "      <td>23</td>\n",
       "    </tr>\n",
       "    <tr>\n",
       "      <th>2</th>\n",
       "      <td>Miami Heat</td>\n",
       "      <td>96</td>\n",
       "      <td>Boston Celtics</td>\n",
       "      <td>90</td>\n",
       "      <td>True</td>\n",
       "      <td>Miami Heat</td>\n",
       "      <td>28</td>\n",
       "      <td>23</td>\n",
       "      <td>26</td>\n",
       "      <td>20</td>\n",
       "      <td>18</td>\n",
       "      <td>18</td>\n",
       "      <td>13</td>\n",
       "      <td>18</td>\n",
       "      <td>15</td>\n",
       "      <td>21</td>\n",
       "      <td>23</td>\n",
       "      <td>23</td>\n",
       "    </tr>\n",
       "    <tr>\n",
       "      <th>3</th>\n",
       "      <td>Miami Heat</td>\n",
       "      <td>109</td>\n",
       "      <td>New Orleans Pelicans</td>\n",
       "      <td>94</td>\n",
       "      <td>True</td>\n",
       "      <td>Miami Heat</td>\n",
       "      <td>28</td>\n",
       "      <td>23</td>\n",
       "      <td>26</td>\n",
       "      <td>20</td>\n",
       "      <td>18</td>\n",
       "      <td>18</td>\n",
       "      <td>13</td>\n",
       "      <td>18</td>\n",
       "      <td>15</td>\n",
       "      <td>21</td>\n",
       "      <td>23</td>\n",
       "      <td>23</td>\n",
       "    </tr>\n",
       "    <tr>\n",
       "      <th>4</th>\n",
       "      <td>Miami Heat</td>\n",
       "      <td>120</td>\n",
       "      <td>Indiana Pacers</td>\n",
       "      <td>95</td>\n",
       "      <td>True</td>\n",
       "      <td>Miami Heat</td>\n",
       "      <td>28</td>\n",
       "      <td>23</td>\n",
       "      <td>26</td>\n",
       "      <td>20</td>\n",
       "      <td>18</td>\n",
       "      <td>18</td>\n",
       "      <td>13</td>\n",
       "      <td>18</td>\n",
       "      <td>15</td>\n",
       "      <td>21</td>\n",
       "      <td>23</td>\n",
       "      <td>23</td>\n",
       "    </tr>\n",
       "  </tbody>\n",
       "</table>\n",
       "</div>"
      ],
      "text/plain": [
       "        teamA  scoreA                 teamB  scoreB teamAWinner        team  \\\n",
       "0  Miami Heat      79   Cleveland Cavaliers      98       False  Miami Heat   \n",
       "1  Miami Heat     141        Denver Nuggets     149       False  Miami Heat   \n",
       "2  Miami Heat      96        Boston Celtics      90        True  Miami Heat   \n",
       "3  Miami Heat     109  New Orleans Pelicans      94        True  Miami Heat   \n",
       "4  Miami Heat     120        Indiana Pacers      95        True  Miami Heat   \n",
       "\n",
       "   wins_reg_home_2015/2016  wins_reg_home_2016/2017  wins_reg_home_2017/2018  \\\n",
       "0                       28                       23                       26   \n",
       "1                       28                       23                       26   \n",
       "2                       28                       23                       26   \n",
       "3                       28                       23                       26   \n",
       "4                       28                       23                       26   \n",
       "\n",
       "   wins_reg_away_2015/2016  wins_reg_away_2016/2017  wins_reg_away_2017/2018  \\\n",
       "0                       20                       18                       18   \n",
       "1                       20                       18                       18   \n",
       "2                       20                       18                       18   \n",
       "3                       20                       18                       18   \n",
       "4                       20                       18                       18   \n",
       "\n",
       "   losses_reg_home_2015/2016  losses_reg_home_2016/2017  \\\n",
       "0                         13                         18   \n",
       "1                         13                         18   \n",
       "2                         13                         18   \n",
       "3                         13                         18   \n",
       "4                         13                         18   \n",
       "\n",
       "   losses_reg_home_2017/2018  losses_reg_away_2015/2016  \\\n",
       "0                         15                         21   \n",
       "1                         15                         21   \n",
       "2                         15                         21   \n",
       "3                         15                         21   \n",
       "4                         15                         21   \n",
       "\n",
       "   losses_reg_away_2016/2017  losses_reg_away_2017/2018  \n",
       "0                         23                         23  \n",
       "1                         23                         23  \n",
       "2                         23                         23  \n",
       "3                         23                         23  \n",
       "4                         23                         23  "
      ]
     },
     "execution_count": 225,
     "metadata": {},
     "output_type": "execute_result"
    }
   ],
   "source": [
    "pd.merge(df_matches, df_test.reset_index(), left_on=\"teamA\", right_on=\"team\").head()"
   ]
  },
  {
   "cell_type": "code",
   "execution_count": 226,
   "metadata": {},
   "outputs": [],
   "source": [
    "df_ml = pd.merge(\n",
    "    pd.merge(df_matches, df_test.reset_index(), left_on=\"teamA\", right_on=\"team\"),\n",
    "    df_test.reset_index(), \n",
    "    left_on=\"teamB\", \n",
    "    right_on=\"team\",\n",
    "    suffixes=[\"_A\", \"_B\"]\n",
    ").drop(\n",
    "    [\"scoreA\", \"scoreB\", \"teamA\", \"teamB\", \"team_A\", \"team_B\", \"wins_reg_home_2017/2018_A\", \"wins_reg_away_2017/2018_A\", \"wins_reg_home_2017/2018_B\", \"wins_reg_away_2017/2018_B\", \"losses_reg_home_2017/2018_A\", \"losses_reg_away_2017/2018_A\", \"losses_reg_home_2017/2018_B\", \"losses_reg_away_2017/2018_B\"], \n",
    "    axis=1)"
   ]
  },
  {
   "cell_type": "code",
   "execution_count": 227,
   "metadata": {},
   "outputs": [
    {
     "data": {
      "text/html": [
       "<div>\n",
       "<table border=\"1\" class=\"dataframe\">\n",
       "  <thead>\n",
       "    <tr style=\"text-align: right;\">\n",
       "      <th></th>\n",
       "      <th>teamAWinner</th>\n",
       "      <th>wins_reg_home_2015/2016_A</th>\n",
       "      <th>wins_reg_home_2016/2017_A</th>\n",
       "      <th>wins_reg_away_2015/2016_A</th>\n",
       "      <th>wins_reg_away_2016/2017_A</th>\n",
       "      <th>losses_reg_home_2015/2016_A</th>\n",
       "      <th>losses_reg_home_2016/2017_A</th>\n",
       "      <th>losses_reg_away_2015/2016_A</th>\n",
       "      <th>losses_reg_away_2016/2017_A</th>\n",
       "      <th>wins_reg_home_2015/2016_B</th>\n",
       "      <th>wins_reg_home_2016/2017_B</th>\n",
       "      <th>wins_reg_away_2015/2016_B</th>\n",
       "      <th>wins_reg_away_2016/2017_B</th>\n",
       "      <th>losses_reg_home_2015/2016_B</th>\n",
       "      <th>losses_reg_home_2016/2017_B</th>\n",
       "      <th>losses_reg_away_2015/2016_B</th>\n",
       "      <th>losses_reg_away_2016/2017_B</th>\n",
       "    </tr>\n",
       "  </thead>\n",
       "  <tbody>\n",
       "    <tr>\n",
       "      <th>0</th>\n",
       "      <td>False</td>\n",
       "      <td>28</td>\n",
       "      <td>23</td>\n",
       "      <td>20</td>\n",
       "      <td>18</td>\n",
       "      <td>13</td>\n",
       "      <td>18</td>\n",
       "      <td>21</td>\n",
       "      <td>23</td>\n",
       "      <td>33</td>\n",
       "      <td>31</td>\n",
       "      <td>24</td>\n",
       "      <td>20</td>\n",
       "      <td>8</td>\n",
       "      <td>10</td>\n",
       "      <td>17</td>\n",
       "      <td>21</td>\n",
       "    </tr>\n",
       "    <tr>\n",
       "      <th>1</th>\n",
       "      <td>True</td>\n",
       "      <td>27</td>\n",
       "      <td>23</td>\n",
       "      <td>21</td>\n",
       "      <td>20</td>\n",
       "      <td>14</td>\n",
       "      <td>18</td>\n",
       "      <td>20</td>\n",
       "      <td>21</td>\n",
       "      <td>33</td>\n",
       "      <td>31</td>\n",
       "      <td>24</td>\n",
       "      <td>20</td>\n",
       "      <td>8</td>\n",
       "      <td>10</td>\n",
       "      <td>17</td>\n",
       "      <td>21</td>\n",
       "    </tr>\n",
       "    <tr>\n",
       "      <th>2</th>\n",
       "      <td>True</td>\n",
       "      <td>27</td>\n",
       "      <td>23</td>\n",
       "      <td>21</td>\n",
       "      <td>20</td>\n",
       "      <td>14</td>\n",
       "      <td>18</td>\n",
       "      <td>20</td>\n",
       "      <td>21</td>\n",
       "      <td>33</td>\n",
       "      <td>31</td>\n",
       "      <td>24</td>\n",
       "      <td>20</td>\n",
       "      <td>8</td>\n",
       "      <td>10</td>\n",
       "      <td>17</td>\n",
       "      <td>21</td>\n",
       "    </tr>\n",
       "    <tr>\n",
       "      <th>3</th>\n",
       "      <td>False</td>\n",
       "      <td>24</td>\n",
       "      <td>29</td>\n",
       "      <td>16</td>\n",
       "      <td>22</td>\n",
       "      <td>17</td>\n",
       "      <td>12</td>\n",
       "      <td>25</td>\n",
       "      <td>19</td>\n",
       "      <td>33</td>\n",
       "      <td>31</td>\n",
       "      <td>24</td>\n",
       "      <td>20</td>\n",
       "      <td>8</td>\n",
       "      <td>10</td>\n",
       "      <td>17</td>\n",
       "      <td>21</td>\n",
       "    </tr>\n",
       "    <tr>\n",
       "      <th>4</th>\n",
       "      <td>False</td>\n",
       "      <td>26</td>\n",
       "      <td>29</td>\n",
       "      <td>19</td>\n",
       "      <td>13</td>\n",
       "      <td>15</td>\n",
       "      <td>12</td>\n",
       "      <td>22</td>\n",
       "      <td>28</td>\n",
       "      <td>33</td>\n",
       "      <td>31</td>\n",
       "      <td>24</td>\n",
       "      <td>20</td>\n",
       "      <td>8</td>\n",
       "      <td>10</td>\n",
       "      <td>17</td>\n",
       "      <td>21</td>\n",
       "    </tr>\n",
       "  </tbody>\n",
       "</table>\n",
       "</div>"
      ],
      "text/plain": [
       "  teamAWinner  wins_reg_home_2015/2016_A  wins_reg_home_2016/2017_A  \\\n",
       "0       False                         28                         23   \n",
       "1        True                         27                         23   \n",
       "2        True                         27                         23   \n",
       "3       False                         24                         29   \n",
       "4       False                         26                         29   \n",
       "\n",
       "   wins_reg_away_2015/2016_A  wins_reg_away_2016/2017_A  \\\n",
       "0                         20                         18   \n",
       "1                         21                         20   \n",
       "2                         21                         20   \n",
       "3                         16                         22   \n",
       "4                         19                         13   \n",
       "\n",
       "   losses_reg_home_2015/2016_A  losses_reg_home_2016/2017_A  \\\n",
       "0                           13                           18   \n",
       "1                           14                           18   \n",
       "2                           14                           18   \n",
       "3                           17                           12   \n",
       "4                           15                           12   \n",
       "\n",
       "   losses_reg_away_2015/2016_A  losses_reg_away_2016/2017_A  \\\n",
       "0                           21                           23   \n",
       "1                           20                           21   \n",
       "2                           20                           21   \n",
       "3                           25                           19   \n",
       "4                           22                           28   \n",
       "\n",
       "   wins_reg_home_2015/2016_B  wins_reg_home_2016/2017_B  \\\n",
       "0                         33                         31   \n",
       "1                         33                         31   \n",
       "2                         33                         31   \n",
       "3                         33                         31   \n",
       "4                         33                         31   \n",
       "\n",
       "   wins_reg_away_2015/2016_B  wins_reg_away_2016/2017_B  \\\n",
       "0                         24                         20   \n",
       "1                         24                         20   \n",
       "2                         24                         20   \n",
       "3                         24                         20   \n",
       "4                         24                         20   \n",
       "\n",
       "   losses_reg_home_2015/2016_B  losses_reg_home_2016/2017_B  \\\n",
       "0                            8                           10   \n",
       "1                            8                           10   \n",
       "2                            8                           10   \n",
       "3                            8                           10   \n",
       "4                            8                           10   \n",
       "\n",
       "   losses_reg_away_2015/2016_B  losses_reg_away_2016/2017_B  \n",
       "0                           17                           21  \n",
       "1                           17                           21  \n",
       "2                           17                           21  \n",
       "3                           17                           21  \n",
       "4                           17                           21  "
      ]
     },
     "execution_count": 227,
     "metadata": {},
     "output_type": "execute_result"
    }
   ],
   "source": [
    "df_ml.head()"
   ]
  },
  {
   "cell_type": "code",
   "execution_count": 228,
   "metadata": {},
   "outputs": [],
   "source": [
    "from sklearn.linear_model import LogisticRegression"
   ]
  },
  {
   "cell_type": "code",
   "execution_count": 229,
   "metadata": {},
   "outputs": [],
   "source": [
    "lr = LogisticRegression()"
   ]
  },
  {
   "cell_type": "code",
   "execution_count": 230,
   "metadata": {},
   "outputs": [],
   "source": [
    "from sklearn.model_selection import train_test_split"
   ]
  },
  {
   "cell_type": "code",
   "execution_count": 231,
   "metadata": {},
   "outputs": [
    {
     "data": {
      "text/plain": [
       "0.65259740259740262"
      ]
     },
     "execution_count": 231,
     "metadata": {},
     "output_type": "execute_result"
    }
   ],
   "source": [
    "X_train, X_test, y_train, y_test = train_test_split(\n",
    "    df_ml.drop(\"teamAWinner\", axis=1), \n",
    "    df_ml[\"teamAWinner\"]\n",
    ")\n",
    "\n",
    "lr.fit(X_train, y_train)\n",
    "\n",
    "lr.score(X_test, y_test)"
   ]
  },
  {
   "cell_type": "markdown",
   "metadata": {},
   "source": [
    "# Average Win Margin per Team "
   ]
  },
  {
   "cell_type": "markdown",
   "metadata": {},
   "source": [
    "## Validierung der eigentlichen Cypher-Query"
   ]
  },
  {
   "cell_type": "code",
   "execution_count": 232,
   "metadata": {},
   "outputs": [],
   "source": [
    "cypher = \"\"\"\n",
    "MATCH \n",
    "\t(t:Team)-[:SCORED]->(s:Score)-[:IN_GAME]->(g:Game)<-[:IN_GAME]-(s2:Score)<-[:SCORED]-(t2:Team), (sea:Season)\n",
    "WHERE \n",
    "    (g)-[:TOOK_PLACE_IN]->(sea)\n",
    "AND\n",
    "\tsea.name = \"2017/2018\"\n",
    "AND\n",
    "\tg.game_type = \"regular_season\"\n",
    "WITH g, collect(t.name) as teams, collect(s.score) as scores\n",
    "RETURN\n",
    "\tHEAD(teams) as teamA, HEAD(TAIL(scores)) as scoreA, HEAD(TAIL(teams)) as teamB, HEAD(scores) as scoreB\n",
    "\"\"\""
   ]
  },
  {
   "cell_type": "code",
   "execution_count": 233,
   "metadata": {},
   "outputs": [],
   "source": [
    "data, cols = db.cypher_query(cypher)"
   ]
  },
  {
   "cell_type": "code",
   "execution_count": 234,
   "metadata": {},
   "outputs": [],
   "source": [
    "df_matchesX = pd.DataFrame(data=data, columns=cols)"
   ]
  },
  {
   "cell_type": "code",
   "execution_count": 235,
   "metadata": {},
   "outputs": [
    {
     "data": {
      "text/html": [
       "<div>\n",
       "<table border=\"1\" class=\"dataframe\">\n",
       "  <thead>\n",
       "    <tr style=\"text-align: right;\">\n",
       "      <th></th>\n",
       "      <th>teamA</th>\n",
       "      <th>scoreA</th>\n",
       "      <th>teamB</th>\n",
       "      <th>scoreB</th>\n",
       "    </tr>\n",
       "  </thead>\n",
       "  <tbody>\n",
       "    <tr>\n",
       "      <th>0</th>\n",
       "      <td>Miami Heat</td>\n",
       "      <td>79</td>\n",
       "      <td>Cleveland Cavaliers</td>\n",
       "      <td>98</td>\n",
       "    </tr>\n",
       "    <tr>\n",
       "      <th>1</th>\n",
       "      <td>Atlanta Hawks</td>\n",
       "      <td>117</td>\n",
       "      <td>Milwaukee Bucks</td>\n",
       "      <td>106</td>\n",
       "    </tr>\n",
       "    <tr>\n",
       "      <th>2</th>\n",
       "      <td>Utah Jazz</td>\n",
       "      <td>106</td>\n",
       "      <td>Brooklyn Nets</td>\n",
       "      <td>114</td>\n",
       "    </tr>\n",
       "    <tr>\n",
       "      <th>3</th>\n",
       "      <td>Indiana Pacers</td>\n",
       "      <td>95</td>\n",
       "      <td>Cleveland Cavaliers</td>\n",
       "      <td>97</td>\n",
       "    </tr>\n",
       "    <tr>\n",
       "      <th>4</th>\n",
       "      <td>Cleveland Cavaliers</td>\n",
       "      <td>111</td>\n",
       "      <td>Memphis Grizzlies</td>\n",
       "      <td>116</td>\n",
       "    </tr>\n",
       "  </tbody>\n",
       "</table>\n",
       "</div>"
      ],
      "text/plain": [
       "                 teamA  scoreA                teamB  scoreB\n",
       "0           Miami Heat      79  Cleveland Cavaliers      98\n",
       "1        Atlanta Hawks     117      Milwaukee Bucks     106\n",
       "2            Utah Jazz     106        Brooklyn Nets     114\n",
       "3       Indiana Pacers      95  Cleveland Cavaliers      97\n",
       "4  Cleveland Cavaliers     111    Memphis Grizzlies     116"
      ]
     },
     "execution_count": 235,
     "metadata": {},
     "output_type": "execute_result"
    }
   ],
   "source": [
    "df_matchesX.head()"
   ]
  },
  {
   "cell_type": "code",
   "execution_count": 236,
   "metadata": {},
   "outputs": [],
   "source": [
    "df_matches2 = df_matchesX"
   ]
  },
  {
   "cell_type": "code",
   "execution_count": 237,
   "metadata": {},
   "outputs": [],
   "source": [
    "df_matches2[\"scoreMargin\"] = abs(df_matches2[\"scoreA\"]-df_matches2[\"scoreB\"])"
   ]
  },
  {
   "cell_type": "code",
   "execution_count": 238,
   "metadata": {},
   "outputs": [
    {
     "data": {
      "text/html": [
       "<div>\n",
       "<table border=\"1\" class=\"dataframe\">\n",
       "  <thead>\n",
       "    <tr style=\"text-align: right;\">\n",
       "      <th></th>\n",
       "      <th>teamA</th>\n",
       "      <th>scoreA</th>\n",
       "      <th>teamB</th>\n",
       "      <th>scoreB</th>\n",
       "      <th>scoreMargin</th>\n",
       "    </tr>\n",
       "  </thead>\n",
       "  <tbody>\n",
       "    <tr>\n",
       "      <th>0</th>\n",
       "      <td>Miami Heat</td>\n",
       "      <td>79</td>\n",
       "      <td>Cleveland Cavaliers</td>\n",
       "      <td>98</td>\n",
       "      <td>19</td>\n",
       "    </tr>\n",
       "    <tr>\n",
       "      <th>1</th>\n",
       "      <td>Atlanta Hawks</td>\n",
       "      <td>117</td>\n",
       "      <td>Milwaukee Bucks</td>\n",
       "      <td>106</td>\n",
       "      <td>11</td>\n",
       "    </tr>\n",
       "    <tr>\n",
       "      <th>2</th>\n",
       "      <td>Utah Jazz</td>\n",
       "      <td>106</td>\n",
       "      <td>Brooklyn Nets</td>\n",
       "      <td>114</td>\n",
       "      <td>8</td>\n",
       "    </tr>\n",
       "    <tr>\n",
       "      <th>3</th>\n",
       "      <td>Indiana Pacers</td>\n",
       "      <td>95</td>\n",
       "      <td>Cleveland Cavaliers</td>\n",
       "      <td>97</td>\n",
       "      <td>2</td>\n",
       "    </tr>\n",
       "    <tr>\n",
       "      <th>4</th>\n",
       "      <td>Cleveland Cavaliers</td>\n",
       "      <td>111</td>\n",
       "      <td>Memphis Grizzlies</td>\n",
       "      <td>116</td>\n",
       "      <td>5</td>\n",
       "    </tr>\n",
       "  </tbody>\n",
       "</table>\n",
       "</div>"
      ],
      "text/plain": [
       "                 teamA  scoreA                teamB  scoreB  scoreMargin\n",
       "0           Miami Heat      79  Cleveland Cavaliers      98           19\n",
       "1        Atlanta Hawks     117      Milwaukee Bucks     106           11\n",
       "2            Utah Jazz     106        Brooklyn Nets     114            8\n",
       "3       Indiana Pacers      95  Cleveland Cavaliers      97            2\n",
       "4  Cleveland Cavaliers     111    Memphis Grizzlies     116            5"
      ]
     },
     "execution_count": 238,
     "metadata": {},
     "output_type": "execute_result"
    }
   ],
   "source": [
    "df_matches2.head()"
   ]
  },
  {
   "cell_type": "code",
   "execution_count": 239,
   "metadata": {},
   "outputs": [],
   "source": [
    "a = [\"Atlanta Hawks\"]"
   ]
  },
  {
   "cell_type": "code",
   "execution_count": 240,
   "metadata": {},
   "outputs": [],
   "source": [
    "df_onlyBOSmatches = df_matches2[(df_matches2['teamA'].isin(a)) | (df_matches2['teamB'].isin(a)) ]"
   ]
  },
  {
   "cell_type": "code",
   "execution_count": 241,
   "metadata": {},
   "outputs": [
    {
     "data": {
      "text/plain": [
       "10.865853658536585"
      ]
     },
     "execution_count": 241,
     "metadata": {},
     "output_type": "execute_result"
    }
   ],
   "source": [
    "df_onlyBOSmatches[\"scoreMargin\"].mean()"
   ]
  },
  {
   "cell_type": "markdown",
   "metadata": {},
   "source": [
    "## Actual Cypher Query"
   ]
  },
  {
   "cell_type": "code",
   "execution_count": 242,
   "metadata": {},
   "outputs": [],
   "source": [
    "cypher = \"\"\"\n",
    "MATCH \n",
    "    (t:Team)-[:SCORED]->(s:Score)-[:IN_GAME]->(g:Game)<-[:IN_GAME]-(s2:Score)<-[:SCORED]-(t2:Team), (sea:Season)\n",
    "WHERE \n",
    "    (g)-[:TOOK_PLACE_IN]->(sea)\n",
    "AND\n",
    "\tg.game_type= \"regular_season\"\n",
    "RETURN \n",
    "    t.name as team, \n",
    "    avg(abs(s.score - s2.score)) as scoreMargin,\n",
    "    sea.name as season\n",
    "ORDER BY \n",
    "    team, season\n",
    "\n",
    "\"\"\""
   ]
  },
  {
   "cell_type": "code",
   "execution_count": 243,
   "metadata": {},
   "outputs": [],
   "source": [
    "data, cols = db.cypher_query(cypher)"
   ]
  },
  {
   "cell_type": "code",
   "execution_count": 244,
   "metadata": {},
   "outputs": [],
   "source": [
    "df_scoreMargin = pd.DataFrame(data=data, columns=cols)"
   ]
  },
  {
   "cell_type": "code",
   "execution_count": 245,
   "metadata": {},
   "outputs": [
    {
     "data": {
      "text/html": [
       "<div>\n",
       "<table border=\"1\" class=\"dataframe\">\n",
       "  <thead>\n",
       "    <tr style=\"text-align: right;\">\n",
       "      <th></th>\n",
       "      <th>team</th>\n",
       "      <th>scoreMargin</th>\n",
       "      <th>season</th>\n",
       "    </tr>\n",
       "  </thead>\n",
       "  <tbody>\n",
       "    <tr>\n",
       "      <th>0</th>\n",
       "      <td>Atlanta Hawks</td>\n",
       "      <td>11.634146</td>\n",
       "      <td>2015/2016</td>\n",
       "    </tr>\n",
       "    <tr>\n",
       "      <th>1</th>\n",
       "      <td>Atlanta Hawks</td>\n",
       "      <td>11.170732</td>\n",
       "      <td>2016/2017</td>\n",
       "    </tr>\n",
       "    <tr>\n",
       "      <th>2</th>\n",
       "      <td>Atlanta Hawks</td>\n",
       "      <td>10.865854</td>\n",
       "      <td>2017/2018</td>\n",
       "    </tr>\n",
       "    <tr>\n",
       "      <th>3</th>\n",
       "      <td>Boston Celtics</td>\n",
       "      <td>10.695122</td>\n",
       "      <td>2015/2016</td>\n",
       "    </tr>\n",
       "    <tr>\n",
       "      <th>4</th>\n",
       "      <td>Boston Celtics</td>\n",
       "      <td>9.195122</td>\n",
       "      <td>2016/2017</td>\n",
       "    </tr>\n",
       "  </tbody>\n",
       "</table>\n",
       "</div>"
      ],
      "text/plain": [
       "             team  scoreMargin     season\n",
       "0   Atlanta Hawks    11.634146  2015/2016\n",
       "1   Atlanta Hawks    11.170732  2016/2017\n",
       "2   Atlanta Hawks    10.865854  2017/2018\n",
       "3  Boston Celtics    10.695122  2015/2016\n",
       "4  Boston Celtics     9.195122  2016/2017"
      ]
     },
     "execution_count": 245,
     "metadata": {},
     "output_type": "execute_result"
    }
   ],
   "source": [
    "df_scoreMargin.head()"
   ]
  },
  {
   "cell_type": "code",
   "execution_count": 246,
   "metadata": {},
   "outputs": [],
   "source": [
    "df_scoreMargin_test = df_scoreMargin.pivot(index=\"team\", columns=\"season\")"
   ]
  },
  {
   "cell_type": "code",
   "execution_count": 247,
   "metadata": {},
   "outputs": [
    {
     "data": {
      "text/html": [
       "<div>\n",
       "<table border=\"1\" class=\"dataframe\">\n",
       "  <thead>\n",
       "    <tr>\n",
       "      <th></th>\n",
       "      <th colspan=\"3\" halign=\"left\">scoreMargin</th>\n",
       "    </tr>\n",
       "    <tr>\n",
       "      <th>season</th>\n",
       "      <th>2015/2016</th>\n",
       "      <th>2016/2017</th>\n",
       "      <th>2017/2018</th>\n",
       "    </tr>\n",
       "    <tr>\n",
       "      <th>team</th>\n",
       "      <th></th>\n",
       "      <th></th>\n",
       "      <th></th>\n",
       "    </tr>\n",
       "  </thead>\n",
       "  <tbody>\n",
       "    <tr>\n",
       "      <th>Atlanta Hawks</th>\n",
       "      <td>11.634146</td>\n",
       "      <td>11.170732</td>\n",
       "      <td>10.865854</td>\n",
       "    </tr>\n",
       "    <tr>\n",
       "      <th>Boston Celtics</th>\n",
       "      <td>10.695122</td>\n",
       "      <td>9.195122</td>\n",
       "      <td>9.219512</td>\n",
       "    </tr>\n",
       "    <tr>\n",
       "      <th>Brooklyn Nets</th>\n",
       "      <td>10.743902</td>\n",
       "      <td>12.195122</td>\n",
       "      <td>10.231707</td>\n",
       "    </tr>\n",
       "    <tr>\n",
       "      <th>Charlotte Hornets</th>\n",
       "      <td>11.134146</td>\n",
       "      <td>10.195122</td>\n",
       "      <td>11.768293</td>\n",
       "    </tr>\n",
       "    <tr>\n",
       "      <th>Chicago Bulls</th>\n",
       "      <td>9.865854</td>\n",
       "      <td>12.036585</td>\n",
       "      <td>12.231707</td>\n",
       "    </tr>\n",
       "  </tbody>\n",
       "</table>\n",
       "</div>"
      ],
      "text/plain": [
       "                  scoreMargin                      \n",
       "season              2015/2016  2016/2017  2017/2018\n",
       "team                                               \n",
       "Atlanta Hawks       11.634146  11.170732  10.865854\n",
       "Boston Celtics      10.695122   9.195122   9.219512\n",
       "Brooklyn Nets       10.743902  12.195122  10.231707\n",
       "Charlotte Hornets   11.134146  10.195122  11.768293\n",
       "Chicago Bulls        9.865854  12.036585  12.231707"
      ]
     },
     "execution_count": 247,
     "metadata": {},
     "output_type": "execute_result"
    }
   ],
   "source": [
    "df_scoreMargin_test.head()"
   ]
  },
  {
   "cell_type": "code",
   "execution_count": 248,
   "metadata": {},
   "outputs": [],
   "source": [
    "cols = []\n",
    "for a, b in zip(df_scoreMargin_test.columns.get_level_values(0), df_scoreMargin_test.columns.get_level_values(1)):\n",
    "    cols.append(a+\"_\"+b)"
   ]
  },
  {
   "cell_type": "code",
   "execution_count": 249,
   "metadata": {},
   "outputs": [
    {
     "data": {
      "text/plain": [
       "['scoreMargin_2015/2016', 'scoreMargin_2016/2017', 'scoreMargin_2017/2018']"
      ]
     },
     "execution_count": 249,
     "metadata": {},
     "output_type": "execute_result"
    }
   ],
   "source": [
    "cols"
   ]
  },
  {
   "cell_type": "code",
   "execution_count": 250,
   "metadata": {},
   "outputs": [],
   "source": [
    "df_scoreMargin_test.columns = cols"
   ]
  },
  {
   "cell_type": "code",
   "execution_count": 251,
   "metadata": {},
   "outputs": [
    {
     "data": {
      "text/html": [
       "<div>\n",
       "<table border=\"1\" class=\"dataframe\">\n",
       "  <thead>\n",
       "    <tr style=\"text-align: right;\">\n",
       "      <th></th>\n",
       "      <th>scoreMargin_2015/2016</th>\n",
       "      <th>scoreMargin_2016/2017</th>\n",
       "      <th>scoreMargin_2017/2018</th>\n",
       "    </tr>\n",
       "    <tr>\n",
       "      <th>team</th>\n",
       "      <th></th>\n",
       "      <th></th>\n",
       "      <th></th>\n",
       "    </tr>\n",
       "  </thead>\n",
       "  <tbody>\n",
       "    <tr>\n",
       "      <th>Atlanta Hawks</th>\n",
       "      <td>11.634146</td>\n",
       "      <td>11.170732</td>\n",
       "      <td>10.865854</td>\n",
       "    </tr>\n",
       "    <tr>\n",
       "      <th>Boston Celtics</th>\n",
       "      <td>10.695122</td>\n",
       "      <td>9.195122</td>\n",
       "      <td>9.219512</td>\n",
       "    </tr>\n",
       "    <tr>\n",
       "      <th>Brooklyn Nets</th>\n",
       "      <td>10.743902</td>\n",
       "      <td>12.195122</td>\n",
       "      <td>10.231707</td>\n",
       "    </tr>\n",
       "    <tr>\n",
       "      <th>Charlotte Hornets</th>\n",
       "      <td>11.134146</td>\n",
       "      <td>10.195122</td>\n",
       "      <td>11.768293</td>\n",
       "    </tr>\n",
       "    <tr>\n",
       "      <th>Chicago Bulls</th>\n",
       "      <td>9.865854</td>\n",
       "      <td>12.036585</td>\n",
       "      <td>12.231707</td>\n",
       "    </tr>\n",
       "  </tbody>\n",
       "</table>\n",
       "</div>"
      ],
      "text/plain": [
       "                   scoreMargin_2015/2016  scoreMargin_2016/2017  \\\n",
       "team                                                              \n",
       "Atlanta Hawks                  11.634146              11.170732   \n",
       "Boston Celtics                 10.695122               9.195122   \n",
       "Brooklyn Nets                  10.743902              12.195122   \n",
       "Charlotte Hornets              11.134146              10.195122   \n",
       "Chicago Bulls                   9.865854              12.036585   \n",
       "\n",
       "                   scoreMargin_2017/2018  \n",
       "team                                      \n",
       "Atlanta Hawks                  10.865854  \n",
       "Boston Celtics                  9.219512  \n",
       "Brooklyn Nets                  10.231707  \n",
       "Charlotte Hornets              11.768293  \n",
       "Chicago Bulls                  12.231707  "
      ]
     },
     "execution_count": 251,
     "metadata": {},
     "output_type": "execute_result"
    }
   ],
   "source": [
    "df_scoreMargin_test.head()"
   ]
  },
  {
   "cell_type": "code",
   "execution_count": 252,
   "metadata": {},
   "outputs": [],
   "source": [
    "df_ml_1 = pd.merge(\n",
    "    pd.merge(df_matches, df_test.reset_index(), left_on=\"teamA\", right_on=\"team\"),\n",
    "    df_test.reset_index(), \n",
    "    left_on=\"teamB\", \n",
    "    right_on=\"team\",\n",
    "    suffixes=[\"_A\", \"_B\"]\n",
    ")"
   ]
  },
  {
   "cell_type": "code",
   "execution_count": 253,
   "metadata": {},
   "outputs": [],
   "source": [
    "df_ml_2 = pd.merge(\n",
    "    pd.merge(df_ml_1, df_scoreMargin_test.reset_index(), left_on=\"teamA\", right_on=\"team\"),\n",
    "    df_scoreMargin_test.reset_index(), \n",
    "    left_on=\"teamB\", \n",
    "    right_on=\"team\",\n",
    "    suffixes=[\"_A\", \"_B\"]\n",
    ").drop(\n",
    "    [\"scoreA\", \"scoreB\", \"teamA\", \"teamB\", \"team_A\", \"team_B\", \"wins_reg_2017/2018_A\", \"losses_reg_2017/2018_A\", \"wins_reg_2017/2018_B\", \"losses_reg_2017/2018_B\", \"scoreMargin_2017/2018_A\", \"scoreMargin_2017/2018_B\" ], \n",
    "    axis=1)"
   ]
  },
  {
   "cell_type": "code",
   "execution_count": 254,
   "metadata": {},
   "outputs": [
    {
     "data": {
      "text/html": [
       "<div>\n",
       "<table border=\"1\" class=\"dataframe\">\n",
       "  <thead>\n",
       "    <tr style=\"text-align: right;\">\n",
       "      <th></th>\n",
       "      <th>teamAWinner</th>\n",
       "      <th>wins_reg_home_2015/2016_A</th>\n",
       "      <th>wins_reg_home_2016/2017_A</th>\n",
       "      <th>wins_reg_home_2017/2018_A</th>\n",
       "      <th>wins_reg_away_2015/2016_A</th>\n",
       "      <th>wins_reg_away_2016/2017_A</th>\n",
       "      <th>wins_reg_away_2017/2018_A</th>\n",
       "      <th>losses_reg_home_2015/2016_A</th>\n",
       "      <th>losses_reg_home_2016/2017_A</th>\n",
       "      <th>losses_reg_home_2017/2018_A</th>\n",
       "      <th>...</th>\n",
       "      <th>losses_reg_home_2015/2016_B</th>\n",
       "      <th>losses_reg_home_2016/2017_B</th>\n",
       "      <th>losses_reg_home_2017/2018_B</th>\n",
       "      <th>losses_reg_away_2015/2016_B</th>\n",
       "      <th>losses_reg_away_2016/2017_B</th>\n",
       "      <th>losses_reg_away_2017/2018_B</th>\n",
       "      <th>scoreMargin_2015/2016_A</th>\n",
       "      <th>scoreMargin_2016/2017_A</th>\n",
       "      <th>scoreMargin_2015/2016_B</th>\n",
       "      <th>scoreMargin_2016/2017_B</th>\n",
       "    </tr>\n",
       "  </thead>\n",
       "  <tbody>\n",
       "    <tr>\n",
       "      <th>0</th>\n",
       "      <td>False</td>\n",
       "      <td>28</td>\n",
       "      <td>23</td>\n",
       "      <td>26</td>\n",
       "      <td>20</td>\n",
       "      <td>18</td>\n",
       "      <td>18</td>\n",
       "      <td>13</td>\n",
       "      <td>18</td>\n",
       "      <td>15</td>\n",
       "      <td>...</td>\n",
       "      <td>8</td>\n",
       "      <td>10</td>\n",
       "      <td>12</td>\n",
       "      <td>17</td>\n",
       "      <td>21</td>\n",
       "      <td>20</td>\n",
       "      <td>11.060976</td>\n",
       "      <td>9.890244</td>\n",
       "      <td>11.707317</td>\n",
       "      <td>12.134146</td>\n",
       "    </tr>\n",
       "    <tr>\n",
       "      <th>1</th>\n",
       "      <td>True</td>\n",
       "      <td>27</td>\n",
       "      <td>23</td>\n",
       "      <td>16</td>\n",
       "      <td>21</td>\n",
       "      <td>20</td>\n",
       "      <td>8</td>\n",
       "      <td>14</td>\n",
       "      <td>18</td>\n",
       "      <td>25</td>\n",
       "      <td>...</td>\n",
       "      <td>8</td>\n",
       "      <td>10</td>\n",
       "      <td>12</td>\n",
       "      <td>17</td>\n",
       "      <td>21</td>\n",
       "      <td>20</td>\n",
       "      <td>11.634146</td>\n",
       "      <td>11.170732</td>\n",
       "      <td>11.707317</td>\n",
       "      <td>12.134146</td>\n",
       "    </tr>\n",
       "    <tr>\n",
       "      <th>2</th>\n",
       "      <td>True</td>\n",
       "      <td>27</td>\n",
       "      <td>23</td>\n",
       "      <td>16</td>\n",
       "      <td>21</td>\n",
       "      <td>20</td>\n",
       "      <td>8</td>\n",
       "      <td>14</td>\n",
       "      <td>18</td>\n",
       "      <td>25</td>\n",
       "      <td>...</td>\n",
       "      <td>8</td>\n",
       "      <td>10</td>\n",
       "      <td>12</td>\n",
       "      <td>17</td>\n",
       "      <td>21</td>\n",
       "      <td>20</td>\n",
       "      <td>11.634146</td>\n",
       "      <td>11.170732</td>\n",
       "      <td>11.707317</td>\n",
       "      <td>12.134146</td>\n",
       "    </tr>\n",
       "    <tr>\n",
       "      <th>3</th>\n",
       "      <td>False</td>\n",
       "      <td>24</td>\n",
       "      <td>29</td>\n",
       "      <td>28</td>\n",
       "      <td>16</td>\n",
       "      <td>22</td>\n",
       "      <td>20</td>\n",
       "      <td>17</td>\n",
       "      <td>12</td>\n",
       "      <td>13</td>\n",
       "      <td>...</td>\n",
       "      <td>8</td>\n",
       "      <td>10</td>\n",
       "      <td>12</td>\n",
       "      <td>17</td>\n",
       "      <td>21</td>\n",
       "      <td>20</td>\n",
       "      <td>11.378049</td>\n",
       "      <td>11.207317</td>\n",
       "      <td>11.707317</td>\n",
       "      <td>12.134146</td>\n",
       "    </tr>\n",
       "    <tr>\n",
       "      <th>4</th>\n",
       "      <td>False</td>\n",
       "      <td>26</td>\n",
       "      <td>29</td>\n",
       "      <td>27</td>\n",
       "      <td>19</td>\n",
       "      <td>13</td>\n",
       "      <td>21</td>\n",
       "      <td>15</td>\n",
       "      <td>12</td>\n",
       "      <td>14</td>\n",
       "      <td>...</td>\n",
       "      <td>8</td>\n",
       "      <td>10</td>\n",
       "      <td>12</td>\n",
       "      <td>17</td>\n",
       "      <td>21</td>\n",
       "      <td>20</td>\n",
       "      <td>9.658537</td>\n",
       "      <td>11.707317</td>\n",
       "      <td>11.707317</td>\n",
       "      <td>12.134146</td>\n",
       "    </tr>\n",
       "  </tbody>\n",
       "</table>\n",
       "<p>5 rows × 29 columns</p>\n",
       "</div>"
      ],
      "text/plain": [
       "  teamAWinner  wins_reg_home_2015/2016_A  wins_reg_home_2016/2017_A  \\\n",
       "0       False                         28                         23   \n",
       "1        True                         27                         23   \n",
       "2        True                         27                         23   \n",
       "3       False                         24                         29   \n",
       "4       False                         26                         29   \n",
       "\n",
       "   wins_reg_home_2017/2018_A  wins_reg_away_2015/2016_A  \\\n",
       "0                         26                         20   \n",
       "1                         16                         21   \n",
       "2                         16                         21   \n",
       "3                         28                         16   \n",
       "4                         27                         19   \n",
       "\n",
       "   wins_reg_away_2016/2017_A  wins_reg_away_2017/2018_A  \\\n",
       "0                         18                         18   \n",
       "1                         20                          8   \n",
       "2                         20                          8   \n",
       "3                         22                         20   \n",
       "4                         13                         21   \n",
       "\n",
       "   losses_reg_home_2015/2016_A  losses_reg_home_2016/2017_A  \\\n",
       "0                           13                           18   \n",
       "1                           14                           18   \n",
       "2                           14                           18   \n",
       "3                           17                           12   \n",
       "4                           15                           12   \n",
       "\n",
       "   losses_reg_home_2017/2018_A           ...             \\\n",
       "0                           15           ...              \n",
       "1                           25           ...              \n",
       "2                           25           ...              \n",
       "3                           13           ...              \n",
       "4                           14           ...              \n",
       "\n",
       "   losses_reg_home_2015/2016_B  losses_reg_home_2016/2017_B  \\\n",
       "0                            8                           10   \n",
       "1                            8                           10   \n",
       "2                            8                           10   \n",
       "3                            8                           10   \n",
       "4                            8                           10   \n",
       "\n",
       "   losses_reg_home_2017/2018_B  losses_reg_away_2015/2016_B  \\\n",
       "0                           12                           17   \n",
       "1                           12                           17   \n",
       "2                           12                           17   \n",
       "3                           12                           17   \n",
       "4                           12                           17   \n",
       "\n",
       "   losses_reg_away_2016/2017_B  losses_reg_away_2017/2018_B  \\\n",
       "0                           21                           20   \n",
       "1                           21                           20   \n",
       "2                           21                           20   \n",
       "3                           21                           20   \n",
       "4                           21                           20   \n",
       "\n",
       "   scoreMargin_2015/2016_A  scoreMargin_2016/2017_A  scoreMargin_2015/2016_B  \\\n",
       "0                11.060976                 9.890244                11.707317   \n",
       "1                11.634146                11.170732                11.707317   \n",
       "2                11.634146                11.170732                11.707317   \n",
       "3                11.378049                11.207317                11.707317   \n",
       "4                 9.658537                11.707317                11.707317   \n",
       "\n",
       "   scoreMargin_2016/2017_B  \n",
       "0                12.134146  \n",
       "1                12.134146  \n",
       "2                12.134146  \n",
       "3                12.134146  \n",
       "4                12.134146  \n",
       "\n",
       "[5 rows x 29 columns]"
      ]
     },
     "execution_count": 254,
     "metadata": {},
     "output_type": "execute_result"
    }
   ],
   "source": [
    "df_ml_2.head()"
   ]
  },
  {
   "cell_type": "markdown",
   "metadata": {},
   "source": [
    "## Score Margin splitted into home and away"
   ]
  },
  {
   "cell_type": "code",
   "execution_count": 255,
   "metadata": {},
   "outputs": [],
   "source": [
    "cypher = \"\"\"\n",
    "MATCH \n",
    "    (t:Team)-[:SCORED]->(s:Score)-[:IN_GAME]->(g:Game)<-[:IN_GAME]-(s2:Score)<-[:SCORED]-(t2:Team), (sea:Season)\n",
    "WHERE \n",
    "    (g)-[:TOOK_PLACE_IN]->(sea)\n",
    "AND\n",
    "\tg.game_type= \"regular_season\"\n",
    "RETURN \n",
    "    t.name as team, \n",
    "    sea.name as season,\n",
    "    CASE WHEN s.score > s2.score THEN avg(abs(s.score - s2.score)) ELSE 0 END as scoreMarginWins,\n",
    "    CASE WHEN s.score < s2.score THEN avg(abs(s.score - s2.score)) ELSE 0 END as scoreMarginLosses\n",
    "\n",
    "ORDER BY \n",
    "    team, season\n",
    "\n",
    "\"\"\""
   ]
  },
  {
   "cell_type": "code",
   "execution_count": 256,
   "metadata": {},
   "outputs": [],
   "source": [
    "data, cols = db.cypher_query(cypher)"
   ]
  },
  {
   "cell_type": "code",
   "execution_count": 257,
   "metadata": {},
   "outputs": [],
   "source": [
    "df_scoreMargin = pd.DataFrame(data=data, columns=cols)"
   ]
  },
  {
   "cell_type": "code",
   "execution_count": 258,
   "metadata": {},
   "outputs": [
    {
     "data": {
      "text/html": [
       "<div>\n",
       "<table border=\"1\" class=\"dataframe\">\n",
       "  <thead>\n",
       "    <tr style=\"text-align: right;\">\n",
       "      <th></th>\n",
       "      <th>team</th>\n",
       "      <th>season</th>\n",
       "      <th>scoreMarginWins</th>\n",
       "      <th>scoreMarginLosses</th>\n",
       "    </tr>\n",
       "  </thead>\n",
       "  <tbody>\n",
       "    <tr>\n",
       "      <th>0</th>\n",
       "      <td>Atlanta Hawks</td>\n",
       "      <td>2015/2016</td>\n",
       "      <td>0.000000</td>\n",
       "      <td>9.676471</td>\n",
       "    </tr>\n",
       "    <tr>\n",
       "      <th>1</th>\n",
       "      <td>Atlanta Hawks</td>\n",
       "      <td>2015/2016</td>\n",
       "      <td>13.020833</td>\n",
       "      <td>0.000000</td>\n",
       "    </tr>\n",
       "    <tr>\n",
       "      <th>2</th>\n",
       "      <td>Atlanta Hawks</td>\n",
       "      <td>2016/2017</td>\n",
       "      <td>0.000000</td>\n",
       "      <td>12.641026</td>\n",
       "    </tr>\n",
       "    <tr>\n",
       "      <th>3</th>\n",
       "      <td>Atlanta Hawks</td>\n",
       "      <td>2016/2017</td>\n",
       "      <td>9.837209</td>\n",
       "      <td>0.000000</td>\n",
       "    </tr>\n",
       "    <tr>\n",
       "      <th>4</th>\n",
       "      <td>Atlanta Hawks</td>\n",
       "      <td>2017/2018</td>\n",
       "      <td>0.000000</td>\n",
       "      <td>11.534483</td>\n",
       "    </tr>\n",
       "  </tbody>\n",
       "</table>\n",
       "</div>"
      ],
      "text/plain": [
       "            team     season  scoreMarginWins  scoreMarginLosses\n",
       "0  Atlanta Hawks  2015/2016         0.000000           9.676471\n",
       "1  Atlanta Hawks  2015/2016        13.020833           0.000000\n",
       "2  Atlanta Hawks  2016/2017         0.000000          12.641026\n",
       "3  Atlanta Hawks  2016/2017         9.837209           0.000000\n",
       "4  Atlanta Hawks  2017/2018         0.000000          11.534483"
      ]
     },
     "execution_count": 258,
     "metadata": {},
     "output_type": "execute_result"
    }
   ],
   "source": [
    "df_scoreMargin.head()"
   ]
  },
  {
   "cell_type": "code",
   "execution_count": 259,
   "metadata": {},
   "outputs": [],
   "source": [
    "df_scoreMargin_home_away = df_scoreMargin.groupby([\"team\", \"season\"]).sum().reset_index()"
   ]
  },
  {
   "cell_type": "code",
   "execution_count": 260,
   "metadata": {},
   "outputs": [],
   "source": [
    "df_scoreMargin_test = df_scoreMargin_home_away.pivot(index=\"team\", columns=\"season\")"
   ]
  },
  {
   "cell_type": "code",
   "execution_count": 261,
   "metadata": {},
   "outputs": [],
   "source": [
    "cols = []\n",
    "for a, b in zip(df_scoreMargin_test.columns.get_level_values(0), df_scoreMargin_test.columns.get_level_values(1)):\n",
    "    cols.append(a+\"_\"+b)"
   ]
  },
  {
   "cell_type": "code",
   "execution_count": 262,
   "metadata": {},
   "outputs": [],
   "source": [
    "df_scoreMargin_test.columns = cols"
   ]
  },
  {
   "cell_type": "markdown",
   "metadata": {},
   "source": [
    "## Validation of numbers"
   ]
  },
  {
   "cell_type": "code",
   "execution_count": 263,
   "metadata": {},
   "outputs": [
    {
     "data": {
      "text/html": [
       "<div>\n",
       "<table border=\"1\" class=\"dataframe\">\n",
       "  <thead>\n",
       "    <tr style=\"text-align: right;\">\n",
       "      <th></th>\n",
       "      <th>team</th>\n",
       "      <th>season</th>\n",
       "      <th>scoreMarginWins</th>\n",
       "      <th>scoreMarginLosses</th>\n",
       "    </tr>\n",
       "  </thead>\n",
       "  <tbody>\n",
       "    <tr>\n",
       "      <th>30</th>\n",
       "      <td>Houston Rockets</td>\n",
       "      <td>2015/2016</td>\n",
       "      <td>10.268293</td>\n",
       "      <td>9.878049</td>\n",
       "    </tr>\n",
       "    <tr>\n",
       "      <th>31</th>\n",
       "      <td>Houston Rockets</td>\n",
       "      <td>2016/2017</td>\n",
       "      <td>13.490909</td>\n",
       "      <td>9.962963</td>\n",
       "    </tr>\n",
       "    <tr>\n",
       "      <th>32</th>\n",
       "      <td>Houston Rockets</td>\n",
       "      <td>2017/2018</td>\n",
       "      <td>13.076923</td>\n",
       "      <td>9.117647</td>\n",
       "    </tr>\n",
       "  </tbody>\n",
       "</table>\n",
       "</div>"
      ],
      "text/plain": [
       "               team     season  scoreMarginWins  scoreMarginLosses\n",
       "30  Houston Rockets  2015/2016        10.268293           9.878049\n",
       "31  Houston Rockets  2016/2017        13.490909           9.962963\n",
       "32  Houston Rockets  2017/2018        13.076923           9.117647"
      ]
     },
     "execution_count": 263,
     "metadata": {},
     "output_type": "execute_result"
    }
   ],
   "source": [
    "df_scoreMargin_home_away[df_scoreMargin_home_away[\"team\"] == \"Houston Rockets\"]"
   ]
  },
  {
   "cell_type": "markdown",
   "metadata": {},
   "source": [
    "(4+5+1+18+7+11+2+3+17+13)\n",
    "\n",
    "(6+10+6+10+16+8+8)"
   ]
  },
  {
   "cell_type": "code",
   "execution_count": 264,
   "metadata": {},
   "outputs": [],
   "source": [
    "test = [14,5,1,18,7,11,2,3,17,13,6,10,6,10,16,8,8]"
   ]
  },
  {
   "cell_type": "code",
   "execution_count": 265,
   "metadata": {},
   "outputs": [
    {
     "data": {
      "text/plain": [
       "9.117647058823529"
      ]
     },
     "execution_count": 265,
     "metadata": {},
     "output_type": "execute_result"
    }
   ],
   "source": [
    "import numpy as np\n",
    "np.mean(test)"
   ]
  },
  {
   "cell_type": "code",
   "execution_count": null,
   "metadata": {},
   "outputs": [],
   "source": []
  },
  {
   "cell_type": "code",
   "execution_count": null,
   "metadata": {},
   "outputs": [],
   "source": []
  },
  {
   "cell_type": "markdown",
   "metadata": {},
   "source": [
    "# Models"
   ]
  },
  {
   "cell_type": "code",
   "execution_count": 266,
   "metadata": {},
   "outputs": [],
   "source": [
    "from sklearn.linear_model import LogisticRegression"
   ]
  },
  {
   "cell_type": "code",
   "execution_count": 267,
   "metadata": {},
   "outputs": [],
   "source": [
    "lr = LogisticRegression()"
   ]
  },
  {
   "cell_type": "code",
   "execution_count": 268,
   "metadata": {},
   "outputs": [],
   "source": [
    "from sklearn.model_selection import train_test_split"
   ]
  },
  {
   "cell_type": "code",
   "execution_count": 269,
   "metadata": {},
   "outputs": [
    {
     "data": {
      "text/plain": [
       "0.68506493506493504"
      ]
     },
     "execution_count": 269,
     "metadata": {},
     "output_type": "execute_result"
    }
   ],
   "source": [
    "X_train, X_test, y_train, y_test = train_test_split(\n",
    "    df_ml_2.drop(\"teamAWinner\", axis=1), \n",
    "    df_ml_2[\"teamAWinner\"]\n",
    ")\n",
    "\n",
    "lr.fit(X_train, y_train)\n",
    "\n",
    "lr.score(X_test, y_test)"
   ]
  },
  {
   "cell_type": "code",
   "execution_count": 270,
   "metadata": {},
   "outputs": [],
   "source": [
    "from sklearn.neural_network import MLPClassifier\n",
    "clf = MLPClassifier(solver='lbfgs', alpha=1e-5, hidden_layer_sizes=(5, 2), random_state=1)"
   ]
  },
  {
   "cell_type": "code",
   "execution_count": 271,
   "metadata": {},
   "outputs": [
    {
     "data": {
      "text/plain": [
       "0.58116883116883122"
      ]
     },
     "execution_count": 271,
     "metadata": {},
     "output_type": "execute_result"
    }
   ],
   "source": [
    "X_train, X_test, y_train, y_test = train_test_split(\n",
    "    df_ml_2.drop(\"teamAWinner\", axis=1), \n",
    "    df_ml_2[\"teamAWinner\"]\n",
    ")\n",
    "clf.fit(X_train, y_train) \n",
    "clf.score(X_test, y_test)"
   ]
  },
  {
   "cell_type": "code",
   "execution_count": 272,
   "metadata": {},
   "outputs": [],
   "source": [
    "from numpy import loadtxt\n",
    "from xgboost import XGBClassifier\n",
    "from sklearn.model_selection import train_test_split\n",
    "from sklearn.metrics import accuracy_score"
   ]
  },
  {
   "cell_type": "code",
   "execution_count": 207,
   "metadata": {},
   "outputs": [
    {
     "name": "stdout",
     "output_type": "stream",
     "text": [
      "Collecting xgboost\n",
      "  Downloading https://files.pythonhosted.org/packages/8f/15/606f81a2b8a8e82eaa10683cb3f3074905ec65d3bcef949e3f0909f165a5/xgboost-0.80-py2.py3-none-manylinux1_x86_64.whl (15.8MB)\n",
      "\u001b[K    100% |████████████████████████████████| 15.8MB 53kB/s  eta 0:00:01\n",
      "\u001b[?25hRequirement already satisfied: numpy in /opt/conda/lib/python3.6/site-packages (from xgboost)\n",
      "Requirement already satisfied: scipy in /opt/conda/lib/python3.6/site-packages (from xgboost)\n",
      "Installing collected packages: xgboost\n",
      "Successfully installed xgboost-0.80\n",
      "\u001b[33mYou are using pip version 9.0.1, however version 18.0 is available.\n",
      "You should consider upgrading via the 'pip install --upgrade pip' command.\u001b[0m\n"
     ]
    }
   ],
   "source": [
    "!pip install xgboost"
   ]
  },
  {
   "cell_type": "code",
   "execution_count": 282,
   "metadata": {},
   "outputs": [],
   "source": [
    "# split data into train and test sets\n",
    "seed = 7\n",
    "test_size = 0.33\n",
    "X_train, X_test, y_train, y_test = train_test_split(\n",
    "    df_ml_2.drop(\"teamAWinner\", axis=1), \n",
    "    df_ml_2[\"teamAWinner\"], \n",
    "    test_size=test_size,\n",
    "    random_state=seed\n",
    ")\n"
   ]
  },
  {
   "cell_type": "code",
   "execution_count": 286,
   "metadata": {},
   "outputs": [
    {
     "data": {
      "text/plain": [
       "XGBClassifier(base_score=0.5, booster='gbtree', colsample_bylevel=1,\n",
       "       colsample_bytree=1, gamma=0, learning_rate=0.1, max_delta_step=0,\n",
       "       max_depth=3, min_child_weight=1, missing=None, n_estimators=100,\n",
       "       n_jobs=1, nthread=None, objective='binary:logistic', random_state=0,\n",
       "       reg_alpha=0, reg_lambda=1, scale_pos_weight=1, seed=None,\n",
       "       silent=True, subsample=1)"
      ]
     },
     "execution_count": 286,
     "metadata": {},
     "output_type": "execute_result"
    }
   ],
   "source": [
    "# fit model no training data\n",
    "model = XGBClassifier()\n",
    "model.fit(X_train, y_train)"
   ]
  },
  {
   "cell_type": "code",
   "execution_count": 287,
   "metadata": {},
   "outputs": [],
   "source": [
    "y_pred = model.predict(X_test)\n",
    "predictions = [round(value) for value in y_pred]"
   ]
  },
  {
   "cell_type": "code",
   "execution_count": 288,
   "metadata": {},
   "outputs": [
    {
     "name": "stdout",
     "output_type": "stream",
     "text": [
      "Accuracy: 64.29%\n"
     ]
    }
   ],
   "source": [
    "# evaluate predictions\n",
    "accuracy = accuracy_score(y_test, predictions)\n",
    "print(\"Accuracy: %.2f%%\" % (accuracy * 100.0))"
   ]
  },
  {
   "cell_type": "code",
   "execution_count": null,
   "metadata": {},
   "outputs": [],
   "source": []
  }
 ],
 "metadata": {
  "kernelspec": {
   "display_name": "Python 3",
   "language": "python",
   "name": "python3"
  },
  "language_info": {
   "codemirror_mode": {
    "name": "ipython",
    "version": 3
   },
   "file_extension": ".py",
   "mimetype": "text/x-python",
   "name": "python",
   "nbconvert_exporter": "python",
   "pygments_lexer": "ipython3",
   "version": "3.6.2"
  }
 },
 "nbformat": 4,
 "nbformat_minor": 2
}
