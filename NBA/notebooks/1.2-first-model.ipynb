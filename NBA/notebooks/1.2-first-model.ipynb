{
 "cells": [
  {
   "cell_type": "markdown",
   "metadata": {},
   "source": [
    "# About\n",
    "This notebook contains a first simple ML model"
   ]
  },
  {
   "cell_type": "code",
   "execution_count": 88,
   "metadata": {},
   "outputs": [],
   "source": [
    "# Necessary to import custom modules\n",
    "import os\n",
    "os.chdir(\"/home/jovyan/work\")\n",
    "\n",
    "from neomodel import db\n",
    "import pandas as pd\n",
    "\n",
    "from src.utils import init_connection"
   ]
  },
  {
   "cell_type": "code",
   "execution_count": 89,
   "metadata": {},
   "outputs": [],
   "source": [
    "init_connection()"
   ]
  },
  {
   "cell_type": "code",
   "execution_count": 90,
   "metadata": {},
   "outputs": [],
   "source": [
    "cypher = \"\"\"\n",
    "MATCH \n",
    "    (t:Team)-[:SCORED]->(s:Score)-[:IN_GAME]->(g:Game)<-[:IN_GAME]-(s2:Score)<-[:SCORED]-(t2:Team), (sea:Season), (arena_game:Arena), (arena_t:Arena)\n",
    "WHERE \n",
    "    (g)-[:TOOK_PLACE_IN]->(sea)\n",
    "AND\n",
    "\t(g)-[:LOCATED_IN]->(arena_game)\n",
    "AND\n",
    "\t(t)-[:HAVE_HOME_COURT_AT]->(arena_t)\n",
    "RETURN \n",
    "    t.name as team, \n",
    "    sum(\n",
    "    \tCASE WHEN s.score > s2.score \n",
    "        AND g.game_type = \"regular_season\" \n",
    "        AND arena_game.name = arena_t.name\n",
    "        THEN 1 ELSE 0 END) \n",
    "    as wins_reg_home,\n",
    "    sum(\n",
    "    \tCASE WHEN s.score > s2.score \n",
    "        AND g.game_type = \"regular_season\" \n",
    "        AND arena_game.name <> arena_t.name\n",
    "        THEN 1 ELSE 0 END) \n",
    "    as wins_reg_away,\n",
    "    sum(\n",
    "    \tCASE WHEN s.score < s2.score \n",
    "        AND g.game_type = \"regular_season\" \n",
    "        AND arena_game.name = arena_t.name\n",
    "        THEN 1 ELSE 0 END) \n",
    "    as losses_reg_home,\n",
    "    sum(\n",
    "    \tCASE WHEN s.score < s2.score\n",
    "        AND g.game_type = \"regular_season\" \n",
    "        AND arena_game.name <> arena_t.name\n",
    "        THEN 1 ELSE 0 END) as losses_reg_away,\n",
    "\tsea.name as season\n",
    "ORDER BY \n",
    "    team, season\n",
    "\"\"\""
   ]
  },
  {
   "cell_type": "code",
   "execution_count": 91,
   "metadata": {},
   "outputs": [],
   "source": [
    "data, columns = db.cypher_query(cypher)"
   ]
  },
  {
   "cell_type": "code",
   "execution_count": 92,
   "metadata": {},
   "outputs": [],
   "source": [
    "df_results = pd.DataFrame(data=data, columns=columns)"
   ]
  },
  {
   "cell_type": "code",
   "execution_count": 93,
   "metadata": {},
   "outputs": [],
   "source": [
    "df_test = df_results.pivot(index=\"team\", columns=\"season\")"
   ]
  },
  {
   "cell_type": "code",
   "execution_count": 94,
   "metadata": {},
   "outputs": [],
   "source": [
    "cols = []\n",
    "for a, b in zip(df_test.columns.get_level_values(0), df_test.columns.get_level_values(1)):\n",
    "    cols.append(a+\"_\"+b)"
   ]
  },
  {
   "cell_type": "code",
   "execution_count": 95,
   "metadata": {},
   "outputs": [
    {
     "data": {
      "text/plain": [
       "['wins_reg_home_2015/2016',\n",
       " 'wins_reg_home_2016/2017',\n",
       " 'wins_reg_home_2017/2018',\n",
       " 'wins_reg_away_2015/2016',\n",
       " 'wins_reg_away_2016/2017',\n",
       " 'wins_reg_away_2017/2018',\n",
       " 'losses_reg_home_2015/2016',\n",
       " 'losses_reg_home_2016/2017',\n",
       " 'losses_reg_home_2017/2018',\n",
       " 'losses_reg_away_2015/2016',\n",
       " 'losses_reg_away_2016/2017',\n",
       " 'losses_reg_away_2017/2018']"
      ]
     },
     "execution_count": 95,
     "metadata": {},
     "output_type": "execute_result"
    }
   ],
   "source": [
    "cols"
   ]
  },
  {
   "cell_type": "code",
   "execution_count": 96,
   "metadata": {},
   "outputs": [],
   "source": [
    "df_test.columns = cols"
   ]
  },
  {
   "cell_type": "code",
   "execution_count": 97,
   "metadata": {},
   "outputs": [
    {
     "data": {
      "text/html": [
       "<div>\n",
       "<table border=\"1\" class=\"dataframe\">\n",
       "  <thead>\n",
       "    <tr style=\"text-align: right;\">\n",
       "      <th></th>\n",
       "      <th>wins_reg_home_2015/2016</th>\n",
       "      <th>wins_reg_home_2016/2017</th>\n",
       "      <th>wins_reg_home_2017/2018</th>\n",
       "      <th>wins_reg_away_2015/2016</th>\n",
       "      <th>wins_reg_away_2016/2017</th>\n",
       "      <th>wins_reg_away_2017/2018</th>\n",
       "      <th>losses_reg_home_2015/2016</th>\n",
       "      <th>losses_reg_home_2016/2017</th>\n",
       "      <th>losses_reg_home_2017/2018</th>\n",
       "      <th>losses_reg_away_2015/2016</th>\n",
       "      <th>losses_reg_away_2016/2017</th>\n",
       "      <th>losses_reg_away_2017/2018</th>\n",
       "    </tr>\n",
       "    <tr>\n",
       "      <th>team</th>\n",
       "      <th></th>\n",
       "      <th></th>\n",
       "      <th></th>\n",
       "      <th></th>\n",
       "      <th></th>\n",
       "      <th></th>\n",
       "      <th></th>\n",
       "      <th></th>\n",
       "      <th></th>\n",
       "      <th></th>\n",
       "      <th></th>\n",
       "      <th></th>\n",
       "    </tr>\n",
       "  </thead>\n",
       "  <tbody>\n",
       "    <tr>\n",
       "      <th>Atlanta Hawks</th>\n",
       "      <td>27</td>\n",
       "      <td>23</td>\n",
       "      <td>16</td>\n",
       "      <td>21</td>\n",
       "      <td>20</td>\n",
       "      <td>8</td>\n",
       "      <td>14</td>\n",
       "      <td>18</td>\n",
       "      <td>25</td>\n",
       "      <td>20</td>\n",
       "      <td>21</td>\n",
       "      <td>33</td>\n",
       "    </tr>\n",
       "    <tr>\n",
       "      <th>Boston Celtics</th>\n",
       "      <td>28</td>\n",
       "      <td>30</td>\n",
       "      <td>27</td>\n",
       "      <td>20</td>\n",
       "      <td>23</td>\n",
       "      <td>28</td>\n",
       "      <td>13</td>\n",
       "      <td>11</td>\n",
       "      <td>14</td>\n",
       "      <td>21</td>\n",
       "      <td>18</td>\n",
       "      <td>13</td>\n",
       "    </tr>\n",
       "    <tr>\n",
       "      <th>Brooklyn Nets</th>\n",
       "      <td>14</td>\n",
       "      <td>13</td>\n",
       "      <td>15</td>\n",
       "      <td>7</td>\n",
       "      <td>7</td>\n",
       "      <td>13</td>\n",
       "      <td>27</td>\n",
       "      <td>28</td>\n",
       "      <td>26</td>\n",
       "      <td>34</td>\n",
       "      <td>34</td>\n",
       "      <td>28</td>\n",
       "    </tr>\n",
       "    <tr>\n",
       "      <th>Charlotte Hornets</th>\n",
       "      <td>30</td>\n",
       "      <td>22</td>\n",
       "      <td>21</td>\n",
       "      <td>18</td>\n",
       "      <td>14</td>\n",
       "      <td>15</td>\n",
       "      <td>11</td>\n",
       "      <td>19</td>\n",
       "      <td>20</td>\n",
       "      <td>23</td>\n",
       "      <td>27</td>\n",
       "      <td>26</td>\n",
       "    </tr>\n",
       "    <tr>\n",
       "      <th>Chicago Bulls</th>\n",
       "      <td>26</td>\n",
       "      <td>25</td>\n",
       "      <td>17</td>\n",
       "      <td>16</td>\n",
       "      <td>16</td>\n",
       "      <td>10</td>\n",
       "      <td>15</td>\n",
       "      <td>16</td>\n",
       "      <td>24</td>\n",
       "      <td>25</td>\n",
       "      <td>25</td>\n",
       "      <td>31</td>\n",
       "    </tr>\n",
       "  </tbody>\n",
       "</table>\n",
       "</div>"
      ],
      "text/plain": [
       "                   wins_reg_home_2015/2016  wins_reg_home_2016/2017  \\\n",
       "team                                                                  \n",
       "Atlanta Hawks                           27                       23   \n",
       "Boston Celtics                          28                       30   \n",
       "Brooklyn Nets                           14                       13   \n",
       "Charlotte Hornets                       30                       22   \n",
       "Chicago Bulls                           26                       25   \n",
       "\n",
       "                   wins_reg_home_2017/2018  wins_reg_away_2015/2016  \\\n",
       "team                                                                  \n",
       "Atlanta Hawks                           16                       21   \n",
       "Boston Celtics                          27                       20   \n",
       "Brooklyn Nets                           15                        7   \n",
       "Charlotte Hornets                       21                       18   \n",
       "Chicago Bulls                           17                       16   \n",
       "\n",
       "                   wins_reg_away_2016/2017  wins_reg_away_2017/2018  \\\n",
       "team                                                                  \n",
       "Atlanta Hawks                           20                        8   \n",
       "Boston Celtics                          23                       28   \n",
       "Brooklyn Nets                            7                       13   \n",
       "Charlotte Hornets                       14                       15   \n",
       "Chicago Bulls                           16                       10   \n",
       "\n",
       "                   losses_reg_home_2015/2016  losses_reg_home_2016/2017  \\\n",
       "team                                                                      \n",
       "Atlanta Hawks                             14                         18   \n",
       "Boston Celtics                            13                         11   \n",
       "Brooklyn Nets                             27                         28   \n",
       "Charlotte Hornets                         11                         19   \n",
       "Chicago Bulls                             15                         16   \n",
       "\n",
       "                   losses_reg_home_2017/2018  losses_reg_away_2015/2016  \\\n",
       "team                                                                      \n",
       "Atlanta Hawks                             25                         20   \n",
       "Boston Celtics                            14                         21   \n",
       "Brooklyn Nets                             26                         34   \n",
       "Charlotte Hornets                         20                         23   \n",
       "Chicago Bulls                             24                         25   \n",
       "\n",
       "                   losses_reg_away_2016/2017  losses_reg_away_2017/2018  \n",
       "team                                                                     \n",
       "Atlanta Hawks                             21                         33  \n",
       "Boston Celtics                            18                         13  \n",
       "Brooklyn Nets                             34                         28  \n",
       "Charlotte Hornets                         27                         26  \n",
       "Chicago Bulls                             25                         31  "
      ]
     },
     "execution_count": 97,
     "metadata": {},
     "output_type": "execute_result"
    }
   ],
   "source": [
    "df_test.head()"
   ]
  },
  {
   "cell_type": "markdown",
   "metadata": {},
   "source": [
    "#### Extract Matchup"
   ]
  },
  {
   "cell_type": "markdown",
   "metadata": {},
   "source": [
    "```\n",
    "MATCH \n",
    "\t(t:Team)-[:SCORED]->(s:Score)-[:IN_GAME]->(g:Game)<-[:IN_GAME]-(s2:Score)<-[:SCORED]-(t2:Team), (sea:Season)\n",
    "WHERE \n",
    "    (g)-[:TOOK_PLACE_IN]->(sea)\n",
    "AND\n",
    "\tsea.name = \"2017/2018\"\n",
    "AND\n",
    "\tg.game_type = \"regular_season\"\n",
    "WITH g, collect(t.name) as teams, collect(s.score) as scores\n",
    "RETURN\n",
    "\tHEAD(teams) as teamA, HEAD(TAIL(scores)) as scoreA, HEAD(TAIL(teams)) as teamB, HEAD(scores) as scoreB\n",
    "```"
   ]
  },
  {
   "cell_type": "code",
   "execution_count": 152,
   "metadata": {},
   "outputs": [],
   "source": [
    "cypher = \"\"\"\n",
    "MATCH \n",
    "\t(t:Team)-[:SCORED]->(s:Score)-[:IN_GAME]->(g:Game)<-[:IN_GAME]-(s2:Score)<-[:SCORED]-(t2:Team), (sea:Season)\n",
    "WHERE \n",
    "    (g)-[:TOOK_PLACE_IN]->(sea)\n",
    "AND\n",
    "\tsea.name = \"2017/2018\"\n",
    "AND\n",
    "\tg.game_type = \"regular_season\"\n",
    "WITH g, collect(t.name) as teams, collect(s.score) as scores\n",
    "RETURN\n",
    "\tHEAD(teams) as teamA, HEAD(TAIL(scores)) as scoreA, HEAD(TAIL(teams)) as teamB, HEAD(scores) as scoreB\n",
    "\"\"\""
   ]
  },
  {
   "cell_type": "code",
   "execution_count": 153,
   "metadata": {},
   "outputs": [],
   "source": [
    "data, cols = db.cypher_query(cypher)"
   ]
  },
  {
   "cell_type": "code",
   "execution_count": 154,
   "metadata": {},
   "outputs": [],
   "source": [
    "df_matches = pd.DataFrame(data=data, columns=cols)"
   ]
  },
  {
   "cell_type": "code",
   "execution_count": 155,
   "metadata": {},
   "outputs": [],
   "source": [
    "df_matches[\"teamAWinner\"] =df_matches[\"scoreA\"] > df_matches[\"scoreB\"]"
   ]
  },
  {
   "cell_type": "code",
   "execution_count": 156,
   "metadata": {},
   "outputs": [
    {
     "data": {
      "text/html": [
       "<div>\n",
       "<table border=\"1\" class=\"dataframe\">\n",
       "  <thead>\n",
       "    <tr style=\"text-align: right;\">\n",
       "      <th></th>\n",
       "      <th>team</th>\n",
       "      <th>wins_reg_home_2015/2016</th>\n",
       "      <th>wins_reg_home_2016/2017</th>\n",
       "      <th>wins_reg_home_2017/2018</th>\n",
       "      <th>wins_reg_away_2015/2016</th>\n",
       "      <th>wins_reg_away_2016/2017</th>\n",
       "      <th>wins_reg_away_2017/2018</th>\n",
       "      <th>losses_reg_home_2015/2016</th>\n",
       "      <th>losses_reg_home_2016/2017</th>\n",
       "      <th>losses_reg_home_2017/2018</th>\n",
       "      <th>losses_reg_away_2015/2016</th>\n",
       "      <th>losses_reg_away_2016/2017</th>\n",
       "      <th>losses_reg_away_2017/2018</th>\n",
       "    </tr>\n",
       "  </thead>\n",
       "  <tbody>\n",
       "    <tr>\n",
       "      <th>0</th>\n",
       "      <td>Atlanta Hawks</td>\n",
       "      <td>27</td>\n",
       "      <td>23</td>\n",
       "      <td>16</td>\n",
       "      <td>21</td>\n",
       "      <td>20</td>\n",
       "      <td>8</td>\n",
       "      <td>14</td>\n",
       "      <td>18</td>\n",
       "      <td>25</td>\n",
       "      <td>20</td>\n",
       "      <td>21</td>\n",
       "      <td>33</td>\n",
       "    </tr>\n",
       "    <tr>\n",
       "      <th>1</th>\n",
       "      <td>Boston Celtics</td>\n",
       "      <td>28</td>\n",
       "      <td>30</td>\n",
       "      <td>27</td>\n",
       "      <td>20</td>\n",
       "      <td>23</td>\n",
       "      <td>28</td>\n",
       "      <td>13</td>\n",
       "      <td>11</td>\n",
       "      <td>14</td>\n",
       "      <td>21</td>\n",
       "      <td>18</td>\n",
       "      <td>13</td>\n",
       "    </tr>\n",
       "    <tr>\n",
       "      <th>2</th>\n",
       "      <td>Brooklyn Nets</td>\n",
       "      <td>14</td>\n",
       "      <td>13</td>\n",
       "      <td>15</td>\n",
       "      <td>7</td>\n",
       "      <td>7</td>\n",
       "      <td>13</td>\n",
       "      <td>27</td>\n",
       "      <td>28</td>\n",
       "      <td>26</td>\n",
       "      <td>34</td>\n",
       "      <td>34</td>\n",
       "      <td>28</td>\n",
       "    </tr>\n",
       "    <tr>\n",
       "      <th>3</th>\n",
       "      <td>Charlotte Hornets</td>\n",
       "      <td>30</td>\n",
       "      <td>22</td>\n",
       "      <td>21</td>\n",
       "      <td>18</td>\n",
       "      <td>14</td>\n",
       "      <td>15</td>\n",
       "      <td>11</td>\n",
       "      <td>19</td>\n",
       "      <td>20</td>\n",
       "      <td>23</td>\n",
       "      <td>27</td>\n",
       "      <td>26</td>\n",
       "    </tr>\n",
       "    <tr>\n",
       "      <th>4</th>\n",
       "      <td>Chicago Bulls</td>\n",
       "      <td>26</td>\n",
       "      <td>25</td>\n",
       "      <td>17</td>\n",
       "      <td>16</td>\n",
       "      <td>16</td>\n",
       "      <td>10</td>\n",
       "      <td>15</td>\n",
       "      <td>16</td>\n",
       "      <td>24</td>\n",
       "      <td>25</td>\n",
       "      <td>25</td>\n",
       "      <td>31</td>\n",
       "    </tr>\n",
       "  </tbody>\n",
       "</table>\n",
       "</div>"
      ],
      "text/plain": [
       "                team  wins_reg_home_2015/2016  wins_reg_home_2016/2017  \\\n",
       "0      Atlanta Hawks                       27                       23   \n",
       "1     Boston Celtics                       28                       30   \n",
       "2      Brooklyn Nets                       14                       13   \n",
       "3  Charlotte Hornets                       30                       22   \n",
       "4      Chicago Bulls                       26                       25   \n",
       "\n",
       "   wins_reg_home_2017/2018  wins_reg_away_2015/2016  wins_reg_away_2016/2017  \\\n",
       "0                       16                       21                       20   \n",
       "1                       27                       20                       23   \n",
       "2                       15                        7                        7   \n",
       "3                       21                       18                       14   \n",
       "4                       17                       16                       16   \n",
       "\n",
       "   wins_reg_away_2017/2018  losses_reg_home_2015/2016  \\\n",
       "0                        8                         14   \n",
       "1                       28                         13   \n",
       "2                       13                         27   \n",
       "3                       15                         11   \n",
       "4                       10                         15   \n",
       "\n",
       "   losses_reg_home_2016/2017  losses_reg_home_2017/2018  \\\n",
       "0                         18                         25   \n",
       "1                         11                         14   \n",
       "2                         28                         26   \n",
       "3                         19                         20   \n",
       "4                         16                         24   \n",
       "\n",
       "   losses_reg_away_2015/2016  losses_reg_away_2016/2017  \\\n",
       "0                         20                         21   \n",
       "1                         21                         18   \n",
       "2                         34                         34   \n",
       "3                         23                         27   \n",
       "4                         25                         25   \n",
       "\n",
       "   losses_reg_away_2017/2018  \n",
       "0                         33  \n",
       "1                         13  \n",
       "2                         28  \n",
       "3                         26  \n",
       "4                         31  "
      ]
     },
     "execution_count": 156,
     "metadata": {},
     "output_type": "execute_result"
    }
   ],
   "source": [
    "df_test.head().reset_index()"
   ]
  },
  {
   "cell_type": "code",
   "execution_count": 157,
   "metadata": {},
   "outputs": [
    {
     "data": {
      "text/html": [
       "<div>\n",
       "<table border=\"1\" class=\"dataframe\">\n",
       "  <thead>\n",
       "    <tr style=\"text-align: right;\">\n",
       "      <th></th>\n",
       "      <th>teamA</th>\n",
       "      <th>scoreA</th>\n",
       "      <th>teamB</th>\n",
       "      <th>scoreB</th>\n",
       "      <th>teamAWinner</th>\n",
       "    </tr>\n",
       "  </thead>\n",
       "  <tbody>\n",
       "    <tr>\n",
       "      <th>0</th>\n",
       "      <td>Miami Heat</td>\n",
       "      <td>79</td>\n",
       "      <td>Cleveland Cavaliers</td>\n",
       "      <td>98</td>\n",
       "      <td>False</td>\n",
       "    </tr>\n",
       "    <tr>\n",
       "      <th>1</th>\n",
       "      <td>Atlanta Hawks</td>\n",
       "      <td>117</td>\n",
       "      <td>Milwaukee Bucks</td>\n",
       "      <td>106</td>\n",
       "      <td>True</td>\n",
       "    </tr>\n",
       "    <tr>\n",
       "      <th>2</th>\n",
       "      <td>Utah Jazz</td>\n",
       "      <td>106</td>\n",
       "      <td>Brooklyn Nets</td>\n",
       "      <td>114</td>\n",
       "      <td>False</td>\n",
       "    </tr>\n",
       "    <tr>\n",
       "      <th>3</th>\n",
       "      <td>Indiana Pacers</td>\n",
       "      <td>95</td>\n",
       "      <td>Cleveland Cavaliers</td>\n",
       "      <td>97</td>\n",
       "      <td>False</td>\n",
       "    </tr>\n",
       "    <tr>\n",
       "      <th>4</th>\n",
       "      <td>Cleveland Cavaliers</td>\n",
       "      <td>111</td>\n",
       "      <td>Memphis Grizzlies</td>\n",
       "      <td>116</td>\n",
       "      <td>False</td>\n",
       "    </tr>\n",
       "  </tbody>\n",
       "</table>\n",
       "</div>"
      ],
      "text/plain": [
       "                 teamA  scoreA                teamB  scoreB teamAWinner\n",
       "0           Miami Heat      79  Cleveland Cavaliers      98       False\n",
       "1        Atlanta Hawks     117      Milwaukee Bucks     106        True\n",
       "2            Utah Jazz     106        Brooklyn Nets     114       False\n",
       "3       Indiana Pacers      95  Cleveland Cavaliers      97       False\n",
       "4  Cleveland Cavaliers     111    Memphis Grizzlies     116       False"
      ]
     },
     "execution_count": 157,
     "metadata": {},
     "output_type": "execute_result"
    }
   ],
   "source": [
    "df_matches.head()"
   ]
  },
  {
   "cell_type": "code",
   "execution_count": 158,
   "metadata": {
    "scrolled": false
   },
   "outputs": [
    {
     "data": {
      "text/html": [
       "<div>\n",
       "<table border=\"1\" class=\"dataframe\">\n",
       "  <thead>\n",
       "    <tr style=\"text-align: right;\">\n",
       "      <th></th>\n",
       "      <th>teamA</th>\n",
       "      <th>scoreA</th>\n",
       "      <th>teamB</th>\n",
       "      <th>scoreB</th>\n",
       "      <th>teamAWinner</th>\n",
       "      <th>team</th>\n",
       "      <th>wins_reg_home_2015/2016</th>\n",
       "      <th>wins_reg_home_2016/2017</th>\n",
       "      <th>wins_reg_home_2017/2018</th>\n",
       "      <th>wins_reg_away_2015/2016</th>\n",
       "      <th>wins_reg_away_2016/2017</th>\n",
       "      <th>wins_reg_away_2017/2018</th>\n",
       "      <th>losses_reg_home_2015/2016</th>\n",
       "      <th>losses_reg_home_2016/2017</th>\n",
       "      <th>losses_reg_home_2017/2018</th>\n",
       "      <th>losses_reg_away_2015/2016</th>\n",
       "      <th>losses_reg_away_2016/2017</th>\n",
       "      <th>losses_reg_away_2017/2018</th>\n",
       "    </tr>\n",
       "  </thead>\n",
       "  <tbody>\n",
       "    <tr>\n",
       "      <th>0</th>\n",
       "      <td>Miami Heat</td>\n",
       "      <td>79</td>\n",
       "      <td>Cleveland Cavaliers</td>\n",
       "      <td>98</td>\n",
       "      <td>False</td>\n",
       "      <td>Miami Heat</td>\n",
       "      <td>28</td>\n",
       "      <td>23</td>\n",
       "      <td>26</td>\n",
       "      <td>20</td>\n",
       "      <td>18</td>\n",
       "      <td>18</td>\n",
       "      <td>13</td>\n",
       "      <td>18</td>\n",
       "      <td>15</td>\n",
       "      <td>21</td>\n",
       "      <td>23</td>\n",
       "      <td>23</td>\n",
       "    </tr>\n",
       "    <tr>\n",
       "      <th>1</th>\n",
       "      <td>Miami Heat</td>\n",
       "      <td>141</td>\n",
       "      <td>Denver Nuggets</td>\n",
       "      <td>149</td>\n",
       "      <td>False</td>\n",
       "      <td>Miami Heat</td>\n",
       "      <td>28</td>\n",
       "      <td>23</td>\n",
       "      <td>26</td>\n",
       "      <td>20</td>\n",
       "      <td>18</td>\n",
       "      <td>18</td>\n",
       "      <td>13</td>\n",
       "      <td>18</td>\n",
       "      <td>15</td>\n",
       "      <td>21</td>\n",
       "      <td>23</td>\n",
       "      <td>23</td>\n",
       "    </tr>\n",
       "    <tr>\n",
       "      <th>2</th>\n",
       "      <td>Miami Heat</td>\n",
       "      <td>96</td>\n",
       "      <td>Boston Celtics</td>\n",
       "      <td>90</td>\n",
       "      <td>True</td>\n",
       "      <td>Miami Heat</td>\n",
       "      <td>28</td>\n",
       "      <td>23</td>\n",
       "      <td>26</td>\n",
       "      <td>20</td>\n",
       "      <td>18</td>\n",
       "      <td>18</td>\n",
       "      <td>13</td>\n",
       "      <td>18</td>\n",
       "      <td>15</td>\n",
       "      <td>21</td>\n",
       "      <td>23</td>\n",
       "      <td>23</td>\n",
       "    </tr>\n",
       "    <tr>\n",
       "      <th>3</th>\n",
       "      <td>Miami Heat</td>\n",
       "      <td>109</td>\n",
       "      <td>New Orleans Pelicans</td>\n",
       "      <td>94</td>\n",
       "      <td>True</td>\n",
       "      <td>Miami Heat</td>\n",
       "      <td>28</td>\n",
       "      <td>23</td>\n",
       "      <td>26</td>\n",
       "      <td>20</td>\n",
       "      <td>18</td>\n",
       "      <td>18</td>\n",
       "      <td>13</td>\n",
       "      <td>18</td>\n",
       "      <td>15</td>\n",
       "      <td>21</td>\n",
       "      <td>23</td>\n",
       "      <td>23</td>\n",
       "    </tr>\n",
       "    <tr>\n",
       "      <th>4</th>\n",
       "      <td>Miami Heat</td>\n",
       "      <td>120</td>\n",
       "      <td>Indiana Pacers</td>\n",
       "      <td>95</td>\n",
       "      <td>True</td>\n",
       "      <td>Miami Heat</td>\n",
       "      <td>28</td>\n",
       "      <td>23</td>\n",
       "      <td>26</td>\n",
       "      <td>20</td>\n",
       "      <td>18</td>\n",
       "      <td>18</td>\n",
       "      <td>13</td>\n",
       "      <td>18</td>\n",
       "      <td>15</td>\n",
       "      <td>21</td>\n",
       "      <td>23</td>\n",
       "      <td>23</td>\n",
       "    </tr>\n",
       "  </tbody>\n",
       "</table>\n",
       "</div>"
      ],
      "text/plain": [
       "        teamA  scoreA                 teamB  scoreB teamAWinner        team  \\\n",
       "0  Miami Heat      79   Cleveland Cavaliers      98       False  Miami Heat   \n",
       "1  Miami Heat     141        Denver Nuggets     149       False  Miami Heat   \n",
       "2  Miami Heat      96        Boston Celtics      90        True  Miami Heat   \n",
       "3  Miami Heat     109  New Orleans Pelicans      94        True  Miami Heat   \n",
       "4  Miami Heat     120        Indiana Pacers      95        True  Miami Heat   \n",
       "\n",
       "   wins_reg_home_2015/2016  wins_reg_home_2016/2017  wins_reg_home_2017/2018  \\\n",
       "0                       28                       23                       26   \n",
       "1                       28                       23                       26   \n",
       "2                       28                       23                       26   \n",
       "3                       28                       23                       26   \n",
       "4                       28                       23                       26   \n",
       "\n",
       "   wins_reg_away_2015/2016  wins_reg_away_2016/2017  wins_reg_away_2017/2018  \\\n",
       "0                       20                       18                       18   \n",
       "1                       20                       18                       18   \n",
       "2                       20                       18                       18   \n",
       "3                       20                       18                       18   \n",
       "4                       20                       18                       18   \n",
       "\n",
       "   losses_reg_home_2015/2016  losses_reg_home_2016/2017  \\\n",
       "0                         13                         18   \n",
       "1                         13                         18   \n",
       "2                         13                         18   \n",
       "3                         13                         18   \n",
       "4                         13                         18   \n",
       "\n",
       "   losses_reg_home_2017/2018  losses_reg_away_2015/2016  \\\n",
       "0                         15                         21   \n",
       "1                         15                         21   \n",
       "2                         15                         21   \n",
       "3                         15                         21   \n",
       "4                         15                         21   \n",
       "\n",
       "   losses_reg_away_2016/2017  losses_reg_away_2017/2018  \n",
       "0                         23                         23  \n",
       "1                         23                         23  \n",
       "2                         23                         23  \n",
       "3                         23                         23  \n",
       "4                         23                         23  "
      ]
     },
     "execution_count": 158,
     "metadata": {},
     "output_type": "execute_result"
    }
   ],
   "source": [
    "pd.merge(df_matches, df_test.reset_index(), left_on=\"teamA\", right_on=\"team\").head()"
   ]
  },
  {
   "cell_type": "code",
   "execution_count": 159,
   "metadata": {},
   "outputs": [],
   "source": [
    "df_ml = pd.merge(\n",
    "    pd.merge(df_matches, df_test.reset_index(), left_on=\"teamA\", right_on=\"team\"),\n",
    "    df_test.reset_index(), \n",
    "    left_on=\"teamB\", \n",
    "    right_on=\"team\",\n",
    "    suffixes=[\"_A\", \"_B\"]\n",
    ").drop(\n",
    "    [\"scoreA\", \"scoreB\", \"teamA\", \"teamB\", \"team_A\", \"team_B\", \"wins_reg_home_2017/2018_A\", \"wins_reg_away_2017/2018_A\", \"wins_reg_home_2017/2018_B\", \"wins_reg_away_2017/2018_B\", \"losses_reg_home_2017/2018_A\", \"losses_reg_away_2017/2018_A\", \"losses_reg_home_2017/2018_B\", \"losses_reg_away_2017/2018_B\"], \n",
    "    axis=1)"
   ]
  },
  {
   "cell_type": "code",
   "execution_count": 160,
   "metadata": {},
   "outputs": [
    {
     "data": {
      "text/html": [
       "<div>\n",
       "<table border=\"1\" class=\"dataframe\">\n",
       "  <thead>\n",
       "    <tr style=\"text-align: right;\">\n",
       "      <th></th>\n",
       "      <th>teamAWinner</th>\n",
       "      <th>wins_reg_home_2015/2016_A</th>\n",
       "      <th>wins_reg_home_2016/2017_A</th>\n",
       "      <th>wins_reg_away_2015/2016_A</th>\n",
       "      <th>wins_reg_away_2016/2017_A</th>\n",
       "      <th>losses_reg_home_2015/2016_A</th>\n",
       "      <th>losses_reg_home_2016/2017_A</th>\n",
       "      <th>losses_reg_away_2015/2016_A</th>\n",
       "      <th>losses_reg_away_2016/2017_A</th>\n",
       "      <th>wins_reg_home_2015/2016_B</th>\n",
       "      <th>wins_reg_home_2016/2017_B</th>\n",
       "      <th>wins_reg_away_2015/2016_B</th>\n",
       "      <th>wins_reg_away_2016/2017_B</th>\n",
       "      <th>losses_reg_home_2015/2016_B</th>\n",
       "      <th>losses_reg_home_2016/2017_B</th>\n",
       "      <th>losses_reg_away_2015/2016_B</th>\n",
       "      <th>losses_reg_away_2016/2017_B</th>\n",
       "    </tr>\n",
       "  </thead>\n",
       "  <tbody>\n",
       "    <tr>\n",
       "      <th>0</th>\n",
       "      <td>False</td>\n",
       "      <td>28</td>\n",
       "      <td>23</td>\n",
       "      <td>20</td>\n",
       "      <td>18</td>\n",
       "      <td>13</td>\n",
       "      <td>18</td>\n",
       "      <td>21</td>\n",
       "      <td>23</td>\n",
       "      <td>33</td>\n",
       "      <td>31</td>\n",
       "      <td>24</td>\n",
       "      <td>20</td>\n",
       "      <td>8</td>\n",
       "      <td>10</td>\n",
       "      <td>17</td>\n",
       "      <td>21</td>\n",
       "    </tr>\n",
       "    <tr>\n",
       "      <th>1</th>\n",
       "      <td>True</td>\n",
       "      <td>27</td>\n",
       "      <td>23</td>\n",
       "      <td>21</td>\n",
       "      <td>20</td>\n",
       "      <td>14</td>\n",
       "      <td>18</td>\n",
       "      <td>20</td>\n",
       "      <td>21</td>\n",
       "      <td>33</td>\n",
       "      <td>31</td>\n",
       "      <td>24</td>\n",
       "      <td>20</td>\n",
       "      <td>8</td>\n",
       "      <td>10</td>\n",
       "      <td>17</td>\n",
       "      <td>21</td>\n",
       "    </tr>\n",
       "    <tr>\n",
       "      <th>2</th>\n",
       "      <td>True</td>\n",
       "      <td>27</td>\n",
       "      <td>23</td>\n",
       "      <td>21</td>\n",
       "      <td>20</td>\n",
       "      <td>14</td>\n",
       "      <td>18</td>\n",
       "      <td>20</td>\n",
       "      <td>21</td>\n",
       "      <td>33</td>\n",
       "      <td>31</td>\n",
       "      <td>24</td>\n",
       "      <td>20</td>\n",
       "      <td>8</td>\n",
       "      <td>10</td>\n",
       "      <td>17</td>\n",
       "      <td>21</td>\n",
       "    </tr>\n",
       "    <tr>\n",
       "      <th>3</th>\n",
       "      <td>False</td>\n",
       "      <td>24</td>\n",
       "      <td>29</td>\n",
       "      <td>16</td>\n",
       "      <td>22</td>\n",
       "      <td>17</td>\n",
       "      <td>12</td>\n",
       "      <td>25</td>\n",
       "      <td>19</td>\n",
       "      <td>33</td>\n",
       "      <td>31</td>\n",
       "      <td>24</td>\n",
       "      <td>20</td>\n",
       "      <td>8</td>\n",
       "      <td>10</td>\n",
       "      <td>17</td>\n",
       "      <td>21</td>\n",
       "    </tr>\n",
       "    <tr>\n",
       "      <th>4</th>\n",
       "      <td>False</td>\n",
       "      <td>26</td>\n",
       "      <td>29</td>\n",
       "      <td>19</td>\n",
       "      <td>13</td>\n",
       "      <td>15</td>\n",
       "      <td>12</td>\n",
       "      <td>22</td>\n",
       "      <td>28</td>\n",
       "      <td>33</td>\n",
       "      <td>31</td>\n",
       "      <td>24</td>\n",
       "      <td>20</td>\n",
       "      <td>8</td>\n",
       "      <td>10</td>\n",
       "      <td>17</td>\n",
       "      <td>21</td>\n",
       "    </tr>\n",
       "  </tbody>\n",
       "</table>\n",
       "</div>"
      ],
      "text/plain": [
       "  teamAWinner  wins_reg_home_2015/2016_A  wins_reg_home_2016/2017_A  \\\n",
       "0       False                         28                         23   \n",
       "1        True                         27                         23   \n",
       "2        True                         27                         23   \n",
       "3       False                         24                         29   \n",
       "4       False                         26                         29   \n",
       "\n",
       "   wins_reg_away_2015/2016_A  wins_reg_away_2016/2017_A  \\\n",
       "0                         20                         18   \n",
       "1                         21                         20   \n",
       "2                         21                         20   \n",
       "3                         16                         22   \n",
       "4                         19                         13   \n",
       "\n",
       "   losses_reg_home_2015/2016_A  losses_reg_home_2016/2017_A  \\\n",
       "0                           13                           18   \n",
       "1                           14                           18   \n",
       "2                           14                           18   \n",
       "3                           17                           12   \n",
       "4                           15                           12   \n",
       "\n",
       "   losses_reg_away_2015/2016_A  losses_reg_away_2016/2017_A  \\\n",
       "0                           21                           23   \n",
       "1                           20                           21   \n",
       "2                           20                           21   \n",
       "3                           25                           19   \n",
       "4                           22                           28   \n",
       "\n",
       "   wins_reg_home_2015/2016_B  wins_reg_home_2016/2017_B  \\\n",
       "0                         33                         31   \n",
       "1                         33                         31   \n",
       "2                         33                         31   \n",
       "3                         33                         31   \n",
       "4                         33                         31   \n",
       "\n",
       "   wins_reg_away_2015/2016_B  wins_reg_away_2016/2017_B  \\\n",
       "0                         24                         20   \n",
       "1                         24                         20   \n",
       "2                         24                         20   \n",
       "3                         24                         20   \n",
       "4                         24                         20   \n",
       "\n",
       "   losses_reg_home_2015/2016_B  losses_reg_home_2016/2017_B  \\\n",
       "0                            8                           10   \n",
       "1                            8                           10   \n",
       "2                            8                           10   \n",
       "3                            8                           10   \n",
       "4                            8                           10   \n",
       "\n",
       "   losses_reg_away_2015/2016_B  losses_reg_away_2016/2017_B  \n",
       "0                           17                           21  \n",
       "1                           17                           21  \n",
       "2                           17                           21  \n",
       "3                           17                           21  \n",
       "4                           17                           21  "
      ]
     },
     "execution_count": 160,
     "metadata": {},
     "output_type": "execute_result"
    }
   ],
   "source": [
    "df_ml.head()"
   ]
  },
  {
   "cell_type": "code",
   "execution_count": 28,
   "metadata": {},
   "outputs": [],
   "source": [
    "from sklearn.linear_model import LogisticRegression"
   ]
  },
  {
   "cell_type": "code",
   "execution_count": 29,
   "metadata": {},
   "outputs": [],
   "source": [
    "lr = LogisticRegression()"
   ]
  },
  {
   "cell_type": "code",
   "execution_count": 30,
   "metadata": {},
   "outputs": [],
   "source": [
    "from sklearn.model_selection import train_test_split"
   ]
  },
  {
   "cell_type": "code",
   "execution_count": 33,
   "metadata": {},
   "outputs": [
    {
     "data": {
      "text/plain": [
       "0.62987012987012991"
      ]
     },
     "execution_count": 33,
     "metadata": {},
     "output_type": "execute_result"
    }
   ],
   "source": [
    "X_train, X_test, y_train, y_test = train_test_split(\n",
    "    df_ml.drop(\"teamAWinner\", axis=1), \n",
    "    df_ml[\"teamAWinner\"]\n",
    ")\n",
    "\n",
    "lr.fit(X_train, y_train)\n",
    "\n",
    "lr.score(X_test, y_test)"
   ]
  },
  {
   "cell_type": "markdown",
   "metadata": {},
   "source": [
    "# Average Win Margin per Team "
   ]
  },
  {
   "cell_type": "markdown",
   "metadata": {},
   "source": [
    "## Validierung der eigentlichen Cypher-Query"
   ]
  },
  {
   "cell_type": "code",
   "execution_count": 161,
   "metadata": {},
   "outputs": [],
   "source": [
    "cypher = \"\"\"\n",
    "MATCH \n",
    "\t(t:Team)-[:SCORED]->(s:Score)-[:IN_GAME]->(g:Game)<-[:IN_GAME]-(s2:Score)<-[:SCORED]-(t2:Team), (sea:Season)\n",
    "WHERE \n",
    "    (g)-[:TOOK_PLACE_IN]->(sea)\n",
    "AND\n",
    "\tsea.name = \"2017/2018\"\n",
    "AND\n",
    "\tg.game_type = \"regular_season\"\n",
    "WITH g, collect(t.name) as teams, collect(s.score) as scores\n",
    "RETURN\n",
    "\tHEAD(teams) as teamA, HEAD(TAIL(scores)) as scoreA, HEAD(TAIL(teams)) as teamB, HEAD(scores) as scoreB\n",
    "\"\"\""
   ]
  },
  {
   "cell_type": "code",
   "execution_count": 162,
   "metadata": {},
   "outputs": [],
   "source": [
    "data, cols = db.cypher_query(cypher)"
   ]
  },
  {
   "cell_type": "code",
   "execution_count": 163,
   "metadata": {},
   "outputs": [],
   "source": [
    "df_matchesX = pd.DataFrame(data=data, columns=cols)"
   ]
  },
  {
   "cell_type": "code",
   "execution_count": 164,
   "metadata": {},
   "outputs": [
    {
     "data": {
      "text/html": [
       "<div>\n",
       "<table border=\"1\" class=\"dataframe\">\n",
       "  <thead>\n",
       "    <tr style=\"text-align: right;\">\n",
       "      <th></th>\n",
       "      <th>teamA</th>\n",
       "      <th>scoreA</th>\n",
       "      <th>teamB</th>\n",
       "      <th>scoreB</th>\n",
       "    </tr>\n",
       "  </thead>\n",
       "  <tbody>\n",
       "    <tr>\n",
       "      <th>0</th>\n",
       "      <td>Miami Heat</td>\n",
       "      <td>79</td>\n",
       "      <td>Cleveland Cavaliers</td>\n",
       "      <td>98</td>\n",
       "    </tr>\n",
       "    <tr>\n",
       "      <th>1</th>\n",
       "      <td>Atlanta Hawks</td>\n",
       "      <td>117</td>\n",
       "      <td>Milwaukee Bucks</td>\n",
       "      <td>106</td>\n",
       "    </tr>\n",
       "    <tr>\n",
       "      <th>2</th>\n",
       "      <td>Utah Jazz</td>\n",
       "      <td>106</td>\n",
       "      <td>Brooklyn Nets</td>\n",
       "      <td>114</td>\n",
       "    </tr>\n",
       "    <tr>\n",
       "      <th>3</th>\n",
       "      <td>Indiana Pacers</td>\n",
       "      <td>95</td>\n",
       "      <td>Cleveland Cavaliers</td>\n",
       "      <td>97</td>\n",
       "    </tr>\n",
       "    <tr>\n",
       "      <th>4</th>\n",
       "      <td>Cleveland Cavaliers</td>\n",
       "      <td>111</td>\n",
       "      <td>Memphis Grizzlies</td>\n",
       "      <td>116</td>\n",
       "    </tr>\n",
       "  </tbody>\n",
       "</table>\n",
       "</div>"
      ],
      "text/plain": [
       "                 teamA  scoreA                teamB  scoreB\n",
       "0           Miami Heat      79  Cleveland Cavaliers      98\n",
       "1        Atlanta Hawks     117      Milwaukee Bucks     106\n",
       "2            Utah Jazz     106        Brooklyn Nets     114\n",
       "3       Indiana Pacers      95  Cleveland Cavaliers      97\n",
       "4  Cleveland Cavaliers     111    Memphis Grizzlies     116"
      ]
     },
     "execution_count": 164,
     "metadata": {},
     "output_type": "execute_result"
    }
   ],
   "source": [
    "df_matchesX.head()"
   ]
  },
  {
   "cell_type": "code",
   "execution_count": 165,
   "metadata": {},
   "outputs": [],
   "source": [
    "df_matches2 = df_matchesX"
   ]
  },
  {
   "cell_type": "code",
   "execution_count": 166,
   "metadata": {},
   "outputs": [],
   "source": [
    "df_matches2[\"scoreMargin\"] = abs(df_matches2[\"scoreA\"]-df_matches2[\"scoreB\"])"
   ]
  },
  {
   "cell_type": "code",
   "execution_count": 167,
   "metadata": {},
   "outputs": [
    {
     "data": {
      "text/html": [
       "<div>\n",
       "<table border=\"1\" class=\"dataframe\">\n",
       "  <thead>\n",
       "    <tr style=\"text-align: right;\">\n",
       "      <th></th>\n",
       "      <th>teamA</th>\n",
       "      <th>scoreA</th>\n",
       "      <th>teamB</th>\n",
       "      <th>scoreB</th>\n",
       "      <th>scoreMargin</th>\n",
       "    </tr>\n",
       "  </thead>\n",
       "  <tbody>\n",
       "    <tr>\n",
       "      <th>0</th>\n",
       "      <td>Miami Heat</td>\n",
       "      <td>79</td>\n",
       "      <td>Cleveland Cavaliers</td>\n",
       "      <td>98</td>\n",
       "      <td>19</td>\n",
       "    </tr>\n",
       "    <tr>\n",
       "      <th>1</th>\n",
       "      <td>Atlanta Hawks</td>\n",
       "      <td>117</td>\n",
       "      <td>Milwaukee Bucks</td>\n",
       "      <td>106</td>\n",
       "      <td>11</td>\n",
       "    </tr>\n",
       "    <tr>\n",
       "      <th>2</th>\n",
       "      <td>Utah Jazz</td>\n",
       "      <td>106</td>\n",
       "      <td>Brooklyn Nets</td>\n",
       "      <td>114</td>\n",
       "      <td>8</td>\n",
       "    </tr>\n",
       "    <tr>\n",
       "      <th>3</th>\n",
       "      <td>Indiana Pacers</td>\n",
       "      <td>95</td>\n",
       "      <td>Cleveland Cavaliers</td>\n",
       "      <td>97</td>\n",
       "      <td>2</td>\n",
       "    </tr>\n",
       "    <tr>\n",
       "      <th>4</th>\n",
       "      <td>Cleveland Cavaliers</td>\n",
       "      <td>111</td>\n",
       "      <td>Memphis Grizzlies</td>\n",
       "      <td>116</td>\n",
       "      <td>5</td>\n",
       "    </tr>\n",
       "  </tbody>\n",
       "</table>\n",
       "</div>"
      ],
      "text/plain": [
       "                 teamA  scoreA                teamB  scoreB  scoreMargin\n",
       "0           Miami Heat      79  Cleveland Cavaliers      98           19\n",
       "1        Atlanta Hawks     117      Milwaukee Bucks     106           11\n",
       "2            Utah Jazz     106        Brooklyn Nets     114            8\n",
       "3       Indiana Pacers      95  Cleveland Cavaliers      97            2\n",
       "4  Cleveland Cavaliers     111    Memphis Grizzlies     116            5"
      ]
     },
     "execution_count": 167,
     "metadata": {},
     "output_type": "execute_result"
    }
   ],
   "source": [
    "df_matches2.head()"
   ]
  },
  {
   "cell_type": "code",
   "execution_count": 168,
   "metadata": {},
   "outputs": [],
   "source": [
    "a = [\"Atlanta Hawks\"]"
   ]
  },
  {
   "cell_type": "code",
   "execution_count": 169,
   "metadata": {},
   "outputs": [],
   "source": [
    "df_onlyBOSmatches = df_matches2[(df_matches2['teamA'].isin(a)) | (df_matches2['teamB'].isin(a)) ]"
   ]
  },
  {
   "cell_type": "code",
   "execution_count": 170,
   "metadata": {},
   "outputs": [
    {
     "data": {
      "text/plain": [
       "10.865853658536585"
      ]
     },
     "execution_count": 170,
     "metadata": {},
     "output_type": "execute_result"
    }
   ],
   "source": [
    "df_onlyBOSmatches[\"scoreMargin\"].mean()"
   ]
  },
  {
   "cell_type": "markdown",
   "metadata": {},
   "source": [
    "## Actual Cypher Query"
   ]
  },
  {
   "cell_type": "code",
   "execution_count": 171,
   "metadata": {},
   "outputs": [],
   "source": [
    "cypher = \"\"\"\n",
    "MATCH \n",
    "    (t:Team)-[:SCORED]->(s:Score)-[:IN_GAME]->(g:Game)<-[:IN_GAME]-(s2:Score)<-[:SCORED]-(t2:Team), (sea:Season)\n",
    "WHERE \n",
    "    (g)-[:TOOK_PLACE_IN]->(sea)\n",
    "AND\n",
    "\tg.game_type= \"regular_season\"\n",
    "RETURN \n",
    "    t.name as team, \n",
    "    avg(abs(s.score - s2.score)) as scoreMargin,\n",
    "    sea.name as season\n",
    "ORDER BY \n",
    "    team, season\n",
    "\n",
    "\"\"\""
   ]
  },
  {
   "cell_type": "code",
   "execution_count": 172,
   "metadata": {},
   "outputs": [],
   "source": [
    "data, cols = db.cypher_query(cypher)"
   ]
  },
  {
   "cell_type": "code",
   "execution_count": 173,
   "metadata": {},
   "outputs": [],
   "source": [
    "df_scoreMargin = pd.DataFrame(data=data, columns=cols)"
   ]
  },
  {
   "cell_type": "code",
   "execution_count": 174,
   "metadata": {},
   "outputs": [
    {
     "data": {
      "text/html": [
       "<div>\n",
       "<table border=\"1\" class=\"dataframe\">\n",
       "  <thead>\n",
       "    <tr style=\"text-align: right;\">\n",
       "      <th></th>\n",
       "      <th>team</th>\n",
       "      <th>scoreMargin</th>\n",
       "      <th>season</th>\n",
       "    </tr>\n",
       "  </thead>\n",
       "  <tbody>\n",
       "    <tr>\n",
       "      <th>0</th>\n",
       "      <td>Atlanta Hawks</td>\n",
       "      <td>11.634146</td>\n",
       "      <td>2015/2016</td>\n",
       "    </tr>\n",
       "    <tr>\n",
       "      <th>1</th>\n",
       "      <td>Atlanta Hawks</td>\n",
       "      <td>11.170732</td>\n",
       "      <td>2016/2017</td>\n",
       "    </tr>\n",
       "    <tr>\n",
       "      <th>2</th>\n",
       "      <td>Atlanta Hawks</td>\n",
       "      <td>10.865854</td>\n",
       "      <td>2017/2018</td>\n",
       "    </tr>\n",
       "    <tr>\n",
       "      <th>3</th>\n",
       "      <td>Boston Celtics</td>\n",
       "      <td>10.695122</td>\n",
       "      <td>2015/2016</td>\n",
       "    </tr>\n",
       "    <tr>\n",
       "      <th>4</th>\n",
       "      <td>Boston Celtics</td>\n",
       "      <td>9.195122</td>\n",
       "      <td>2016/2017</td>\n",
       "    </tr>\n",
       "  </tbody>\n",
       "</table>\n",
       "</div>"
      ],
      "text/plain": [
       "             team  scoreMargin     season\n",
       "0   Atlanta Hawks    11.634146  2015/2016\n",
       "1   Atlanta Hawks    11.170732  2016/2017\n",
       "2   Atlanta Hawks    10.865854  2017/2018\n",
       "3  Boston Celtics    10.695122  2015/2016\n",
       "4  Boston Celtics     9.195122  2016/2017"
      ]
     },
     "execution_count": 174,
     "metadata": {},
     "output_type": "execute_result"
    }
   ],
   "source": [
    "df_scoreMargin.head()"
   ]
  },
  {
   "cell_type": "code",
   "execution_count": 175,
   "metadata": {},
   "outputs": [],
   "source": [
    "df_scoreMargin_test = df_scoreMargin.pivot(index=\"team\", columns=\"season\")"
   ]
  },
  {
   "cell_type": "code",
   "execution_count": 176,
   "metadata": {},
   "outputs": [
    {
     "data": {
      "text/html": [
       "<div>\n",
       "<table border=\"1\" class=\"dataframe\">\n",
       "  <thead>\n",
       "    <tr>\n",
       "      <th></th>\n",
       "      <th colspan=\"3\" halign=\"left\">scoreMargin</th>\n",
       "    </tr>\n",
       "    <tr>\n",
       "      <th>season</th>\n",
       "      <th>2015/2016</th>\n",
       "      <th>2016/2017</th>\n",
       "      <th>2017/2018</th>\n",
       "    </tr>\n",
       "    <tr>\n",
       "      <th>team</th>\n",
       "      <th></th>\n",
       "      <th></th>\n",
       "      <th></th>\n",
       "    </tr>\n",
       "  </thead>\n",
       "  <tbody>\n",
       "    <tr>\n",
       "      <th>Atlanta Hawks</th>\n",
       "      <td>11.634146</td>\n",
       "      <td>11.170732</td>\n",
       "      <td>10.865854</td>\n",
       "    </tr>\n",
       "    <tr>\n",
       "      <th>Boston Celtics</th>\n",
       "      <td>10.695122</td>\n",
       "      <td>9.195122</td>\n",
       "      <td>9.219512</td>\n",
       "    </tr>\n",
       "    <tr>\n",
       "      <th>Brooklyn Nets</th>\n",
       "      <td>10.743902</td>\n",
       "      <td>12.195122</td>\n",
       "      <td>10.231707</td>\n",
       "    </tr>\n",
       "    <tr>\n",
       "      <th>Charlotte Hornets</th>\n",
       "      <td>11.134146</td>\n",
       "      <td>10.195122</td>\n",
       "      <td>11.768293</td>\n",
       "    </tr>\n",
       "    <tr>\n",
       "      <th>Chicago Bulls</th>\n",
       "      <td>9.865854</td>\n",
       "      <td>12.036585</td>\n",
       "      <td>12.231707</td>\n",
       "    </tr>\n",
       "  </tbody>\n",
       "</table>\n",
       "</div>"
      ],
      "text/plain": [
       "                  scoreMargin                      \n",
       "season              2015/2016  2016/2017  2017/2018\n",
       "team                                               \n",
       "Atlanta Hawks       11.634146  11.170732  10.865854\n",
       "Boston Celtics      10.695122   9.195122   9.219512\n",
       "Brooklyn Nets       10.743902  12.195122  10.231707\n",
       "Charlotte Hornets   11.134146  10.195122  11.768293\n",
       "Chicago Bulls        9.865854  12.036585  12.231707"
      ]
     },
     "execution_count": 176,
     "metadata": {},
     "output_type": "execute_result"
    }
   ],
   "source": [
    "df_scoreMargin_test.head()"
   ]
  },
  {
   "cell_type": "code",
   "execution_count": 177,
   "metadata": {},
   "outputs": [],
   "source": [
    "cols = []\n",
    "for a, b in zip(df_scoreMargin_test.columns.get_level_values(0), df_scoreMargin_test.columns.get_level_values(1)):\n",
    "    cols.append(a+\"_\"+b)"
   ]
  },
  {
   "cell_type": "code",
   "execution_count": 178,
   "metadata": {},
   "outputs": [
    {
     "data": {
      "text/plain": [
       "['scoreMargin_2015/2016', 'scoreMargin_2016/2017', 'scoreMargin_2017/2018']"
      ]
     },
     "execution_count": 178,
     "metadata": {},
     "output_type": "execute_result"
    }
   ],
   "source": [
    "cols"
   ]
  },
  {
   "cell_type": "code",
   "execution_count": 179,
   "metadata": {},
   "outputs": [],
   "source": [
    "df_scoreMargin_test.columns = cols"
   ]
  },
  {
   "cell_type": "code",
   "execution_count": 180,
   "metadata": {},
   "outputs": [
    {
     "data": {
      "text/html": [
       "<div>\n",
       "<table border=\"1\" class=\"dataframe\">\n",
       "  <thead>\n",
       "    <tr style=\"text-align: right;\">\n",
       "      <th></th>\n",
       "      <th>scoreMargin_2015/2016</th>\n",
       "      <th>scoreMargin_2016/2017</th>\n",
       "      <th>scoreMargin_2017/2018</th>\n",
       "    </tr>\n",
       "    <tr>\n",
       "      <th>team</th>\n",
       "      <th></th>\n",
       "      <th></th>\n",
       "      <th></th>\n",
       "    </tr>\n",
       "  </thead>\n",
       "  <tbody>\n",
       "    <tr>\n",
       "      <th>Atlanta Hawks</th>\n",
       "      <td>11.634146</td>\n",
       "      <td>11.170732</td>\n",
       "      <td>10.865854</td>\n",
       "    </tr>\n",
       "    <tr>\n",
       "      <th>Boston Celtics</th>\n",
       "      <td>10.695122</td>\n",
       "      <td>9.195122</td>\n",
       "      <td>9.219512</td>\n",
       "    </tr>\n",
       "    <tr>\n",
       "      <th>Brooklyn Nets</th>\n",
       "      <td>10.743902</td>\n",
       "      <td>12.195122</td>\n",
       "      <td>10.231707</td>\n",
       "    </tr>\n",
       "    <tr>\n",
       "      <th>Charlotte Hornets</th>\n",
       "      <td>11.134146</td>\n",
       "      <td>10.195122</td>\n",
       "      <td>11.768293</td>\n",
       "    </tr>\n",
       "    <tr>\n",
       "      <th>Chicago Bulls</th>\n",
       "      <td>9.865854</td>\n",
       "      <td>12.036585</td>\n",
       "      <td>12.231707</td>\n",
       "    </tr>\n",
       "  </tbody>\n",
       "</table>\n",
       "</div>"
      ],
      "text/plain": [
       "                   scoreMargin_2015/2016  scoreMargin_2016/2017  \\\n",
       "team                                                              \n",
       "Atlanta Hawks                  11.634146              11.170732   \n",
       "Boston Celtics                 10.695122               9.195122   \n",
       "Brooklyn Nets                  10.743902              12.195122   \n",
       "Charlotte Hornets              11.134146              10.195122   \n",
       "Chicago Bulls                   9.865854              12.036585   \n",
       "\n",
       "                   scoreMargin_2017/2018  \n",
       "team                                      \n",
       "Atlanta Hawks                  10.865854  \n",
       "Boston Celtics                  9.219512  \n",
       "Brooklyn Nets                  10.231707  \n",
       "Charlotte Hornets              11.768293  \n",
       "Chicago Bulls                  12.231707  "
      ]
     },
     "execution_count": 180,
     "metadata": {},
     "output_type": "execute_result"
    }
   ],
   "source": [
    "df_scoreMargin_test.head()"
   ]
  },
  {
   "cell_type": "code",
   "execution_count": 181,
   "metadata": {},
   "outputs": [],
   "source": [
    "df_ml_1 = pd.merge(\n",
    "    pd.merge(df_matches, df_test.reset_index(), left_on=\"teamA\", right_on=\"team\"),\n",
    "    df_test.reset_index(), \n",
    "    left_on=\"teamB\", \n",
    "    right_on=\"team\",\n",
    "    suffixes=[\"_A\", \"_B\"]\n",
    ")"
   ]
  },
  {
   "cell_type": "code",
   "execution_count": 182,
   "metadata": {},
   "outputs": [],
   "source": [
    "df_ml_2 = pd.merge(\n",
    "    pd.merge(df_ml_1, df_scoreMargin_test.reset_index(), left_on=\"teamA\", right_on=\"team\"),\n",
    "    df_scoreMargin_test.reset_index(), \n",
    "    left_on=\"teamB\", \n",
    "    right_on=\"team\",\n",
    "    suffixes=[\"_A\", \"_B\"]\n",
    ").drop(\n",
    "    [\"scoreA\", \"scoreB\", \"teamA\", \"teamB\", \"team_A\", \"team_B\", \"wins_reg_2017/2018_A\", \"losses_reg_2017/2018_A\", \"wins_reg_2017/2018_B\", \"losses_reg_2017/2018_B\", \"scoreMargin_2017/2018_A\", \"scoreMargin_2017/2018_B\" ], \n",
    "    axis=1)"
   ]
  },
  {
   "cell_type": "code",
   "execution_count": 183,
   "metadata": {},
   "outputs": [
    {
     "data": {
      "text/html": [
       "<div>\n",
       "<table border=\"1\" class=\"dataframe\">\n",
       "  <thead>\n",
       "    <tr style=\"text-align: right;\">\n",
       "      <th></th>\n",
       "      <th>teamAWinner</th>\n",
       "      <th>wins_reg_home_2015/2016_A</th>\n",
       "      <th>wins_reg_home_2016/2017_A</th>\n",
       "      <th>wins_reg_home_2017/2018_A</th>\n",
       "      <th>wins_reg_away_2015/2016_A</th>\n",
       "      <th>wins_reg_away_2016/2017_A</th>\n",
       "      <th>wins_reg_away_2017/2018_A</th>\n",
       "      <th>losses_reg_home_2015/2016_A</th>\n",
       "      <th>losses_reg_home_2016/2017_A</th>\n",
       "      <th>losses_reg_home_2017/2018_A</th>\n",
       "      <th>...</th>\n",
       "      <th>losses_reg_home_2015/2016_B</th>\n",
       "      <th>losses_reg_home_2016/2017_B</th>\n",
       "      <th>losses_reg_home_2017/2018_B</th>\n",
       "      <th>losses_reg_away_2015/2016_B</th>\n",
       "      <th>losses_reg_away_2016/2017_B</th>\n",
       "      <th>losses_reg_away_2017/2018_B</th>\n",
       "      <th>scoreMargin_2015/2016_A</th>\n",
       "      <th>scoreMargin_2016/2017_A</th>\n",
       "      <th>scoreMargin_2015/2016_B</th>\n",
       "      <th>scoreMargin_2016/2017_B</th>\n",
       "    </tr>\n",
       "  </thead>\n",
       "  <tbody>\n",
       "    <tr>\n",
       "      <th>0</th>\n",
       "      <td>False</td>\n",
       "      <td>28</td>\n",
       "      <td>23</td>\n",
       "      <td>26</td>\n",
       "      <td>20</td>\n",
       "      <td>18</td>\n",
       "      <td>18</td>\n",
       "      <td>13</td>\n",
       "      <td>18</td>\n",
       "      <td>15</td>\n",
       "      <td>...</td>\n",
       "      <td>8</td>\n",
       "      <td>10</td>\n",
       "      <td>12</td>\n",
       "      <td>17</td>\n",
       "      <td>21</td>\n",
       "      <td>20</td>\n",
       "      <td>11.060976</td>\n",
       "      <td>9.890244</td>\n",
       "      <td>11.707317</td>\n",
       "      <td>12.134146</td>\n",
       "    </tr>\n",
       "    <tr>\n",
       "      <th>1</th>\n",
       "      <td>True</td>\n",
       "      <td>27</td>\n",
       "      <td>23</td>\n",
       "      <td>16</td>\n",
       "      <td>21</td>\n",
       "      <td>20</td>\n",
       "      <td>8</td>\n",
       "      <td>14</td>\n",
       "      <td>18</td>\n",
       "      <td>25</td>\n",
       "      <td>...</td>\n",
       "      <td>8</td>\n",
       "      <td>10</td>\n",
       "      <td>12</td>\n",
       "      <td>17</td>\n",
       "      <td>21</td>\n",
       "      <td>20</td>\n",
       "      <td>11.634146</td>\n",
       "      <td>11.170732</td>\n",
       "      <td>11.707317</td>\n",
       "      <td>12.134146</td>\n",
       "    </tr>\n",
       "    <tr>\n",
       "      <th>2</th>\n",
       "      <td>True</td>\n",
       "      <td>27</td>\n",
       "      <td>23</td>\n",
       "      <td>16</td>\n",
       "      <td>21</td>\n",
       "      <td>20</td>\n",
       "      <td>8</td>\n",
       "      <td>14</td>\n",
       "      <td>18</td>\n",
       "      <td>25</td>\n",
       "      <td>...</td>\n",
       "      <td>8</td>\n",
       "      <td>10</td>\n",
       "      <td>12</td>\n",
       "      <td>17</td>\n",
       "      <td>21</td>\n",
       "      <td>20</td>\n",
       "      <td>11.634146</td>\n",
       "      <td>11.170732</td>\n",
       "      <td>11.707317</td>\n",
       "      <td>12.134146</td>\n",
       "    </tr>\n",
       "    <tr>\n",
       "      <th>3</th>\n",
       "      <td>False</td>\n",
       "      <td>24</td>\n",
       "      <td>29</td>\n",
       "      <td>28</td>\n",
       "      <td>16</td>\n",
       "      <td>22</td>\n",
       "      <td>20</td>\n",
       "      <td>17</td>\n",
       "      <td>12</td>\n",
       "      <td>13</td>\n",
       "      <td>...</td>\n",
       "      <td>8</td>\n",
       "      <td>10</td>\n",
       "      <td>12</td>\n",
       "      <td>17</td>\n",
       "      <td>21</td>\n",
       "      <td>20</td>\n",
       "      <td>11.378049</td>\n",
       "      <td>11.207317</td>\n",
       "      <td>11.707317</td>\n",
       "      <td>12.134146</td>\n",
       "    </tr>\n",
       "    <tr>\n",
       "      <th>4</th>\n",
       "      <td>False</td>\n",
       "      <td>26</td>\n",
       "      <td>29</td>\n",
       "      <td>27</td>\n",
       "      <td>19</td>\n",
       "      <td>13</td>\n",
       "      <td>21</td>\n",
       "      <td>15</td>\n",
       "      <td>12</td>\n",
       "      <td>14</td>\n",
       "      <td>...</td>\n",
       "      <td>8</td>\n",
       "      <td>10</td>\n",
       "      <td>12</td>\n",
       "      <td>17</td>\n",
       "      <td>21</td>\n",
       "      <td>20</td>\n",
       "      <td>9.658537</td>\n",
       "      <td>11.707317</td>\n",
       "      <td>11.707317</td>\n",
       "      <td>12.134146</td>\n",
       "    </tr>\n",
       "  </tbody>\n",
       "</table>\n",
       "<p>5 rows × 29 columns</p>\n",
       "</div>"
      ],
      "text/plain": [
       "  teamAWinner  wins_reg_home_2015/2016_A  wins_reg_home_2016/2017_A  \\\n",
       "0       False                         28                         23   \n",
       "1        True                         27                         23   \n",
       "2        True                         27                         23   \n",
       "3       False                         24                         29   \n",
       "4       False                         26                         29   \n",
       "\n",
       "   wins_reg_home_2017/2018_A  wins_reg_away_2015/2016_A  \\\n",
       "0                         26                         20   \n",
       "1                         16                         21   \n",
       "2                         16                         21   \n",
       "3                         28                         16   \n",
       "4                         27                         19   \n",
       "\n",
       "   wins_reg_away_2016/2017_A  wins_reg_away_2017/2018_A  \\\n",
       "0                         18                         18   \n",
       "1                         20                          8   \n",
       "2                         20                          8   \n",
       "3                         22                         20   \n",
       "4                         13                         21   \n",
       "\n",
       "   losses_reg_home_2015/2016_A  losses_reg_home_2016/2017_A  \\\n",
       "0                           13                           18   \n",
       "1                           14                           18   \n",
       "2                           14                           18   \n",
       "3                           17                           12   \n",
       "4                           15                           12   \n",
       "\n",
       "   losses_reg_home_2017/2018_A           ...             \\\n",
       "0                           15           ...              \n",
       "1                           25           ...              \n",
       "2                           25           ...              \n",
       "3                           13           ...              \n",
       "4                           14           ...              \n",
       "\n",
       "   losses_reg_home_2015/2016_B  losses_reg_home_2016/2017_B  \\\n",
       "0                            8                           10   \n",
       "1                            8                           10   \n",
       "2                            8                           10   \n",
       "3                            8                           10   \n",
       "4                            8                           10   \n",
       "\n",
       "   losses_reg_home_2017/2018_B  losses_reg_away_2015/2016_B  \\\n",
       "0                           12                           17   \n",
       "1                           12                           17   \n",
       "2                           12                           17   \n",
       "3                           12                           17   \n",
       "4                           12                           17   \n",
       "\n",
       "   losses_reg_away_2016/2017_B  losses_reg_away_2017/2018_B  \\\n",
       "0                           21                           20   \n",
       "1                           21                           20   \n",
       "2                           21                           20   \n",
       "3                           21                           20   \n",
       "4                           21                           20   \n",
       "\n",
       "   scoreMargin_2015/2016_A  scoreMargin_2016/2017_A  scoreMargin_2015/2016_B  \\\n",
       "0                11.060976                 9.890244                11.707317   \n",
       "1                11.634146                11.170732                11.707317   \n",
       "2                11.634146                11.170732                11.707317   \n",
       "3                11.378049                11.207317                11.707317   \n",
       "4                 9.658537                11.707317                11.707317   \n",
       "\n",
       "   scoreMargin_2016/2017_B  \n",
       "0                12.134146  \n",
       "1                12.134146  \n",
       "2                12.134146  \n",
       "3                12.134146  \n",
       "4                12.134146  \n",
       "\n",
       "[5 rows x 29 columns]"
      ]
     },
     "execution_count": 183,
     "metadata": {},
     "output_type": "execute_result"
    }
   ],
   "source": [
    "df_ml_2.head()"
   ]
  },
  {
   "cell_type": "markdown",
   "metadata": {},
   "source": [
    "## Score Margin splitted into home and away"
   ]
  },
  {
   "cell_type": "code",
   "execution_count": 184,
   "metadata": {},
   "outputs": [],
   "source": [
    "cypher = \"\"\"\n",
    "MATCH \n",
    "    (t:Team)-[:SCORED]->(s:Score)-[:IN_GAME]->(g:Game)<-[:IN_GAME]-(s2:Score)<-[:SCORED]-(t2:Team), (sea:Season)\n",
    "WHERE \n",
    "    (g)-[:TOOK_PLACE_IN]->(sea)\n",
    "AND\n",
    "\tg.game_type= \"regular_season\"\n",
    "RETURN \n",
    "    t.name as team, \n",
    "    sea.name as season,\n",
    "    CASE WHEN s.score > s2.score THEN avg(abs(s.score - s2.score)) ELSE 0 END as scoreMarginWins,\n",
    "    CASE WHEN s.score < s2.score THEN avg(abs(s.score - s2.score)) ELSE 0 END as scoreMarginLosses\n",
    "\n",
    "ORDER BY \n",
    "    team, season\n",
    "\n",
    "\"\"\""
   ]
  },
  {
   "cell_type": "code",
   "execution_count": 185,
   "metadata": {},
   "outputs": [],
   "source": [
    "data, cols = db.cypher_query(cypher)"
   ]
  },
  {
   "cell_type": "code",
   "execution_count": 186,
   "metadata": {},
   "outputs": [],
   "source": [
    "df_scoreMargin = pd.DataFrame(data=data, columns=cols)"
   ]
  },
  {
   "cell_type": "code",
   "execution_count": 187,
   "metadata": {},
   "outputs": [
    {
     "data": {
      "text/html": [
       "<div>\n",
       "<table border=\"1\" class=\"dataframe\">\n",
       "  <thead>\n",
       "    <tr style=\"text-align: right;\">\n",
       "      <th></th>\n",
       "      <th>team</th>\n",
       "      <th>season</th>\n",
       "      <th>scoreMarginWins</th>\n",
       "      <th>scoreMarginLosses</th>\n",
       "    </tr>\n",
       "  </thead>\n",
       "  <tbody>\n",
       "    <tr>\n",
       "      <th>0</th>\n",
       "      <td>Atlanta Hawks</td>\n",
       "      <td>2015/2016</td>\n",
       "      <td>0.000000</td>\n",
       "      <td>9.676471</td>\n",
       "    </tr>\n",
       "    <tr>\n",
       "      <th>1</th>\n",
       "      <td>Atlanta Hawks</td>\n",
       "      <td>2015/2016</td>\n",
       "      <td>13.020833</td>\n",
       "      <td>0.000000</td>\n",
       "    </tr>\n",
       "    <tr>\n",
       "      <th>2</th>\n",
       "      <td>Atlanta Hawks</td>\n",
       "      <td>2016/2017</td>\n",
       "      <td>0.000000</td>\n",
       "      <td>12.641026</td>\n",
       "    </tr>\n",
       "    <tr>\n",
       "      <th>3</th>\n",
       "      <td>Atlanta Hawks</td>\n",
       "      <td>2016/2017</td>\n",
       "      <td>9.837209</td>\n",
       "      <td>0.000000</td>\n",
       "    </tr>\n",
       "    <tr>\n",
       "      <th>4</th>\n",
       "      <td>Atlanta Hawks</td>\n",
       "      <td>2017/2018</td>\n",
       "      <td>0.000000</td>\n",
       "      <td>11.534483</td>\n",
       "    </tr>\n",
       "  </tbody>\n",
       "</table>\n",
       "</div>"
      ],
      "text/plain": [
       "            team     season  scoreMarginWins  scoreMarginLosses\n",
       "0  Atlanta Hawks  2015/2016         0.000000           9.676471\n",
       "1  Atlanta Hawks  2015/2016        13.020833           0.000000\n",
       "2  Atlanta Hawks  2016/2017         0.000000          12.641026\n",
       "3  Atlanta Hawks  2016/2017         9.837209           0.000000\n",
       "4  Atlanta Hawks  2017/2018         0.000000          11.534483"
      ]
     },
     "execution_count": 187,
     "metadata": {},
     "output_type": "execute_result"
    }
   ],
   "source": [
    "df_scoreMargin.head()"
   ]
  },
  {
   "cell_type": "code",
   "execution_count": 188,
   "metadata": {},
   "outputs": [],
   "source": [
    "df_scoreMargin_home_away = df_scoreMargin.groupby([\"team\", \"season\"]).sum().reset_index()"
   ]
  },
  {
   "cell_type": "code",
   "execution_count": 189,
   "metadata": {},
   "outputs": [],
   "source": [
    "df_scoreMargin_test = df_scoreMargin_home_away.pivot(index=\"team\", columns=\"season\")"
   ]
  },
  {
   "cell_type": "code",
   "execution_count": 190,
   "metadata": {},
   "outputs": [],
   "source": [
    "cols = []\n",
    "for a, b in zip(df_scoreMargin_test.columns.get_level_values(0), df_scoreMargin_test.columns.get_level_values(1)):\n",
    "    cols.append(a+\"_\"+b)"
   ]
  },
  {
   "cell_type": "code",
   "execution_count": 191,
   "metadata": {},
   "outputs": [],
   "source": [
    "df_scoreMargin_test.columns = cols"
   ]
  },
  {
   "cell_type": "markdown",
   "metadata": {},
   "source": [
    "## Validation of numbers"
   ]
  },
  {
   "cell_type": "code",
   "execution_count": 192,
   "metadata": {},
   "outputs": [
    {
     "data": {
      "text/html": [
       "<div>\n",
       "<table border=\"1\" class=\"dataframe\">\n",
       "  <thead>\n",
       "    <tr style=\"text-align: right;\">\n",
       "      <th></th>\n",
       "      <th>team</th>\n",
       "      <th>season</th>\n",
       "      <th>scoreMarginWins</th>\n",
       "      <th>scoreMarginLosses</th>\n",
       "    </tr>\n",
       "  </thead>\n",
       "  <tbody>\n",
       "    <tr>\n",
       "      <th>30</th>\n",
       "      <td>Houston Rockets</td>\n",
       "      <td>2015/2016</td>\n",
       "      <td>10.268293</td>\n",
       "      <td>9.878049</td>\n",
       "    </tr>\n",
       "    <tr>\n",
       "      <th>31</th>\n",
       "      <td>Houston Rockets</td>\n",
       "      <td>2016/2017</td>\n",
       "      <td>13.490909</td>\n",
       "      <td>9.962963</td>\n",
       "    </tr>\n",
       "    <tr>\n",
       "      <th>32</th>\n",
       "      <td>Houston Rockets</td>\n",
       "      <td>2017/2018</td>\n",
       "      <td>13.076923</td>\n",
       "      <td>9.117647</td>\n",
       "    </tr>\n",
       "  </tbody>\n",
       "</table>\n",
       "</div>"
      ],
      "text/plain": [
       "               team     season  scoreMarginWins  scoreMarginLosses\n",
       "30  Houston Rockets  2015/2016        10.268293           9.878049\n",
       "31  Houston Rockets  2016/2017        13.490909           9.962963\n",
       "32  Houston Rockets  2017/2018        13.076923           9.117647"
      ]
     },
     "execution_count": 192,
     "metadata": {},
     "output_type": "execute_result"
    }
   ],
   "source": [
    "df_scoreMargin_home_away[df_scoreMargin_home_away[\"team\"] == \"Houston Rockets\"]"
   ]
  },
  {
   "cell_type": "markdown",
   "metadata": {},
   "source": [
    "(4+5+1+18+7+11+2+3+17+13)\n",
    "\n",
    "(6+10+6+10+16+8+8)"
   ]
  },
  {
   "cell_type": "code",
   "execution_count": 193,
   "metadata": {},
   "outputs": [],
   "source": [
    "test = [14,5,1,18,7,11,2,3,17,13,6,10,6,10,16,8,8]"
   ]
  },
  {
   "cell_type": "code",
   "execution_count": 194,
   "metadata": {},
   "outputs": [
    {
     "data": {
      "text/plain": [
       "9.117647058823529"
      ]
     },
     "execution_count": 194,
     "metadata": {},
     "output_type": "execute_result"
    }
   ],
   "source": [
    "import numpy as np\n",
    "np.mean(test)"
   ]
  },
  {
   "cell_type": "code",
   "execution_count": null,
   "metadata": {},
   "outputs": [],
   "source": []
  },
  {
   "cell_type": "code",
   "execution_count": null,
   "metadata": {},
   "outputs": [],
   "source": []
  },
  {
   "cell_type": "markdown",
   "metadata": {},
   "source": [
    "# Models"
   ]
  },
  {
   "cell_type": "code",
   "execution_count": 195,
   "metadata": {},
   "outputs": [],
   "source": [
    "from sklearn.linear_model import LogisticRegression"
   ]
  },
  {
   "cell_type": "code",
   "execution_count": 196,
   "metadata": {},
   "outputs": [],
   "source": [
    "lr = LogisticRegression()"
   ]
  },
  {
   "cell_type": "code",
   "execution_count": 197,
   "metadata": {},
   "outputs": [],
   "source": [
    "from sklearn.model_selection import train_test_split"
   ]
  },
  {
   "cell_type": "code",
   "execution_count": 205,
   "metadata": {},
   "outputs": [
    {
     "data": {
      "text/plain": [
       "0.7142857142857143"
      ]
     },
     "execution_count": 205,
     "metadata": {},
     "output_type": "execute_result"
    }
   ],
   "source": [
    "X_train, X_test, y_train, y_test = train_test_split(\n",
    "    df_ml_2.drop(\"teamAWinner\", axis=1), \n",
    "    df_ml_2[\"teamAWinner\"]\n",
    ")\n",
    "\n",
    "lr.fit(X_train, y_train)\n",
    "\n",
    "lr.score(X_test, y_test)"
   ]
  },
  {
   "cell_type": "code",
   "execution_count": 202,
   "metadata": {},
   "outputs": [],
   "source": [
    "from sklearn.neural_network import MLPClassifier\n",
    "clf = MLPClassifier(solver='lbfgs', alpha=1e-5, hidden_layer_sizes=(5, 2), random_state=1)"
   ]
  },
  {
   "cell_type": "code",
   "execution_count": 200,
   "metadata": {},
   "outputs": [
    {
     "data": {
      "text/plain": [
       "0.59740259740259738"
      ]
     },
     "execution_count": 200,
     "metadata": {},
     "output_type": "execute_result"
    }
   ],
   "source": [
    "X_train, X_test, y_train, y_test = train_test_split(\n",
    "    df_ml_2.drop(\"teamAWinner\", axis=1), \n",
    "    df_ml_2[\"teamAWinner\"]\n",
    ")\n",
    "clf.fit(X_train, y_train) \n",
    "clf.score(X_test, y_test)"
   ]
  },
  {
   "cell_type": "code",
   "execution_count": null,
   "metadata": {},
   "outputs": [],
   "source": []
  }
 ],
 "metadata": {
  "kernelspec": {
   "display_name": "Python 3",
   "language": "python",
   "name": "python3"
  },
  "language_info": {
   "codemirror_mode": {
    "name": "ipython",
    "version": 3
   },
   "file_extension": ".py",
   "mimetype": "text/x-python",
   "name": "python",
   "nbconvert_exporter": "python",
   "pygments_lexer": "ipython3",
   "version": "3.6.2"
  }
 },
 "nbformat": 4,
 "nbformat_minor": 2
}
