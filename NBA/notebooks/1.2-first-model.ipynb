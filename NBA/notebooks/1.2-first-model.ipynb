{
 "cells": [
  {
   "cell_type": "markdown",
   "metadata": {},
   "source": [
    "# About\n",
    "This notebook contains a first simple ML model"
   ]
  },
  {
   "cell_type": "code",
   "execution_count": 1,
   "metadata": {},
   "outputs": [],
   "source": [
    "# Necessary to import custom modules\n",
    "import os\n",
    "os.chdir(\"/home/jovyan/work\")\n",
    "\n",
    "from neomodel import db\n",
    "import pandas as pd\n",
    "\n",
    "from src.utils import init_connection"
   ]
  },
  {
   "cell_type": "code",
   "execution_count": 2,
   "metadata": {},
   "outputs": [],
   "source": [
    "init_connection()"
   ]
  },
  {
   "cell_type": "code",
   "execution_count": 11,
   "metadata": {},
   "outputs": [],
   "source": [
    "cypher = \"\"\"\n",
    "MATCH \n",
    "    (t:Team)-[:SCORED]->(s:Score)-[:IN_GAME]->(g:Game)<-[:IN_GAME]-(s2:Score)<-[:SCORED]-(t2:Team), (sea:Season), (arena_game:Arena), (arena_t:Arena)\n",
    "WHERE \n",
    "    (g)-[:TOOK_PLACE_IN]->(sea)\n",
    "AND\n",
    "\t(g)-[:LOCATED_IN]->(arena_game)\n",
    "AND\n",
    "\t(t)-[:HAVE_HOME_COURT_AT]->(arena_t)\n",
    "RETURN \n",
    "    t.name as team, \n",
    "    sum(\n",
    "    \tCASE WHEN s.score > s2.score \n",
    "        AND g.game_type = \"regular_season\" \n",
    "        AND arena_game.name = arena_t.name\n",
    "        THEN 1 ELSE 0 END) \n",
    "    as wins_reg_home,\n",
    "    sum(\n",
    "    \tCASE WHEN s.score > s2.score \n",
    "        AND g.game_type = \"regular_season\" \n",
    "        AND arena_game.name <> arena_t.name\n",
    "        THEN 1 ELSE 0 END) \n",
    "    as wins_reg_away,\n",
    "    sum(\n",
    "    \tCASE WHEN s.score < s2.score \n",
    "        AND g.game_type = \"regular_season\" \n",
    "        AND arena_game.name = arena_t.name\n",
    "        THEN 1 ELSE 0 END) \n",
    "    as losses_reg_home,\n",
    "    sum(\n",
    "    \tCASE WHEN s.score < s2.score\n",
    "        AND g.game_type = \"regular_season\" \n",
    "        AND arena_game.name <> arena_t.name\n",
    "        THEN 1 ELSE 0 END) as losses_reg_away,\n",
    "\tsea.name as season\n",
    "ORDER BY \n",
    "    team, season\n",
    "\"\"\""
   ]
  },
  {
   "cell_type": "code",
   "execution_count": 12,
   "metadata": {},
   "outputs": [],
   "source": [
    "data, columns = db.cypher_query(cypher)"
   ]
  },
  {
   "cell_type": "code",
   "execution_count": 13,
   "metadata": {},
   "outputs": [],
   "source": [
    "df_results = pd.DataFrame(data=data, columns=columns)"
   ]
  },
  {
   "cell_type": "code",
   "execution_count": 14,
   "metadata": {},
   "outputs": [],
   "source": [
    "df_test = df_results.pivot(index=\"team\", columns=\"season\")"
   ]
  },
  {
   "cell_type": "code",
   "execution_count": 15,
   "metadata": {},
   "outputs": [],
   "source": [
    "cols = []\n",
    "for a, b in zip(df_test.columns.get_level_values(0), df_test.columns.get_level_values(1)):\n",
    "    cols.append(a+\"_\"+b)"
   ]
  },
  {
   "cell_type": "code",
   "execution_count": 16,
   "metadata": {},
   "outputs": [
    {
     "data": {
      "text/plain": [
       "['wins_reg_home_2015/2016',\n",
       " 'wins_reg_home_2016/2017',\n",
       " 'wins_reg_home_2017/2018',\n",
       " 'wins_reg_away_2015/2016',\n",
       " 'wins_reg_away_2016/2017',\n",
       " 'wins_reg_away_2017/2018',\n",
       " 'losses_reg_home_2015/2016',\n",
       " 'losses_reg_home_2016/2017',\n",
       " 'losses_reg_home_2017/2018',\n",
       " 'losses_reg_away_2015/2016',\n",
       " 'losses_reg_away_2016/2017',\n",
       " 'losses_reg_away_2017/2018']"
      ]
     },
     "execution_count": 16,
     "metadata": {},
     "output_type": "execute_result"
    }
   ],
   "source": [
    "cols"
   ]
  },
  {
   "cell_type": "code",
   "execution_count": 17,
   "metadata": {},
   "outputs": [],
   "source": [
    "df_test.columns = cols"
   ]
  },
  {
   "cell_type": "code",
   "execution_count": 18,
   "metadata": {},
   "outputs": [
    {
     "data": {
      "text/html": [
       "<div>\n",
       "<table border=\"1\" class=\"dataframe\">\n",
       "  <thead>\n",
       "    <tr style=\"text-align: right;\">\n",
       "      <th></th>\n",
       "      <th>wins_reg_home_2015/2016</th>\n",
       "      <th>wins_reg_home_2016/2017</th>\n",
       "      <th>wins_reg_home_2017/2018</th>\n",
       "      <th>wins_reg_away_2015/2016</th>\n",
       "      <th>wins_reg_away_2016/2017</th>\n",
       "      <th>wins_reg_away_2017/2018</th>\n",
       "      <th>losses_reg_home_2015/2016</th>\n",
       "      <th>losses_reg_home_2016/2017</th>\n",
       "      <th>losses_reg_home_2017/2018</th>\n",
       "      <th>losses_reg_away_2015/2016</th>\n",
       "      <th>losses_reg_away_2016/2017</th>\n",
       "      <th>losses_reg_away_2017/2018</th>\n",
       "    </tr>\n",
       "    <tr>\n",
       "      <th>team</th>\n",
       "      <th></th>\n",
       "      <th></th>\n",
       "      <th></th>\n",
       "      <th></th>\n",
       "      <th></th>\n",
       "      <th></th>\n",
       "      <th></th>\n",
       "      <th></th>\n",
       "      <th></th>\n",
       "      <th></th>\n",
       "      <th></th>\n",
       "      <th></th>\n",
       "    </tr>\n",
       "  </thead>\n",
       "  <tbody>\n",
       "    <tr>\n",
       "      <th>Atlanta Hawks</th>\n",
       "      <td>27</td>\n",
       "      <td>23</td>\n",
       "      <td>16</td>\n",
       "      <td>21</td>\n",
       "      <td>20</td>\n",
       "      <td>8</td>\n",
       "      <td>14</td>\n",
       "      <td>18</td>\n",
       "      <td>25</td>\n",
       "      <td>20</td>\n",
       "      <td>21</td>\n",
       "      <td>33</td>\n",
       "    </tr>\n",
       "    <tr>\n",
       "      <th>Boston Celtics</th>\n",
       "      <td>28</td>\n",
       "      <td>30</td>\n",
       "      <td>27</td>\n",
       "      <td>20</td>\n",
       "      <td>23</td>\n",
       "      <td>28</td>\n",
       "      <td>13</td>\n",
       "      <td>11</td>\n",
       "      <td>14</td>\n",
       "      <td>21</td>\n",
       "      <td>18</td>\n",
       "      <td>13</td>\n",
       "    </tr>\n",
       "    <tr>\n",
       "      <th>Brooklyn Nets</th>\n",
       "      <td>14</td>\n",
       "      <td>13</td>\n",
       "      <td>15</td>\n",
       "      <td>7</td>\n",
       "      <td>7</td>\n",
       "      <td>13</td>\n",
       "      <td>27</td>\n",
       "      <td>28</td>\n",
       "      <td>26</td>\n",
       "      <td>34</td>\n",
       "      <td>34</td>\n",
       "      <td>28</td>\n",
       "    </tr>\n",
       "    <tr>\n",
       "      <th>Charlotte Hornets</th>\n",
       "      <td>30</td>\n",
       "      <td>22</td>\n",
       "      <td>21</td>\n",
       "      <td>18</td>\n",
       "      <td>14</td>\n",
       "      <td>15</td>\n",
       "      <td>11</td>\n",
       "      <td>19</td>\n",
       "      <td>20</td>\n",
       "      <td>23</td>\n",
       "      <td>27</td>\n",
       "      <td>26</td>\n",
       "    </tr>\n",
       "    <tr>\n",
       "      <th>Chicago Bulls</th>\n",
       "      <td>26</td>\n",
       "      <td>25</td>\n",
       "      <td>17</td>\n",
       "      <td>16</td>\n",
       "      <td>16</td>\n",
       "      <td>10</td>\n",
       "      <td>15</td>\n",
       "      <td>16</td>\n",
       "      <td>24</td>\n",
       "      <td>25</td>\n",
       "      <td>25</td>\n",
       "      <td>31</td>\n",
       "    </tr>\n",
       "  </tbody>\n",
       "</table>\n",
       "</div>"
      ],
      "text/plain": [
       "                   wins_reg_home_2015/2016  wins_reg_home_2016/2017  \\\n",
       "team                                                                  \n",
       "Atlanta Hawks                           27                       23   \n",
       "Boston Celtics                          28                       30   \n",
       "Brooklyn Nets                           14                       13   \n",
       "Charlotte Hornets                       30                       22   \n",
       "Chicago Bulls                           26                       25   \n",
       "\n",
       "                   wins_reg_home_2017/2018  wins_reg_away_2015/2016  \\\n",
       "team                                                                  \n",
       "Atlanta Hawks                           16                       21   \n",
       "Boston Celtics                          27                       20   \n",
       "Brooklyn Nets                           15                        7   \n",
       "Charlotte Hornets                       21                       18   \n",
       "Chicago Bulls                           17                       16   \n",
       "\n",
       "                   wins_reg_away_2016/2017  wins_reg_away_2017/2018  \\\n",
       "team                                                                  \n",
       "Atlanta Hawks                           20                        8   \n",
       "Boston Celtics                          23                       28   \n",
       "Brooklyn Nets                            7                       13   \n",
       "Charlotte Hornets                       14                       15   \n",
       "Chicago Bulls                           16                       10   \n",
       "\n",
       "                   losses_reg_home_2015/2016  losses_reg_home_2016/2017  \\\n",
       "team                                                                      \n",
       "Atlanta Hawks                             14                         18   \n",
       "Boston Celtics                            13                         11   \n",
       "Brooklyn Nets                             27                         28   \n",
       "Charlotte Hornets                         11                         19   \n",
       "Chicago Bulls                             15                         16   \n",
       "\n",
       "                   losses_reg_home_2017/2018  losses_reg_away_2015/2016  \\\n",
       "team                                                                      \n",
       "Atlanta Hawks                             25                         20   \n",
       "Boston Celtics                            14                         21   \n",
       "Brooklyn Nets                             26                         34   \n",
       "Charlotte Hornets                         20                         23   \n",
       "Chicago Bulls                             24                         25   \n",
       "\n",
       "                   losses_reg_away_2016/2017  losses_reg_away_2017/2018  \n",
       "team                                                                     \n",
       "Atlanta Hawks                             21                         33  \n",
       "Boston Celtics                            18                         13  \n",
       "Brooklyn Nets                             34                         28  \n",
       "Charlotte Hornets                         27                         26  \n",
       "Chicago Bulls                             25                         31  "
      ]
     },
     "execution_count": 18,
     "metadata": {},
     "output_type": "execute_result"
    }
   ],
   "source": [
    "df_test.head()"
   ]
  },
  {
   "cell_type": "markdown",
   "metadata": {},
   "source": [
    "#### Extract Matchup"
   ]
  },
  {
   "cell_type": "markdown",
   "metadata": {},
   "source": [
    "```\n",
    "MATCH \n",
    "\t(t:Team)-[:SCORED]->(s:Score)-[:IN_GAME]->(g:Game)<-[:IN_GAME]-(s2:Score)<-[:SCORED]-(t2:Team), (sea:Season)\n",
    "WHERE \n",
    "    (g)-[:TOOK_PLACE_IN]->(sea)\n",
    "AND\n",
    "\tsea.name = \"2017/2018\"\n",
    "AND\n",
    "\tg.game_type = \"regular_season\"\n",
    "WITH g, collect(t.name) as teams, collect(s.score) as scores\n",
    "RETURN\n",
    "\tHEAD(teams) as teamA, HEAD(TAIL(scores)) as scoreA, HEAD(TAIL(teams)) as teamB, HEAD(scores) as scoreB\n",
    "```"
   ]
  },
  {
   "cell_type": "code",
   "execution_count": 11,
   "metadata": {},
   "outputs": [],
   "source": [
    "cypher = \"\"\"\n",
    "MATCH \n",
    "\t(t:Team)-[:SCORED]->(s:Score)-[:IN_GAME]->(g:Game)<-[:IN_GAME]-(s2:Score)<-[:SCORED]-(t2:Team), (sea:Season)\n",
    "WHERE \n",
    "    (g)-[:TOOK_PLACE_IN]->(sea)\n",
    "AND\n",
    "\tsea.name = \"2017/2018\"\n",
    "AND\n",
    "\tg.game_type = \"regular_season\"\n",
    "WITH g, collect(t.name) as teams, collect(s.score) as scores\n",
    "RETURN\n",
    "\tHEAD(teams) as teamA, HEAD(TAIL(scores)) as scoreA, HEAD(TAIL(teams)) as teamB, HEAD(scores) as scoreB\n",
    "\"\"\""
   ]
  },
  {
   "cell_type": "code",
   "execution_count": 12,
   "metadata": {},
   "outputs": [],
   "source": [
    "data, cols = db.cypher_query(cypher)"
   ]
  },
  {
   "cell_type": "code",
   "execution_count": 13,
   "metadata": {},
   "outputs": [],
   "source": [
    "df_matches = pd.DataFrame(data=data, columns=cols)"
   ]
  },
  {
   "cell_type": "code",
   "execution_count": 14,
   "metadata": {},
   "outputs": [],
   "source": [
    "df_matches[\"teamAWinner\"] =df_matches[\"scoreA\"] > df_matches[\"scoreB\"]"
   ]
  },
  {
   "cell_type": "code",
   "execution_count": 15,
   "metadata": {},
   "outputs": [
    {
     "data": {
      "text/html": [
       "<div>\n",
       "<table border=\"1\" class=\"dataframe\">\n",
       "  <thead>\n",
       "    <tr style=\"text-align: right;\">\n",
       "      <th></th>\n",
       "      <th>team</th>\n",
       "      <th>wins_reg_home_2015/2016</th>\n",
       "      <th>wins_reg_home_2016/2017</th>\n",
       "      <th>wins_reg_home_2017/2018</th>\n",
       "      <th>wins_reg_away_2015/2016</th>\n",
       "      <th>wins_reg_away_2016/2017</th>\n",
       "      <th>wins_reg_away_2017/2018</th>\n",
       "      <th>losses_reg_home_2015/2016</th>\n",
       "      <th>losses_reg_home_2016/2017</th>\n",
       "      <th>losses_reg_home_2017/2018</th>\n",
       "      <th>losses_reg_away_2015/2016</th>\n",
       "      <th>losses_reg_away_2016/2017</th>\n",
       "      <th>losses_reg_away_2017/2018</th>\n",
       "    </tr>\n",
       "  </thead>\n",
       "  <tbody>\n",
       "    <tr>\n",
       "      <th>0</th>\n",
       "      <td>Atlanta Hawks</td>\n",
       "      <td>27</td>\n",
       "      <td>23</td>\n",
       "      <td>16</td>\n",
       "      <td>21</td>\n",
       "      <td>20</td>\n",
       "      <td>8</td>\n",
       "      <td>14</td>\n",
       "      <td>18</td>\n",
       "      <td>25</td>\n",
       "      <td>20</td>\n",
       "      <td>21</td>\n",
       "      <td>33</td>\n",
       "    </tr>\n",
       "    <tr>\n",
       "      <th>1</th>\n",
       "      <td>Boston Celtics</td>\n",
       "      <td>28</td>\n",
       "      <td>30</td>\n",
       "      <td>27</td>\n",
       "      <td>20</td>\n",
       "      <td>23</td>\n",
       "      <td>28</td>\n",
       "      <td>13</td>\n",
       "      <td>11</td>\n",
       "      <td>14</td>\n",
       "      <td>21</td>\n",
       "      <td>18</td>\n",
       "      <td>13</td>\n",
       "    </tr>\n",
       "    <tr>\n",
       "      <th>2</th>\n",
       "      <td>Brooklyn Nets</td>\n",
       "      <td>14</td>\n",
       "      <td>13</td>\n",
       "      <td>15</td>\n",
       "      <td>7</td>\n",
       "      <td>7</td>\n",
       "      <td>13</td>\n",
       "      <td>27</td>\n",
       "      <td>28</td>\n",
       "      <td>26</td>\n",
       "      <td>34</td>\n",
       "      <td>34</td>\n",
       "      <td>28</td>\n",
       "    </tr>\n",
       "    <tr>\n",
       "      <th>3</th>\n",
       "      <td>Charlotte Hornets</td>\n",
       "      <td>30</td>\n",
       "      <td>22</td>\n",
       "      <td>21</td>\n",
       "      <td>18</td>\n",
       "      <td>14</td>\n",
       "      <td>15</td>\n",
       "      <td>11</td>\n",
       "      <td>19</td>\n",
       "      <td>20</td>\n",
       "      <td>23</td>\n",
       "      <td>27</td>\n",
       "      <td>26</td>\n",
       "    </tr>\n",
       "    <tr>\n",
       "      <th>4</th>\n",
       "      <td>Chicago Bulls</td>\n",
       "      <td>26</td>\n",
       "      <td>25</td>\n",
       "      <td>17</td>\n",
       "      <td>16</td>\n",
       "      <td>16</td>\n",
       "      <td>10</td>\n",
       "      <td>15</td>\n",
       "      <td>16</td>\n",
       "      <td>24</td>\n",
       "      <td>25</td>\n",
       "      <td>25</td>\n",
       "      <td>31</td>\n",
       "    </tr>\n",
       "  </tbody>\n",
       "</table>\n",
       "</div>"
      ],
      "text/plain": [
       "                team  wins_reg_home_2015/2016  wins_reg_home_2016/2017  \\\n",
       "0      Atlanta Hawks                       27                       23   \n",
       "1     Boston Celtics                       28                       30   \n",
       "2      Brooklyn Nets                       14                       13   \n",
       "3  Charlotte Hornets                       30                       22   \n",
       "4      Chicago Bulls                       26                       25   \n",
       "\n",
       "   wins_reg_home_2017/2018  wins_reg_away_2015/2016  wins_reg_away_2016/2017  \\\n",
       "0                       16                       21                       20   \n",
       "1                       27                       20                       23   \n",
       "2                       15                        7                        7   \n",
       "3                       21                       18                       14   \n",
       "4                       17                       16                       16   \n",
       "\n",
       "   wins_reg_away_2017/2018  losses_reg_home_2015/2016  \\\n",
       "0                        8                         14   \n",
       "1                       28                         13   \n",
       "2                       13                         27   \n",
       "3                       15                         11   \n",
       "4                       10                         15   \n",
       "\n",
       "   losses_reg_home_2016/2017  losses_reg_home_2017/2018  \\\n",
       "0                         18                         25   \n",
       "1                         11                         14   \n",
       "2                         28                         26   \n",
       "3                         19                         20   \n",
       "4                         16                         24   \n",
       "\n",
       "   losses_reg_away_2015/2016  losses_reg_away_2016/2017  \\\n",
       "0                         20                         21   \n",
       "1                         21                         18   \n",
       "2                         34                         34   \n",
       "3                         23                         27   \n",
       "4                         25                         25   \n",
       "\n",
       "   losses_reg_away_2017/2018  \n",
       "0                         33  \n",
       "1                         13  \n",
       "2                         28  \n",
       "3                         26  \n",
       "4                         31  "
      ]
     },
     "execution_count": 15,
     "metadata": {},
     "output_type": "execute_result"
    }
   ],
   "source": [
    "df_test.head().reset_index()"
   ]
  },
  {
   "cell_type": "code",
   "execution_count": 16,
   "metadata": {},
   "outputs": [
    {
     "data": {
      "text/html": [
       "<div>\n",
       "<table border=\"1\" class=\"dataframe\">\n",
       "  <thead>\n",
       "    <tr style=\"text-align: right;\">\n",
       "      <th></th>\n",
       "      <th>teamA</th>\n",
       "      <th>scoreA</th>\n",
       "      <th>teamB</th>\n",
       "      <th>scoreB</th>\n",
       "      <th>teamAWinner</th>\n",
       "    </tr>\n",
       "  </thead>\n",
       "  <tbody>\n",
       "    <tr>\n",
       "      <th>0</th>\n",
       "      <td>Boston Celtics</td>\n",
       "      <td>80</td>\n",
       "      <td>Philadelphia 76ers</td>\n",
       "      <td>89</td>\n",
       "      <td>False</td>\n",
       "    </tr>\n",
       "    <tr>\n",
       "      <th>1</th>\n",
       "      <td>Charlotte Hornets</td>\n",
       "      <td>111</td>\n",
       "      <td>Toronto Raptors</td>\n",
       "      <td>129</td>\n",
       "      <td>False</td>\n",
       "    </tr>\n",
       "    <tr>\n",
       "      <th>2</th>\n",
       "      <td>Toronto Raptors</td>\n",
       "      <td>96</td>\n",
       "      <td>Detroit Pistons</td>\n",
       "      <td>91</td>\n",
       "      <td>True</td>\n",
       "    </tr>\n",
       "    <tr>\n",
       "      <th>3</th>\n",
       "      <td>Milwaukee Bucks</td>\n",
       "      <td>110</td>\n",
       "      <td>Toronto Raptors</td>\n",
       "      <td>129</td>\n",
       "      <td>False</td>\n",
       "    </tr>\n",
       "    <tr>\n",
       "      <th>4</th>\n",
       "      <td>Oklahoma City Thunder</td>\n",
       "      <td>105</td>\n",
       "      <td>Miami Heat</td>\n",
       "      <td>99</td>\n",
       "      <td>True</td>\n",
       "    </tr>\n",
       "  </tbody>\n",
       "</table>\n",
       "</div>"
      ],
      "text/plain": [
       "                   teamA  scoreA               teamB  scoreB teamAWinner\n",
       "0         Boston Celtics      80  Philadelphia 76ers      89       False\n",
       "1      Charlotte Hornets     111     Toronto Raptors     129       False\n",
       "2        Toronto Raptors      96     Detroit Pistons      91        True\n",
       "3        Milwaukee Bucks     110     Toronto Raptors     129       False\n",
       "4  Oklahoma City Thunder     105          Miami Heat      99        True"
      ]
     },
     "execution_count": 16,
     "metadata": {},
     "output_type": "execute_result"
    }
   ],
   "source": [
    "df_matches.head()"
   ]
  },
  {
   "cell_type": "code",
   "execution_count": 80,
   "metadata": {
    "scrolled": false
   },
   "outputs": [
    {
     "data": {
      "text/html": [
       "<div>\n",
       "<table border=\"1\" class=\"dataframe\">\n",
       "  <thead>\n",
       "    <tr style=\"text-align: right;\">\n",
       "      <th></th>\n",
       "      <th>teamA</th>\n",
       "      <th>scoreA</th>\n",
       "      <th>teamB</th>\n",
       "      <th>scoreB</th>\n",
       "      <th>scoreMargin</th>\n",
       "      <th>team</th>\n",
       "      <th>wins_reg_home_2015/2016</th>\n",
       "      <th>wins_reg_home_2016/2017</th>\n",
       "      <th>wins_reg_home_2017/2018</th>\n",
       "      <th>wins_reg_away_2015/2016</th>\n",
       "      <th>wins_reg_away_2016/2017</th>\n",
       "      <th>wins_reg_away_2017/2018</th>\n",
       "      <th>losses_reg_home_2015/2016</th>\n",
       "      <th>losses_reg_home_2016/2017</th>\n",
       "      <th>losses_reg_home_2017/2018</th>\n",
       "      <th>losses_reg_away_2015/2016</th>\n",
       "      <th>losses_reg_away_2016/2017</th>\n",
       "      <th>losses_reg_away_2017/2018</th>\n",
       "    </tr>\n",
       "  </thead>\n",
       "  <tbody>\n",
       "    <tr>\n",
       "      <th>0</th>\n",
       "      <td>Boston Celtics</td>\n",
       "      <td>80</td>\n",
       "      <td>Philadelphia 76ers</td>\n",
       "      <td>89</td>\n",
       "      <td>9</td>\n",
       "      <td>Boston Celtics</td>\n",
       "      <td>28</td>\n",
       "      <td>30</td>\n",
       "      <td>27</td>\n",
       "      <td>20</td>\n",
       "      <td>23</td>\n",
       "      <td>28</td>\n",
       "      <td>13</td>\n",
       "      <td>11</td>\n",
       "      <td>14</td>\n",
       "      <td>21</td>\n",
       "      <td>18</td>\n",
       "      <td>13</td>\n",
       "    </tr>\n",
       "    <tr>\n",
       "      <th>1</th>\n",
       "      <td>Boston Celtics</td>\n",
       "      <td>102</td>\n",
       "      <td>Cleveland Cavaliers</td>\n",
       "      <td>88</td>\n",
       "      <td>14</td>\n",
       "      <td>Boston Celtics</td>\n",
       "      <td>28</td>\n",
       "      <td>30</td>\n",
       "      <td>27</td>\n",
       "      <td>20</td>\n",
       "      <td>23</td>\n",
       "      <td>28</td>\n",
       "      <td>13</td>\n",
       "      <td>11</td>\n",
       "      <td>14</td>\n",
       "      <td>21</td>\n",
       "      <td>18</td>\n",
       "      <td>13</td>\n",
       "    </tr>\n",
       "    <tr>\n",
       "      <th>2</th>\n",
       "      <td>Boston Celtics</td>\n",
       "      <td>97</td>\n",
       "      <td>Indiana Pacers</td>\n",
       "      <td>99</td>\n",
       "      <td>2</td>\n",
       "      <td>Boston Celtics</td>\n",
       "      <td>28</td>\n",
       "      <td>30</td>\n",
       "      <td>27</td>\n",
       "      <td>20</td>\n",
       "      <td>23</td>\n",
       "      <td>28</td>\n",
       "      <td>13</td>\n",
       "      <td>11</td>\n",
       "      <td>14</td>\n",
       "      <td>21</td>\n",
       "      <td>18</td>\n",
       "      <td>13</td>\n",
       "    </tr>\n",
       "    <tr>\n",
       "      <th>3</th>\n",
       "      <td>Boston Celtics</td>\n",
       "      <td>134</td>\n",
       "      <td>Charlotte Hornets</td>\n",
       "      <td>106</td>\n",
       "      <td>28</td>\n",
       "      <td>Boston Celtics</td>\n",
       "      <td>28</td>\n",
       "      <td>30</td>\n",
       "      <td>27</td>\n",
       "      <td>20</td>\n",
       "      <td>23</td>\n",
       "      <td>28</td>\n",
       "      <td>13</td>\n",
       "      <td>11</td>\n",
       "      <td>14</td>\n",
       "      <td>21</td>\n",
       "      <td>18</td>\n",
       "      <td>13</td>\n",
       "    </tr>\n",
       "    <tr>\n",
       "      <th>4</th>\n",
       "      <td>Boston Celtics</td>\n",
       "      <td>89</td>\n",
       "      <td>Miami Heat</td>\n",
       "      <td>90</td>\n",
       "      <td>1</td>\n",
       "      <td>Boston Celtics</td>\n",
       "      <td>28</td>\n",
       "      <td>30</td>\n",
       "      <td>27</td>\n",
       "      <td>20</td>\n",
       "      <td>23</td>\n",
       "      <td>28</td>\n",
       "      <td>13</td>\n",
       "      <td>11</td>\n",
       "      <td>14</td>\n",
       "      <td>21</td>\n",
       "      <td>18</td>\n",
       "      <td>13</td>\n",
       "    </tr>\n",
       "  </tbody>\n",
       "</table>\n",
       "</div>"
      ],
      "text/plain": [
       "            teamA  scoreA                teamB  scoreB  scoreMargin  \\\n",
       "0  Boston Celtics      80   Philadelphia 76ers      89            9   \n",
       "1  Boston Celtics     102  Cleveland Cavaliers      88           14   \n",
       "2  Boston Celtics      97       Indiana Pacers      99            2   \n",
       "3  Boston Celtics     134    Charlotte Hornets     106           28   \n",
       "4  Boston Celtics      89           Miami Heat      90            1   \n",
       "\n",
       "             team  wins_reg_home_2015/2016  wins_reg_home_2016/2017  \\\n",
       "0  Boston Celtics                       28                       30   \n",
       "1  Boston Celtics                       28                       30   \n",
       "2  Boston Celtics                       28                       30   \n",
       "3  Boston Celtics                       28                       30   \n",
       "4  Boston Celtics                       28                       30   \n",
       "\n",
       "   wins_reg_home_2017/2018  wins_reg_away_2015/2016  wins_reg_away_2016/2017  \\\n",
       "0                       27                       20                       23   \n",
       "1                       27                       20                       23   \n",
       "2                       27                       20                       23   \n",
       "3                       27                       20                       23   \n",
       "4                       27                       20                       23   \n",
       "\n",
       "   wins_reg_away_2017/2018  losses_reg_home_2015/2016  \\\n",
       "0                       28                         13   \n",
       "1                       28                         13   \n",
       "2                       28                         13   \n",
       "3                       28                         13   \n",
       "4                       28                         13   \n",
       "\n",
       "   losses_reg_home_2016/2017  losses_reg_home_2017/2018  \\\n",
       "0                         11                         14   \n",
       "1                         11                         14   \n",
       "2                         11                         14   \n",
       "3                         11                         14   \n",
       "4                         11                         14   \n",
       "\n",
       "   losses_reg_away_2015/2016  losses_reg_away_2016/2017  \\\n",
       "0                         21                         18   \n",
       "1                         21                         18   \n",
       "2                         21                         18   \n",
       "3                         21                         18   \n",
       "4                         21                         18   \n",
       "\n",
       "   losses_reg_away_2017/2018  \n",
       "0                         13  \n",
       "1                         13  \n",
       "2                         13  \n",
       "3                         13  \n",
       "4                         13  "
      ]
     },
     "execution_count": 80,
     "metadata": {},
     "output_type": "execute_result"
    }
   ],
   "source": [
    "pd.merge(df_matches, df_test.reset_index(), left_on=\"teamA\", right_on=\"team\").head()"
   ]
  },
  {
   "cell_type": "code",
   "execution_count": 19,
   "metadata": {},
   "outputs": [],
   "source": [
    "df_ml = pd.merge(\n",
    "    pd.merge(df_matches, df_test.reset_index(), left_on=\"teamA\", right_on=\"team\"),\n",
    "    df_test.reset_index(), \n",
    "    left_on=\"teamB\", \n",
    "    right_on=\"team\",\n",
    "    suffixes=[\"_A\", \"_B\"]\n",
    ").drop(\n",
    "    [\"scoreA\", \"scoreB\", \"teamA\", \"teamB\", \"team_A\", \"team_B\", \"wins_reg_home_2017/2018_A\", \"wins_reg_away_2017/2018_A\", \"wins_reg_home_2017/2018_B\", \"wins_reg_away_2017/2018_B\", \"losses_reg_home_2017/2018_A\", \"losses_reg_away_2017/2018_A\", \"losses_reg_home_2017/2018_B\", \"losses_reg_away_2017/2018_B\"], \n",
    "    axis=1)"
   ]
  },
  {
   "cell_type": "code",
   "execution_count": 20,
   "metadata": {},
   "outputs": [
    {
     "data": {
      "text/html": [
       "<div>\n",
       "<table border=\"1\" class=\"dataframe\">\n",
       "  <thead>\n",
       "    <tr style=\"text-align: right;\">\n",
       "      <th></th>\n",
       "      <th>teamAWinner</th>\n",
       "      <th>wins_reg_home_2015/2016_A</th>\n",
       "      <th>wins_reg_home_2016/2017_A</th>\n",
       "      <th>wins_reg_away_2015/2016_A</th>\n",
       "      <th>wins_reg_away_2016/2017_A</th>\n",
       "      <th>losses_reg_home_2015/2016_A</th>\n",
       "      <th>losses_reg_home_2016/2017_A</th>\n",
       "      <th>losses_reg_away_2015/2016_A</th>\n",
       "      <th>losses_reg_away_2016/2017_A</th>\n",
       "      <th>wins_reg_home_2015/2016_B</th>\n",
       "      <th>wins_reg_home_2016/2017_B</th>\n",
       "      <th>wins_reg_away_2015/2016_B</th>\n",
       "      <th>wins_reg_away_2016/2017_B</th>\n",
       "      <th>losses_reg_home_2015/2016_B</th>\n",
       "      <th>losses_reg_home_2016/2017_B</th>\n",
       "      <th>losses_reg_away_2015/2016_B</th>\n",
       "      <th>losses_reg_away_2016/2017_B</th>\n",
       "    </tr>\n",
       "  </thead>\n",
       "  <tbody>\n",
       "    <tr>\n",
       "      <th>0</th>\n",
       "      <td>False</td>\n",
       "      <td>28</td>\n",
       "      <td>30</td>\n",
       "      <td>20</td>\n",
       "      <td>23</td>\n",
       "      <td>13</td>\n",
       "      <td>11</td>\n",
       "      <td>21</td>\n",
       "      <td>18</td>\n",
       "      <td>7</td>\n",
       "      <td>17</td>\n",
       "      <td>3</td>\n",
       "      <td>11</td>\n",
       "      <td>34</td>\n",
       "      <td>24</td>\n",
       "      <td>38</td>\n",
       "      <td>30</td>\n",
       "    </tr>\n",
       "    <tr>\n",
       "      <th>1</th>\n",
       "      <td>True</td>\n",
       "      <td>28</td>\n",
       "      <td>30</td>\n",
       "      <td>20</td>\n",
       "      <td>23</td>\n",
       "      <td>13</td>\n",
       "      <td>11</td>\n",
       "      <td>21</td>\n",
       "      <td>18</td>\n",
       "      <td>7</td>\n",
       "      <td>17</td>\n",
       "      <td>3</td>\n",
       "      <td>11</td>\n",
       "      <td>34</td>\n",
       "      <td>24</td>\n",
       "      <td>38</td>\n",
       "      <td>30</td>\n",
       "    </tr>\n",
       "    <tr>\n",
       "      <th>2</th>\n",
       "      <td>False</td>\n",
       "      <td>30</td>\n",
       "      <td>22</td>\n",
       "      <td>18</td>\n",
       "      <td>14</td>\n",
       "      <td>11</td>\n",
       "      <td>19</td>\n",
       "      <td>23</td>\n",
       "      <td>27</td>\n",
       "      <td>7</td>\n",
       "      <td>17</td>\n",
       "      <td>3</td>\n",
       "      <td>11</td>\n",
       "      <td>34</td>\n",
       "      <td>24</td>\n",
       "      <td>38</td>\n",
       "      <td>30</td>\n",
       "    </tr>\n",
       "    <tr>\n",
       "      <th>3</th>\n",
       "      <td>False</td>\n",
       "      <td>30</td>\n",
       "      <td>22</td>\n",
       "      <td>18</td>\n",
       "      <td>14</td>\n",
       "      <td>11</td>\n",
       "      <td>19</td>\n",
       "      <td>23</td>\n",
       "      <td>27</td>\n",
       "      <td>7</td>\n",
       "      <td>17</td>\n",
       "      <td>3</td>\n",
       "      <td>11</td>\n",
       "      <td>34</td>\n",
       "      <td>24</td>\n",
       "      <td>38</td>\n",
       "      <td>30</td>\n",
       "    </tr>\n",
       "    <tr>\n",
       "      <th>4</th>\n",
       "      <td>True</td>\n",
       "      <td>32</td>\n",
       "      <td>28</td>\n",
       "      <td>24</td>\n",
       "      <td>23</td>\n",
       "      <td>9</td>\n",
       "      <td>13</td>\n",
       "      <td>17</td>\n",
       "      <td>18</td>\n",
       "      <td>7</td>\n",
       "      <td>17</td>\n",
       "      <td>3</td>\n",
       "      <td>11</td>\n",
       "      <td>34</td>\n",
       "      <td>24</td>\n",
       "      <td>38</td>\n",
       "      <td>30</td>\n",
       "    </tr>\n",
       "  </tbody>\n",
       "</table>\n",
       "</div>"
      ],
      "text/plain": [
       "  teamAWinner  wins_reg_home_2015/2016_A  wins_reg_home_2016/2017_A  \\\n",
       "0       False                         28                         30   \n",
       "1        True                         28                         30   \n",
       "2       False                         30                         22   \n",
       "3       False                         30                         22   \n",
       "4        True                         32                         28   \n",
       "\n",
       "   wins_reg_away_2015/2016_A  wins_reg_away_2016/2017_A  \\\n",
       "0                         20                         23   \n",
       "1                         20                         23   \n",
       "2                         18                         14   \n",
       "3                         18                         14   \n",
       "4                         24                         23   \n",
       "\n",
       "   losses_reg_home_2015/2016_A  losses_reg_home_2016/2017_A  \\\n",
       "0                           13                           11   \n",
       "1                           13                           11   \n",
       "2                           11                           19   \n",
       "3                           11                           19   \n",
       "4                            9                           13   \n",
       "\n",
       "   losses_reg_away_2015/2016_A  losses_reg_away_2016/2017_A  \\\n",
       "0                           21                           18   \n",
       "1                           21                           18   \n",
       "2                           23                           27   \n",
       "3                           23                           27   \n",
       "4                           17                           18   \n",
       "\n",
       "   wins_reg_home_2015/2016_B  wins_reg_home_2016/2017_B  \\\n",
       "0                          7                         17   \n",
       "1                          7                         17   \n",
       "2                          7                         17   \n",
       "3                          7                         17   \n",
       "4                          7                         17   \n",
       "\n",
       "   wins_reg_away_2015/2016_B  wins_reg_away_2016/2017_B  \\\n",
       "0                          3                         11   \n",
       "1                          3                         11   \n",
       "2                          3                         11   \n",
       "3                          3                         11   \n",
       "4                          3                         11   \n",
       "\n",
       "   losses_reg_home_2015/2016_B  losses_reg_home_2016/2017_B  \\\n",
       "0                           34                           24   \n",
       "1                           34                           24   \n",
       "2                           34                           24   \n",
       "3                           34                           24   \n",
       "4                           34                           24   \n",
       "\n",
       "   losses_reg_away_2015/2016_B  losses_reg_away_2016/2017_B  \n",
       "0                           38                           30  \n",
       "1                           38                           30  \n",
       "2                           38                           30  \n",
       "3                           38                           30  \n",
       "4                           38                           30  "
      ]
     },
     "execution_count": 20,
     "metadata": {},
     "output_type": "execute_result"
    }
   ],
   "source": [
    "df_ml.head()"
   ]
  },
  {
   "cell_type": "code",
   "execution_count": 21,
   "metadata": {},
   "outputs": [],
   "source": [
    "from sklearn.linear_model import LogisticRegression"
   ]
  },
  {
   "cell_type": "code",
   "execution_count": 22,
   "metadata": {},
   "outputs": [],
   "source": [
    "lr = LogisticRegression()"
   ]
  },
  {
   "cell_type": "code",
   "execution_count": 23,
   "metadata": {},
   "outputs": [],
   "source": [
    "from sklearn.model_selection import train_test_split"
   ]
  },
  {
   "cell_type": "code",
   "execution_count": 33,
   "metadata": {},
   "outputs": [
    {
     "data": {
      "text/plain": [
       "0.64610389610389607"
      ]
     },
     "execution_count": 33,
     "metadata": {},
     "output_type": "execute_result"
    }
   ],
   "source": [
    "X_train, X_test, y_train, y_test = train_test_split(\n",
    "    df_ml.drop(\"teamAWinner\", axis=1), \n",
    "    df_ml[\"teamAWinner\"]\n",
    ")\n",
    "\n",
    "lr.fit(X_train, y_train)\n",
    "\n",
    "lr.score(X_test, y_test)"
   ]
  },
  {
   "cell_type": "markdown",
   "metadata": {},
   "source": [
    "# Average Win Margin per Team "
   ]
  },
  {
   "cell_type": "markdown",
   "metadata": {},
   "source": [
    "## Validierung der eigentlichen Cypher-Query"
   ]
  },
  {
   "cell_type": "code",
   "execution_count": 95,
   "metadata": {},
   "outputs": [],
   "source": [
    "cypher = \"\"\"\n",
    "MATCH \n",
    "\t(t:Team)-[:SCORED]->(s:Score)-[:IN_GAME]->(g:Game)<-[:IN_GAME]-(s2:Score)<-[:SCORED]-(t2:Team), (sea:Season)\n",
    "WHERE \n",
    "    (g)-[:TOOK_PLACE_IN]->(sea)\n",
    "AND\n",
    "\tsea.name = \"2017/2018\"\n",
    "AND\n",
    "\tg.game_type = \"regular_season\"\n",
    "WITH g, collect(t.name) as teams, collect(s.score) as scores\n",
    "RETURN\n",
    "\tHEAD(teams) as teamA, HEAD(TAIL(scores)) as scoreA, HEAD(TAIL(teams)) as teamB, HEAD(scores) as scoreB\n",
    "\"\"\""
   ]
  },
  {
   "cell_type": "code",
   "execution_count": 96,
   "metadata": {},
   "outputs": [],
   "source": [
    "data, cols = db.cypher_query(cypher)"
   ]
  },
  {
   "cell_type": "code",
   "execution_count": 97,
   "metadata": {},
   "outputs": [],
   "source": [
    "df_matches = pd.DataFrame(data=data, columns=cols)"
   ]
  },
  {
   "cell_type": "code",
   "execution_count": 98,
   "metadata": {},
   "outputs": [
    {
     "data": {
      "text/html": [
       "<div>\n",
       "<table border=\"1\" class=\"dataframe\">\n",
       "  <thead>\n",
       "    <tr style=\"text-align: right;\">\n",
       "      <th></th>\n",
       "      <th>teamA</th>\n",
       "      <th>scoreA</th>\n",
       "      <th>teamB</th>\n",
       "      <th>scoreB</th>\n",
       "    </tr>\n",
       "  </thead>\n",
       "  <tbody>\n",
       "    <tr>\n",
       "      <th>0</th>\n",
       "      <td>Boston Celtics</td>\n",
       "      <td>80</td>\n",
       "      <td>Philadelphia 76ers</td>\n",
       "      <td>89</td>\n",
       "    </tr>\n",
       "    <tr>\n",
       "      <th>1</th>\n",
       "      <td>Charlotte Hornets</td>\n",
       "      <td>111</td>\n",
       "      <td>Toronto Raptors</td>\n",
       "      <td>129</td>\n",
       "    </tr>\n",
       "    <tr>\n",
       "      <th>2</th>\n",
       "      <td>Toronto Raptors</td>\n",
       "      <td>96</td>\n",
       "      <td>Detroit Pistons</td>\n",
       "      <td>91</td>\n",
       "    </tr>\n",
       "    <tr>\n",
       "      <th>3</th>\n",
       "      <td>Milwaukee Bucks</td>\n",
       "      <td>110</td>\n",
       "      <td>Toronto Raptors</td>\n",
       "      <td>129</td>\n",
       "    </tr>\n",
       "    <tr>\n",
       "      <th>4</th>\n",
       "      <td>Oklahoma City Thunder</td>\n",
       "      <td>105</td>\n",
       "      <td>Miami Heat</td>\n",
       "      <td>99</td>\n",
       "    </tr>\n",
       "  </tbody>\n",
       "</table>\n",
       "</div>"
      ],
      "text/plain": [
       "                   teamA  scoreA               teamB  scoreB\n",
       "0         Boston Celtics      80  Philadelphia 76ers      89\n",
       "1      Charlotte Hornets     111     Toronto Raptors     129\n",
       "2        Toronto Raptors      96     Detroit Pistons      91\n",
       "3        Milwaukee Bucks     110     Toronto Raptors     129\n",
       "4  Oklahoma City Thunder     105          Miami Heat      99"
      ]
     },
     "execution_count": 98,
     "metadata": {},
     "output_type": "execute_result"
    }
   ],
   "source": [
    "df_matches.head()"
   ]
  },
  {
   "cell_type": "code",
   "execution_count": 99,
   "metadata": {},
   "outputs": [],
   "source": [
    "df_matches2 = df_matches"
   ]
  },
  {
   "cell_type": "code",
   "execution_count": 100,
   "metadata": {},
   "outputs": [],
   "source": [
    "df_matches2[\"scoreMargin\"] = abs(df_matches2[\"scoreA\"]-df_matches2[\"scoreB\"])"
   ]
  },
  {
   "cell_type": "code",
   "execution_count": 101,
   "metadata": {},
   "outputs": [
    {
     "data": {
      "text/html": [
       "<div>\n",
       "<table border=\"1\" class=\"dataframe\">\n",
       "  <thead>\n",
       "    <tr style=\"text-align: right;\">\n",
       "      <th></th>\n",
       "      <th>teamA</th>\n",
       "      <th>scoreA</th>\n",
       "      <th>teamB</th>\n",
       "      <th>scoreB</th>\n",
       "      <th>scoreMargin</th>\n",
       "    </tr>\n",
       "  </thead>\n",
       "  <tbody>\n",
       "    <tr>\n",
       "      <th>0</th>\n",
       "      <td>Boston Celtics</td>\n",
       "      <td>80</td>\n",
       "      <td>Philadelphia 76ers</td>\n",
       "      <td>89</td>\n",
       "      <td>9</td>\n",
       "    </tr>\n",
       "    <tr>\n",
       "      <th>1</th>\n",
       "      <td>Charlotte Hornets</td>\n",
       "      <td>111</td>\n",
       "      <td>Toronto Raptors</td>\n",
       "      <td>129</td>\n",
       "      <td>18</td>\n",
       "    </tr>\n",
       "    <tr>\n",
       "      <th>2</th>\n",
       "      <td>Toronto Raptors</td>\n",
       "      <td>96</td>\n",
       "      <td>Detroit Pistons</td>\n",
       "      <td>91</td>\n",
       "      <td>5</td>\n",
       "    </tr>\n",
       "    <tr>\n",
       "      <th>3</th>\n",
       "      <td>Milwaukee Bucks</td>\n",
       "      <td>110</td>\n",
       "      <td>Toronto Raptors</td>\n",
       "      <td>129</td>\n",
       "      <td>19</td>\n",
       "    </tr>\n",
       "    <tr>\n",
       "      <th>4</th>\n",
       "      <td>Oklahoma City Thunder</td>\n",
       "      <td>105</td>\n",
       "      <td>Miami Heat</td>\n",
       "      <td>99</td>\n",
       "      <td>6</td>\n",
       "    </tr>\n",
       "  </tbody>\n",
       "</table>\n",
       "</div>"
      ],
      "text/plain": [
       "                   teamA  scoreA               teamB  scoreB  scoreMargin\n",
       "0         Boston Celtics      80  Philadelphia 76ers      89            9\n",
       "1      Charlotte Hornets     111     Toronto Raptors     129           18\n",
       "2        Toronto Raptors      96     Detroit Pistons      91            5\n",
       "3        Milwaukee Bucks     110     Toronto Raptors     129           19\n",
       "4  Oklahoma City Thunder     105          Miami Heat      99            6"
      ]
     },
     "execution_count": 101,
     "metadata": {},
     "output_type": "execute_result"
    }
   ],
   "source": [
    "df_matches2.head()"
   ]
  },
  {
   "cell_type": "code",
   "execution_count": 107,
   "metadata": {},
   "outputs": [],
   "source": [
    "a = [\"Houston Rockets\"]"
   ]
  },
  {
   "cell_type": "code",
   "execution_count": 108,
   "metadata": {},
   "outputs": [],
   "source": [
    "df_onlyBOSmatches = df_matches2[(df_matches2['teamA'].isin(a)) | (df_matches2['teamB'].isin(a)) ]"
   ]
  },
  {
   "cell_type": "code",
   "execution_count": 109,
   "metadata": {},
   "outputs": [
    {
     "data": {
      "text/plain": [
       "12.25609756097561"
      ]
     },
     "execution_count": 109,
     "metadata": {},
     "output_type": "execute_result"
    }
   ],
   "source": [
    "df_onlyBOSmatches[\"scoreMargin\"].mean()"
   ]
  },
  {
   "cell_type": "markdown",
   "metadata": {},
   "source": [
    "## Actual Cypher Query"
   ]
  },
  {
   "cell_type": "code",
   "execution_count": 34,
   "metadata": {},
   "outputs": [],
   "source": [
    "cypher = \"\"\"\n",
    "MATCH \n",
    "    (t:Team)-[:SCORED]->(s:Score)-[:IN_GAME]->(g:Game)<-[:IN_GAME]-(s2:Score)<-[:SCORED]-(t2:Team), (sea:Season)\n",
    "WHERE \n",
    "    (g)-[:TOOK_PLACE_IN]->(sea)\n",
    "AND\n",
    "\tg.game_type= \"regular_season\"\n",
    "RETURN \n",
    "    t.name as team, \n",
    "    avg(abs(s.score - s2.score)) as scoreMargin,\n",
    "    sea.name as season\n",
    "ORDER BY \n",
    "    team, season\n",
    "\n",
    "\"\"\""
   ]
  },
  {
   "cell_type": "code",
   "execution_count": 35,
   "metadata": {},
   "outputs": [],
   "source": [
    "data, cols = db.cypher_query(cypher)"
   ]
  },
  {
   "cell_type": "code",
   "execution_count": 36,
   "metadata": {},
   "outputs": [],
   "source": [
    "df_scoreMargin = pd.DataFrame(data=data, columns=cols)"
   ]
  },
  {
   "cell_type": "code",
   "execution_count": 37,
   "metadata": {},
   "outputs": [
    {
     "data": {
      "text/html": [
       "<div>\n",
       "<table border=\"1\" class=\"dataframe\">\n",
       "  <thead>\n",
       "    <tr style=\"text-align: right;\">\n",
       "      <th></th>\n",
       "      <th>team</th>\n",
       "      <th>scoreMargin</th>\n",
       "      <th>season</th>\n",
       "    </tr>\n",
       "  </thead>\n",
       "  <tbody>\n",
       "    <tr>\n",
       "      <th>0</th>\n",
       "      <td>Atlanta Hawks</td>\n",
       "      <td>11.634146</td>\n",
       "      <td>2015/2016</td>\n",
       "    </tr>\n",
       "    <tr>\n",
       "      <th>1</th>\n",
       "      <td>Atlanta Hawks</td>\n",
       "      <td>11.170732</td>\n",
       "      <td>2016/2017</td>\n",
       "    </tr>\n",
       "    <tr>\n",
       "      <th>2</th>\n",
       "      <td>Atlanta Hawks</td>\n",
       "      <td>10.865854</td>\n",
       "      <td>2017/2018</td>\n",
       "    </tr>\n",
       "    <tr>\n",
       "      <th>3</th>\n",
       "      <td>Boston Celtics</td>\n",
       "      <td>10.695122</td>\n",
       "      <td>2015/2016</td>\n",
       "    </tr>\n",
       "    <tr>\n",
       "      <th>4</th>\n",
       "      <td>Boston Celtics</td>\n",
       "      <td>9.195122</td>\n",
       "      <td>2016/2017</td>\n",
       "    </tr>\n",
       "  </tbody>\n",
       "</table>\n",
       "</div>"
      ],
      "text/plain": [
       "             team  scoreMargin     season\n",
       "0   Atlanta Hawks    11.634146  2015/2016\n",
       "1   Atlanta Hawks    11.170732  2016/2017\n",
       "2   Atlanta Hawks    10.865854  2017/2018\n",
       "3  Boston Celtics    10.695122  2015/2016\n",
       "4  Boston Celtics     9.195122  2016/2017"
      ]
     },
     "execution_count": 37,
     "metadata": {},
     "output_type": "execute_result"
    }
   ],
   "source": [
    "df_scoreMargin.head()"
   ]
  },
  {
   "cell_type": "code",
   "execution_count": 38,
   "metadata": {},
   "outputs": [],
   "source": [
    "df_scoreMargin_test = df_scoreMargin.pivot(index=\"team\", columns=\"season\")"
   ]
  },
  {
   "cell_type": "code",
   "execution_count": 39,
   "metadata": {},
   "outputs": [
    {
     "data": {
      "text/html": [
       "<div>\n",
       "<table border=\"1\" class=\"dataframe\">\n",
       "  <thead>\n",
       "    <tr>\n",
       "      <th></th>\n",
       "      <th colspan=\"3\" halign=\"left\">scoreMargin</th>\n",
       "    </tr>\n",
       "    <tr>\n",
       "      <th>season</th>\n",
       "      <th>2015/2016</th>\n",
       "      <th>2016/2017</th>\n",
       "      <th>2017/2018</th>\n",
       "    </tr>\n",
       "    <tr>\n",
       "      <th>team</th>\n",
       "      <th></th>\n",
       "      <th></th>\n",
       "      <th></th>\n",
       "    </tr>\n",
       "  </thead>\n",
       "  <tbody>\n",
       "    <tr>\n",
       "      <th>Atlanta Hawks</th>\n",
       "      <td>11.634146</td>\n",
       "      <td>11.170732</td>\n",
       "      <td>10.865854</td>\n",
       "    </tr>\n",
       "    <tr>\n",
       "      <th>Boston Celtics</th>\n",
       "      <td>10.695122</td>\n",
       "      <td>9.195122</td>\n",
       "      <td>9.219512</td>\n",
       "    </tr>\n",
       "    <tr>\n",
       "      <th>Brooklyn Nets</th>\n",
       "      <td>10.743902</td>\n",
       "      <td>12.195122</td>\n",
       "      <td>10.231707</td>\n",
       "    </tr>\n",
       "    <tr>\n",
       "      <th>Charlotte Hornets</th>\n",
       "      <td>11.134146</td>\n",
       "      <td>10.195122</td>\n",
       "      <td>11.768293</td>\n",
       "    </tr>\n",
       "    <tr>\n",
       "      <th>Chicago Bulls</th>\n",
       "      <td>9.865854</td>\n",
       "      <td>12.036585</td>\n",
       "      <td>12.231707</td>\n",
       "    </tr>\n",
       "  </tbody>\n",
       "</table>\n",
       "</div>"
      ],
      "text/plain": [
       "                  scoreMargin                      \n",
       "season              2015/2016  2016/2017  2017/2018\n",
       "team                                               \n",
       "Atlanta Hawks       11.634146  11.170732  10.865854\n",
       "Boston Celtics      10.695122   9.195122   9.219512\n",
       "Brooklyn Nets       10.743902  12.195122  10.231707\n",
       "Charlotte Hornets   11.134146  10.195122  11.768293\n",
       "Chicago Bulls        9.865854  12.036585  12.231707"
      ]
     },
     "execution_count": 39,
     "metadata": {},
     "output_type": "execute_result"
    }
   ],
   "source": [
    "df_scoreMargin_test.head()"
   ]
  },
  {
   "cell_type": "code",
   "execution_count": 40,
   "metadata": {},
   "outputs": [],
   "source": [
    "cols = []\n",
    "for a, b in zip(df_scoreMargin_test.columns.get_level_values(0), df_scoreMargin_test.columns.get_level_values(1)):\n",
    "    cols.append(a+\"_\"+b)"
   ]
  },
  {
   "cell_type": "code",
   "execution_count": 41,
   "metadata": {},
   "outputs": [
    {
     "data": {
      "text/plain": [
       "['scoreMargin_2015/2016', 'scoreMargin_2016/2017', 'scoreMargin_2017/2018']"
      ]
     },
     "execution_count": 41,
     "metadata": {},
     "output_type": "execute_result"
    }
   ],
   "source": [
    "cols"
   ]
  },
  {
   "cell_type": "code",
   "execution_count": 42,
   "metadata": {},
   "outputs": [],
   "source": [
    "df_scoreMargin_test.columns = cols"
   ]
  },
  {
   "cell_type": "code",
   "execution_count": 43,
   "metadata": {},
   "outputs": [
    {
     "data": {
      "text/html": [
       "<div>\n",
       "<table border=\"1\" class=\"dataframe\">\n",
       "  <thead>\n",
       "    <tr style=\"text-align: right;\">\n",
       "      <th></th>\n",
       "      <th>scoreMargin_2015/2016</th>\n",
       "      <th>scoreMargin_2016/2017</th>\n",
       "      <th>scoreMargin_2017/2018</th>\n",
       "    </tr>\n",
       "    <tr>\n",
       "      <th>team</th>\n",
       "      <th></th>\n",
       "      <th></th>\n",
       "      <th></th>\n",
       "    </tr>\n",
       "  </thead>\n",
       "  <tbody>\n",
       "    <tr>\n",
       "      <th>Atlanta Hawks</th>\n",
       "      <td>11.634146</td>\n",
       "      <td>11.170732</td>\n",
       "      <td>10.865854</td>\n",
       "    </tr>\n",
       "    <tr>\n",
       "      <th>Boston Celtics</th>\n",
       "      <td>10.695122</td>\n",
       "      <td>9.195122</td>\n",
       "      <td>9.219512</td>\n",
       "    </tr>\n",
       "    <tr>\n",
       "      <th>Brooklyn Nets</th>\n",
       "      <td>10.743902</td>\n",
       "      <td>12.195122</td>\n",
       "      <td>10.231707</td>\n",
       "    </tr>\n",
       "    <tr>\n",
       "      <th>Charlotte Hornets</th>\n",
       "      <td>11.134146</td>\n",
       "      <td>10.195122</td>\n",
       "      <td>11.768293</td>\n",
       "    </tr>\n",
       "    <tr>\n",
       "      <th>Chicago Bulls</th>\n",
       "      <td>9.865854</td>\n",
       "      <td>12.036585</td>\n",
       "      <td>12.231707</td>\n",
       "    </tr>\n",
       "  </tbody>\n",
       "</table>\n",
       "</div>"
      ],
      "text/plain": [
       "                   scoreMargin_2015/2016  scoreMargin_2016/2017  \\\n",
       "team                                                              \n",
       "Atlanta Hawks                  11.634146              11.170732   \n",
       "Boston Celtics                 10.695122               9.195122   \n",
       "Brooklyn Nets                  10.743902              12.195122   \n",
       "Charlotte Hornets              11.134146              10.195122   \n",
       "Chicago Bulls                   9.865854              12.036585   \n",
       "\n",
       "                   scoreMargin_2017/2018  \n",
       "team                                      \n",
       "Atlanta Hawks                  10.865854  \n",
       "Boston Celtics                  9.219512  \n",
       "Brooklyn Nets                  10.231707  \n",
       "Charlotte Hornets              11.768293  \n",
       "Chicago Bulls                  12.231707  "
      ]
     },
     "execution_count": 43,
     "metadata": {},
     "output_type": "execute_result"
    }
   ],
   "source": [
    "df_scoreMargin_test.head()"
   ]
  },
  {
   "cell_type": "code",
   "execution_count": 44,
   "metadata": {},
   "outputs": [],
   "source": [
    "df_ml_1 = pd.merge(\n",
    "    pd.merge(df_matches, df_test.reset_index(), left_on=\"teamA\", right_on=\"team\"),\n",
    "    df_test.reset_index(), \n",
    "    left_on=\"teamB\", \n",
    "    right_on=\"team\",\n",
    "    suffixes=[\"_A\", \"_B\"]\n",
    ")"
   ]
  },
  {
   "cell_type": "code",
   "execution_count": 45,
   "metadata": {},
   "outputs": [],
   "source": [
    "df_ml_2 = pd.merge(\n",
    "    pd.merge(df_ml_1, df_scoreMargin_test.reset_index(), left_on=\"teamA\", right_on=\"team\"),\n",
    "    df_scoreMargin_test.reset_index(), \n",
    "    left_on=\"teamB\", \n",
    "    right_on=\"team\",\n",
    "    suffixes=[\"_A\", \"_B\"]\n",
    ").drop(\n",
    "    [\"scoreA\", \"scoreB\", \"teamA\", \"teamB\", \"team_A\", \"team_B\", \"wins_reg_2017/2018_A\", \"losses_reg_2017/2018_A\", \"wins_reg_2017/2018_B\", \"losses_reg_2017/2018_B\", \"scoreMargin_2017/2018_A\", \"scoreMargin_2017/2018_B\" ], \n",
    "    axis=1)"
   ]
  },
  {
   "cell_type": "code",
   "execution_count": 46,
   "metadata": {},
   "outputs": [
    {
     "data": {
      "text/html": [
       "<div>\n",
       "<table border=\"1\" class=\"dataframe\">\n",
       "  <thead>\n",
       "    <tr style=\"text-align: right;\">\n",
       "      <th></th>\n",
       "      <th>teamAWinner</th>\n",
       "      <th>wins_reg_home_2015/2016_A</th>\n",
       "      <th>wins_reg_home_2016/2017_A</th>\n",
       "      <th>wins_reg_home_2017/2018_A</th>\n",
       "      <th>wins_reg_away_2015/2016_A</th>\n",
       "      <th>wins_reg_away_2016/2017_A</th>\n",
       "      <th>wins_reg_away_2017/2018_A</th>\n",
       "      <th>losses_reg_home_2015/2016_A</th>\n",
       "      <th>losses_reg_home_2016/2017_A</th>\n",
       "      <th>losses_reg_home_2017/2018_A</th>\n",
       "      <th>...</th>\n",
       "      <th>losses_reg_home_2015/2016_B</th>\n",
       "      <th>losses_reg_home_2016/2017_B</th>\n",
       "      <th>losses_reg_home_2017/2018_B</th>\n",
       "      <th>losses_reg_away_2015/2016_B</th>\n",
       "      <th>losses_reg_away_2016/2017_B</th>\n",
       "      <th>losses_reg_away_2017/2018_B</th>\n",
       "      <th>scoreMargin_2015/2016_A</th>\n",
       "      <th>scoreMargin_2016/2017_A</th>\n",
       "      <th>scoreMargin_2015/2016_B</th>\n",
       "      <th>scoreMargin_2016/2017_B</th>\n",
       "    </tr>\n",
       "  </thead>\n",
       "  <tbody>\n",
       "    <tr>\n",
       "      <th>0</th>\n",
       "      <td>False</td>\n",
       "      <td>28</td>\n",
       "      <td>30</td>\n",
       "      <td>27</td>\n",
       "      <td>20</td>\n",
       "      <td>23</td>\n",
       "      <td>28</td>\n",
       "      <td>13</td>\n",
       "      <td>11</td>\n",
       "      <td>14</td>\n",
       "      <td>...</td>\n",
       "      <td>34</td>\n",
       "      <td>24</td>\n",
       "      <td>11</td>\n",
       "      <td>38</td>\n",
       "      <td>30</td>\n",
       "      <td>19</td>\n",
       "      <td>10.695122</td>\n",
       "      <td>9.195122</td>\n",
       "      <td>12.743902</td>\n",
       "      <td>10.865854</td>\n",
       "    </tr>\n",
       "    <tr>\n",
       "      <th>1</th>\n",
       "      <td>True</td>\n",
       "      <td>28</td>\n",
       "      <td>30</td>\n",
       "      <td>27</td>\n",
       "      <td>20</td>\n",
       "      <td>23</td>\n",
       "      <td>28</td>\n",
       "      <td>13</td>\n",
       "      <td>11</td>\n",
       "      <td>14</td>\n",
       "      <td>...</td>\n",
       "      <td>34</td>\n",
       "      <td>24</td>\n",
       "      <td>11</td>\n",
       "      <td>38</td>\n",
       "      <td>30</td>\n",
       "      <td>19</td>\n",
       "      <td>10.695122</td>\n",
       "      <td>9.195122</td>\n",
       "      <td>12.743902</td>\n",
       "      <td>10.865854</td>\n",
       "    </tr>\n",
       "    <tr>\n",
       "      <th>2</th>\n",
       "      <td>False</td>\n",
       "      <td>30</td>\n",
       "      <td>22</td>\n",
       "      <td>21</td>\n",
       "      <td>18</td>\n",
       "      <td>14</td>\n",
       "      <td>15</td>\n",
       "      <td>11</td>\n",
       "      <td>19</td>\n",
       "      <td>20</td>\n",
       "      <td>...</td>\n",
       "      <td>34</td>\n",
       "      <td>24</td>\n",
       "      <td>11</td>\n",
       "      <td>38</td>\n",
       "      <td>30</td>\n",
       "      <td>19</td>\n",
       "      <td>11.134146</td>\n",
       "      <td>10.195122</td>\n",
       "      <td>12.743902</td>\n",
       "      <td>10.865854</td>\n",
       "    </tr>\n",
       "    <tr>\n",
       "      <th>3</th>\n",
       "      <td>False</td>\n",
       "      <td>30</td>\n",
       "      <td>22</td>\n",
       "      <td>21</td>\n",
       "      <td>18</td>\n",
       "      <td>14</td>\n",
       "      <td>15</td>\n",
       "      <td>11</td>\n",
       "      <td>19</td>\n",
       "      <td>20</td>\n",
       "      <td>...</td>\n",
       "      <td>34</td>\n",
       "      <td>24</td>\n",
       "      <td>11</td>\n",
       "      <td>38</td>\n",
       "      <td>30</td>\n",
       "      <td>19</td>\n",
       "      <td>11.134146</td>\n",
       "      <td>10.195122</td>\n",
       "      <td>12.743902</td>\n",
       "      <td>10.865854</td>\n",
       "    </tr>\n",
       "    <tr>\n",
       "      <th>4</th>\n",
       "      <td>True</td>\n",
       "      <td>32</td>\n",
       "      <td>28</td>\n",
       "      <td>34</td>\n",
       "      <td>24</td>\n",
       "      <td>23</td>\n",
       "      <td>25</td>\n",
       "      <td>9</td>\n",
       "      <td>13</td>\n",
       "      <td>7</td>\n",
       "      <td>...</td>\n",
       "      <td>34</td>\n",
       "      <td>24</td>\n",
       "      <td>11</td>\n",
       "      <td>38</td>\n",
       "      <td>30</td>\n",
       "      <td>19</td>\n",
       "      <td>9.914634</td>\n",
       "      <td>10.548780</td>\n",
       "      <td>12.743902</td>\n",
       "      <td>10.865854</td>\n",
       "    </tr>\n",
       "  </tbody>\n",
       "</table>\n",
       "<p>5 rows × 29 columns</p>\n",
       "</div>"
      ],
      "text/plain": [
       "  teamAWinner  wins_reg_home_2015/2016_A  wins_reg_home_2016/2017_A  \\\n",
       "0       False                         28                         30   \n",
       "1        True                         28                         30   \n",
       "2       False                         30                         22   \n",
       "3       False                         30                         22   \n",
       "4        True                         32                         28   \n",
       "\n",
       "   wins_reg_home_2017/2018_A  wins_reg_away_2015/2016_A  \\\n",
       "0                         27                         20   \n",
       "1                         27                         20   \n",
       "2                         21                         18   \n",
       "3                         21                         18   \n",
       "4                         34                         24   \n",
       "\n",
       "   wins_reg_away_2016/2017_A  wins_reg_away_2017/2018_A  \\\n",
       "0                         23                         28   \n",
       "1                         23                         28   \n",
       "2                         14                         15   \n",
       "3                         14                         15   \n",
       "4                         23                         25   \n",
       "\n",
       "   losses_reg_home_2015/2016_A  losses_reg_home_2016/2017_A  \\\n",
       "0                           13                           11   \n",
       "1                           13                           11   \n",
       "2                           11                           19   \n",
       "3                           11                           19   \n",
       "4                            9                           13   \n",
       "\n",
       "   losses_reg_home_2017/2018_A           ...             \\\n",
       "0                           14           ...              \n",
       "1                           14           ...              \n",
       "2                           20           ...              \n",
       "3                           20           ...              \n",
       "4                            7           ...              \n",
       "\n",
       "   losses_reg_home_2015/2016_B  losses_reg_home_2016/2017_B  \\\n",
       "0                           34                           24   \n",
       "1                           34                           24   \n",
       "2                           34                           24   \n",
       "3                           34                           24   \n",
       "4                           34                           24   \n",
       "\n",
       "   losses_reg_home_2017/2018_B  losses_reg_away_2015/2016_B  \\\n",
       "0                           11                           38   \n",
       "1                           11                           38   \n",
       "2                           11                           38   \n",
       "3                           11                           38   \n",
       "4                           11                           38   \n",
       "\n",
       "   losses_reg_away_2016/2017_B  losses_reg_away_2017/2018_B  \\\n",
       "0                           30                           19   \n",
       "1                           30                           19   \n",
       "2                           30                           19   \n",
       "3                           30                           19   \n",
       "4                           30                           19   \n",
       "\n",
       "   scoreMargin_2015/2016_A  scoreMargin_2016/2017_A  scoreMargin_2015/2016_B  \\\n",
       "0                10.695122                 9.195122                12.743902   \n",
       "1                10.695122                 9.195122                12.743902   \n",
       "2                11.134146                10.195122                12.743902   \n",
       "3                11.134146                10.195122                12.743902   \n",
       "4                 9.914634                10.548780                12.743902   \n",
       "\n",
       "   scoreMargin_2016/2017_B  \n",
       "0                10.865854  \n",
       "1                10.865854  \n",
       "2                10.865854  \n",
       "3                10.865854  \n",
       "4                10.865854  \n",
       "\n",
       "[5 rows x 29 columns]"
      ]
     },
     "execution_count": 46,
     "metadata": {},
     "output_type": "execute_result"
    }
   ],
   "source": [
    "df_ml_2.head()"
   ]
  },
  {
   "cell_type": "markdown",
   "metadata": {},
   "source": [
    "## Score Margin splitted into home and away"
   ]
  },
  {
   "cell_type": "code",
   "execution_count": 126,
   "metadata": {},
   "outputs": [],
   "source": [
    "cypher = \"\"\"\n",
    "MATCH \n",
    "    (t:Team)-[:SCORED]->(s:Score)-[:IN_GAME]->(g:Game)<-[:IN_GAME]-(s2:Score)<-[:SCORED]-(t2:Team), (sea:Season)\n",
    "WHERE \n",
    "    (g)-[:TOOK_PLACE_IN]->(sea)\n",
    "AND\n",
    "\tg.game_type= \"regular_season\"\n",
    "RETURN \n",
    "    t.name as team, \n",
    "    sea.name as season,\n",
    "    CASE WHEN s.score < s2.score THEN avg(abs(s.score - s2.score)) ELSE 0 END as scoreMarginWins,\n",
    "    CASE WHEN s.score > s2.score THEN avg(abs(s.score - s2.score)) ELSE 0 END as scoreMarginLosses\n",
    "\n",
    "ORDER BY \n",
    "    team, season\n",
    "\n",
    "\"\"\""
   ]
  },
  {
   "cell_type": "code",
   "execution_count": 127,
   "metadata": {},
   "outputs": [],
   "source": [
    "data, cols = db.cypher_query(cypher)"
   ]
  },
  {
   "cell_type": "code",
   "execution_count": 128,
   "metadata": {},
   "outputs": [],
   "source": [
    "df_scoreMargin = pd.DataFrame(data=data, columns=cols)"
   ]
  },
  {
   "cell_type": "code",
   "execution_count": 129,
   "metadata": {},
   "outputs": [
    {
     "data": {
      "text/html": [
       "<div>\n",
       "<table border=\"1\" class=\"dataframe\">\n",
       "  <thead>\n",
       "    <tr style=\"text-align: right;\">\n",
       "      <th></th>\n",
       "      <th>team</th>\n",
       "      <th>season</th>\n",
       "      <th>scoreMarginWins</th>\n",
       "      <th>scoreMarginLosses</th>\n",
       "    </tr>\n",
       "  </thead>\n",
       "  <tbody>\n",
       "    <tr>\n",
       "      <th>0</th>\n",
       "      <td>Atlanta Hawks</td>\n",
       "      <td>2015/2016</td>\n",
       "      <td>0.000000</td>\n",
       "      <td>9.676471</td>\n",
       "    </tr>\n",
       "    <tr>\n",
       "      <th>1</th>\n",
       "      <td>Atlanta Hawks</td>\n",
       "      <td>2015/2016</td>\n",
       "      <td>13.020833</td>\n",
       "      <td>0.000000</td>\n",
       "    </tr>\n",
       "    <tr>\n",
       "      <th>2</th>\n",
       "      <td>Atlanta Hawks</td>\n",
       "      <td>2016/2017</td>\n",
       "      <td>0.000000</td>\n",
       "      <td>12.641026</td>\n",
       "    </tr>\n",
       "    <tr>\n",
       "      <th>3</th>\n",
       "      <td>Atlanta Hawks</td>\n",
       "      <td>2016/2017</td>\n",
       "      <td>9.837209</td>\n",
       "      <td>0.000000</td>\n",
       "    </tr>\n",
       "    <tr>\n",
       "      <th>4</th>\n",
       "      <td>Atlanta Hawks</td>\n",
       "      <td>2017/2018</td>\n",
       "      <td>0.000000</td>\n",
       "      <td>11.534483</td>\n",
       "    </tr>\n",
       "  </tbody>\n",
       "</table>\n",
       "</div>"
      ],
      "text/plain": [
       "            team     season  scoreMarginWins  scoreMarginLosses\n",
       "0  Atlanta Hawks  2015/2016         0.000000           9.676471\n",
       "1  Atlanta Hawks  2015/2016        13.020833           0.000000\n",
       "2  Atlanta Hawks  2016/2017         0.000000          12.641026\n",
       "3  Atlanta Hawks  2016/2017         9.837209           0.000000\n",
       "4  Atlanta Hawks  2017/2018         0.000000          11.534483"
      ]
     },
     "execution_count": 129,
     "metadata": {},
     "output_type": "execute_result"
    }
   ],
   "source": [
    "df_scoreMargin.head()"
   ]
  },
  {
   "cell_type": "code",
   "execution_count": 137,
   "metadata": {},
   "outputs": [],
   "source": [
    "df_scoreMargin_home_away = df_scoreMargin.groupby([\"team\", \"season\"]).sum().reset_index()"
   ]
  },
  {
   "cell_type": "code",
   "execution_count": 138,
   "metadata": {},
   "outputs": [],
   "source": [
    "df_scoreMargin_test = df_scoreMargin_home_away.pivot(index=\"team\", columns=\"season\")"
   ]
  },
  {
   "cell_type": "code",
   "execution_count": 139,
   "metadata": {},
   "outputs": [],
   "source": [
    "cols = []\n",
    "for a, b in zip(df_scoreMargin_test.columns.get_level_values(0), df_scoreMargin_test.columns.get_level_values(1)):\n",
    "    cols.append(a+\"_\"+b)"
   ]
  },
  {
   "cell_type": "code",
   "execution_count": 133,
   "metadata": {},
   "outputs": [],
   "source": [
    "df_scoreMargin_test.columns = cols"
   ]
  },
  {
   "cell_type": "markdown",
   "metadata": {},
   "source": [
    "## Validation of numbers"
   ]
  },
  {
   "cell_type": "code",
   "execution_count": 134,
   "metadata": {},
   "outputs": [
    {
     "data": {
      "text/html": [
       "<div>\n",
       "<table border=\"1\" class=\"dataframe\">\n",
       "  <thead>\n",
       "    <tr style=\"text-align: right;\">\n",
       "      <th></th>\n",
       "      <th>team</th>\n",
       "      <th>season</th>\n",
       "      <th>scoreMarginWins</th>\n",
       "      <th>scoreMarginLosses</th>\n",
       "    </tr>\n",
       "  </thead>\n",
       "  <tbody>\n",
       "    <tr>\n",
       "      <th>30</th>\n",
       "      <td>Houston Rockets</td>\n",
       "      <td>2015/2016</td>\n",
       "      <td>10.268293</td>\n",
       "      <td>9.878049</td>\n",
       "    </tr>\n",
       "    <tr>\n",
       "      <th>31</th>\n",
       "      <td>Houston Rockets</td>\n",
       "      <td>2016/2017</td>\n",
       "      <td>13.490909</td>\n",
       "      <td>9.962963</td>\n",
       "    </tr>\n",
       "    <tr>\n",
       "      <th>32</th>\n",
       "      <td>Houston Rockets</td>\n",
       "      <td>2017/2018</td>\n",
       "      <td>13.076923</td>\n",
       "      <td>9.117647</td>\n",
       "    </tr>\n",
       "  </tbody>\n",
       "</table>\n",
       "</div>"
      ],
      "text/plain": [
       "               team     season  scoreMarginWins  scoreMarginLosses\n",
       "30  Houston Rockets  2015/2016        10.268293           9.878049\n",
       "31  Houston Rockets  2016/2017        13.490909           9.962963\n",
       "32  Houston Rockets  2017/2018        13.076923           9.117647"
      ]
     },
     "execution_count": 134,
     "metadata": {},
     "output_type": "execute_result"
    }
   ],
   "source": [
    "df_scoreMargin_home_away[df_scoreMargin_home_away[\"team\"] == \"Houston Rockets\"]"
   ]
  },
  {
   "cell_type": "markdown",
   "metadata": {},
   "source": [
    "(4+5+1+18+7+11+2+3+17+13)\n",
    "\n",
    "(6+10+6+10+16+8+8)"
   ]
  },
  {
   "cell_type": "code",
   "execution_count": 135,
   "metadata": {},
   "outputs": [],
   "source": [
    "test = [14,5,1,18,7,11,2,3,17,13,6,10,6,10,16,8,8]"
   ]
  },
  {
   "cell_type": "code",
   "execution_count": 136,
   "metadata": {},
   "outputs": [
    {
     "data": {
      "text/plain": [
       "9.117647058823529"
      ]
     },
     "execution_count": 136,
     "metadata": {},
     "output_type": "execute_result"
    }
   ],
   "source": [
    "import numpy as np\n",
    "np.mean(test)"
   ]
  },
  {
   "cell_type": "code",
   "execution_count": null,
   "metadata": {},
   "outputs": [],
   "source": []
  },
  {
   "cell_type": "code",
   "execution_count": null,
   "metadata": {},
   "outputs": [],
   "source": []
  },
  {
   "cell_type": "markdown",
   "metadata": {},
   "source": [
    "# Models"
   ]
  },
  {
   "cell_type": "code",
   "execution_count": 140,
   "metadata": {},
   "outputs": [],
   "source": [
    "from sklearn.linear_model import LogisticRegression"
   ]
  },
  {
   "cell_type": "code",
   "execution_count": 141,
   "metadata": {},
   "outputs": [],
   "source": [
    "lr = LogisticRegression()"
   ]
  },
  {
   "cell_type": "code",
   "execution_count": 142,
   "metadata": {},
   "outputs": [],
   "source": [
    "from sklearn.model_selection import train_test_split"
   ]
  },
  {
   "cell_type": "code",
   "execution_count": 148,
   "metadata": {},
   "outputs": [
    {
     "data": {
      "text/plain": [
       "0.72727272727272729"
      ]
     },
     "execution_count": 148,
     "metadata": {},
     "output_type": "execute_result"
    }
   ],
   "source": [
    "X_train, X_test, y_train, y_test = train_test_split(\n",
    "    df_ml_2.drop(\"teamAWinner\", axis=1), \n",
    "    df_ml_2[\"teamAWinner\"]\n",
    ")\n",
    "\n",
    "lr.fit(X_train, y_train)\n",
    "\n",
    "lr.score(X_test, y_test)"
   ]
  },
  {
   "cell_type": "code",
   "execution_count": 144,
   "metadata": {},
   "outputs": [],
   "source": [
    "from sklearn.neural_network import MLPClassifier\n",
    "clf = MLPClassifier(solver='lbfgs', alpha=1e-5, hidden_layer_sizes=(5, 2), random_state=1)"
   ]
  },
  {
   "cell_type": "code",
   "execution_count": 145,
   "metadata": {},
   "outputs": [
    {
     "data": {
      "text/plain": [
       "0.58766233766233766"
      ]
     },
     "execution_count": 145,
     "metadata": {},
     "output_type": "execute_result"
    }
   ],
   "source": [
    "X_train, X_test, y_train, y_test = train_test_split(\n",
    "    df_ml_2.drop(\"teamAWinner\", axis=1), \n",
    "    df_ml_2[\"teamAWinner\"]\n",
    ")\n",
    "clf.fit(X_train, y_train) \n",
    "clf.score(X_test, y_test)"
   ]
  },
  {
   "cell_type": "code",
   "execution_count": null,
   "metadata": {},
   "outputs": [],
   "source": []
  }
 ],
 "metadata": {
  "kernelspec": {
   "display_name": "Python 3",
   "language": "python",
   "name": "python3"
  },
  "language_info": {
   "codemirror_mode": {
    "name": "ipython",
    "version": 3
   },
   "file_extension": ".py",
   "mimetype": "text/x-python",
   "name": "python",
   "nbconvert_exporter": "python",
   "pygments_lexer": "ipython3",
   "version": "3.6.2"
  }
 },
 "nbformat": 4,
 "nbformat_minor": 2
}
