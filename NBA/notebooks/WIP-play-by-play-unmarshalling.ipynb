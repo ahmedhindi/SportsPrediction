{
 "cells": [
  {
   "cell_type": "code",
   "execution_count": null,
   "metadata": {},
   "outputs": [],
   "source": [
    "from collections import defaultdict\n",
    "from datetime import datetime\n",
    "from dateutil import tz\n",
    "import os\n",
    "os.chdir(\"/home/jovyan/work\")\n",
    "\n",
    "import arrow\n",
    "\n",
    "from src.utils import send_request\n",
    "from src._generate_msf_play_by_play_file import _get_play_type, UNMARSHALL, PARSED_GAMES"
   ]
  },
  {
   "cell_type": "code",
   "execution_count": null,
   "metadata": {},
   "outputs": [],
   "source": [
    "seasons = [\n",
    "    \"2015-2016-regular\",\n",
    "    \"2016-playoff\",\n",
    "    \"2016-2017-regular\",\n",
    "    \"2017-playoff\",\n",
    "    \"2017-2018-regular\"\n",
    "]"
   ]
  },
  {
   "cell_type": "code",
   "execution_count": null,
   "metadata": {},
   "outputs": [],
   "source": [
    "def unmarshall_season_game(game):\n",
    "    date = get_datetime(game[\"schedule\"][\"homeTeam\"][\"abbreviation\"], game[\"schedule\"][\"startTime\"]).strftime(\"%Y%m%d\")\n",
    "    away = game[\"schedule\"][\"awayTeam\"][\"abbreviation\"]\n",
    "    home = game[\"schedule\"][\"homeTeam\"][\"abbreviation\"]\n",
    "    return \"-\".join([date, away, home])"
   ]
  },
  {
   "cell_type": "code",
   "execution_count": null,
   "metadata": {},
   "outputs": [],
   "source": [
    "def get_datetime(team_abbreviaion, dt):\n",
    "    if team_abbreviaion in [\n",
    "        \"NYK\", \"BRO\", \"BOS\", \"PHI\", \n",
    "        \"WAS\", \"CHA\", \"ATL\", \"ORL\", \n",
    "        \"MIA\", \"TOR\", \"CLE\", \"DET\", \"IND\"]:\n",
    "        time_zone = tz.gettz(\"US/Eastern\")\n",
    "    elif team_abbreviaion in [\n",
    "        \"CHI\", \"MIN\", \"DAL\", \"SAS\", \n",
    "        \"OKL\", \"MEM\", \"HOU\", \"MIL\", \"NOP\"]:\n",
    "        time_zone = tz.gettz(\"US/Central\")\n",
    "    elif team_abbreviaion in [\"DEN\", \"PHX\", \"UTA\"]:\n",
    "        time_zone = tz.gettz(\"US/Mountain\")\n",
    "    elif team_abbreviaion in [\n",
    "        \"POR\", \"GSW\", \"LAL\", \"LAC\", \"SAC\"]:\n",
    "        time_zone = tz.gettz(\"US/Pacific\")\n",
    "    else:\n",
    "        print(\"Error with timezones\")\n",
    "    return datetime.fromtimestamp(arrow.get(dt).timestamp, time_zone)"
   ]
  },
  {
   "cell_type": "code",
   "execution_count": null,
   "metadata": {},
   "outputs": [],
   "source": [
    "games = []\n",
    "for season in seasons:\n",
    "    print(\"Processing: {season}\".format(**locals()))\n",
    "    fetched_season = send_request(\"https://api.mysportsfeeds.com/v2.0/pull/nba/{season}/games.json\".format(**locals()))\n",
    "    for game in fetched_season.get(\"games\"):\n",
    "        games.append({\"season\": season, \"game\": unmarshall_season_game(game), \"id\": game[\"schedule\"][\"id\"]})"
   ]
  },
  {
   "cell_type": "code",
   "execution_count": null,
   "metadata": {
    "scrolled": false
   },
   "outputs": [],
   "source": [
    "for idx, g in enumerate(games, 1):\n",
    "    s = \"https://api.mysportsfeeds.com/v2.0/pull/nba/{season}/games/{game}/playbyplay.json?force=false\".format(**g)\n",
    "    if idx % 200 == 0:\n",
    "        print(\"Processed a batch of 200 games, sleeping for 5:30 minutes, get yourself a coffee ;-)\")\n",
    "        #sleep(5*60 + 30)\n",
    "    try:\n",
    "        pbp = send_request(s)\n",
    "        print(\"[{idx:04d}/{total}]: fetched {game}({id})\".format(idx=idx, total=len(games), **g))\n",
    "        for play in pbp.get(\"plays\"):\n",
    "            play_type = _get_play_type(play)\n",
    "            UNMARSHALL[play_type](play, g[\"id\"])\n",
    "            \n",
    "    except ValueError:\n",
    "        print(\"No data for {game}({id})\".format(**g))\n",
    "print(\"Finished!\")"
   ]
  }
 ],
 "metadata": {
  "kernelspec": {
   "display_name": "Python 3",
   "language": "python",
   "name": "python3"
  },
  "language_info": {
   "codemirror_mode": {
    "name": "ipython",
    "version": 3
   },
   "file_extension": ".py",
   "mimetype": "text/x-python",
   "name": "python",
   "nbconvert_exporter": "python",
   "pygments_lexer": "ipython3",
   "version": "3.6.2"
  }
 },
 "nbformat": 4,
 "nbformat_minor": 2
}
