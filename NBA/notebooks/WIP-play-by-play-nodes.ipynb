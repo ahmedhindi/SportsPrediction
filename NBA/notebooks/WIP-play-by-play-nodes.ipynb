{
 "cells": [
  {
   "cell_type": "code",
   "execution_count": 3,
   "metadata": {},
   "outputs": [],
   "source": [
    "import os\n",
    "os.chdir(\"/home/jovyan/work\")\n",
    "\n",
    "from neomodel import BooleanProperty, IntegerProperty, RelationshipTo, StructuredNode, StringProperty\n",
    "import pandas as pd\n",
    "from tqdm import tqdm\n",
    "\n",
    "from src.models import Game, JumpBall, Player, Turnover, Violation\n",
    "from src.utils import init_connection"
   ]
  },
  {
   "cell_type": "code",
   "execution_count": null,
   "metadata": {},
   "outputs": [],
   "source": [
    "init_connection()"
   ]
  },
  {
   "cell_type": "markdown",
   "metadata": {},
   "source": [
    "### JumpBall"
   ]
  },
  {
   "cell_type": "code",
   "execution_count": null,
   "metadata": {},
   "outputs": [],
   "source": [
    "df = pd.read_csv(\"./data/play_by_play_files/play_by_play_jumpball.csv\")"
   ]
  },
  {
   "cell_type": "code",
   "execution_count": null,
   "metadata": {},
   "outputs": [],
   "source": [
    "df.shape[0]"
   ]
  },
  {
   "cell_type": "code",
   "execution_count": null,
   "metadata": {},
   "outputs": [],
   "source": [
    "for _, row in tqdm(df.iterrows(), total=df.shape[0]):\n",
    "    jb = JumpBall()\n",
    "    jb.name = row[\"name\"]\n",
    "    jb.won_by = row[\"wonBy\"]\n",
    "    jb.elapsed_seconds = row[\"secondsElapsed\"]\n",
    "    jb.quarter = row[\"quarter\"]\n",
    "    jb.save()\n",
    "    \n",
    "    jb.away_player.connect(Player.nodes.get(msfID=row[\"awayPlayerID\"]))\n",
    "    jb.home_player.connect(Player.nodes.get(msfID=row[\"homePlayerID\"]))\n",
    "    jb.game.connect(Game.nodes.get(game_id=row[\"gameID\"]))"
   ]
  },
  {
   "cell_type": "markdown",
   "metadata": {},
   "source": [
    "### Violation"
   ]
  },
  {
   "cell_type": "code",
   "execution_count": null,
   "metadata": {},
   "outputs": [],
   "source": [
    "df = pd.read_csv(\"./data/play_by_play_files/play_by_play_violation.csv\")"
   ]
  },
  {
   "cell_type": "code",
   "execution_count": null,
   "metadata": {},
   "outputs": [],
   "source": [
    "for _, row in tqdm(df.iterrows(), df.shape[0]):\n",
    "    v = Violation()\n",
    "    v.name = row[\"name\"]\n",
    "    v.team_abbreviation = row[\"teamAbbreviation\"]\n",
    "    v.vioalation_type = row[\"teamOrPersonal\"]\n",
    "    v.elapsed_seconds = row[\"secondsElapsed\"]\n",
    "    v.quarter = row[\"quarter\"]\n",
    "    v.save()\n",
    "    \n",
    "    v.game.connect(Game.nodes.get(game_id=row[\"gameID\"]))\n",
    "    if v.vioalation_type == \"PERSONAL\":\n",
    "        v.player.connect(Player.nodes.get(msfID=row[\"playerID\"]))"
   ]
  },
  {
   "cell_type": "markdown",
   "metadata": {},
   "source": [
    "### Turnover"
   ]
  },
  {
   "cell_type": "code",
   "execution_count": null,
   "metadata": {},
   "outputs": [],
   "source": [
    "df = pd.read_csv(\"./data/play_by_play_files/play_by_play_turnover.csv\")"
   ]
  },
  {
   "cell_type": "code",
   "execution_count": null,
   "metadata": {},
   "outputs": [],
   "source": [
    "for _, row in tqdm(df.iterrows(), total=df.shape[0]):\n",
    "    t = Turnover()\n",
    "    t.name = row[\"name\"]\n",
    "    t.is_stolen = row[\"isStolen\"]\n",
    "    t.turnover_type = row[\"type\"]\n",
    "    t.elapsed_seconds = row[\"secondsElapsed\"]\n",
    "    t.quarter = row[\"quarter\"]\n",
    "    t.save()\n",
    "    \n",
    "    t.lost_by_player.connect(Player.nodes.get(msfID=row[\"lostByPlayerID\"]))\n",
    "    t.game.connect(Game.nodes.get(game_id=row[\"gameID\"]))\n",
    "    if t.is_stolen:\n",
    "        t.stolen_by_player.connect(Player.nodes.get(msfID=row[\"stolenByPlayerID\"]))"
   ]
  },
  {
   "cell_type": "code",
   "execution_count": 4,
   "metadata": {},
   "outputs": [
    {
     "name": "stdout",
     "output_type": "stream",
     "text": [
      "play_by_play_jumpball.csv : 6551\n",
      "play_by_play_violation.csv : 6263\n",
      "play_by_play_turnover.csv : 104710\n",
      "play_by_play_foul.csv : 159372\n",
      "play_by_play_fieldGoalAttempt.csv : 657302\n",
      "play_by_play_rebound.csv : 398604\n",
      "play_by_play_substitution.csv : 448210\n",
      "play_by_play_freeThrowAttempt.csv : 175476\n"
     ]
    }
   ],
   "source": [
    "for f in os.listdir(\"./data/play_by_play_files/\"):\n",
    "    size = pd.read_csv(\"./data/play_by_play_files/{f}\".format(**locals())).shape[0]\n",
    "    print(\"{f} : {size}\".format(**locals()))"
   ]
  }
 ],
 "metadata": {
  "kernelspec": {
   "display_name": "Python 3",
   "language": "python",
   "name": "python3"
  },
  "language_info": {
   "codemirror_mode": {
    "name": "ipython",
    "version": 3
   },
   "file_extension": ".py",
   "mimetype": "text/x-python",
   "name": "python",
   "nbconvert_exporter": "python",
   "pygments_lexer": "ipython3",
   "version": "3.6.2"
  }
 },
 "nbformat": 4,
 "nbformat_minor": 2
}
