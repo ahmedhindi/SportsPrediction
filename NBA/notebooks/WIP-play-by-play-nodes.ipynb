{
 "cells": [
  {
   "cell_type": "code",
   "execution_count": 4,
   "metadata": {},
   "outputs": [],
   "source": [
    "import os\n",
    "os.chdir(\"/home/jovyan/work\")\n",
    "\n",
    "from neomodel import IntegerProperty, RelationshipTo, StructuredNode, StringProperty\n",
    "import pandas as pd\n",
    "from tqdm import tqdm\n",
    "\n",
    "from src.models import Game, Player, JumpBall\n",
    "from src.utils import init_connection"
   ]
  },
  {
   "cell_type": "code",
   "execution_count": 5,
   "metadata": {},
   "outputs": [],
   "source": [
    "init_connection()"
   ]
  },
  {
   "cell_type": "code",
   "execution_count": 6,
   "metadata": {},
   "outputs": [],
   "source": [
    "df = pd.read_csv(\"./data/play_by_play_files/play_by_play_jumpball.csv\")"
   ]
  },
  {
   "cell_type": "code",
   "execution_count": 8,
   "metadata": {},
   "outputs": [
    {
     "name": "stderr",
     "output_type": "stream",
     "text": [
      "5it [00:00, 27.47it/s]\n"
     ]
    }
   ],
   "source": [
    "for _, row in tqdm(df.head().iterrows()):\n",
    "    jb = JumpBall()\n",
    "    jb.name = row[\"name\"]\n",
    "    jb.won_by = row[\"wonBy\"]\n",
    "    jb.elapsed_seconds = row[\"secondsElapsed\"]\n",
    "    jb.quarter = row[\"quarter\"]\n",
    "    jb.save()\n",
    "    \n",
    "    jb.away_player.connect(Player.nodes.get(msfID=row[\"awayPlayerID\"]))\n",
    "    jb.home_player.connect(Player.nodes.get(msfID=row[\"homePlayerID\"]))\n",
    "    jb.game.connect(Game.nodes.get(game_id=row[\"gameID\"]))"
   ]
  },
  {
   "cell_type": "code",
   "execution_count": null,
   "metadata": {},
   "outputs": [],
   "source": []
  },
  {
   "cell_type": "code",
   "execution_count": 28,
   "metadata": {},
   "outputs": [
    {
     "name": "stdout",
     "output_type": "stream",
     "text": [
      "play_by_play_jumpball.csv : 45857\n",
      "play_by_play_violation.csv : 43841\n",
      "play_by_play_turnover.csv : 837680\n",
      "play_by_play_foul.csv : 1274976\n",
      "play_by_play_fieldGoalAttempt.csv : 6573020\n",
      "play_by_play_rebound.csv : 2391624\n",
      "play_by_play_substitution.csv : 3137470\n",
      "play_by_play_freeThrowAttempt.csv : 1403808\n"
     ]
    }
   ],
   "source": [
    "for f in os.listdir(\"./data/play_by_play_files/\"):\n",
    "    size = pd.read_csv(\"./data/play_by_play_files/{f}\".format(**locals())).size\n",
    "    print(\"{f} : {size}\".format(**locals()))xx"
   ]
  }
 ],
 "metadata": {
  "kernelspec": {
   "display_name": "Python 3",
   "language": "python",
   "name": "python3"
  },
  "language_info": {
   "codemirror_mode": {
    "name": "ipython",
    "version": 3
   },
   "file_extension": ".py",
   "mimetype": "text/x-python",
   "name": "python",
   "nbconvert_exporter": "python",
   "pygments_lexer": "ipython3",
   "version": "3.6.2"
  }
 },
 "nbformat": 4,
 "nbformat_minor": 2
}
