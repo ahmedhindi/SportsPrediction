{
 "cells": [
  {
   "cell_type": "code",
   "execution_count": 6,
   "metadata": {},
   "outputs": [],
   "source": [
    "import os\n",
    "os.chdir(\"/home/jovyan/work\")\n",
    "\n",
    "from neomodel import BooleanProperty, IntegerProperty, RelationshipTo, StructuredNode, StringProperty\n",
    "import pandas as pd\n",
    "from tqdm import tqdm\n",
    "\n",
    "from src.models import Foul, FreeThrowAttempt, Game, JumpBall, Player, Rebound, Substitution, Turnover, Violation\n",
    "from src.utils import init_connection"
   ]
  },
  {
   "cell_type": "code",
   "execution_count": 7,
   "metadata": {},
   "outputs": [],
   "source": [
    "init_connection()"
   ]
  },
  {
   "cell_type": "markdown",
   "metadata": {},
   "source": [
    "### JumpBall"
   ]
  },
  {
   "cell_type": "code",
   "execution_count": null,
   "metadata": {},
   "outputs": [],
   "source": [
    "df = pd.read_csv(\"./data/play_by_play_files/play_by_play_jumpball.csv\")"
   ]
  },
  {
   "cell_type": "code",
   "execution_count": null,
   "metadata": {},
   "outputs": [],
   "source": [
    "for _, row in tqdm(df.iterrows(), total=df.shape[0]):\n",
    "    jb = JumpBall()\n",
    "    jb.name = row[\"name\"]\n",
    "    jb.won_by = row[\"wonBy\"]\n",
    "    jb.elapsed_seconds = row[\"secondsElapsed\"]\n",
    "    jb.quarter = row[\"quarter\"]\n",
    "    jb.save()\n",
    "    \n",
    "    jb.away_player.connect(Player.nodes.get(msfID=row[\"awayPlayerID\"]))\n",
    "    jb.home_player.connect(Player.nodes.get(msfID=row[\"homePlayerID\"]))\n",
    "    jb.game.connect(Game.nodes.get(game_id=row[\"gameID\"]))"
   ]
  },
  {
   "cell_type": "markdown",
   "metadata": {},
   "source": [
    "### Violation"
   ]
  },
  {
   "cell_type": "code",
   "execution_count": null,
   "metadata": {},
   "outputs": [],
   "source": [
    "df = pd.read_csv(\"./data/play_by_play_files/play_by_play_violation.csv\")"
   ]
  },
  {
   "cell_type": "code",
   "execution_count": null,
   "metadata": {},
   "outputs": [],
   "source": [
    "for _, row in tqdm(df.iterrows(), df.shape[0]):\n",
    "    v = Violation()\n",
    "    v.name = row[\"name\"]\n",
    "    v.team_abbreviation = row[\"teamAbbreviation\"]\n",
    "    v.vioalation_type = row[\"teamOrPersonal\"]\n",
    "    v.elapsed_seconds = row[\"secondsElapsed\"]\n",
    "    v.quarter = row[\"quarter\"]\n",
    "    v.save()\n",
    "    \n",
    "    v.game.connect(Game.nodes.get(game_id=row[\"gameID\"]))\n",
    "    if v.vioalation_type == \"PERSONAL\":\n",
    "        v.player.connect(Player.nodes.get(msfID=row[\"playerID\"]))"
   ]
  },
  {
   "cell_type": "markdown",
   "metadata": {},
   "source": [
    "### Turnover"
   ]
  },
  {
   "cell_type": "code",
   "execution_count": null,
   "metadata": {},
   "outputs": [],
   "source": [
    "df = pd.read_csv(\"./data/play_by_play_files/play_by_play_turnover.csv\")"
   ]
  },
  {
   "cell_type": "code",
   "execution_count": null,
   "metadata": {},
   "outputs": [],
   "source": [
    "for _, row in tqdm(df.iterrows(), total=df.shape[0]):\n",
    "    t = Turnover()\n",
    "    t.name = row[\"name\"]\n",
    "    t.is_stolen = row[\"isStolen\"]\n",
    "    t.turnover_type = row[\"type\"]\n",
    "    t.elapsed_seconds = row[\"secondsElapsed\"]\n",
    "    t.quarter = row[\"quarter\"]\n",
    "    t.save()\n",
    "    \n",
    "    t.lost_by_player.connect(Player.nodes.get(msfID=row[\"lostByPlayerID\"]))\n",
    "    t.game.connect(Game.nodes.get(game_id=row[\"gameID\"]))\n",
    "    if t.is_stolen:\n",
    "        t.stolen_by_player.connect(Player.nodes.get(msfID=row[\"stolenByPlayerID\"]))"
   ]
  },
  {
   "cell_type": "markdown",
   "metadata": {},
   "source": [
    "### Fouls"
   ]
  },
  {
   "cell_type": "code",
   "execution_count": null,
   "metadata": {},
   "outputs": [],
   "source": [
    "df = pd.read_csv(\"./data/play_by_play_files/play_by_play_foul.csv\")"
   ]
  },
  {
   "cell_type": "code",
   "execution_count": null,
   "metadata": {},
   "outputs": [],
   "source": [
    "for _, row in tqdm(df.head(6000).iterrows(), total=df.shape[0]):\n",
    "    f = Foul()\n",
    "    f.name = row[\"name\"]\n",
    "    f.team_abbreviation = row[\"teamAbbreviation\"]\n",
    "    f.foul_type = row[\"type\"]\n",
    "    f.elapsed_seconds = row[\"secondsElapsed\"]\n",
    "    f.quarter = row[\"quarter\"]\n",
    "    f.save()\n",
    "    \n",
    "    if row[\"penalizedPlayerID\"] != -1:\n",
    "        f.penalized_player.connect(Player.nodes.get(msfID=row[\"penalizedPlayerID\"]))\n",
    "    if row[\"drawnByPlayerID\"] != -1:\n",
    "        f.drawn_by_player.connect(Player.nodes.get(msfID=row[\"drawnByPlayerID\"]))\n",
    "    f.game.connect(Game.nodes.get(game_id=row[\"gameID\"]))"
   ]
  },
  {
   "cell_type": "markdown",
   "metadata": {},
   "source": [
    "### FieldGoalAttempt"
   ]
  },
  {
   "cell_type": "code",
   "execution_count": null,
   "metadata": {},
   "outputs": [],
   "source": [
    "df = pd.read_csv(\"./data/play_by_play_files/play_by_play_fieldGoalAttempt.csv\")"
   ]
  },
  {
   "cell_type": "code",
   "execution_count": null,
   "metadata": {},
   "outputs": [],
   "source": [
    "for _, row in tqdm(df.iterrows(), total=df.shape[0]):\n",
    "    fga = FieldGoalAttempt()\n",
    "    fga.name = row[\"name\"]\n",
    "    fga.points = row[\"points\"]\n",
    "    fga.result = row[\"result\"]\n",
    "    fga.shot_type = row[\"shotType\"]\n",
    "    fga.elapsed_seconds = row[\"secondsElapsed\"]\n",
    "    fga.quarter = row[\"quarter\"]\n",
    "    fga.save()\n",
    "    \n",
    "    fga.shooting_player.connect(Player.nodes.get(msfID=row[\"shootingPlayerID\"]))\n",
    "    if row[\"assistingPlayerID\"] != -1:\n",
    "        fga.assisting_player.connect(Player.nodes.get(msfID=row[\"assistingPlayerID\"]))\n",
    "    if row[\"blockingPlayerID\"] != -1:\n",
    "        fga.blocking_player.connect(Player.nodes.get(msfID=row[\"blockingPlayerID\"]))"
   ]
  },
  {
   "cell_type": "markdown",
   "metadata": {},
   "source": [
    "### Rebounds"
   ]
  },
  {
   "cell_type": "code",
   "execution_count": null,
   "metadata": {},
   "outputs": [],
   "source": [
    "df = pd.read_csv(\"./data/play_by_play_files/play_by_play_rebound.csv\")"
   ]
  },
  {
   "cell_type": "code",
   "execution_count": null,
   "metadata": {},
   "outputs": [],
   "source": [
    "for _, row in tqdm(df.iterrows(), total=df.shape[0]):\n",
    "    r = Rebound()\n",
    "    r.name = row[\"name\"]\n",
    "    r.rebound_type = row[\"type\"]\n",
    "    r.elapsed_seconds = row[\"secondsElapsed\"]\n",
    "    r.quarter = row[\"quarter\"]\n",
    "    r.save()\n",
    "    if row[\"retrievingPlayerID\"] != -1:\n",
    "        r.retrieving_player.connect(Player.nodes.get(msfID=row[\"retrievingPlayerID\"]))\n",
    "    r.game.connect(Game.nodes.get(game_id=row[\"gameID\"]))"
   ]
  },
  {
   "cell_type": "markdown",
   "metadata": {},
   "source": [
    "### Substitution"
   ]
  },
  {
   "cell_type": "code",
   "execution_count": null,
   "metadata": {},
   "outputs": [],
   "source": [
    "df = pd.read_csv(\"./data/play_by_play_files/play_by_play_substitution.csv\")\n",
    "\n",
    "# little prep\n",
    "df.fillna(-1, inplace=True)\n",
    "df.drop(\"outgoingPlayerID\", axis=1, inplace=True)\n",
    "df[\"outgoingPlayer\"] = df[\"outgoingPlayer\"].astype(int)\n",
    "df.columns = ['gameID', 'incomingPlayerID', 'name', 'outgoingPlayerID', 'quarter', 'secondsElapsed']"
   ]
  },
  {
   "cell_type": "code",
   "execution_count": null,
   "metadata": {},
   "outputs": [],
   "source": [
    "for _, row in tqdm(df.iterrows(), total=df.shape[0]):\n",
    "    s = Substitution()\n",
    "    s.name =  row[\"name\"]\n",
    "    s.elapsed_seconds = row[\"secondsElapsed\"]\n",
    "    s.quarter = row[\"quarter\"]\n",
    "    s.save()\n",
    "    \n",
    "    if row[\"incomingPlayerID\"] != -1:\n",
    "        s.incoming_player.connect(Player.nodes.get(msfID=row[\"incomingPlayerID\"]))\n",
    "    if row[\"outgoingPlayerID\"] != -1:\n",
    "        s.outgoing_player.connect(Player.nodes.get(msfID=row[\"outgoingPlayerID\"]))\n"
   ]
  },
  {
   "cell_type": "markdown",
   "metadata": {},
   "source": [
    "### FreeThrowAttempt"
   ]
  },
  {
   "cell_type": "code",
   "execution_count": 3,
   "metadata": {},
   "outputs": [],
   "source": [
    "df = pd.read_csv(\"./data/play_by_play_files/play_by_play_freeThrowAttempt.csv\")"
   ]
  },
  {
   "cell_type": "code",
   "execution_count": 9,
   "metadata": {},
   "outputs": [
    {
     "name": "stderr",
     "output_type": "stream",
     "text": [
      "5it [00:00, 51.96it/s]\n"
     ]
    }
   ],
   "source": [
    "for _, row in tqdm(df.head().iterrows()):\n",
    "    fta = FreeThrowAttempt()\n",
    "    fta.name = row[\"name\"]\n",
    "    fta.number = row[\"attemptNum\"]\n",
    "    fta.total_attempts = row[\"totalAttempts\"]\n",
    "    fta.result = row[\"result\"]\n",
    "    fta.elapsed_seconds = row[\"secondsElapsed\"]\n",
    "    fta.quarter = row[\"quarter\"]\n",
    "    fta.save()\n",
    "    \n",
    "    if row[\"shootingPlayerID\"] != -1:\n",
    "        fta.shooting_player.connect(Player.nodes.get(msfID=row[\"shootingPlayerID\"]))\n",
    "    fta.game.connect(Game.nodes.get(game_id=row[\"gameID\"]))"
   ]
  }
 ],
 "metadata": {
  "kernelspec": {
   "display_name": "Python 3",
   "language": "python",
   "name": "python3"
  },
  "language_info": {
   "codemirror_mode": {
    "name": "ipython",
    "version": 3
   },
   "file_extension": ".py",
   "mimetype": "text/x-python",
   "name": "python",
   "nbconvert_exporter": "python",
   "pygments_lexer": "ipython3",
   "version": "3.6.2"
  }
 },
 "nbformat": 4,
 "nbformat_minor": 2
}
