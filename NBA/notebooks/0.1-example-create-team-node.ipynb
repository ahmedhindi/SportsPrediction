{
 "cells": [
  {
   "cell_type": "markdown",
   "metadata": {},
   "source": [
    "# Example: Create team node\n",
    "---\n",
    "This notebooks shows how to create a Neo4J triple from Jupyter"
   ]
  },
  {
   "cell_type": "markdown",
   "metadata": {},
   "source": [
    "### Imports"
   ]
  },
  {
   "cell_type": "code",
   "execution_count": 1,
   "metadata": {},
   "outputs": [],
   "source": [
    "# Necessary to import custom modules\n",
    "import os\n",
    "os.chdir(\"/home/jovyan/work\")\n",
    "\n",
    "from src.utils import init_connection\n",
    "from src.models import Team"
   ]
  },
  {
   "cell_type": "markdown",
   "metadata": {},
   "source": [
    "### Configuration"
   ]
  },
  {
   "cell_type": "code",
   "execution_count": 2,
   "metadata": {},
   "outputs": [],
   "source": [
    "init_connection()"
   ]
  },
  {
   "cell_type": "markdown",
   "metadata": {},
   "source": [
    "### Node creation"
   ]
  },
  {
   "cell_type": "code",
   "execution_count": 3,
   "metadata": {},
   "outputs": [],
   "source": [
    "# assuming that teams are fetched\n",
    "# and imported as a list of dicts\n",
    "teams = [\n",
    "    {\"name\": \"Los Angeles Lakers\", \"acr\":\"LAL\"},\n",
    "    {\"name\": \"Chicago Bulls\", \"acr\":\"CHI\"},\n",
    "    {\"name\": \"Golde State Warriors\", \"acr\":\"GSW\"},\n",
    "]\n",
    "\n",
    "# save items to neo4j\n",
    "for t in teams:\n",
    "    Team(**t).save()"
   ]
  }
 ],
 "metadata": {
  "kernelspec": {
   "display_name": "Python 3",
   "language": "python",
   "name": "python3"
  },
  "language_info": {
   "codemirror_mode": {
    "name": "ipython",
    "version": 3
   },
   "file_extension": ".py",
   "mimetype": "text/x-python",
   "name": "python",
   "nbconvert_exporter": "python",
   "pygments_lexer": "ipython3",
   "version": "3.6.2"
  }
 },
 "nbformat": 4,
 "nbformat_minor": 2
}
