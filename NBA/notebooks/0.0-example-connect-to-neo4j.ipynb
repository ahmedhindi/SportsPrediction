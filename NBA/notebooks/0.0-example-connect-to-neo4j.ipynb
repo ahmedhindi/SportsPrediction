{
 "cells": [
  {
   "cell_type": "markdown",
   "metadata": {},
   "source": [
    "# About\n",
    "***\n",
    "This notebook serves as a guide to access the Neo4j container"
   ]
  },
  {
   "cell_type": "code",
   "execution_count": 17,
   "metadata": {},
   "outputs": [
    {
     "data": {
      "text/plain": [
       "[{'tomHanksMovies.title': \"Charlie Wilson's War\"},\n",
       " {'tomHanksMovies.title': 'The Polar Express'},\n",
       " {'tomHanksMovies.title': 'A League of Their Own'},\n",
       " {'tomHanksMovies.title': 'Cast Away'},\n",
       " {'tomHanksMovies.title': 'Apollo 13'},\n",
       " {'tomHanksMovies.title': 'The Green Mile'},\n",
       " {'tomHanksMovies.title': 'The Da Vinci Code'},\n",
       " {'tomHanksMovies.title': 'Cloud Atlas'},\n",
       " {'tomHanksMovies.title': 'That Thing You Do'},\n",
       " {'tomHanksMovies.title': 'Joe Versus the Volcano'},\n",
       " {'tomHanksMovies.title': 'Sleepless in Seattle'},\n",
       " {'tomHanksMovies.title': \"You've Got Mail\"}]"
      ]
     },
     "execution_count": 17,
     "metadata": {},
     "output_type": "execute_result"
    }
   ],
   "source": [
    "from py2neo import Graph\n",
    "\n",
    "# set user credentials\n",
    "user = \"neo4j\"\n",
    "pw = \"1234\"\n",
    "\n",
    "# connect to graph\n",
    "graph = Graph(\"bolt://\" + user + \":\" + pw + \"@neo4j_container\")\n",
    "\n",
    "# run cypher queries\n",
    "graph.data('MATCH (tom:Person {name: \"Tom Hanks\"})-[:ACTED_IN]->(tomHanksMovies) RETURN tomHanksMovies.title')"
   ]
  }
 ],
 "metadata": {
  "kernelspec": {
   "display_name": "Python 3",
   "language": "python",
   "name": "python3"
  },
  "language_info": {
   "codemirror_mode": {
    "name": "ipython",
    "version": 3
   },
   "file_extension": ".py",
   "mimetype": "text/x-python",
   "name": "python",
   "nbconvert_exporter": "python",
   "pygments_lexer": "ipython3",
   "version": "3.6.3"
  }
 },
 "nbformat": 4,
 "nbformat_minor": 2
}
