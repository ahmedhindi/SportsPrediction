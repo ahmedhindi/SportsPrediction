{
 "cells": [
  {
   "cell_type": "code",
   "execution_count": 1,
   "metadata": {},
   "outputs": [],
   "source": [
    "import pandas as pd\n",
    "import glob, os  \n",
    "import dateparser\n",
    "import numpy as np"
   ]
  },
  {
   "cell_type": "code",
   "execution_count": 3,
   "metadata": {},
   "outputs": [
    {
     "name": "stdout",
     "output_type": "stream",
     "text": [
      "Collecting dateparser\n",
      "  Downloading https://files.pythonhosted.org/packages/ac/9e/1aa87c0c59f9731820bfd20a8b148d97b315530c2c92d1fb300328c8c42f/dateparser-0.7.0-py2.py3-none-any.whl (357kB)\n",
      "\u001b[K    100% |████████████████████████████████| 358kB 302kB/s ta 0:00:01\n",
      "\u001b[?25hRequirement already satisfied: python-dateutil in /opt/conda/lib/python3.6/site-packages (from dateparser)\n",
      "Requirement already satisfied: pytz in /opt/conda/lib/python3.6/site-packages (from dateparser)\n",
      "Collecting tzlocal (from dateparser)\n",
      "  Downloading https://files.pythonhosted.org/packages/cb/89/e3687d3ed99bc882793f82634e9824e62499fdfdc4b1ae39e211c5b05017/tzlocal-1.5.1.tar.gz\n",
      "Collecting regex (from dateparser)\n",
      "  Downloading https://files.pythonhosted.org/packages/9f/79/adbe79373ec3c56ae61670bbed30609fe4a9b6af835478fa12bf8795cdec/regex-2018.07.11.tar.gz (628kB)\n",
      "\u001b[K    100% |████████████████████████████████| 634kB 294kB/s ta 0:00:01\n",
      "\u001b[?25hRequirement already satisfied: six>=1.5 in /opt/conda/lib/python3.6/site-packages (from python-dateutil->dateparser)\n",
      "Building wheels for collected packages: tzlocal, regex\n",
      "  Running setup.py bdist_wheel for tzlocal ... \u001b[?25ldone\n",
      "\u001b[?25h  Stored in directory: /home/jovyan/.cache/pip/wheels/15/ae/df/a67bf1ed84e9bf230187d36d8dcfd30072bea0236cb059ed91\n",
      "  Running setup.py bdist_wheel for regex ... \u001b[?25ldone\n",
      "\u001b[?25h  Stored in directory: /home/jovyan/.cache/pip/wheels/cc/bf/b9/a2c431d3b6285626a4938ee6dbd287b961e5142c5ab80b8e8b\n",
      "Successfully built tzlocal regex\n",
      "Installing collected packages: tzlocal, regex, dateparser\n",
      "Successfully installed dateparser-0.7.0 regex-2018.7.11 tzlocal-1.5.1\n",
      "\u001b[33mYou are using pip version 9.0.1, however version 18.0 is available.\n",
      "You should consider upgrading via the 'pip install --upgrade pip' command.\u001b[0m\n"
     ]
    }
   ],
   "source": [
    "!pip install dateparser"
   ]
  },
  {
   "cell_type": "markdown",
   "metadata": {},
   "source": [
    "# Season 1718 "
   ]
  },
  {
   "cell_type": "code",
   "execution_count": 5,
   "metadata": {},
   "outputs": [],
   "source": [
    "#always delete the season file in the folder before executing\n",
    "df1718 = pd.concat([pd.read_csv(f) for f in glob.glob('../data/1718/*1718.csv')], ignore_index = True)"
   ]
  },
  {
   "cell_type": "code",
   "execution_count": 6,
   "metadata": {},
   "outputs": [
    {
     "data": {
      "text/html": [
       "<div>\n",
       "<table border=\"1\" class=\"dataframe\">\n",
       "  <thead>\n",
       "    <tr style=\"text-align: right;\">\n",
       "      <th></th>\n",
       "      <th>Date</th>\n",
       "      <th>Start (ET)</th>\n",
       "      <th>Visitor/Neutral</th>\n",
       "      <th>PTS</th>\n",
       "      <th>Home/Neutral</th>\n",
       "      <th>PTS.1</th>\n",
       "      <th>Unnamed: 6</th>\n",
       "      <th>Unnamed: 7</th>\n",
       "      <th>Attend.</th>\n",
       "      <th>Notes</th>\n",
       "    </tr>\n",
       "  </thead>\n",
       "  <tbody>\n",
       "    <tr>\n",
       "      <th>0</th>\n",
       "      <td>Wed Nov 1 2017</td>\n",
       "      <td>7:30 pm</td>\n",
       "      <td>Sacramento Kings</td>\n",
       "      <td>86</td>\n",
       "      <td>Boston Celtics</td>\n",
       "      <td>113</td>\n",
       "      <td>Box Score</td>\n",
       "      <td>NaN</td>\n",
       "      <td>18624</td>\n",
       "      <td>NaN</td>\n",
       "    </tr>\n",
       "    <tr>\n",
       "      <th>1</th>\n",
       "      <td>Wed Nov 1 2017</td>\n",
       "      <td>7:00 pm</td>\n",
       "      <td>Milwaukee Bucks</td>\n",
       "      <td>121</td>\n",
       "      <td>Charlotte Hornets</td>\n",
       "      <td>126</td>\n",
       "      <td>Box Score</td>\n",
       "      <td>NaN</td>\n",
       "      <td>15655</td>\n",
       "      <td>NaN</td>\n",
       "    </tr>\n",
       "    <tr>\n",
       "      <th>2</th>\n",
       "      <td>Wed Nov 1 2017</td>\n",
       "      <td>7:00 pm</td>\n",
       "      <td>Indiana Pacers</td>\n",
       "      <td>124</td>\n",
       "      <td>Cleveland Cavaliers</td>\n",
       "      <td>107</td>\n",
       "      <td>Box Score</td>\n",
       "      <td>NaN</td>\n",
       "      <td>20562</td>\n",
       "      <td>NaN</td>\n",
       "    </tr>\n",
       "    <tr>\n",
       "      <th>3</th>\n",
       "      <td>Wed Nov 1 2017</td>\n",
       "      <td>9:00 pm</td>\n",
       "      <td>Toronto Raptors</td>\n",
       "      <td>111</td>\n",
       "      <td>Denver Nuggets</td>\n",
       "      <td>129</td>\n",
       "      <td>Box Score</td>\n",
       "      <td>NaN</td>\n",
       "      <td>14072</td>\n",
       "      <td>NaN</td>\n",
       "    </tr>\n",
       "    <tr>\n",
       "      <th>4</th>\n",
       "      <td>Wed Nov 1 2017</td>\n",
       "      <td>10:30 pm</td>\n",
       "      <td>Dallas Mavericks</td>\n",
       "      <td>98</td>\n",
       "      <td>Los Angeles Clippers</td>\n",
       "      <td>119</td>\n",
       "      <td>Box Score</td>\n",
       "      <td>NaN</td>\n",
       "      <td>13487</td>\n",
       "      <td>NaN</td>\n",
       "    </tr>\n",
       "  </tbody>\n",
       "</table>\n",
       "</div>"
      ],
      "text/plain": [
       "             Date Start (ET)   Visitor/Neutral  PTS          Home/Neutral  \\\n",
       "0  Wed Nov 1 2017    7:30 pm  Sacramento Kings   86        Boston Celtics   \n",
       "1  Wed Nov 1 2017    7:00 pm   Milwaukee Bucks  121     Charlotte Hornets   \n",
       "2  Wed Nov 1 2017    7:00 pm    Indiana Pacers  124   Cleveland Cavaliers   \n",
       "3  Wed Nov 1 2017    9:00 pm   Toronto Raptors  111        Denver Nuggets   \n",
       "4  Wed Nov 1 2017   10:30 pm  Dallas Mavericks   98  Los Angeles Clippers   \n",
       "\n",
       "   PTS.1 Unnamed: 6 Unnamed: 7  Attend. Notes  \n",
       "0    113  Box Score        NaN    18624   NaN  \n",
       "1    126  Box Score        NaN    15655   NaN  \n",
       "2    107  Box Score        NaN    20562   NaN  \n",
       "3    129  Box Score        NaN    14072   NaN  \n",
       "4    119  Box Score        NaN    13487   NaN  "
      ]
     },
     "execution_count": 6,
     "metadata": {},
     "output_type": "execute_result"
    }
   ],
   "source": [
    "df1718.head()"
   ]
  },
  {
   "cell_type": "code",
   "execution_count": 7,
   "metadata": {},
   "outputs": [],
   "source": [
    "#drop unused columns\n",
    "df1718 = df1718.drop(df1718.columns[[6, 9]], axis=1)"
   ]
  },
  {
   "cell_type": "code",
   "execution_count": 8,
   "metadata": {},
   "outputs": [],
   "source": [
    "#parse date so its format yyyy-mm-dd\n",
    "df1718[\"Date\"] = [dateparser.parse(x) for x in df1718['Date'] ]"
   ]
  },
  {
   "cell_type": "code",
   "execution_count": 9,
   "metadata": {},
   "outputs": [],
   "source": [
    "#sorting by date\n",
    "df1718 = df1718.sort_values(by=\"Date\", axis=0)"
   ]
  },
  {
   "cell_type": "code",
   "execution_count": 10,
   "metadata": {},
   "outputs": [],
   "source": [
    "#rename OT column\n",
    "df1718 = df1718.rename(columns={\"Unnamed: 7\": \"OT\"})"
   ]
  },
  {
   "cell_type": "code",
   "execution_count": 11,
   "metadata": {},
   "outputs": [],
   "source": [
    "#parse OT column to get either 0s or 1s\n",
    "df1718.ix[df1718[\"OT\"] == \"OT\", \"OT\"] = 1\n",
    "df1718.ix[df1718[\"OT\"] != 1, \"OT\"] = 0"
   ]
  },
  {
   "cell_type": "code",
   "execution_count": 12,
   "metadata": {},
   "outputs": [],
   "source": [
    "# looked up the end of the regular season and created the game type column from date values \n",
    "df1718[\"game_type\"] = \"\"\n",
    "df1718.ix[df1718[\"Date\"] > \"2018-04-12\", \"game_type\"] = \"playoff\"\n",
    "df1718.ix[df1718[\"Date\"] <= \"2018-04-11\", \"game_type\"] = \"regular_season\""
   ]
  },
  {
   "cell_type": "code",
   "execution_count": null,
   "metadata": {},
   "outputs": [],
   "source": [
    "df1718.loc[df1718[\"game_type\"] == \"playoff\"]"
   ]
  },
  {
   "cell_type": "code",
   "execution_count": 14,
   "metadata": {},
   "outputs": [],
   "source": [
    "df1718.ix[df1718[\"Date\"] > \"2017-04-12\", \"game_name\"] = df1718[\"Visitor/Neutral\"] + \" vs. \" + df1718[\"Home/Neutral\"]\n"
   ]
  },
  {
   "cell_type": "code",
   "execution_count": 15,
   "metadata": {},
   "outputs": [
    {
     "data": {
      "text/html": [
       "<div>\n",
       "<table border=\"1\" class=\"dataframe\">\n",
       "  <thead>\n",
       "    <tr style=\"text-align: right;\">\n",
       "      <th></th>\n",
       "      <th>Date</th>\n",
       "      <th>Start (ET)</th>\n",
       "      <th>Visitor/Neutral</th>\n",
       "      <th>PTS</th>\n",
       "      <th>Home/Neutral</th>\n",
       "      <th>PTS.1</th>\n",
       "      <th>OT</th>\n",
       "      <th>Attend.</th>\n",
       "      <th>game_type</th>\n",
       "      <th>game_name</th>\n",
       "    </tr>\n",
       "  </thead>\n",
       "  <tbody>\n",
       "    <tr>\n",
       "      <th>213</th>\n",
       "      <td>2017-10-17</td>\n",
       "      <td>8:01 pm</td>\n",
       "      <td>Boston Celtics</td>\n",
       "      <td>99</td>\n",
       "      <td>Cleveland Cavaliers</td>\n",
       "      <td>102</td>\n",
       "      <td>0</td>\n",
       "      <td>20562</td>\n",
       "      <td>regular_season</td>\n",
       "      <td>Boston Celtics vs. Cleveland Cavaliers</td>\n",
       "    </tr>\n",
       "    <tr>\n",
       "      <th>214</th>\n",
       "      <td>2017-10-17</td>\n",
       "      <td>10:30 pm</td>\n",
       "      <td>Houston Rockets</td>\n",
       "      <td>122</td>\n",
       "      <td>Golden State Warriors</td>\n",
       "      <td>121</td>\n",
       "      <td>0</td>\n",
       "      <td>19596</td>\n",
       "      <td>regular_season</td>\n",
       "      <td>Houston Rockets vs. Golden State Warriors</td>\n",
       "    </tr>\n",
       "    <tr>\n",
       "      <th>216</th>\n",
       "      <td>2017-10-18</td>\n",
       "      <td>8:30 pm</td>\n",
       "      <td>Atlanta Hawks</td>\n",
       "      <td>117</td>\n",
       "      <td>Dallas Mavericks</td>\n",
       "      <td>111</td>\n",
       "      <td>0</td>\n",
       "      <td>19709</td>\n",
       "      <td>regular_season</td>\n",
       "      <td>Atlanta Hawks vs. Dallas Mavericks</td>\n",
       "    </tr>\n",
       "    <tr>\n",
       "      <th>215</th>\n",
       "      <td>2017-10-18</td>\n",
       "      <td>7:30 pm</td>\n",
       "      <td>Milwaukee Bucks</td>\n",
       "      <td>108</td>\n",
       "      <td>Boston Celtics</td>\n",
       "      <td>100</td>\n",
       "      <td>0</td>\n",
       "      <td>18624</td>\n",
       "      <td>regular_season</td>\n",
       "      <td>Milwaukee Bucks vs. Boston Celtics</td>\n",
       "    </tr>\n",
       "    <tr>\n",
       "      <th>225</th>\n",
       "      <td>2017-10-18</td>\n",
       "      <td>7:00 pm</td>\n",
       "      <td>Philadelphia 76ers</td>\n",
       "      <td>115</td>\n",
       "      <td>Washington Wizards</td>\n",
       "      <td>120</td>\n",
       "      <td>0</td>\n",
       "      <td>20356</td>\n",
       "      <td>regular_season</td>\n",
       "      <td>Philadelphia 76ers vs. Washington Wizards</td>\n",
       "    </tr>\n",
       "  </tbody>\n",
       "</table>\n",
       "</div>"
      ],
      "text/plain": [
       "          Date Start (ET)     Visitor/Neutral  PTS           Home/Neutral  \\\n",
       "213 2017-10-17    8:01 pm      Boston Celtics   99    Cleveland Cavaliers   \n",
       "214 2017-10-17   10:30 pm     Houston Rockets  122  Golden State Warriors   \n",
       "216 2017-10-18    8:30 pm       Atlanta Hawks  117       Dallas Mavericks   \n",
       "215 2017-10-18    7:30 pm     Milwaukee Bucks  108         Boston Celtics   \n",
       "225 2017-10-18    7:00 pm  Philadelphia 76ers  115     Washington Wizards   \n",
       "\n",
       "     PTS.1 OT  Attend.       game_type  \\\n",
       "213    102  0    20562  regular_season   \n",
       "214    121  0    19596  regular_season   \n",
       "216    111  0    19709  regular_season   \n",
       "215    100  0    18624  regular_season   \n",
       "225    120  0    20356  regular_season   \n",
       "\n",
       "                                     game_name  \n",
       "213     Boston Celtics vs. Cleveland Cavaliers  \n",
       "214  Houston Rockets vs. Golden State Warriors  \n",
       "216         Atlanta Hawks vs. Dallas Mavericks  \n",
       "215         Milwaukee Bucks vs. Boston Celtics  \n",
       "225  Philadelphia 76ers vs. Washington Wizards  "
      ]
     },
     "execution_count": 15,
     "metadata": {},
     "output_type": "execute_result"
    }
   ],
   "source": [
    "df1718.head()"
   ]
  },
  {
   "cell_type": "code",
   "execution_count": 16,
   "metadata": {},
   "outputs": [],
   "source": [
    "df1718.to_csv(\"../data/1718/season1718.csv\", sep=',', encoding='utf-8')"
   ]
  },
  {
   "cell_type": "markdown",
   "metadata": {},
   "source": [
    "# Season 1617"
   ]
  },
  {
   "cell_type": "code",
   "execution_count": 4,
   "metadata": {},
   "outputs": [],
   "source": [
    "#always delete the season file in the folder before executing\n",
    "df1617 = pd.concat([pd.read_csv(f) for f in glob.glob('../data/1617/*1617.csv')], ignore_index = True)"
   ]
  },
  {
   "cell_type": "code",
   "execution_count": 5,
   "metadata": {},
   "outputs": [
    {
     "data": {
      "text/html": [
       "<div>\n",
       "<table border=\"1\" class=\"dataframe\">\n",
       "  <thead>\n",
       "    <tr style=\"text-align: right;\">\n",
       "      <th></th>\n",
       "      <th>Date</th>\n",
       "      <th>Start (ET)</th>\n",
       "      <th>Visitor/Neutral</th>\n",
       "      <th>PTS</th>\n",
       "      <th>Home/Neutral</th>\n",
       "      <th>PTS.1</th>\n",
       "      <th>Unnamed: 6</th>\n",
       "      <th>Unnamed: 7</th>\n",
       "      <th>Attend.</th>\n",
       "      <th>Notes</th>\n",
       "    </tr>\n",
       "  </thead>\n",
       "  <tbody>\n",
       "    <tr>\n",
       "      <th>0</th>\n",
       "      <td>Sun Jan 1 2017</td>\n",
       "      <td>6:00 pm</td>\n",
       "      <td>San Antonio Spurs</td>\n",
       "      <td>112</td>\n",
       "      <td>Atlanta Hawks</td>\n",
       "      <td>114</td>\n",
       "      <td>Box Score</td>\n",
       "      <td>OT</td>\n",
       "      <td>18088</td>\n",
       "      <td>NaN</td>\n",
       "    </tr>\n",
       "    <tr>\n",
       "      <th>1</th>\n",
       "      <td>Sun Jan 1 2017</td>\n",
       "      <td>6:00 pm</td>\n",
       "      <td>Orlando Magic</td>\n",
       "      <td>104</td>\n",
       "      <td>Indiana Pacers</td>\n",
       "      <td>117</td>\n",
       "      <td>Box Score</td>\n",
       "      <td>NaN</td>\n",
       "      <td>17530</td>\n",
       "      <td>NaN</td>\n",
       "    </tr>\n",
       "    <tr>\n",
       "      <th>2</th>\n",
       "      <td>Sun Jan 1 2017</td>\n",
       "      <td>9:30 pm</td>\n",
       "      <td>Toronto Raptors</td>\n",
       "      <td>123</td>\n",
       "      <td>Los Angeles Lakers</td>\n",
       "      <td>114</td>\n",
       "      <td>Box Score</td>\n",
       "      <td>NaN</td>\n",
       "      <td>18997</td>\n",
       "      <td>NaN</td>\n",
       "    </tr>\n",
       "    <tr>\n",
       "      <th>3</th>\n",
       "      <td>Sun Jan 1 2017</td>\n",
       "      <td>6:00 pm</td>\n",
       "      <td>Detroit Pistons</td>\n",
       "      <td>107</td>\n",
       "      <td>Miami Heat</td>\n",
       "      <td>98</td>\n",
       "      <td>Box Score</td>\n",
       "      <td>NaN</td>\n",
       "      <td>19844</td>\n",
       "      <td>NaN</td>\n",
       "    </tr>\n",
       "    <tr>\n",
       "      <th>4</th>\n",
       "      <td>Sun Jan 1 2017</td>\n",
       "      <td>7:00 pm</td>\n",
       "      <td>Portland Trail Blazers</td>\n",
       "      <td>95</td>\n",
       "      <td>Minnesota Timberwolves</td>\n",
       "      <td>89</td>\n",
       "      <td>Box Score</td>\n",
       "      <td>NaN</td>\n",
       "      <td>15804</td>\n",
       "      <td>NaN</td>\n",
       "    </tr>\n",
       "  </tbody>\n",
       "</table>\n",
       "</div>"
      ],
      "text/plain": [
       "             Date Start (ET)         Visitor/Neutral  PTS  \\\n",
       "0  Sun Jan 1 2017    6:00 pm       San Antonio Spurs  112   \n",
       "1  Sun Jan 1 2017    6:00 pm           Orlando Magic  104   \n",
       "2  Sun Jan 1 2017    9:30 pm         Toronto Raptors  123   \n",
       "3  Sun Jan 1 2017    6:00 pm         Detroit Pistons  107   \n",
       "4  Sun Jan 1 2017    7:00 pm  Portland Trail Blazers   95   \n",
       "\n",
       "             Home/Neutral  PTS.1 Unnamed: 6 Unnamed: 7  Attend. Notes  \n",
       "0           Atlanta Hawks    114  Box Score         OT    18088   NaN  \n",
       "1          Indiana Pacers    117  Box Score        NaN    17530   NaN  \n",
       "2      Los Angeles Lakers    114  Box Score        NaN    18997   NaN  \n",
       "3              Miami Heat     98  Box Score        NaN    19844   NaN  \n",
       "4  Minnesota Timberwolves     89  Box Score        NaN    15804   NaN  "
      ]
     },
     "execution_count": 5,
     "metadata": {},
     "output_type": "execute_result"
    }
   ],
   "source": [
    "df1617.head()"
   ]
  },
  {
   "cell_type": "code",
   "execution_count": 6,
   "metadata": {},
   "outputs": [],
   "source": [
    "#drop unused columns\n",
    "df1617 = df1617.drop(df1617.columns[[6, 9]], axis=1)"
   ]
  },
  {
   "cell_type": "code",
   "execution_count": 7,
   "metadata": {},
   "outputs": [],
   "source": [
    "#parse date so its format yyyy-mm-dd\n",
    "df1617[\"Date\"] = [dateparser.parse(x) for x in df1617['Date'] ]"
   ]
  },
  {
   "cell_type": "code",
   "execution_count": 8,
   "metadata": {},
   "outputs": [],
   "source": [
    "#sorting by date\n",
    "df1617 = df1617.sort_values(by=\"Date\", axis=0)"
   ]
  },
  {
   "cell_type": "code",
   "execution_count": 9,
   "metadata": {},
   "outputs": [],
   "source": [
    "#rename OT column\n",
    "df1617 = df1617.rename(columns={\"Unnamed: 7\": \"OT\"})"
   ]
  },
  {
   "cell_type": "code",
   "execution_count": 10,
   "metadata": {},
   "outputs": [],
   "source": [
    "#parse OT column to get either 0s or 1s\n",
    "df1617.ix[df1617[\"OT\"] == \"OT\", \"OT\"] = 1\n",
    "df1617.ix[df1617[\"OT\"] != 1, \"OT\"] = 0"
   ]
  },
  {
   "cell_type": "code",
   "execution_count": 15,
   "metadata": {},
   "outputs": [],
   "source": [
    "# looked up the end of the regular season and created the game type column from date values \n",
    "\n",
    "df1617.ix[df1617[\"Date\"] > \"2017-04-13\", \"game_type\"] = \"playoff\"\n",
    "df1617.ix[df1617[\"Date\"] <= \"2017-04-12\", \"game_type\"] = \"regular_season\""
   ]
  },
  {
   "cell_type": "code",
   "execution_count": null,
   "metadata": {},
   "outputs": [],
   "source": [
    "df1617.loc[df1617[\"game_type\"] == \"playoff\"]"
   ]
  },
  {
   "cell_type": "code",
   "execution_count": 19,
   "metadata": {},
   "outputs": [],
   "source": [
    "df1617.ix[df1617[\"Date\"] > \"2010-04-12\", \"game_name\"] = df1617[\"Visitor/Neutral\"] + \" at \" + df1617[\"Home/Neutral\"]"
   ]
  },
  {
   "cell_type": "code",
   "execution_count": 20,
   "metadata": {},
   "outputs": [
    {
     "data": {
      "text/html": [
       "<div>\n",
       "<table border=\"1\" class=\"dataframe\">\n",
       "  <thead>\n",
       "    <tr style=\"text-align: right;\">\n",
       "      <th></th>\n",
       "      <th>Date</th>\n",
       "      <th>Start (ET)</th>\n",
       "      <th>Visitor/Neutral</th>\n",
       "      <th>PTS</th>\n",
       "      <th>Home/Neutral</th>\n",
       "      <th>PTS.1</th>\n",
       "      <th>OT</th>\n",
       "      <th>Attend.</th>\n",
       "      <th>game_type</th>\n",
       "      <th>game_name</th>\n",
       "    </tr>\n",
       "  </thead>\n",
       "  <tbody>\n",
       "    <tr>\n",
       "      <th>1266</th>\n",
       "      <td>2016-10-25</td>\n",
       "      <td>10:00 pm</td>\n",
       "      <td>Utah Jazz</td>\n",
       "      <td>104</td>\n",
       "      <td>Portland Trail Blazers</td>\n",
       "      <td>113</td>\n",
       "      <td>0</td>\n",
       "      <td>19446</td>\n",
       "      <td>regular_season</td>\n",
       "      <td>Utah Jazz at Portland Trail Blazers</td>\n",
       "    </tr>\n",
       "    <tr>\n",
       "      <th>1264</th>\n",
       "      <td>2016-10-25</td>\n",
       "      <td>7:30 pm</td>\n",
       "      <td>New York Knicks</td>\n",
       "      <td>88</td>\n",
       "      <td>Cleveland Cavaliers</td>\n",
       "      <td>117</td>\n",
       "      <td>0</td>\n",
       "      <td>20562</td>\n",
       "      <td>regular_season</td>\n",
       "      <td>New York Knicks at Cleveland Cavaliers</td>\n",
       "    </tr>\n",
       "    <tr>\n",
       "      <th>1265</th>\n",
       "      <td>2016-10-25</td>\n",
       "      <td>10:30 pm</td>\n",
       "      <td>San Antonio Spurs</td>\n",
       "      <td>129</td>\n",
       "      <td>Golden State Warriors</td>\n",
       "      <td>100</td>\n",
       "      <td>0</td>\n",
       "      <td>19596</td>\n",
       "      <td>regular_season</td>\n",
       "      <td>San Antonio Spurs at Golden State Warriors</td>\n",
       "    </tr>\n",
       "    <tr>\n",
       "      <th>1276</th>\n",
       "      <td>2016-10-26</td>\n",
       "      <td>7:30 pm</td>\n",
       "      <td>Detroit Pistons</td>\n",
       "      <td>91</td>\n",
       "      <td>Toronto Raptors</td>\n",
       "      <td>109</td>\n",
       "      <td>0</td>\n",
       "      <td>19800</td>\n",
       "      <td>regular_season</td>\n",
       "      <td>Detroit Pistons at Toronto Raptors</td>\n",
       "    </tr>\n",
       "    <tr>\n",
       "      <th>1267</th>\n",
       "      <td>2016-10-26</td>\n",
       "      <td>7:30 pm</td>\n",
       "      <td>Brooklyn Nets</td>\n",
       "      <td>117</td>\n",
       "      <td>Boston Celtics</td>\n",
       "      <td>122</td>\n",
       "      <td>0</td>\n",
       "      <td>18624</td>\n",
       "      <td>regular_season</td>\n",
       "      <td>Brooklyn Nets at Boston Celtics</td>\n",
       "    </tr>\n",
       "  </tbody>\n",
       "</table>\n",
       "</div>"
      ],
      "text/plain": [
       "           Date Start (ET)    Visitor/Neutral  PTS            Home/Neutral  \\\n",
       "1266 2016-10-25   10:00 pm          Utah Jazz  104  Portland Trail Blazers   \n",
       "1264 2016-10-25    7:30 pm    New York Knicks   88     Cleveland Cavaliers   \n",
       "1265 2016-10-25   10:30 pm  San Antonio Spurs  129   Golden State Warriors   \n",
       "1276 2016-10-26    7:30 pm    Detroit Pistons   91         Toronto Raptors   \n",
       "1267 2016-10-26    7:30 pm      Brooklyn Nets  117          Boston Celtics   \n",
       "\n",
       "      PTS.1 OT  Attend.       game_type  \\\n",
       "1266    113  0    19446  regular_season   \n",
       "1264    117  0    20562  regular_season   \n",
       "1265    100  0    19596  regular_season   \n",
       "1276    109  0    19800  regular_season   \n",
       "1267    122  0    18624  regular_season   \n",
       "\n",
       "                                       game_name  \n",
       "1266         Utah Jazz at Portland Trail Blazers  \n",
       "1264      New York Knicks at Cleveland Cavaliers  \n",
       "1265  San Antonio Spurs at Golden State Warriors  \n",
       "1276          Detroit Pistons at Toronto Raptors  \n",
       "1267             Brooklyn Nets at Boston Celtics  "
      ]
     },
     "execution_count": 20,
     "metadata": {},
     "output_type": "execute_result"
    }
   ],
   "source": [
    "df1617.head()"
   ]
  },
  {
   "cell_type": "code",
   "execution_count": 23,
   "metadata": {},
   "outputs": [],
   "source": [
    "df1617.to_csv(\"../data/season_files/season1617.csv\", sep=',', encoding='utf-8')"
   ]
  },
  {
   "cell_type": "markdown",
   "metadata": {},
   "source": [
    "# Playground"
   ]
  },
  {
   "cell_type": "code",
   "execution_count": 94,
   "metadata": {},
   "outputs": [],
   "source": [
    "df1718[\"winner\"] = np.where(df1718['PTS']>df1718['PTS.1'], df1718[\"Visitor/Neutral\"], df1718[\"Home/Neutral\"])"
   ]
  },
  {
   "cell_type": "code",
   "execution_count": 95,
   "metadata": {},
   "outputs": [
    {
     "data": {
      "text/html": [
       "<div>\n",
       "<style scoped>\n",
       "    .dataframe tbody tr th:only-of-type {\n",
       "        vertical-align: middle;\n",
       "    }\n",
       "\n",
       "    .dataframe tbody tr th {\n",
       "        vertical-align: top;\n",
       "    }\n",
       "\n",
       "    .dataframe thead th {\n",
       "        text-align: right;\n",
       "    }\n",
       "</style>\n",
       "<table border=\"1\" class=\"dataframe\">\n",
       "  <thead>\n",
       "    <tr style=\"text-align: right;\">\n",
       "      <th></th>\n",
       "      <th>Date</th>\n",
       "      <th>Start (ET)</th>\n",
       "      <th>Visitor/Neutral</th>\n",
       "      <th>PTS</th>\n",
       "      <th>Home/Neutral</th>\n",
       "      <th>PTS.1</th>\n",
       "      <th>Attend.</th>\n",
       "      <th>winner</th>\n",
       "    </tr>\n",
       "  </thead>\n",
       "  <tbody>\n",
       "    <tr>\n",
       "      <th>213</th>\n",
       "      <td>2017-10-17</td>\n",
       "      <td>8:01 pm</td>\n",
       "      <td>Boston Celtics</td>\n",
       "      <td>99</td>\n",
       "      <td>Cleveland Cavaliers</td>\n",
       "      <td>102</td>\n",
       "      <td>20562</td>\n",
       "      <td>Cleveland Cavaliers</td>\n",
       "    </tr>\n",
       "    <tr>\n",
       "      <th>214</th>\n",
       "      <td>2017-10-17</td>\n",
       "      <td>10:30 pm</td>\n",
       "      <td>Houston Rockets</td>\n",
       "      <td>122</td>\n",
       "      <td>Golden State Warriors</td>\n",
       "      <td>121</td>\n",
       "      <td>19596</td>\n",
       "      <td>Houston Rockets</td>\n",
       "    </tr>\n",
       "    <tr>\n",
       "      <th>216</th>\n",
       "      <td>2017-10-18</td>\n",
       "      <td>8:30 pm</td>\n",
       "      <td>Atlanta Hawks</td>\n",
       "      <td>117</td>\n",
       "      <td>Dallas Mavericks</td>\n",
       "      <td>111</td>\n",
       "      <td>19709</td>\n",
       "      <td>Atlanta Hawks</td>\n",
       "    </tr>\n",
       "    <tr>\n",
       "      <th>215</th>\n",
       "      <td>2017-10-18</td>\n",
       "      <td>7:30 pm</td>\n",
       "      <td>Milwaukee Bucks</td>\n",
       "      <td>108</td>\n",
       "      <td>Boston Celtics</td>\n",
       "      <td>100</td>\n",
       "      <td>18624</td>\n",
       "      <td>Milwaukee Bucks</td>\n",
       "    </tr>\n",
       "    <tr>\n",
       "      <th>225</th>\n",
       "      <td>2017-10-18</td>\n",
       "      <td>7:00 pm</td>\n",
       "      <td>Philadelphia 76ers</td>\n",
       "      <td>115</td>\n",
       "      <td>Washington Wizards</td>\n",
       "      <td>120</td>\n",
       "      <td>20356</td>\n",
       "      <td>Washington Wizards</td>\n",
       "    </tr>\n",
       "  </tbody>\n",
       "</table>\n",
       "</div>"
      ],
      "text/plain": [
       "          Date Start (ET)     Visitor/Neutral  PTS           Home/Neutral  \\\n",
       "213 2017-10-17    8:01 pm      Boston Celtics   99    Cleveland Cavaliers   \n",
       "214 2017-10-17   10:30 pm     Houston Rockets  122  Golden State Warriors   \n",
       "216 2017-10-18    8:30 pm       Atlanta Hawks  117       Dallas Mavericks   \n",
       "215 2017-10-18    7:30 pm     Milwaukee Bucks  108         Boston Celtics   \n",
       "225 2017-10-18    7:00 pm  Philadelphia 76ers  115     Washington Wizards   \n",
       "\n",
       "     PTS.1  Attend.               winner  \n",
       "213    102    20562  Cleveland Cavaliers  \n",
       "214    121    19596      Houston Rockets  \n",
       "216    111    19709        Atlanta Hawks  \n",
       "215    100    18624      Milwaukee Bucks  \n",
       "225    120    20356   Washington Wizards  "
      ]
     },
     "execution_count": 95,
     "metadata": {},
     "output_type": "execute_result"
    }
   ],
   "source": [
    "df1718.head()"
   ]
  },
  {
   "cell_type": "markdown",
   "metadata": {},
   "source": [
    "### List of teams with most wins"
   ]
  },
  {
   "cell_type": "code",
   "execution_count": 114,
   "metadata": {},
   "outputs": [
    {
     "data": {
      "text/plain": [
       "winner\n",
       "Houston Rockets           76\n",
       "Golden State Warriors     74\n",
       "Boston Celtics            66\n",
       "Toronto Raptors           63\n",
       "Cleveland Cavaliers       62\n",
       "Philadelphia 76ers        57\n",
       "Utah Jazz                 53\n",
       "New Orleans Pelicans      53\n",
       "Indiana Pacers            51\n",
       "Oklahoma City Thunder     50\n",
       "Portland Trail Blazers    49\n",
       "San Antonio Spurs         48\n",
       "Minnesota Timberwolves    48\n",
       "Milwaukee Bucks           47\n",
       "Denver Nuggets            46\n",
       "Washington Wizards        45\n",
       "Miami Heat                45\n",
       "Los Angeles Clippers      42\n",
       "Detroit Pistons           39\n",
       "Charlotte Hornets         36\n",
       "Los Angeles Lakers        35\n",
       "New York Knicks           29\n",
       "Brooklyn Nets             28\n",
       "Sacramento Kings          27\n",
       "Chicago Bulls             27\n",
       "Orlando Magic             25\n",
       "Atlanta Hawks             24\n",
       "Dallas Mavericks          24\n",
       "Memphis Grizzlies         22\n",
       "Phoenix Suns              21\n",
       "Name: winner, dtype: int64"
      ]
     },
     "execution_count": 114,
     "metadata": {},
     "output_type": "execute_result"
    }
   ],
   "source": [
    "df1718[\"winner\"].groupby(df1718[\"winner\"]).count().sort_values(ascending=False)"
   ]
  },
  {
   "cell_type": "code",
   "execution_count": null,
   "metadata": {},
   "outputs": [],
   "source": []
  }
 ],
 "metadata": {
  "kernelspec": {
   "display_name": "Python 3",
   "language": "python",
   "name": "python3"
  },
  "language_info": {
   "codemirror_mode": {
    "name": "ipython",
    "version": 3
   },
   "file_extension": ".py",
   "mimetype": "text/x-python",
   "name": "python",
   "nbconvert_exporter": "python",
   "pygments_lexer": "ipython3",
   "version": "3.6.2"
  }
 },
 "nbformat": 4,
 "nbformat_minor": 2
}
