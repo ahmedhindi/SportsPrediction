{
 "cells": [
  {
   "cell_type": "markdown",
   "metadata": {},
   "source": [
    "# Connect Player `starting` in gams"
   ]
  },
  {
   "cell_type": "code",
   "execution_count": 82,
   "metadata": {},
   "outputs": [],
   "source": [
    "import os\n",
    "os.chdir(\"/home/jovyan/work\")\n",
    "\n",
    "from neomodel import (\n",
    "    BooleanProperty,\n",
    "    DateTimeProperty,\n",
    "    FloatProperty,\n",
    "    IntegerProperty,\n",
    "    RelationshipTo, \n",
    "    StringProperty, \n",
    "    StructuredNode, \n",
    "    StructuredRel,\n",
    ")\n",
    "import pandas as pd\n",
    "from tqdm import tqdm\n",
    "\n",
    "from src.models import Player, Game\n",
    "from src.utils import init_connection"
   ]
  },
  {
   "cell_type": "code",
   "execution_count": 54,
   "metadata": {},
   "outputs": [],
   "source": [
    "class StartsInRel(StructuredRel):\n",
    "    for_team = StringProperty()"
   ]
  },
  {
   "cell_type": "code",
   "execution_count": 55,
   "metadata": {},
   "outputs": [],
   "source": [
    "class Player(StructuredNode):\n",
    "    \"\"\"Boilerplate for a player node\n",
    "    \n",
    "    Attributes:\n",
    "        msfID (int): My-Sports-Feed ID of the player\n",
    "        firstName (str): first name of the player\n",
    "        lastName (str): last name of the player\n",
    "        primaryPosition (str): primary position \n",
    "        height (float): height of the player in cm\n",
    "        weight (float): weight of the player in kg\n",
    "        birthDate (datetime): day of birth\n",
    "        rookie (bool): flag indicating if the player is a rookie\n",
    "        shoots (str): primary throwing hand\n",
    "        officialImageSrc (str): URL of the official NBA \"mugshot\"\n",
    "        draftedYear (int): year the player was drafted\n",
    "        draftedRound (int): round the player was drafted\n",
    "        draftedRoundPick (int): position the player was drafted inside the draft round\n",
    "        draftedOverallPick (int): position the player was drafted overall\n",
    "        nbaID = (int): stats.nba ID of the player\n",
    "    \"\"\"\n",
    "\n",
    "    # PROPERTIES\n",
    "    msfID = IntegerProperty(required=True, unique_index=True)\n",
    "    firstName = StringProperty(required=True)\n",
    "    lastName = StringProperty(required=True)\n",
    "    primaryPosition = StringProperty(required=True)\n",
    "    height = FloatProperty(required=True)\n",
    "    weight = FloatProperty(required=True)\n",
    "    birthDate = DateTimeProperty(required=True)\n",
    "    rookie = BooleanProperty(require=True)\n",
    "    shoots = StringProperty()\n",
    "    officialImageSrc = StringProperty(required=True)\n",
    "    draftedYear = IntegerProperty(required=True)\n",
    "    draftedRound = IntegerProperty(required=True)\n",
    "    draftedRoundPick = IntegerProperty(required=True)\n",
    "    draftedOverallPick = IntegerProperty(required=True)\n",
    "    nbaID = IntegerProperty()\n",
    "    \n",
    "    # RELATIONSHIP\n",
    "    startsIn = RelationshipTo(\"Game\", \"STARTS_IN\", model=StartsInRel)"
   ]
  },
  {
   "cell_type": "code",
   "execution_count": 56,
   "metadata": {},
   "outputs": [
    {
     "data": {
      "text/html": [
       "<div>\n",
       "<style scoped>\n",
       "    .dataframe tbody tr th:only-of-type {\n",
       "        vertical-align: middle;\n",
       "    }\n",
       "\n",
       "    .dataframe tbody tr th {\n",
       "        vertical-align: top;\n",
       "    }\n",
       "\n",
       "    .dataframe thead th {\n",
       "        text-align: right;\n",
       "    }\n",
       "</style>\n",
       "<table border=\"1\" class=\"dataframe\">\n",
       "  <thead>\n",
       "    <tr style=\"text-align: right;\">\n",
       "      <th></th>\n",
       "      <th>game_id</th>\n",
       "      <th>p_01</th>\n",
       "      <th>p_02</th>\n",
       "      <th>p_03</th>\n",
       "      <th>p_04</th>\n",
       "      <th>p_05</th>\n",
       "      <th>p_06</th>\n",
       "      <th>p_07</th>\n",
       "      <th>p_08</th>\n",
       "      <th>p_09</th>\n",
       "      <th>p_10</th>\n",
       "      <th>t_1</th>\n",
       "      <th>t_2</th>\n",
       "    </tr>\n",
       "  </thead>\n",
       "  <tbody>\n",
       "    <tr>\n",
       "      <th>0</th>\n",
       "      <td>31176</td>\n",
       "      <td>9207</td>\n",
       "      <td>9400</td>\n",
       "      <td>9213</td>\n",
       "      <td>9202</td>\n",
       "      <td>9203</td>\n",
       "      <td>9086</td>\n",
       "      <td>9093</td>\n",
       "      <td>9091</td>\n",
       "      <td>9082</td>\n",
       "      <td>9089</td>\n",
       "      <td>DET</td>\n",
       "      <td>ATL</td>\n",
       "    </tr>\n",
       "    <tr>\n",
       "      <th>1</th>\n",
       "      <td>31177</td>\n",
       "      <td>9158</td>\n",
       "      <td>9161</td>\n",
       "      <td>9163</td>\n",
       "      <td>9160</td>\n",
       "      <td>9167</td>\n",
       "      <td>9145</td>\n",
       "      <td>9146</td>\n",
       "      <td>9142</td>\n",
       "      <td>9149</td>\n",
       "      <td>9152</td>\n",
       "      <td>CLE</td>\n",
       "      <td>CHI</td>\n",
       "    </tr>\n",
       "    <tr>\n",
       "      <th>2</th>\n",
       "      <td>31178</td>\n",
       "      <td>9353</td>\n",
       "      <td>9357</td>\n",
       "      <td>9364</td>\n",
       "      <td>9363</td>\n",
       "      <td>9368</td>\n",
       "      <td>9219</td>\n",
       "      <td>9230</td>\n",
       "      <td>9220</td>\n",
       "      <td>9218</td>\n",
       "      <td>9228</td>\n",
       "      <td>NOP</td>\n",
       "      <td>GSW</td>\n",
       "    </tr>\n",
       "    <tr>\n",
       "      <th>3</th>\n",
       "      <td>31188</td>\n",
       "      <td>9524</td>\n",
       "      <td>9096</td>\n",
       "      <td>9522</td>\n",
       "      <td>9519</td>\n",
       "      <td>9523</td>\n",
       "      <td>9399</td>\n",
       "      <td>9212</td>\n",
       "      <td>9407</td>\n",
       "      <td>9412</td>\n",
       "      <td>9402</td>\n",
       "      <td>WAS</td>\n",
       "      <td>ORL</td>\n",
       "    </tr>\n",
       "    <tr>\n",
       "      <th>4</th>\n",
       "      <td>31179</td>\n",
       "      <td>9416</td>\n",
       "      <td>9413</td>\n",
       "      <td>9414</td>\n",
       "      <td>9421</td>\n",
       "      <td>9200</td>\n",
       "      <td>9107</td>\n",
       "      <td>9186</td>\n",
       "      <td>9102</td>\n",
       "      <td>9099</td>\n",
       "      <td>9097</td>\n",
       "      <td>PHI</td>\n",
       "      <td>BOS</td>\n",
       "    </tr>\n",
       "  </tbody>\n",
       "</table>\n",
       "</div>"
      ],
      "text/plain": [
       "   game_id  p_01  p_02  p_03  p_04  p_05  p_06  p_07  p_08  p_09  p_10  t_1  \\\n",
       "0    31176  9207  9400  9213  9202  9203  9086  9093  9091  9082  9089  DET   \n",
       "1    31177  9158  9161  9163  9160  9167  9145  9146  9142  9149  9152  CLE   \n",
       "2    31178  9353  9357  9364  9363  9368  9219  9230  9220  9218  9228  NOP   \n",
       "3    31188  9524  9096  9522  9519  9523  9399  9212  9407  9412  9402  WAS   \n",
       "4    31179  9416  9413  9414  9421  9200  9107  9186  9102  9099  9097  PHI   \n",
       "\n",
       "   t_2  \n",
       "0  ATL  \n",
       "1  CHI  \n",
       "2  GSW  \n",
       "3  ORL  \n",
       "4  BOS  "
      ]
     },
     "execution_count": 56,
     "metadata": {},
     "output_type": "execute_result"
    }
   ],
   "source": [
    "df_lu = pd.read_csv(\"./data/lineups.csv\")\n",
    "\n",
    "df_lu.head()"
   ]
  },
  {
   "cell_type": "code",
   "execution_count": 57,
   "metadata": {},
   "outputs": [],
   "source": [
    "init_connection()"
   ]
  },
  {
   "cell_type": "code",
   "execution_count": 80,
   "metadata": {},
   "outputs": [
    {
     "data": {
      "text/plain": [
       "['p_06', 'p_07', 'p_08', 'p_09', 'p_10']"
      ]
     },
     "execution_count": 80,
     "metadata": {},
     "output_type": "execute_result"
    }
   ],
   "source": [
    "[\"p_{:02d}\".format(n) for n in list(range(6,11))]"
   ]
  },
  {
   "cell_type": "code",
   "execution_count": 87,
   "metadata": {},
   "outputs": [
    {
     "name": "stderr",
     "output_type": "stream",
     "text": [
      "100%|██████████| 3855/3855 [05:14<00:00, 12.24it/s]\n"
     ]
    }
   ],
   "source": [
    "for _, row in tqdm(df_lu.iterrows(), total=df_lu.shape[0]):\n",
    "    g = Game.nodes.get(game_id=row[\"game_id\"])\n",
    "    for p1 in [\"p_{:02d}\".format(n) for n in list(range(1,6))]:\n",
    "        Player.nodes.get(msfID=row[p1]).startsIn.connect(g, {\"for_team\":row[\"t_1\"]})\n",
    "    for p2 in [\"p_{:02d}\".format(n) for n in list(range(6,11))]:\n",
    "        Player.nodes.get(msfID=row[p2]).startsIn.connect(g, {\"for_team\":row[\"t_2\"]})"
   ]
  }
 ],
 "metadata": {
  "kernelspec": {
   "display_name": "Python 3",
   "language": "python",
   "name": "python3"
  },
  "language_info": {
   "codemirror_mode": {
    "name": "ipython",
    "version": 3
   },
   "file_extension": ".py",
   "mimetype": "text/x-python",
   "name": "python",
   "nbconvert_exporter": "python",
   "pygments_lexer": "ipython3",
   "version": "3.6.5"
  }
 },
 "nbformat": 4,
 "nbformat_minor": 2
}
