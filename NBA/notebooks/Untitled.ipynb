{
 "cells": [
  {
   "cell_type": "code",
   "execution_count": 1,
   "metadata": {},
   "outputs": [],
   "source": [
    "import pandas as pd "
   ]
  },
  {
   "cell_type": "code",
   "execution_count": 3,
   "metadata": {},
   "outputs": [],
   "source": [
    "df = pd.read_csv(\"../data/1718/Oct1718.csv\", sep=\",\")"
   ]
  },
  {
   "cell_type": "code",
   "execution_count": 4,
   "metadata": {},
   "outputs": [
    {
     "data": {
      "text/html": [
       "<div>\n",
       "<table border=\"1\" class=\"dataframe\">\n",
       "  <thead>\n",
       "    <tr style=\"text-align: right;\">\n",
       "      <th></th>\n",
       "      <th>Date</th>\n",
       "      <th>Start (ET)</th>\n",
       "      <th>Visitor/Neutral</th>\n",
       "      <th>PTS</th>\n",
       "      <th>Home/Neutral</th>\n",
       "      <th>PTS.1</th>\n",
       "      <th>Unnamed: 6</th>\n",
       "      <th>Unnamed: 7</th>\n",
       "      <th>Attend.</th>\n",
       "      <th>Notes</th>\n",
       "    </tr>\n",
       "  </thead>\n",
       "  <tbody>\n",
       "    <tr>\n",
       "      <th>0</th>\n",
       "      <td>Tue Oct 17 2017</td>\n",
       "      <td>8:01 pm</td>\n",
       "      <td>Boston Celtics</td>\n",
       "      <td>99</td>\n",
       "      <td>Cleveland Cavaliers</td>\n",
       "      <td>102</td>\n",
       "      <td>Box Score</td>\n",
       "      <td>NaN</td>\n",
       "      <td>20562</td>\n",
       "      <td>NaN</td>\n",
       "    </tr>\n",
       "    <tr>\n",
       "      <th>1</th>\n",
       "      <td>Tue Oct 17 2017</td>\n",
       "      <td>10:30 pm</td>\n",
       "      <td>Houston Rockets</td>\n",
       "      <td>122</td>\n",
       "      <td>Golden State Warriors</td>\n",
       "      <td>121</td>\n",
       "      <td>Box Score</td>\n",
       "      <td>NaN</td>\n",
       "      <td>19596</td>\n",
       "      <td>NaN</td>\n",
       "    </tr>\n",
       "    <tr>\n",
       "      <th>2</th>\n",
       "      <td>Wed Oct 18 2017</td>\n",
       "      <td>7:30 pm</td>\n",
       "      <td>Milwaukee Bucks</td>\n",
       "      <td>108</td>\n",
       "      <td>Boston Celtics</td>\n",
       "      <td>100</td>\n",
       "      <td>Box Score</td>\n",
       "      <td>NaN</td>\n",
       "      <td>18624</td>\n",
       "      <td>NaN</td>\n",
       "    </tr>\n",
       "    <tr>\n",
       "      <th>3</th>\n",
       "      <td>Wed Oct 18 2017</td>\n",
       "      <td>8:30 pm</td>\n",
       "      <td>Atlanta Hawks</td>\n",
       "      <td>117</td>\n",
       "      <td>Dallas Mavericks</td>\n",
       "      <td>111</td>\n",
       "      <td>Box Score</td>\n",
       "      <td>NaN</td>\n",
       "      <td>19709</td>\n",
       "      <td>NaN</td>\n",
       "    </tr>\n",
       "    <tr>\n",
       "      <th>4</th>\n",
       "      <td>Wed Oct 18 2017</td>\n",
       "      <td>7:00 pm</td>\n",
       "      <td>Charlotte Hornets</td>\n",
       "      <td>90</td>\n",
       "      <td>Detroit Pistons</td>\n",
       "      <td>102</td>\n",
       "      <td>Box Score</td>\n",
       "      <td>NaN</td>\n",
       "      <td>20491</td>\n",
       "      <td>NaN</td>\n",
       "    </tr>\n",
       "  </tbody>\n",
       "</table>\n",
       "</div>"
      ],
      "text/plain": [
       "              Date Start (ET)    Visitor/Neutral  PTS           Home/Neutral  \\\n",
       "0  Tue Oct 17 2017    8:01 pm     Boston Celtics   99    Cleveland Cavaliers   \n",
       "1  Tue Oct 17 2017   10:30 pm    Houston Rockets  122  Golden State Warriors   \n",
       "2  Wed Oct 18 2017    7:30 pm    Milwaukee Bucks  108         Boston Celtics   \n",
       "3  Wed Oct 18 2017    8:30 pm      Atlanta Hawks  117       Dallas Mavericks   \n",
       "4  Wed Oct 18 2017    7:00 pm  Charlotte Hornets   90        Detroit Pistons   \n",
       "\n",
       "   PTS.1 Unnamed: 6 Unnamed: 7  Attend.  Notes  \n",
       "0    102  Box Score        NaN    20562    NaN  \n",
       "1    121  Box Score        NaN    19596    NaN  \n",
       "2    100  Box Score        NaN    18624    NaN  \n",
       "3    111  Box Score        NaN    19709    NaN  \n",
       "4    102  Box Score        NaN    20491    NaN  "
      ]
     },
     "execution_count": 4,
     "metadata": {},
     "output_type": "execute_result"
    }
   ],
   "source": [
    "df.head()"
   ]
  },
  {
   "cell_type": "code",
   "execution_count": 13,
   "metadata": {},
   "outputs": [],
   "source": [
    "df = df.drop(df.columns[[1, 6,7,8,9]], axis=1)"
   ]
  },
  {
   "cell_type": "code",
   "execution_count": 14,
   "metadata": {},
   "outputs": [
    {
     "data": {
      "text/html": [
       "<div>\n",
       "<table border=\"1\" class=\"dataframe\">\n",
       "  <thead>\n",
       "    <tr style=\"text-align: right;\">\n",
       "      <th></th>\n",
       "      <th>Date</th>\n",
       "      <th>Visitor/Neutral</th>\n",
       "      <th>PTS</th>\n",
       "      <th>Home/Neutral</th>\n",
       "      <th>PTS.1</th>\n",
       "    </tr>\n",
       "  </thead>\n",
       "  <tbody>\n",
       "    <tr>\n",
       "      <th>0</th>\n",
       "      <td>Tue Oct 17 2017</td>\n",
       "      <td>Boston Celtics</td>\n",
       "      <td>99</td>\n",
       "      <td>Cleveland Cavaliers</td>\n",
       "      <td>102</td>\n",
       "    </tr>\n",
       "    <tr>\n",
       "      <th>2</th>\n",
       "      <td>Wed Oct 18 2017</td>\n",
       "      <td>Milwaukee Bucks</td>\n",
       "      <td>108</td>\n",
       "      <td>Boston Celtics</td>\n",
       "      <td>100</td>\n",
       "    </tr>\n",
       "    <tr>\n",
       "      <th>3</th>\n",
       "      <td>Wed Oct 18 2017</td>\n",
       "      <td>Atlanta Hawks</td>\n",
       "      <td>117</td>\n",
       "      <td>Dallas Mavericks</td>\n",
       "      <td>111</td>\n",
       "    </tr>\n",
       "    <tr>\n",
       "      <th>4</th>\n",
       "      <td>Wed Oct 18 2017</td>\n",
       "      <td>Charlotte Hornets</td>\n",
       "      <td>90</td>\n",
       "      <td>Detroit Pistons</td>\n",
       "      <td>102</td>\n",
       "    </tr>\n",
       "    <tr>\n",
       "      <th>5</th>\n",
       "      <td>Wed Oct 18 2017</td>\n",
       "      <td>Brooklyn Nets</td>\n",
       "      <td>131</td>\n",
       "      <td>Indiana Pacers</td>\n",
       "      <td>140</td>\n",
       "    </tr>\n",
       "  </tbody>\n",
       "</table>\n",
       "</div>"
      ],
      "text/plain": [
       "              Date    Visitor/Neutral  PTS         Home/Neutral  PTS.1\n",
       "0  Tue Oct 17 2017     Boston Celtics   99  Cleveland Cavaliers    102\n",
       "2  Wed Oct 18 2017    Milwaukee Bucks  108       Boston Celtics    100\n",
       "3  Wed Oct 18 2017      Atlanta Hawks  117     Dallas Mavericks    111\n",
       "4  Wed Oct 18 2017  Charlotte Hornets   90      Detroit Pistons    102\n",
       "5  Wed Oct 18 2017      Brooklyn Nets  131       Indiana Pacers    140"
      ]
     },
     "execution_count": 14,
     "metadata": {},
     "output_type": "execute_result"
    }
   ],
   "source": [
    "df.head()"
   ]
  },
  {
   "cell_type": "code",
   "execution_count": 23,
   "metadata": {},
   "outputs": [],
   "source": [
    "def label_win (row):\n",
    "    if row['PTS'] > row[\"PTS.1\"]:\n",
    "        return 1\n",
    "    return 0\n",
    "    "
   ]
  },
  {
   "cell_type": "code",
   "execution_count": 25,
   "metadata": {},
   "outputs": [],
   "source": [
    "df[\"team1_win\"] = df.apply (lambda row: label_win (row),axis=1)"
   ]
  },
  {
   "cell_type": "code",
   "execution_count": 26,
   "metadata": {},
   "outputs": [
    {
     "data": {
      "text/html": [
       "<div>\n",
       "<table border=\"1\" class=\"dataframe\">\n",
       "  <thead>\n",
       "    <tr style=\"text-align: right;\">\n",
       "      <th></th>\n",
       "      <th>Date</th>\n",
       "      <th>Visitor/Neutral</th>\n",
       "      <th>PTS</th>\n",
       "      <th>Home/Neutral</th>\n",
       "      <th>PTS.1</th>\n",
       "      <th>team1_win</th>\n",
       "    </tr>\n",
       "  </thead>\n",
       "  <tbody>\n",
       "    <tr>\n",
       "      <th>0</th>\n",
       "      <td>Tue Oct 17 2017</td>\n",
       "      <td>Boston Celtics</td>\n",
       "      <td>99</td>\n",
       "      <td>Cleveland Cavaliers</td>\n",
       "      <td>102</td>\n",
       "      <td>0</td>\n",
       "    </tr>\n",
       "    <tr>\n",
       "      <th>2</th>\n",
       "      <td>Wed Oct 18 2017</td>\n",
       "      <td>Milwaukee Bucks</td>\n",
       "      <td>108</td>\n",
       "      <td>Boston Celtics</td>\n",
       "      <td>100</td>\n",
       "      <td>1</td>\n",
       "    </tr>\n",
       "    <tr>\n",
       "      <th>3</th>\n",
       "      <td>Wed Oct 18 2017</td>\n",
       "      <td>Atlanta Hawks</td>\n",
       "      <td>117</td>\n",
       "      <td>Dallas Mavericks</td>\n",
       "      <td>111</td>\n",
       "      <td>1</td>\n",
       "    </tr>\n",
       "    <tr>\n",
       "      <th>4</th>\n",
       "      <td>Wed Oct 18 2017</td>\n",
       "      <td>Charlotte Hornets</td>\n",
       "      <td>90</td>\n",
       "      <td>Detroit Pistons</td>\n",
       "      <td>102</td>\n",
       "      <td>0</td>\n",
       "    </tr>\n",
       "    <tr>\n",
       "      <th>5</th>\n",
       "      <td>Wed Oct 18 2017</td>\n",
       "      <td>Brooklyn Nets</td>\n",
       "      <td>131</td>\n",
       "      <td>Indiana Pacers</td>\n",
       "      <td>140</td>\n",
       "      <td>0</td>\n",
       "    </tr>\n",
       "  </tbody>\n",
       "</table>\n",
       "</div>"
      ],
      "text/plain": [
       "              Date    Visitor/Neutral  PTS         Home/Neutral  PTS.1  \\\n",
       "0  Tue Oct 17 2017     Boston Celtics   99  Cleveland Cavaliers    102   \n",
       "2  Wed Oct 18 2017    Milwaukee Bucks  108       Boston Celtics    100   \n",
       "3  Wed Oct 18 2017      Atlanta Hawks  117     Dallas Mavericks    111   \n",
       "4  Wed Oct 18 2017  Charlotte Hornets   90      Detroit Pistons    102   \n",
       "5  Wed Oct 18 2017      Brooklyn Nets  131       Indiana Pacers    140   \n",
       "\n",
       "   team1_win  \n",
       "0          0  \n",
       "2          1  \n",
       "3          1  \n",
       "4          0  \n",
       "5          0  "
      ]
     },
     "execution_count": 26,
     "metadata": {},
     "output_type": "execute_result"
    }
   ],
   "source": [
    "df.head()"
   ]
  },
  {
   "cell_type": "code",
   "execution_count": 27,
   "metadata": {},
   "outputs": [],
   "source": [
    "df.to_csv(\"test_schedule\", sep=\",\")"
   ]
  },
  {
   "cell_type": "code",
   "execution_count": null,
   "metadata": {},
   "outputs": [],
   "source": []
  }
 ],
 "metadata": {
  "kernelspec": {
   "display_name": "Python 3",
   "language": "python",
   "name": "python3"
  },
  "language_info": {
   "codemirror_mode": {
    "name": "ipython",
    "version": 3
   },
   "file_extension": ".py",
   "mimetype": "text/x-python",
   "name": "python",
   "nbconvert_exporter": "python",
   "pygments_lexer": "ipython3",
   "version": "3.6.2"
  }
 },
 "nbformat": 4,
 "nbformat_minor": 2
}
