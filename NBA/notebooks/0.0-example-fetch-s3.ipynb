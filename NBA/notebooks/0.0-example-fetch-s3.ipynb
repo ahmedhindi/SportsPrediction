{
 "cells": [
  {
   "cell_type": "markdown",
   "metadata": {},
   "source": [
    "# About\n",
    "***\n",
    "This notebook serves as a guide to access the S3 bucket"
   ]
  },
  {
   "cell_type": "code",
   "execution_count": 1,
   "metadata": {},
   "outputs": [
    {
     "name": "stdout",
     "output_type": "stream",
     "text": [
      "test.txt\n"
     ]
    }
   ],
   "source": [
    "import os\n",
    "\n",
    "import boto3\n",
    "\n",
    "# get a reference to S3\n",
    "s3 = boto3.resource(\"s3\",\n",
    "                    aws_access_key_id=os.environ[\"AWS_ACCESS_KEY_ID\"],\n",
    "                    aws_secret_access_key=os.environ[\"AWS_SECRET_ACCESS_KEY\"]\n",
    "                   )\n",
    "\n",
    "# get access to the 'jgoerner-nba' bucket\n",
    "for obj in s3.Bucket(\"jgoerner-nba\").objects.all():\n",
    "    print(obj.key)"
   ]
  }
 ],
 "metadata": {
  "kernelspec": {
   "display_name": "Python 3",
   "language": "python",
   "name": "python3"
  },
  "language_info": {
   "codemirror_mode": {
    "name": "ipython",
    "version": 3
   },
   "file_extension": ".py",
   "mimetype": "text/x-python",
   "name": "python",
   "nbconvert_exporter": "python",
   "pygments_lexer": "ipython3",
   "version": "3.6.3"
  }
 },
 "nbformat": 4,
 "nbformat_minor": 2
}
